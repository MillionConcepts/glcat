{
 "cells": [
  {
   "cell_type": "code",
   "execution_count": 1,
   "id": "bed5e1f1",
   "metadata": {},
   "outputs": [],
   "source": [
    "import matplotlib.image\n",
    "import pandas as pd\n",
    "from astropy.io import fits\n",
    "import numpy as np\n",
    "import matplotlib.pyplot as plt\n",
    "from scipy.ndimage import median_filter\n"
   ]
  },
  {
   "cell_type": "code",
   "execution_count": 5,
   "id": "c2b94ba4",
   "metadata": {},
   "outputs": [],
   "source": [
    "files = '/media/bekah/BekafhA/hotspot/200_stack_nuv/200e_nuv_4664.fits'"
   ]
  },
  {
   "cell_type": "code",
   "execution_count": 6,
   "id": "8678053e",
   "metadata": {},
   "outputs": [
    {
     "data": {
      "text/plain": [
       "2635.0"
      ]
     },
     "execution_count": 6,
     "metadata": {},
     "output_type": "execute_result"
    }
   ],
   "source": [
    "f = fits.open(files)\n",
    "np.median(f[0].data)"
   ]
  },
  {
   "cell_type": "code",
   "execution_count": null,
   "id": "c77332c7",
   "metadata": {},
   "outputs": [],
   "source": [
    "# hot = greater than the median * 5 \n",
    "# cold = less than half the median "
   ]
  },
  {
   "cell_type": "code",
   "execution_count": 2,
   "id": "e45eb11d",
   "metadata": {},
   "outputs": [],
   "source": [
    "import os\n",
    "\n",
    "directory = '/media/bekah/BekahA/hotspot/200_stack_nuv'\n",
    "\n",
    "entries = os.listdir(directory)\n",
    "\n",
    "file_list = []\n",
    "\n",
    "for entry in entries:\n",
    "    full_path = os.path.join(directory, entry)\n",
    "    if os.path.isfile(full_path):\n",
    "        file_list.append(full_path)"
   ]
  },
  {
   "cell_type": "code",
   "execution_count": 3,
   "id": "74721504",
   "metadata": {},
   "outputs": [
    {
     "data": {
      "text/plain": [
       "['/media/bekah/BekahA/hotspot/200_stack_nuv/200e_nuv_1143.fits',\n",
       " '/media/bekah/BekahA/hotspot/200_stack_nuv/200e_nuv_1424.fits',\n",
       " '/media/bekah/BekahA/hotspot/200_stack_nuv/200e_nuv_1826.fits',\n",
       " '/media/bekah/BekahA/hotspot/200_stack_nuv/200e_nuv_2193.fits',\n",
       " '/media/bekah/BekahA/hotspot/200_stack_nuv/200e_nuv_2538.fits',\n",
       " '/media/bekah/BekahA/hotspot/200_stack_nuv/200e_nuv_2821.fits',\n",
       " '/media/bekah/BekahA/hotspot/200_stack_nuv/200e_nuv_3287.fits',\n",
       " '/media/bekah/BekahA/hotspot/200_stack_nuv/200e_nuv_347.fits',\n",
       " '/media/bekah/BekahA/hotspot/200_stack_nuv/200e_nuv_3850.fits',\n",
       " '/media/bekah/BekahA/hotspot/200_stack_nuv/200e_nuv_4207.fits',\n",
       " '/media/bekah/BekahA/hotspot/200_stack_nuv/200e_nuv_4664.fits',\n",
       " '/media/bekah/BekahA/hotspot/200_stack_nuv/200e_nuv_5136.fits',\n",
       " '/media/bekah/BekahA/hotspot/200_stack_nuv/200e_nuv_5526.fits',\n",
       " '/media/bekah/BekahA/hotspot/200_stack_nuv/200e_nuv_6178.fits',\n",
       " '/media/bekah/BekahA/hotspot/200_stack_nuv/200e_nuv_6751.fits',\n",
       " '/media/bekah/BekahA/hotspot/200_stack_nuv/200e_nuv_7393.fits',\n",
       " '/media/bekah/BekahA/hotspot/200_stack_nuv/200e_nuv_750.fits']"
      ]
     },
     "execution_count": 3,
     "metadata": {},
     "output_type": "execute_result"
    }
   ],
   "source": [
    "file_list"
   ]
  },
  {
   "cell_type": "code",
   "execution_count": 9,
   "id": "22adc576",
   "metadata": {},
   "outputs": [],
   "source": [
    "for file in file_list: \n",
    "    fts = fits.open(file)\n",
    "    image = fts[0].data\n",
    "\n",
    "    filtered_image = median_filter(image, size=2)\n",
    "    median = np.median(image)\n",
    "    if median > 80:\n",
    "        mask = (image <= median/1.5) | (image > median*2)\n",
    "    if median <= 80: \n",
    "        mask = (image <= median/1.5) | (image > median*2)\n",
    "    matplotlib.image.imsave(f'{file[:-5]}_2.png',mask)"
   ]
  },
  {
   "cell_type": "code",
   "execution_count": 30,
   "id": "c16c366c",
   "metadata": {},
   "outputs": [
    {
     "data": {
      "text/plain": [
       "403.0"
      ]
     },
     "execution_count": 30,
     "metadata": {},
     "output_type": "execute_result"
    }
   ],
   "source": [
    "np.median(fts[0].data)"
   ]
  },
  {
   "cell_type": "code",
   "execution_count": 26,
   "id": "93f49a26",
   "metadata": {},
   "outputs": [
    {
     "data": {
      "text/plain": [
       "800678.0"
      ]
     },
     "execution_count": 26,
     "metadata": {},
     "output_type": "execute_result"
    }
   ],
   "source": [
    "np.max(fts[0].data)"
   ]
  },
  {
   "cell_type": "code",
   "execution_count": 18,
   "id": "57f84b99",
   "metadata": {},
   "outputs": [
    {
     "name": "stdout",
     "output_type": "stream",
     "text": [
      "35444.0\n",
      "35573.979870787494\n",
      "<class 'numpy.ndarray'>\n",
      "Summed image saved to /media/bekah/BekahA/hotspot/200_stack_nuv/all_nuv_mask.fits\n"
     ]
    }
   ],
   "source": [
    "fts2 = fits.open('/media/bekah/BekahA/hotspot/200_stack_nuv/all_nuv_summed_image.fits')\n",
    "image = fts2[0].data\n",
    "print(np.median(image2))\n",
    "print(np.std(image2))\n",
    "mask = (image <= 30000) | (image > 60000)\n",
    "print(type(mask))\n",
    "binary_array = mask.astype(np.uint8)\n",
    "hdu = fits.PrimaryHDU(binary_array)\n",
    "hdul = fits.HDUList([hdu])\n",
    "hdul.writeto(f'/media/bekah/BekahA/hotspot/200_stack_nuv/all_nuv_mask.fits', overwrite=True)\n",
    "print(f\"Summed image saved to /media/bekah/BekahA/hotspot/200_stack_nuv/all_nuv_mask.fits\")\n",
    "\n",
    "matplotlib.image.imsave(f'/media/bekah/BekahA/hotspot/200_stack_nuv/all_nuv_mask.png',mask)"
   ]
  },
  {
   "cell_type": "code",
   "execution_count": 10,
   "id": "8b6f5ee6",
   "metadata": {},
   "outputs": [
    {
     "name": "stdout",
     "output_type": "stream",
     "text": [
      "Summed image saved to /media/bekah/BekahA/hotspot/200_stack_nuv/all_nuv_summed_image.fits\n"
     ]
    }
   ],
   "source": [
    "def stack_fits_images(file_list, output_path):\n",
    "    stacked_image_data = None\n",
    "    for i, file_path in enumerate(file_list):\n",
    "        with fits.open(file_path) as hdul:\n",
    "            image_data = hdul[0].data\n",
    "            if stacked_image_data is None:\n",
    "                stacked_image_data = np.zeros_like(image_data, dtype=np.float64)\n",
    "            stacked_image_data += image_data\n",
    "    hdu = fits.PrimaryHDU(stacked_image_data)\n",
    "    hdul = fits.HDUList([hdu])\n",
    "    hdul.writeto(output_path, overwrite=True)\n",
    "    print(f\"Summed image saved to {output_path}\")\n",
    "\n",
    "output_path = '/media/bekah/BekahA/hotspot/200_stack_nuv/all_nuv_summed_image.fits'\n",
    "stack_fits_images(file_list, output_path)"
   ]
  },
  {
   "cell_type": "code",
   "execution_count": 24,
   "id": "295b67f4",
   "metadata": {},
   "outputs": [
    {
     "name": "stdout",
     "output_type": "stream",
     "text": [
      "Downscaled image saved to /media/bekah/BekahA/hotspot/200_stack_nuv/all_nuv_summed_image_downsize.fits\n"
     ]
    }
   ],
   "source": [
    "from scipy.ndimage import zoom\n",
    "\n",
    "def downscale_fits_image(input_path, output_path, scale_factor=1/8):\n",
    "    with fits.open(input_path) as hdul:\n",
    "        image_data = hdul[0].data\n",
    "        downscaled_image_data = zoom(image_data, zoom=scale_factor, order=3)\n",
    "        hdu = fits.PrimaryHDU(downscaled_image_data)\n",
    "        hdul_new = fits.HDUList([hdu])\n",
    "        hdul_new.writeto(output_path, overwrite=True)\n",
    "        print(f\"Downscaled image saved to {output_path}\")\n",
    "        matplotlib.image.imsave(f'/media/bekah/BekahA/hotspot/200_stack_nuv/all_nuv_mask_downsize.png',downscaled_image_data)\n",
    "input_path = '/media/bekah/BekahA/hotspot/200_stack_nuv/all_nuv_summed_image.fits'\n",
    "output_path = '/media/bekah/BekahA/hotspot/200_stack_nuv/all_nuv_summed_image_downsize.fits'\n",
    "downscale_fits_image(input_path, output_path)"
   ]
  },
  {
   "cell_type": "code",
   "execution_count": null,
   "id": "aa4c897f",
   "metadata": {},
   "outputs": [],
   "source": [
    "fits.open('')"
   ]
  }
 ],
 "metadata": {
  "kernelspec": {
   "display_name": "Python 3 (ipykernel)",
   "language": "python",
   "name": "python3"
  },
  "language_info": {
   "codemirror_mode": {
    "name": "ipython",
    "version": 3
   },
   "file_extension": ".py",
   "mimetype": "text/x-python",
   "name": "python",
   "nbconvert_exporter": "python",
   "pygments_lexer": "ipython3",
   "version": "3.11.4"
  }
 },
 "nbformat": 4,
 "nbformat_minor": 5
}
