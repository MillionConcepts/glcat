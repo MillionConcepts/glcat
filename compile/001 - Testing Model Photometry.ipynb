{
 "cells": [
  {
   "cell_type": "code",
   "execution_count": null,
   "id": "1e1609f8-848c-43a0-917a-d5b77f20d9a0",
   "metadata": {},
   "outputs": [],
   "source": [
    "%matplotlib inline\n",
    "import pandas as pd\n",
    "from rich import print\n",
    "import numpy as np\n",
    "import matplotlib.pyplot as plt\n",
    "#from quickbin import bin2d\n",
    "from scipy.stats import binned_statistic_2d\n",
    "from pyarrow import ArrowInvalid"
   ]
  },
  {
   "cell_type": "code",
   "execution_count": null,
   "id": "94572dbb-fcae-40fa-8c19-f3bfc0c1be03",
   "metadata": {},
   "outputs": [],
   "source": [
    "nd_files = !ls data/e*/*nd*catalog*\n",
    "fd_files = !ls data/e*/*fd*catalog*\n",
    "print(len(nd_files))"
   ]
  },
  {
   "cell_type": "code",
   "execution_count": null,
   "id": "6bc20c26-8758-455b-a726-0077d3cc35e6",
   "metadata": {},
   "outputs": [],
   "source": [
    "tbl = pd.read_parquet(nd_files[-1])\n",
    "#print(len(tbl['NUV_MDL_CPS']))\n",
    "#print(tbl.shape)\n",
    "tbl = pd.DataFrame({})\n",
    "for f in nd_files:\n",
    "    try:\n",
    "        tbl = pd.concat([tbl,pd.read_parquet(f)],ignore_index=True,join='outer',axis=0,copy=False)\n",
    "    except ArrowInvalid:\n",
    "        print(f'Unable to open {f}')\n",
    "#print(tbl.shape)"
   ]
  },
  {
   "cell_type": "code",
   "execution_count": null,
   "id": "65c6674f",
   "metadata": {},
   "outputs": [],
   "source": []
  },
  {
   "cell_type": "code",
   "execution_count": null,
   "id": "05041e1c-65c6-4ecd-a1ec-d4f8ec3b769c",
   "metadata": {},
   "outputs": [],
   "source": [
    "aper_photom = {'cps':tbl['NUV_CPS_A4'],\n",
    "               'bg':(9**2)*(tbl['NUV_CPS_A6']-tbl['NUV_CPS_A5'])/(17.3**2-12.8**2),\n",
    "              }\n",
    "modl_photom = {'cps':tbl['NUV_MDL_CPS'],\n",
    "               'bg':tbl['NUV_MDL_BKG_CPS']\n",
    "              }"
   ]
  },
  {
   "cell_type": "code",
   "execution_count": null,
   "id": "6ff99a59-a5a2-4a5b-ace0-00b77ce52bbb",
   "metadata": {},
   "outputs": [],
   "source": [
    "plt.figure(figsize=(10,10))\n",
    "plt.plot(aper_photom['cps']-aper_photom['bg'],\n",
    "         modl_photom['cps'],'k.',alpha=0.4)\n",
    "plt.xlim([0,500]);plt.ylim([0,500]);\n",
    "plt.plot([0,500],[0,500],'k:',alpha=0.5)\n",
    "plt.xlabel('aperture photometry (aper4 cps-bg)')\n",
    "plt.ylabel('model photometry (cps)')\n",
    "\n",
    "plt.figure(figsize=(10,10))\n",
    "plt.plot(aper_photom['cps']-aper_photom['bg'],\n",
    "         modl_photom['cps'],'k.',alpha=0.4)\n",
    "plt.xlim([0,50]);plt.ylim([0,50]);\n",
    "plt.plot([0,500],[0,500],'k:',alpha=0.5)\n",
    "plt.xlabel('aperture photometry')\n",
    "plt.ylabel('model photometry')\n",
    "\n",
    "plt.figure(figsize=(10,10))\n",
    "plt.plot(aper_photom['cps']-aper_photom['bg'],\n",
    "         modl_photom['cps'],'k.',alpha=0.4)\n",
    "plt.xlim([0,10]);plt.ylim([0,10]);\n",
    "plt.plot([0,50],[0,50],'k:',alpha=0.3)\n",
    "plt.xlabel('aperture photometry')\n",
    "plt.ylabel('model photometry')\n",
    "\n",
    "sigmas = tbl['NUV_MDL_SIGMA']\n",
    "ix = np.where((np.isfinite(sigmas)) & \n",
    "              (sigmas<6) & (sigmas>0.5) &\n",
    "              (tbl['NUV_SOFTEDGE_FLAG_A6']==0) & (tbl['NUV_HARDEDGE_FLAG_A6']==0) &\n",
    "              (tbl['NUV_GHOST_FLAG_A6']==0) & (tbl['NUV_HOTSPOT_FLAG_A6']==0))\n",
    "print(f'{100*np.round(len(ix[0])/len(sigmas),3)}% sources retained')\n",
    "\n",
    "#plt.figure(figsize=(10,10))\n",
    "plt.plot((aper_photom['cps']-aper_photom['bg']).iloc[ix],\n",
    "         modl_photom['cps'].iloc[ix],\n",
    "         'b.',alpha=0.1)\n",
    "plt.xlim([0,10]);plt.ylim([0,10]);\n",
    "plt.plot([0,50],[0,50],'k:',alpha=1)\n",
    "plt.xlabel('aperture photometry (aper4 cps-bg)')\n",
    "plt.ylabel('model photometry (cps)')\n",
    "\n",
    "print(len(ix[0]))\n",
    "print(len(sigmas))"
   ]
  },
  {
   "cell_type": "code",
   "execution_count": null,
   "id": "4b8333cb-7bf7-4a9a-a876-dd51605d7464",
   "metadata": {},
   "outputs": [],
   "source": [
    "plt.hist(tbl['NUV_MDL_SIGMA'],range=[0,10],bins=100);\n",
    "plt.xlabel('SIGMA (arcsec)')\n",
    "plt.title(f'n={len(np.where(np.isfinite(tbl['NUV_MDL_SIGMA']))[0])}')"
   ]
  },
  {
   "cell_type": "code",
   "execution_count": null,
   "id": "63df45d5-b74b-4561-9b8d-c926a38293a4",
   "metadata": {},
   "outputs": [],
   "source": [
    "aper_radii = [1.5, 2.3, 3.8, 6.0, 9.0, 12.8, 17.3]\n",
    "for aper,apcorr in enumerate([1.33, 0.62, 0.21, 0.12, 0.08,]):# 0.06, 0.04]):\n",
    "    aper_photom = {'cps':tbl[f'NUV_CPS_A{aper}'],\n",
    "                   'bg':(aper_radii[aper]**2)*(tbl['NUV_CPS_A6']-tbl['NUV_CPS_A5'])/(17.3**2-12.8**2),\n",
    "                  }\n",
    "    modl_photom = {'cps':tbl['NUV_MDL_CPS'],\n",
    "                   'bg':tbl['NUV_MDL_BKG_CPS']\n",
    "                  }\n",
    "    \n",
    "    plt.figure(figsize=(10,2))\n",
    "    plt.title(f'APER{aper}')\n",
    "    plt.plot(\n",
    "        #(1+apcorr)*\n",
    "             (aper_photom['cps']-aper_photom['bg']).iloc[ix],\n",
    "             modl_photom['cps'].iloc[ix],\n",
    "             'b.',alpha=0.4)\n",
    "    plt.xlim([0,10]);plt.ylim([0,10]);\n",
    "    plt.plot([0,50],[0,50],'k:',alpha=0.5)\n",
    "    plt.xlabel('aperture photometry (cps-bg)')\n",
    "    plt.ylabel('model photometry (cps)')\n"
   ]
  },
  {
   "cell_type": "code",
   "execution_count": null,
   "id": "9403a084-ad1d-4c19-9388-899825ae2cb3",
   "metadata": {},
   "outputs": [],
   "source": [
    "plt.figure()\n",
    "plt.plot(tbl['NUV_MDL_SIGMA'],tbl['NUV_MDL_CPS'],'k.',alpha=0.4)\n",
    "plt.xlim([0,10])\n",
    "plt.ylim([0,50])\n",
    "plt.xlabel('SIGMA')\n",
    "plt.ylabel('CPS')\n",
    "\n",
    "plt.figure()\n",
    "plt.plot(tbl['NUV_MDL_SIGMA'],tbl['NUV_MDL_CPS'],'k.',alpha=0.4);\n",
    "plt.xlim([0,10])\n",
    "plt.xlabel('SIGMA')\n",
    "plt.ylabel('CPS')"
   ]
  },
  {
   "cell_type": "code",
   "execution_count": null,
   "id": "c9f0c843-3cd6-48cd-a7ff-b5dcac96042b",
   "metadata": {},
   "outputs": [],
   "source": [
    "plt.hist(tbl['NUV_MDL_SIGMA'],range=[0,10],weights=tbl['NUV_MDL_CPS'],bins=50);\n",
    "plt.xlabel('SIGMA')\n",
    "plt.title('weighted by brightness')\n",
    "#plt.plot(tbl['NUV_MDL_SIGMA'],tbl['NUV_MDL_CPS'],'k.',alpha=0.4);"
   ]
  },
  {
   "cell_type": "code",
   "execution_count": null,
   "id": "b0b15c7e-5155-4dd4-923d-c00ffa1cc459",
   "metadata": {},
   "outputs": [],
   "source": [
    "data = pd.DataFrame({})\n",
    "for f in nd_files[:-1]:\n",
    "    try:\n",
    "        data = pd.concat([data,pd.read_parquet(f)],ignore_index=True,join='outer',axis=0,copy=False)\n",
    "    except ArrowInvalid:\n",
    "        print(f'Unable to open {f}')\n",
    "data"
   ]
  },
  {
   "cell_type": "code",
   "execution_count": null,
   "id": "ac05cd66-bc75-4ded-8a2b-96bfb4428306",
   "metadata": {},
   "outputs": [],
   "source": [
    "plt.plot(aper_photom['bg'],tbl['NUV_MDL_BKG_CPS']*(9**2),'k.',alpha=0.2)\n",
    "plt.xlabel('annulus bg (aper4 cps)')\n",
    "plt.ylabel('model bg (aper4 cps)')\n",
    "\n",
    "plt.figure()\n",
    "plt.title('model bg / aper bg')\n",
    "plt.hist(tbl['NUV_MDL_BKG_CPS']*(9**2) / aper_photom['bg'],bins=100);"
   ]
  },
  {
   "cell_type": "code",
   "execution_count": null,
   "id": "cbc9744c-114e-4327-8d1f-b67974d56dc7",
   "metadata": {},
   "outputs": [],
   "source": [
    "tbl['RA'].max()"
   ]
  },
  {
   "cell_type": "code",
   "execution_count": null,
   "id": "603b28b4-2225-4594-adc1-79eb328c42e2",
   "metadata": {},
   "outputs": [],
   "source": [
    "\n",
    "binned_statistic_2d(tbl['RA'].values,tbl['DEC'].values,tbl['NUV_MDL_BKG_CPS'],bins=10)"
   ]
  },
  {
   "cell_type": "code",
   "execution_count": null,
   "id": "190ce8c0-56bc-448e-891c-462c20cd1cd1",
   "metadata": {},
   "outputs": [],
   "source": [
    "?binned_statistic_2d"
   ]
  },
  {
   "cell_type": "code",
   "execution_count": null,
   "id": "fcf9b7bc-a629-431c-a08d-e82a18d24a97",
   "metadata": {},
   "outputs": [],
   "source": []
  }
 ],
 "metadata": {
  "kernelspec": {
   "display_name": "Python 3 (ipykernel)",
   "language": "python",
   "name": "python3"
  },
  "language_info": {
   "codemirror_mode": {
    "name": "ipython",
    "version": 3
   },
   "file_extension": ".py",
   "mimetype": "text/x-python",
   "name": "python",
   "nbconvert_exporter": "python",
   "pygments_lexer": "ipython3",
   "version": "3.13.5"
  }
 },
 "nbformat": 4,
 "nbformat_minor": 5
}
