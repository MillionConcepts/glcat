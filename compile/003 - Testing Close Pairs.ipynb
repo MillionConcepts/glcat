{
 "cells": [
  {
   "cell_type": "code",
   "execution_count": null,
   "id": "324bea75-aee9-4793-be4f-b5bcb67c736d",
   "metadata": {},
   "outputs": [],
   "source": [
    "%matplotlib inline\n",
    "import pandas as pd\n",
    "from rich import print\n",
    "import numpy as np\n",
    "import matplotlib.pyplot as plt\n",
    "#from quickbin import bin2d\n",
    "from scipy.stats import binned_statistic_2d\n",
    "import pdr\n",
    "from astropy.visualization import ZScaleInterval\n",
    "from astropy import wcs as pywcs\n",
    "import warnings\n"
   ]
  },
  {
   "cell_type": "code",
   "execution_count": null,
   "id": "9aa5c57b-2037-4b2d-8a48-6ba70f10b560",
   "metadata": {},
   "outputs": [],
   "source": [
    "def angularSeparation(ra1, dec1, ra2, dec2):\n",
    "    d2r = np.pi/180.\n",
    "    ra2deg = 1./d2r\n",
    "\n",
    "    d1 = dec1*d2r\n",
    "    d2 = dec2*d2r\n",
    "\n",
    "    r1 = ra1*d2r\n",
    "    r2 = ra2*d2r\n",
    "\n",
    "    a = np.sin((d2-d1)/2.)**2.+np.cos(d1)*np.cos(d2)*np.sin((r2-r1)/2.)**2.\n",
    "    r = 2*np.arcsin(np.sqrt(a))\n",
    "\n",
    "    return r*ra2deg"
   ]
  },
  {
   "cell_type": "code",
   "execution_count": null,
   "id": "7570bd2e-ec4d-4b9d-9a55-f5487143349e",
   "metadata": {},
   "outputs": [],
   "source": [
    "asp = pd.read_parquet('/Users/cm/github/gPhoton2/gPhoton/aspect/boresight_nosplit.parquet')\n",
    "ra,dec = (155.794018, 61.612775)\n",
    "sep = angularSeparation(ra,dec,\n",
    "                        asp['ra0'].values,asp['dec0'].values)\n",
    "ix = np.where(sep<0.5)\n",
    "asp.iloc[ix]"
   ]
  },
  {
   "cell_type": "code",
   "execution_count": null,
   "id": "cfdc37df-1b6a-4a91-b99b-eb555dfd3d26",
   "metadata": {},
   "outputs": [],
   "source": [
    "tbl1 = pd.read_parquet('data/e09147/e09147-nd-0-catalog.parquet')\n",
    "tbl1"
   ]
  },
  {
   "cell_type": "code",
   "execution_count": null,
   "id": "6bbae6bb-f06f-48b7-b922-092de2fafbd5",
   "metadata": {},
   "outputs": [],
   "source": [
    "img1 = pdr.read('data/e09147/e09147-nd-ffull-b00-image-r.fits')\n",
    "plt.figure(figsize=(8,8))\n",
    "plt.imshow(ZScaleInterval()(img1['CNT']),cmap=\"binary_r\",origin=\"lower\");\n",
    "plt.plot(catpos[:,0],catpos[:,1],'yx')\n",
    "plt.xlim([1500,1600])\n",
    "plt.ylim([1500,1600])"
   ]
  },
  {
   "cell_type": "code",
   "execution_count": null,
   "id": "e6bc5960-e465-41d5-a818-ebf3b95743cc",
   "metadata": {},
   "outputs": [],
   "source": [
    "hdr = img1['CNT_HEADER']\n",
    "wcs = pywcs.WCS(naxis=hdr['NAXIS'])\n",
    "wcs.wcs.cdelt = [hdr['CDELT1'],\n",
    "                 hdr['CDELT2']]\n",
    "wcs.wcs.ctype = [hdr['CTYPE1'],\n",
    "                 hdr['CTYPE2']]\n",
    "wcs.wcs.crpix = [hdr['CRPIX1'],\n",
    "                 hdr['CRPIX2']]\n",
    "wcs.wcs.crval = [hdr['CRVAL1'],\n",
    "                 hdr['CRVAL2']]\n",
    "\n",
    "imgpos = wcs.wcs_world2pix([[ra,dec]],1) # set the origin to FITS standard\n",
    "imgx,imgy = imgpos[0]\n",
    "imsz = np.shape(img1['CNT'])[-2:]\n",
    "\n",
    "# crop on the subframe\n",
    "# noting that image coordinates and numpy coordinates are flipped\n",
    "boxsz = 50\n",
    "x1, x2, y1, y2 = (max(int(imgy - boxsz), 0),\n",
    "                  min(int(imgy + boxsz), imsz[0]),\n",
    "                  max(int(imgx - boxsz), 0),\n",
    "                  min(int(imgx + boxsz), imsz[1]))\n",
    "plt.plot([50],[50],'rx')\n",
    "plt.title('TYC 4144-329-1')\n",
    "plt.imshow(ZScaleInterval()(img1['CNT'][x1:x2, y1:y2]), origin=\"lower\", cmap=\"Greys_r\")"
   ]
  },
  {
   "cell_type": "code",
   "execution_count": null,
   "id": "100895e9-a419-4a6d-8cdd-6e4c522d1462",
   "metadata": {},
   "outputs": [],
   "source": [
    "imgpos = wcs.wcs_world2pix([[155.791120, 61.612065]],1) # set the origin to FITS standard\n",
    "imgx,imgy = imgpos[0]\n",
    "imsz = np.shape(img1['CNT'])[-2:]\n",
    "\n",
    "# crop on the subframe\n",
    "# noting that image coordinates and numpy coordinates are flipped\n",
    "boxsz = 50\n",
    "x1, x2, y1, y2 = (max(int(imgy - boxsz), 0),\n",
    "                  min(int(imgy + boxsz), imsz[0]),\n",
    "                  max(int(imgx - boxsz), 0),\n",
    "                  min(int(imgx + boxsz), imsz[1]))\n",
    "#plt.plot([50],[50],'rx')\n",
    "plt.figure(figsize=(5,5))\n",
    "plt.title('TYC 4144-329-2')\n",
    "plt.imshow(ZScaleInterval()(img1['CNT']), origin=\"lower\", cmap=\"Greys_r\")\n",
    "plt.xlim([y1,y2])\n",
    "plt.ylim([x1,x2])\n",
    "\n",
    "plt.plot(catpos[:,0][ix],catpos[:,1][ix],'yx')"
   ]
  },
  {
   "cell_type": "code",
   "execution_count": null,
   "id": "2840da59-8fa8-4199-acb9-1a88c016917e",
   "metadata": {},
   "outputs": [],
   "source": [
    "catpos = wcs.wcs_world2pix(list(zip(tbl1['RA'].values,tbl1['DEC'].values)),1) # set the origin to FITS standard\n",
    "ix = np.where((np.isfinite(tbl1['NUV_MDL_SIGMA'])) & \n",
    "              (tbl1['NUV_MDL_SIGMA']<10) & (tbl1['NUV_MDL_SIGMA']>0.2) &\n",
    "              (tbl1['NUV_MDL_CPS']>1e-03) &\n",
    "              (tbl1['NUV_MDL_SIGMA']) & (tbl1['NUV_MDL_SIGMA']) &\n",
    "              (tbl1['NUV_SOFTEDGE_FLAG_A6']==0) & (tbl1['NUV_HARDEDGE_FLAG_A6']==0) &\n",
    "              (tbl1['NUV_GHOST_FLAG_A6']==0) & (tbl1['NUV_HOTSPOT_FLAG_A6']==0))"
   ]
  },
  {
   "cell_type": "code",
   "execution_count": null,
   "id": "e365f146-6d2a-40eb-8814-b8a12b70ead9",
   "metadata": {},
   "outputs": [],
   "source": [
    "# HMG: \"I think that’s due to the choice of scale in the image! If you bin it right and chose a color scale \n",
    "# from max to mean, I was surprised how well it’s actually separated. Color in the image is NUV photons \n",
    "# binned up, white dots are single FUV photons.\"\n",
    "plt.imshow(img1['CNT'], origin=\"lower\", cmap=\"Greys_r\", \n",
    "           vmin=np.mean(img1['CNT'][x1:x2, y1:y2]), vmax=np.max(img1['CNT'][x1:x2, y1:y2]))\n",
    "plt.xlim([y1,y2])\n",
    "plt.ylim([x1,x2])\n",
    "plt.plot(catpos[:,0][ix],catpos[:,1][ix],'yx')"
   ]
  },
  {
   "cell_type": "code",
   "execution_count": null,
   "id": "00ef1be9-a4ac-4b77-a995-c42ec564ba90",
   "metadata": {},
   "outputs": [],
   "source": [
    "cat_ix = np.where((catpos[:,0]>y1) & (catpos[:,0]<y2) &\n",
    "                  (catpos[:,1]>x1) & (catpos[:,1]<x2))\n",
    "plt.plot(catpos[cat_ix][:,0],catpos[cat_ix][:,1],'yx')"
   ]
  },
  {
   "cell_type": "code",
   "execution_count": null,
   "id": "341b94e4-d27a-41be-a6df-057f5560e63f",
   "metadata": {},
   "outputs": [],
   "source": [
    "def counts2mag(cps, band):\n",
    "    scale = 18.82 if band == 'FUV' else 20.08\n",
    "    with np.errstate(invalid='ignore'):\n",
    "        with warnings.catch_warnings():\n",
    "            warnings.simplefilter(\"ignore\")\n",
    "            mag = -2.5 * np.log10(cps) + scale\n",
    "    return mag"
   ]
  },
  {
   "cell_type": "code",
   "execution_count": null,
   "id": "4c45da35-7e0e-4d17-8fca-42996d5846cc",
   "metadata": {},
   "outputs": [],
   "source": [
    "counts2mag(tbl1.iloc[cat_ix]['NUV_MDL_CPS'].values,'NUV')"
   ]
  },
  {
   "cell_type": "code",
   "execution_count": null,
   "id": "74db236f-8dc8-46db-8844-45333f738251",
   "metadata": {},
   "outputs": [],
   "source": [
    "tbl1.iloc[cat_ix][['NUV_MDL_CPS','NUV_MDL_SIGMA','NUV_MDL_BKG_CPS']]"
   ]
  },
  {
   "cell_type": "code",
   "execution_count": null,
   "id": "54d790ee-4682-4492-8d98-f26af6bb54fd",
   "metadata": {},
   "outputs": [],
   "source": [
    "foo = tbl1.iloc[ix][['NUV_MDL_CPS','NUV_MDL_SIGMA','NUV_MDL_BKG_CPS']]\n",
    "foo['NUV_MDL_MAG'] = counts2mag(tbl1.iloc[ix]['NUV_MDL_CPS'].values,'NUV')"
   ]
  },
  {
   "cell_type": "code",
   "execution_count": null,
   "id": "30437b79-ff4d-44cb-a8c4-0190331c9404",
   "metadata": {},
   "outputs": [],
   "source": [
    "plt.hist(tbl1['NUV_MDL_SIGMA'].iloc[ix],range=[0,10],bins=100);\n",
    "plt.xlabel('SIGMA (arcsec)')"
   ]
  },
  {
   "cell_type": "code",
   "execution_count": null,
   "id": "82832d9f-2d1c-4167-88e3-d41dc80eb3d1",
   "metadata": {},
   "outputs": [],
   "source": [
    "candidate_ix = np.where(\n",
    "    (np.isfinite(tbl1['NUV_MDL_SIGMA'])) & \n",
    "    (tbl1['NUV_MDL_SIGMA']<10) & (tbl1['NUV_MDL_SIGMA']>5) &\n",
    "    (tbl1['NUV_MDL_CPS']>1e-03) &\n",
    "    (tbl1['NUV_MDL_SIGMA']) & (tbl1['NUV_MDL_SIGMA']) &\n",
    "    (tbl1['NUV_SOFTEDGE_FLAG_A6']==0) & (tbl1['NUV_HARDEDGE_FLAG_A6']==0) &\n",
    "    (tbl1['NUV_GHOST_FLAG_A6']==0) & (tbl1['NUV_HOTSPOT_FLAG_A6']==0))# &\n",
    "    # (counts2mag(tbl1['NUV_MDL_CPS'].values,'NUV')<18))\n",
    "len(candidate_ix[0])"
   ]
  },
  {
   "cell_type": "code",
   "execution_count": null,
   "id": "d037b006-288a-48ae-ab8b-b61dde80ab51",
   "metadata": {},
   "outputs": [],
   "source": [
    "for cix in candidate_ix[0]:\n",
    "    ra,dec = tbl1.iloc[cix][['RA','DEC']]\n",
    "    imgpos = wcs.wcs_world2pix([[ra,dec]],1) # set the origin to FITS standard\n",
    "    imgx,imgy = imgpos[0]\n",
    "    imsz = np.shape(img1['CNT'])[-2:]\n",
    "    \n",
    "    # crop on the subframe\n",
    "    # noting that image coordinates and numpy coordinates are flipped\n",
    "    boxsz = 50\n",
    "    x1, x2, y1, y2 = (max(int(imgy - boxsz), 0),\n",
    "                      min(int(imgy + boxsz), imsz[0]),\n",
    "                      max(int(imgx - boxsz), 0),\n",
    "                      min(int(imgx + boxsz), imsz[1]))\n",
    "    #plt.plot([50],[50],'rx')\n",
    "    plt.figure(figsize=(5,5))\n",
    "    plt.title(cix)\n",
    "    \n",
    "    plt.imshow(img1['CNT'], origin=\"lower\", cmap=\"Greys_r\", \n",
    "           vmin=np.mean(img1['CNT'][x1:x2, y1:y2]), vmax=np.max(img1['CNT'][x1:x2, y1:y2]))\n",
    "    \n",
    "    plt.xlim([y1,y2])\n",
    "    plt.ylim([x1,x2])\n",
    "    plt.plot(catpos[:,0][ix],catpos[:,1][ix],'yx')"
   ]
  },
  {
   "cell_type": "code",
   "execution_count": null,
   "id": "8f3f49ae-61fa-42d9-830b-8afc5974796e",
   "metadata": {},
   "outputs": [],
   "source": []
  }
 ],
 "metadata": {
  "kernelspec": {
   "display_name": "Python 3 (ipykernel)",
   "language": "python",
   "name": "python3"
  },
  "language_info": {
   "codemirror_mode": {
    "name": "ipython",
    "version": 3
   },
   "file_extension": ".py",
   "mimetype": "text/x-python",
   "name": "python",
   "nbconvert_exporter": "python",
   "pygments_lexer": "ipython3",
   "version": "3.13.5"
  }
 },
 "nbformat": 4,
 "nbformat_minor": 5
}
