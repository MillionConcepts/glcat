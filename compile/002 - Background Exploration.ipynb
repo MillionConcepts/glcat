{
 "cells": [
  {
   "cell_type": "code",
   "execution_count": null,
   "id": "8b77405b-ee48-463c-ab2a-a2e853595823",
   "metadata": {},
   "outputs": [],
   "source": [
    "%matplotlib inline\n",
    "import pandas as pd\n",
    "from rich import print\n",
    "import numpy as np\n",
    "import matplotlib.pyplot as plt\n",
    "#from quickbin import bin2d\n",
    "from scipy.stats import binned_statistic_2d\n",
    "import pdr\n",
    "from astropy.visualization import ZScaleInterval\n",
    "from astropy import wcs as pywcs\n"
   ]
  },
  {
   "cell_type": "code",
   "execution_count": null,
   "id": "a6a54987-2268-4b49-aff5-2012cd6f6ea7",
   "metadata": {
    "scrolled": true
   },
   "outputs": [],
   "source": [
    "tbl1 = pd.read_parquet('data/e41145/e41145-nd-0-catalog.parquet')\n",
    "img1 = pdr.read('data/e41145/e41145-nd-ffull-b00-image-r.fits')\n",
    "plt.figure(figsize=(8,8))\n",
    "plt.imshow(ZScaleInterval()(img1['CNT']),cmap=\"binary_r\",origin=\"lower\")"
   ]
  },
  {
   "cell_type": "code",
   "execution_count": null,
   "id": "4f8f44de-f11a-4985-a8da-e75ff37a3ce2",
   "metadata": {},
   "outputs": [],
   "source": [
    "tbl2 = pd.read_parquet('data/e03909/e03909-nd-7-catalog.parquet')\n",
    "img2 = pdr.read('data/e03909/e03909-nd-ffull-b07-image-r.fits')\n",
    "plt.figure(figsize=(8,8))\n",
    "plt.imshow(ZScaleInterval()(img2['CNT']),cmap=\"binary_r\",origin=\"lower\")"
   ]
  },
  {
   "cell_type": "code",
   "execution_count": null,
   "id": "421bb8a2-dbf3-42e1-bb50-0c050bc2bb0d",
   "metadata": {},
   "outputs": [],
   "source": [
    "cat = pd.concat([tbl1,tbl2])\n",
    "cat"
   ]
  },
  {
   "cell_type": "code",
   "execution_count": null,
   "id": "06373bb8-b84d-4152-93de-1b840b0fa5d9",
   "metadata": {},
   "outputs": [],
   "source": [
    "ix = np.where((np.isfinite(cat['NUV_MDL_SIGMA'])) & \n",
    "              (cat['NUV_MDL_SIGMA']) & (cat['NUV_MDL_SIGMA']) &\n",
    "              (cat['NUV_SOFTEDGE_FLAG_A6']==0) & (cat['NUV_HARDEDGE_FLAG_A6']==0) &\n",
    "              (cat['NUV_GHOST_FLAG_A6']==0) & (cat['NUV_HOTSPOT_FLAG_A6']==0))\n",
    "print(f'{100*np.round(len(ix[0])/len(cat),3)}% sources retained')"
   ]
  },
  {
   "cell_type": "code",
   "execution_count": null,
   "id": "6c09d6e7-7bf4-494e-9e9b-40cb08e37cc7",
   "metadata": {},
   "outputs": [],
   "source": [
    "statistic,xedge,yedge,binnum= binned_statistic_2d(\n",
    "    cat['RA'].iloc[ix].values,cat['DEC'].iloc[ix].values,\n",
    "    cat['NUV_MDL_BKG_CPS'].iloc[ix].values,\n",
    "    bins=50,\n",
    "    statistic='mean')\n",
    "plt.figure(figsize=(8,8))\n",
    "plt.imshow(ZScaleInterval()(statistic),cmap=\"inferno\")\n"
   ]
  },
  {
   "cell_type": "code",
   "execution_count": null,
   "id": "8230afd4-f3d4-4178-ad77-bbb53195227c",
   "metadata": {},
   "outputs": [],
   "source": []
  },
  {
   "cell_type": "code",
   "execution_count": null,
   "id": "7e41fc8e-a214-45d5-a2ed-a00313b1d2f8",
   "metadata": {},
   "outputs": [],
   "source": [
    "def angularSeparation(ra1, dec1, ra2, dec2):\n",
    "    d2r = np.pi/180.\n",
    "    ra2deg = 1./d2r\n",
    "\n",
    "    d1 = dec1*d2r\n",
    "    d2 = dec2*d2r\n",
    "\n",
    "    r1 = ra1*d2r\n",
    "    r2 = ra2*d2r\n",
    "\n",
    "    a = np.sin((d2-d1)/2.)**2.+np.cos(d1)*np.cos(d2)*np.sin((r2-r1)/2.)**2.\n",
    "    r = 2*np.arcsin(np.sqrt(a))\n",
    "\n",
    "    return r*ra2deg"
   ]
  },
  {
   "cell_type": "code",
   "execution_count": null,
   "id": "47bfa012-a326-4366-8f52-4a719569088a",
   "metadata": {},
   "outputs": [],
   "source": [
    "asp = pd.read_parquet('/Users/cm/github/gPhoton2/gPhoton/aspect/boresight_nosplit.parquet')\n",
    "ra,dec = (148.0946706183358,47.6280701512940)\n",
    "sep = angularSeparation(ra,dec,\n",
    "                        asp['ra0'].values,asp['dec0'].values)\n",
    "ix = np.where(sep<0.5)\n",
    "asp.iloc[ix]"
   ]
  },
  {
   "cell_type": "code",
   "execution_count": null,
   "id": "e3568667-91c0-43e6-bc3e-eb31af8c579f",
   "metadata": {},
   "outputs": [],
   "source": [
    "cone = angularSeparation(ra,dec,cat['RA'].values,cat['DEC'].values)\n",
    "cat.iloc[np.where(cone<0.1)]"
   ]
  },
  {
   "cell_type": "code",
   "execution_count": null,
   "id": "cf4fc547-44b2-4e57-8e04-6861527fcb31",
   "metadata": {},
   "outputs": [],
   "source": [
    "hdr = img2['CNT_HEADER']\n",
    "wcs = pywcs.WCS(naxis=hdr['NAXIS'])\n",
    "wcs.wcs.cdelt = [hdr['CDELT1'],\n",
    "                 hdr['CDELT2']]\n",
    "wcs.wcs.ctype = [hdr['CTYPE1'],\n",
    "                 hdr['CTYPE2']]\n",
    "wcs.wcs.crpix = [hdr['CRPIX1'],\n",
    "                 hdr['CRPIX2']]\n",
    "wcs.wcs.crval = [hdr['CRVAL1'],\n",
    "                 hdr['CRVAL2']]\n"
   ]
  },
  {
   "cell_type": "code",
   "execution_count": null,
   "id": "cd634525-120d-40c0-8d4f-31a21b4c9405",
   "metadata": {},
   "outputs": [],
   "source": [
    "fig = plt.figure(figsize=(5,5))\n",
    "ax = fig.add_subplot(projection=wcs)\n",
    "ax.imshow(ZScaleInterval()(img2['CNT']),cmap=\"binary_r\",origin=\"lower\")"
   ]
  },
  {
   "cell_type": "code",
   "execution_count": null,
   "id": "dc13f5bf-81aa-4ceb-8def-91bedf8f6c09",
   "metadata": {},
   "outputs": [],
   "source": [
    "tyc1_pos = (148.0946706183358,47.6280701512940)\n",
    "tyc2_pos = (148.0967477582728,47.6274034468028)\n",
    "imgpos = wcs.wcs_world2pix([tyc1_pos],1) # set the origin to FITS standard\n",
    "imgx,imgy = imgpos[0]\n",
    "imsz = np.shape(img1['CNT'])[-2:]\n",
    "\n",
    "# crop on the subframe\n",
    "# noting that image coordinates and numpy coordinates are flipped\n",
    "boxsz = 50\n",
    "x1, x2, y1, y2 = (max(int(imgy - boxsz), 0),\n",
    "                  min(int(imgy + boxsz), imsz[0]),\n",
    "                  max(int(imgx - boxsz), 0),\n",
    "                  min(int(imgx + boxsz), imsz[1]))\n",
    "plt.plot([50],[50],'rx')\n",
    "plt.title('TYC 4144-329-1')\n",
    "plt.imshow(ZScaleInterval()(img2['CNT'][x1:x2, y1:y2]), origin=\"lower\", cmap=\"Greys_r\")"
   ]
  },
  {
   "cell_type": "code",
   "execution_count": null,
   "id": "77d4139d-62e5-4004-9225-a4188cab37c3",
   "metadata": {},
   "outputs": [],
   "source": [
    "# THESE ARE NOT THE POSITIONS OF THESE SOURCES!!!\n",
    "tyc1_pos = (148.0946706183358,47.6280701512940)\n",
    "tyc2_pos = (148.0967477582728,47.6274034468028)\n",
    "imgpos = wcs.wcs_world2pix([tyc2_pos],1) # set the origin to FITS standard\n",
    "imgx,imgy = imgpos[0]\n",
    "imsz = np.shape(img1['CNT'])[-2:]\n",
    "\n",
    "# crop on the subframe\n",
    "# noting that image coordinates and numpy coordinates are flipped\n",
    "boxsz = 50\n",
    "x1, x2, y1, y2 = (max(int(imgy - boxsz), 0),\n",
    "                  min(int(imgy + boxsz), imsz[0]),\n",
    "                  max(int(imgx - boxsz), 0),\n",
    "                  min(int(imgx + boxsz), imsz[1]))\n",
    "plt.plot([50],[50],'rx')\n",
    "plt.title('TYC 4144-329-2')\n",
    "plt.imshow(ZScaleInterval()(img2['CNT'][x1:x2, y1:y2]), origin=\"lower\", cmap=\"Greys_r\")"
   ]
  },
  {
   "cell_type": "code",
   "execution_count": null,
   "id": "7ee4ff24-d687-41bf-9868-35918052639e",
   "metadata": {},
   "outputs": [],
   "source": []
  },
  {
   "cell_type": "code",
   "execution_count": null,
   "id": "b19a44a5-0360-4cc9-a8a2-b5a40dca18f7",
   "metadata": {},
   "outputs": [],
   "source": [
    "foo = pdr.read('/Users/cm/Downloads/MAST_2025-06-24T2036/GALEX/2841351488930840576/MISDR2_00522_0771-nd-int.fits.gz')\n",
    "foo.keys()"
   ]
  },
  {
   "cell_type": "code",
   "execution_count": null,
   "id": "a51386e1-3a46-47a1-8fb1-a768e25f422f",
   "metadata": {},
   "outputs": [],
   "source": [
    "plt.figure(figsize=(8,8))\n",
    "plt.imshow(ZScaleInterval()(foo['PRIMARY']),cmap=\"binary_r\",origin=\"lower\")"
   ]
  },
  {
   "cell_type": "code",
   "execution_count": null,
   "id": "1fbb36da-00d8-4c44-91ec-c9b2ec87d811",
   "metadata": {},
   "outputs": [],
   "source": []
  }
 ],
 "metadata": {
  "kernelspec": {
   "display_name": "Python 3 (ipykernel)",
   "language": "python",
   "name": "python3"
  },
  "language_info": {
   "codemirror_mode": {
    "name": "ipython",
    "version": 3
   },
   "file_extension": ".py",
   "mimetype": "text/x-python",
   "name": "python",
   "nbconvert_exporter": "python",
   "pygments_lexer": "ipython3",
   "version": "3.13.5"
  }
 },
 "nbformat": 4,
 "nbformat_minor": 5
}
