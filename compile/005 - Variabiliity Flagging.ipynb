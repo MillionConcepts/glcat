{
 "cells": [
  {
   "cell_type": "code",
   "execution_count": null,
   "id": "cfbcfba4-f09f-407f-84d7-249a7b5c0b99",
   "metadata": {},
   "outputs": [],
   "source": [
    "%matplotlib inline\n",
    "import pandas as pd\n",
    "from rich import print\n",
    "import numpy as np\n",
    "import matplotlib.pyplot as plt\n",
    "#from quickbin import bin2d\n",
    "from scipy.stats import binned_statistic_2d\n",
    "import pdr\n",
    "from astropy.visualization import ZScaleInterval\n",
    "from astropy import wcs as pywcs\n",
    "import warnings\n",
    "from pyarrow import ArrowInvalid\n",
    "from tqdm import tqdm"
   ]
  },
  {
   "cell_type": "code",
   "execution_count": null,
   "id": "8af9eccf",
   "metadata": {},
   "outputs": [],
   "source": [
    "import pyarrow.parquet as pq\n",
    "table = pq.read_table('data/e23456/e23456-nd-f0120-b00-movie-photom-9_0-base.parquet').to_pandas()\n",
    "data = pdr.read('data/e23456/e23456-nd-f0120-b00-movie-r.fits')\n",
    "data.load('CNT')"
   ]
  },
  {
   "cell_type": "code",
   "execution_count": null,
   "id": "0f244b52",
   "metadata": {},
   "outputs": [
    {
     "data": {
      "text/plain": [
       "<Figure size 640x480 with 0 Axes>"
      ]
     },
     "metadata": {},
     "output_type": "display_data"
    }
   ],
   "source": [
    "nbins = data['CNT_HEADER']['N_FRAME']\n",
    "expt = np.array([data['CNT_HEADER'][f'EXPT_{n}'] for n in range(nbins)])\n",
    "t = np.arange(nbins)\n",
    "\n",
    "# plt.figure()\n",
    "outlier = []\n",
    "for row in tqdm(table.iterrows()):\n",
    "    aper_cnts = np.array([row[1][f'aperture_sum_{i}'] for i in range(nbins)])\n",
    "    flags = np.array([row[1][f'artifact_flag_{i}'] for i in range(nbins)])\n",
    "    ix = np.where(flags==0)\n",
    "    if len(ix[0])<=2:\n",
    "        continue\n",
    "    cps = aper_cnts/expt\n",
    "    cps_err = np.sqrt(aper_cnts)/expt\n",
    "    #plt.plot(t[ix],cps[ix],'k-',alpha=0.1)\n",
    "\n",
    "    sigma = 3\n",
    "    second_min = np.sort((cps + cps_err * sigma)[ix])[1]\n",
    "    second_max = np.sort((cps - cps_err * sigma)[ix])[-2]\n",
    "    \n",
    "    # Find outliers above the second minimum (existing logic)\n",
    "    outlier_ix_high = np.where((cps - cps_err * sigma)[ix] > second_min)[0]\n",
    "    \n",
    "    # Find outliers below the second maximum (new logic)\n",
    "    outlier_ix_low = np.where((cps + cps_err * sigma)[ix] < second_max)[0]\n",
    "    \n",
    "    # Combine both types of outliers\n",
    "    total_outliers = len(outlier_ix_high) + len(outlier_ix_low)\n",
    "    \n",
    "    if total_outliers >= 2:\n",
    "        outlier+=[[total_outliers,row[0]]]\n",
    "        continue  # skip if there are not 3 significant outliers using the dumbest heuristic\n",
    "\n",
    "\n",
    "print(len(outlier))#,outlier)\n",
    "#plt.semilogy()\n",
    "# plt.show()"
   ]
  },
  {
   "cell_type": "code",
   "execution_count": null,
   "id": "a18e11b0",
   "metadata": {},
   "outputs": [],
   "source": [
    "plt.errorbar(t,cps,yerr=3*cps_err,fmt='kx-')"
   ]
  },
  {
   "cell_type": "code",
   "execution_count": null,
   "id": "3124d065",
   "metadata": {},
   "outputs": [],
   "source": [
    "ix"
   ]
  },
  {
   "cell_type": "code",
   "execution_count": null,
   "id": "c2b0713b",
   "metadata": {},
   "outputs": [],
   "source": [
    "# count the number of aperture_sum columns\n",
    "bins = len([col for col in table.keys() if col.startswith('aperture_sum_')])\n",
    "print(bins)\n",
    "for row in table.iterrows():\n",
    "    lc = [row[1][f'aperture_sum_{i}'] for i in range(bins)]\n",
    "    flags = [row[1][f'artifact_flag_{i}'] for i in range(bins)]\n",
    "    cps = np.array(lc)/np.array(expt)\n",
    "    print(cps)\n",
    "    print(flags)\n",
    "    break"
   ]
  },
  {
   "cell_type": "code",
   "execution_count": null,
   "id": "8a54b4ee",
   "metadata": {},
   "outputs": [],
   "source": []
  }
 ],
 "metadata": {
  "kernelspec": {
   "display_name": "Python 3 (ipykernel)",
   "language": "python",
   "name": "python3"
  },
  "language_info": {
   "codemirror_mode": {
    "name": "ipython",
    "version": 3
   },
   "file_extension": ".py",
   "mimetype": "text/x-python",
   "name": "python",
   "nbconvert_exporter": "python",
   "pygments_lexer": "ipython3",
   "version": "3.13.5"
  }
 },
 "nbformat": 4,
 "nbformat_minor": 5
}
