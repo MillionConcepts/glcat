{
 "cells": [
  {
   "cell_type": "code",
   "execution_count": null,
   "id": "5448654f",
   "metadata": {},
   "outputs": [],
   "source": [
    "import pandas as pd\n",
    "import numpy as np\n",
    "from astropy.coordinates import SkyCoord\n",
    "from astropy import units as u\n",
    "from scipy.spatial.distance import cdist\n",
    "import warnings\n",
    "warnings.filterwarnings('ignore')\n",
    "from pyarrow import ArrowInvalid\n",
    "from tqdm import tqdm"
   ]
  },
  {
   "cell_type": "code",
   "execution_count": null,
   "id": "7d30511b",
   "metadata": {},
   "outputs": [],
   "source": [
    "nuv_catalog = pd.read_parquet('data/e23456/e23456-nd-0-catalog.parquet')\n",
    "fuv_catalog = pd.read_parquet('data/e23456/e23456-fd-0-catalog.parquet')"
   ]
  },
  {
   "cell_type": "code",
   "execution_count": null,
   "id": "5daa94e0",
   "metadata": {},
   "outputs": [],
   "source": [
    "def compute_separation_matrix(ra1, dec1, ra2, dec2):\n",
    "    \"\"\"\n",
    "    Compute angular separations between two sets of coordinates efficiently.\n",
    "    Uses astropy's SkyCoord separation matrix, which is vectorized and much faster.\n",
    "    Returns a (len(ra1), len(ra2)) array of separations in arcseconds.\n",
    "    \"\"\"\n",
    "    coords1 = SkyCoord(ra=ra1*u.degree, dec=dec1*u.degree)\n",
    "    coords2 = SkyCoord(ra=ra2*u.degree, dec=dec2*u.degree)\n",
    "    # Use astropy's separation matrix (broadcasts efficiently)\n",
    "    # This returns a Quantity array of shape (len(coords1), len(coords2))\n",
    "    sep_matrix = coords1[:, None].separation(coords2[None, :]).arcsec\n",
    "    return sep_matrix\n",
    "\n",
    "# compute_separation_matrix(\n",
    "#     nuv_catalog['RA'].values, nuv_catalog['DEC'].values,\n",
    "#     fuv_catalog['RA'].values, fuv_catalog['DEC'].values\n",
    "# )\n",
    "\n"
   ]
  },
  {
   "cell_type": "code",
   "execution_count": null,
   "id": "219a3375",
   "metadata": {},
   "outputs": [],
   "source": [
    "def compute_crossmatch(nuv_catalog,fuv_catalog,max_separation_arcsec=3.0):\n",
    "    separations = compute_separation_matrix(\n",
    "        nuv_catalog['RA'].values, nuv_catalog['DEC'].values,\n",
    "        fuv_catalog['RA'].values, fuv_catalog['DEC'].values\n",
    "    )\n",
    "\n",
    "    print(f\"Finding matches within {max_separation_arcsec}\\\"...\")\n",
    "    matches = []\n",
    "    nuv_matched = set()\n",
    "    fuv_matched = set()\n",
    "\n",
    "    # find the closest FUV source within 3 arcseconds for each NUV source\n",
    "    nuv_matches = np.full((len(nuv_catalog),2), None)\n",
    "    # Find best matches (closest separation for each source)\n",
    "    for i in tqdm(range(len(nuv_catalog))):\n",
    "        valid_matches = separations[i, :] <= max_separation_arcsec\n",
    "        if np.any(valid_matches):\n",
    "            j = np.argmin(separations[i, :])\n",
    "            nuv_matches[i] = [int(j),float(separations[i,j])]\n",
    "\n",
    "    fuv_matches = np.full((len(fuv_catalog),2), None)\n",
    "    # Find best matches (closest separation for each source)\n",
    "    for i in tqdm(range(len(fuv_catalog))):\n",
    "        valid_matches = separations[:, i] <= max_separation_arcsec\n",
    "        if np.any(valid_matches):\n",
    "            j = np.argmin(separations[:, i])\n",
    "            fuv_matches[i] = [int(j),float(separations[j,i])]\n",
    "\n",
    "    # check whether the matches point to each other across catalogs\n",
    "    cross_matches = []\n",
    "    for i in tqdm(range(len(nuv_catalog))):\n",
    "        if nuv_matches[i][0] is not None:\n",
    "            fuv_index = nuv_matches[i][0]\n",
    "            if fuv_matches[fuv_index][0] == i:\n",
    "                cross_matches.append((i, fuv_index, nuv_matches[i][1]))\n",
    "\n",
    "    return np.array(cross_matches)\n"
   ]
  },
  {
   "cell_type": "code",
   "execution_count": null,
   "id": "7e9f7549",
   "metadata": {},
   "outputs": [],
   "source": [
    "def crossmatch(nuv_catalog,fuv_catalog,max_separation_arcsec=3.0):\n",
    "    cross_matches = compute_crossmatch(nuv_catalog,fuv_catalog,\n",
    "                                       max_separation_arcsec=max_separation_arcsec)\n",
    "    \n",
    "    # add FUV crossmatches to NUV catalog\n",
    "    nuv_catalog['FUV_MATCH_INDEX'] = np.nan\n",
    "    nuv_catalog.loc[cross_matches[:, 0], 'FUV_MATCH_INDEX'] = np.array(cross_matches[:, 1],dtype=int)\n",
    "    nuv_catalog['FUV_MATCH_SEP'] = np.nan\n",
    "    nuv_catalog.loc[cross_matches[:, 0], 'FUV_MATCH_SEP'] = np.round(cross_matches[:, 2],6)\n",
    "\n",
    "    # add NUV crossmatches to FUV table\n",
    "    fuv_catalog['NUV_MATCH_INDEX'] = np.nan\n",
    "    fuv_catalog.loc[cross_matches[:, 1], 'NUV_MATCH_INDEX'] = np.array(cross_matches[:, 0],dtype=int)\n",
    "    fuv_catalog['NUV_MATCH_SEP'] = np.nan\n",
    "    fuv_catalog.loc[cross_matches[:, 1], 'NUV_MATCH_SEP'] = np.round(cross_matches[:, 2],6)\n",
    "\n",
    "    return nuv_catalog, fuv_catalog"
   ]
  },
  {
   "cell_type": "code",
   "execution_count": null,
   "id": "deb96675",
   "metadata": {},
   "outputs": [],
   "source": [
    "nuv_catalog, fuv_catalog = crossmatch(nuv_catalog,fuv_catalog)"
   ]
  },
  {
   "cell_type": "code",
   "execution_count": null,
   "id": "23c4b0bb",
   "metadata": {},
   "outputs": [],
   "source": [
    "nuv_catalog"
   ]
  },
  {
   "cell_type": "code",
   "execution_count": null,
   "id": "54817564",
   "metadata": {},
   "outputs": [],
   "source": []
  }
 ],
 "metadata": {
  "kernelspec": {
   "display_name": "Python 3 (ipykernel)",
   "language": "python",
   "name": "python3"
  },
  "language_info": {
   "codemirror_mode": {
    "name": "ipython",
    "version": 3
   },
   "file_extension": ".py",
   "mimetype": "text/x-python",
   "name": "python",
   "nbconvert_exporter": "python",
   "pygments_lexer": "ipython3",
   "version": "3.13.5"
  }
 },
 "nbformat": 4,
 "nbformat_minor": 5
}
