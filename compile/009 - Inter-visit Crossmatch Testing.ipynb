{
 "cells": [
  {
   "cell_type": "code",
   "execution_count": null,
   "id": "5448654f",
   "metadata": {},
   "outputs": [],
   "source": [
    "import pandas as pd\n",
    "import numpy as np\n",
    "from astropy.coordinates import SkyCoord\n",
    "from astropy import units as u\n",
    "from scipy.spatial.distance import cdist\n",
    "import warnings\n",
    "warnings.filterwarnings('ignore')\n",
    "from pyarrow import ArrowInvalid\n",
    "from tqdm import tqdm\n",
    "from sklearn.cluster import DBSCAN"
   ]
  },
  {
   "cell_type": "code",
   "execution_count": null,
   "id": "425fca39",
   "metadata": {},
   "outputs": [],
   "source": [
    "def indexify(cat,band='NUV'):\n",
    "    return cat['ECLIPSE'].astype(str).str.zfill(5) + '_' + cat['LEG'].astype(str).str.zfill(2) + '_' + cat.index.astype(str).str.zfill(5) + '_' + band"
   ]
  },
  {
   "cell_type": "code",
   "execution_count": null,
   "id": "7d30511b",
   "metadata": {},
   "outputs": [],
   "source": [
    "nd_catfiles = !ls data/*/*nd*catalog*\n",
    "fd_catfiles = !ls data/*/*fd*catalog*\n",
    "nuv_catalog = pd.DataFrame()\n",
    "for f in tqdm(nd_catfiles):\n",
    "    try:\n",
    "        tbl = pd.read_parquet(f)\n",
    "        tbl['GLCAT_VISIT_ID'] = indexify(tbl,band='NUV')\n",
    "        nuv_catalog = pd.concat([nuv_catalog,tbl])\n",
    "    except ArrowInvalid:\n",
    "        #print(f'Unable to open {f}')\n",
    "        continue\n",
    "fuv_catalog = pd.DataFrame()\n",
    "for f in tqdm(fd_catfiles):\n",
    "    try:\n",
    "        tbl = pd.read_parquet(f)\n",
    "        tbl['GLCAT_VISIT_ID'] = indexify(tbl,band='FUV')\n",
    "        fuv_catalog = pd.concat([fuv_catalog,tbl])\n",
    "    except ArrowInvalid:\n",
    "        #print(f'Unable to open {f}')\n",
    "        continue"
   ]
  },
  {
   "cell_type": "code",
   "execution_count": null,
   "id": "5daa94e0",
   "metadata": {},
   "outputs": [],
   "source": [
    "def compute_separation_matrix(ra1, dec1, ra2, dec2):\n",
    "    \"\"\"\n",
    "    Compute angular separations between two sets of coordinates efficiently.\n",
    "    Uses astropy's SkyCoord separation matrix, which is vectorized and much faster.\n",
    "    Returns a (len(ra1), len(ra2)) array of separations in arcseconds.\n",
    "    \"\"\"\n",
    "    coords1 = SkyCoord(ra=ra1*u.degree, dec=dec1*u.degree)\n",
    "    coords2 = SkyCoord(ra=ra2*u.degree, dec=dec2*u.degree)\n",
    "    # Use astropy's separation matrix (broadcasts efficiently)\n",
    "    # This returns a Quantity array of shape (len(coords1), len(coords2))\n",
    "    sep_matrix = coords1[:, None].separation(coords2[None, :]).arcsec\n",
    "    return sep_matrix\n",
    "\n",
    "# compute_separation_matrix(\n",
    "#     nuv_catalog['RA'].values, nuv_catalog['DEC'].values,\n",
    "#     fuv_catalog['RA'].values, fuv_catalog['DEC'].values\n",
    "# )\n",
    "\n"
   ]
  },
  {
   "cell_type": "code",
   "execution_count": null,
   "id": "219a3375",
   "metadata": {},
   "outputs": [
    {
     "name": "stderr",
     "output_type": "stream",
     "text": [
      "6451it [00:18, 345.91it/s]\n"
     ]
    }
   ],
   "source": [
    "cat = nuv_catalog\n",
    "boxwidth = 0.5/60 # 0.5 arcmin\n",
    "for i,row in tqdm(enumerate(nuv_catalog.iterrows())):\n",
    "    index,entry = row\n",
    "    eclipse,leg,ra,dec = entry[['ECLIPSE','LEG','RA','DEC']]\n",
    "    ra_diff = (cat['RA'] - ra) * np.cos(np.radians(dec))\n",
    "    dec_diff = cat['DEC'] - dec\n",
    "    matches = cat[(cat['ECLIPSE']!=eclipse) & (cat['LEG']!=leg) & (np.abs(ra_diff)<=boxwidth) & (np.abs(dec_diff)<=boxwidth)]\n",
    "    if not len(matches):\n",
    "        continue\n",
    "    sep = compute_separation_matrix([ra],[dec],\n",
    "                                    matches['RA'].values, matches['DEC'].values)\n",
    "    break"
   ]
  },
  {
   "cell_type": "code",
   "execution_count": null,
   "id": "eae6068b",
   "metadata": {},
   "outputs": [],
   "source": [
    "indices = [entry['GLCAT_VISIT_ID']]+matches['GLCAT_VISIT_ID'].values.tolist()\n",
    "pos = nuv_catalog[nuv_catalog['GLCAT_VISIT_ID'].isin(indices)][['RA','DEC']]\n",
    "pos"
   ]
  },
  {
   "cell_type": "code",
   "execution_count": null,
   "id": "3522dad0",
   "metadata": {},
   "outputs": [],
   "source": [
    "clustering = DBSCAN(eps=3/60/60,min_samples=1).fit(nuv_catalog[['RA','DEC']].values)\n",
    "clustering.labels_"
   ]
  },
  {
   "cell_type": "code",
   "execution_count": null,
   "id": "df086a29",
   "metadata": {},
   "outputs": [],
   "source": [
    "np.unique(clustering.labels_)"
   ]
  },
  {
   "cell_type": "code",
   "execution_count": null,
   "id": "ac894332",
   "metadata": {},
   "outputs": [],
   "source": []
  },
  {
   "cell_type": "code",
   "execution_count": null,
   "id": "82a689be",
   "metadata": {},
   "outputs": [],
   "source": []
  }
 ],
 "metadata": {
  "kernelspec": {
   "display_name": "Python 3 (ipykernel)",
   "language": "python",
   "name": "python3"
  },
  "language_info": {
   "codemirror_mode": {
    "name": "ipython",
    "version": 3
   },
   "file_extension": ".py",
   "mimetype": "text/x-python",
   "name": "python",
   "nbconvert_exporter": "python",
   "pygments_lexer": "ipython3",
   "version": "3.13.5"
  }
 },
 "nbformat": 4,
 "nbformat_minor": 5
}
