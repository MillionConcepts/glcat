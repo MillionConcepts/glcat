{
 "cells": [
  {
   "cell_type": "code",
   "execution_count": 1,
   "id": "259986bc",
   "metadata": {},
   "outputs": [],
   "source": [
    "import pandas as pd\n",
    "from astropy.io import fits\n",
    "import numpy as np\n",
    "import matplotlib.pyplot as plt\n",
    "from scipy.optimize import curve_fit\n",
    "import pyregion"
   ]
  },
  {
   "cell_type": "code",
   "execution_count": 2,
   "id": "44f52a1d",
   "metadata": {},
   "outputs": [],
   "source": [
    "def first_and_last_indices_above_one(numbers):\n",
    "    above_one_indices = [i for i, num in enumerate(numbers) if num > 0]\n",
    "    return above_one_indices[0] if above_one_indices else None, above_one_indices[-1] if above_one_indices else None\n",
    "\n",
    "def gaussian(x, A, mu, sigma):\n",
    "    return A * np.exp(-(x - mu)**2 / (2 * sigma**2))\n",
    "\n",
    "def perp_line(m, x1, y1, x): \n",
    "    y = m*(x-x1) + y1 \n",
    "    return y \n",
    "\n",
    "def per_star(r, image, num): \n",
    "    \n",
    "    width = 16\n",
    "    \n",
    "    y = round(r[num].coord_list[0])\n",
    "    x = round(r[num].coord_list[1])\n",
    "\n",
    "    cutout = image[0].data[x-width:x+width,y-width:y+width]\n",
    "    rows, cols = np.where(cutout>1)\n",
    "    fit = np.polyfit(rows, cols, 2)\n",
    "    f = np.poly1d(fit)\n",
    "\n",
    "    starlist = []\n",
    "    \n",
    "    x_vals = range(round(cutout.shape[0]/2-5),round(cutout.shape[0]/2+5))\n",
    "    \n",
    "    for x_val in x_vals: \n",
    "\n",
    "        deriv = f.deriv()\n",
    "        slope_of_normal = -1/deriv(x_val)\n",
    "        y1 = f(x_val)\n",
    "        x1= x_val\n",
    "        xr = range(x_val-8,x_val+12)\n",
    "\n",
    "        y = [round(perp_line(slope_of_normal, x1, y1, x)) for x in xr]\n",
    "        y = [31 if a >= 32 else 0 if a <= 0 else a for a in y]\n",
    "        #plt.scatter(xr, y, marker ='x')\n",
    "        coords = list(zip(xr,y))\n",
    "        crosscut = [cutout[c[0],c[1]] for c in coords]\n",
    "        \n",
    "        try:\n",
    "            popt, _ = curve_fit(gaussian, xr, crosscut, p0=[1, 0, 1])\n",
    "\n",
    "            # Calculate the FWHM from the fitted parameters\n",
    "            fwhm = 2 * np.sqrt(2 * np.log(2)) * popt[2]\n",
    "            \n",
    "            first_index, last_index = first_and_last_indices_above_one(crosscut)\n",
    "            width = last_index-first_index \n",
    "            \n",
    "            maxy = max(crosscut)\n",
    "            rsum = sum(crosscut)-maxy\n",
    "            rstd = np.std(crosscut)\n",
    "            rmean = np.mean(crosscut)\n",
    "            maxy2 = sorted(crosscut)[-2]\n",
    "            numg0 = sum(i > 1 for i in crosscut)            \n",
    "            numge1 = sum(i >= 1 for i in crosscut)\n",
    "\n",
    "\n",
    "        except: \n",
    "            fwhm = 999\n",
    "            \n",
    "        row = {'star': num, \n",
    "               'x_val': x_val, \n",
    "               'fwhm': fwhm, \n",
    "               'maxy': maxy,\n",
    "               'maxy2': maxy2,\n",
    "               'crosscut': crosscut, \n",
    "               'rsum': rsum,\n",
    "              'rmean': rmean,\n",
    "              'rstd': rstd,\n",
    "              'numg0': numg0,\n",
    "              'numge1': numge1,\n",
    "              'width': width,\n",
    "              'first_index': first_index,\n",
    "              'last_index': last_index} \n",
    "        \n",
    "        starlist.append(row.copy())\n",
    "\n",
    "        \n",
    "    star_data = pd.DataFrame(starlist)\n",
    "    \n",
    "    return star_data \n",
    "        \n",
    "def per_eclipse(eclipse, time, timer): \n",
    "    \n",
    "    image = fits.open(f\"/media/bekah/BekahA/backplane_widths/e{eclipse}/e{eclipse}-nd-b00-f0025-t00{time}0-g_dose.fits.gz\")\n",
    "    region_name = f\"/media/bekah/BekahA/backplane_widths/e{eclipse}/regions_n_t{timer}.reg\"\n",
    "    r = pyregion.open(region_name)\n",
    "    \n",
    "    combined_results = []\n",
    "\n",
    "    for star in range(len(r)): \n",
    "        try: \n",
    "            star_data = per_star(r, image, star)\n",
    "            combined_results.append(star_data)\n",
    "        except: \n",
    "            print(\"Poor fit.\")\n",
    "        \n",
    "    eclipse_results = pd.concat(combined_results, axis=0)\n",
    "    eclipse_results['eclipse'] = eclipse\n",
    "    eclipse_results['time'] = timer\n",
    "\n",
    "    return eclipse_results \n",
    "\n",
    "def all_data(dlist): \n",
    "    \n",
    "    combined_results = []\n",
    "    \n",
    "    for d in dlist: \n",
    "        df = per_eclipse(d[0], d[1], d[2])\n",
    "        combined_results.append(df)\n",
    "        \n",
    "                    \n",
    "    return combined_results \n"
   ]
  },
  {
   "cell_type": "code",
   "execution_count": 3,
   "id": "2bf59e79",
   "metadata": {},
   "outputs": [
    {
     "ename": "FileNotFoundError",
     "evalue": "[Errno 2] No such file or directory: '/media/bekah/BekahA/backplane_widths/e23068/e23068-nd-b00-f0025-t00250-g_dose.fits.gz'",
     "output_type": "error",
     "traceback": [
      "\u001b[0;31m---------------------------------------------------------------------------\u001b[0m",
      "\u001b[0;31mFileNotFoundError\u001b[0m                         Traceback (most recent call last)",
      "Cell \u001b[0;32mIn[3], line 8\u001b[0m\n\u001b[1;32m      1\u001b[0m dlist \u001b[38;5;241m=\u001b[39m [(\u001b[38;5;124m'\u001b[39m\u001b[38;5;124m23068\u001b[39m\u001b[38;5;124m'\u001b[39m, \u001b[38;5;124m'\u001b[39m\u001b[38;5;124m25\u001b[39m\u001b[38;5;124m'\u001b[39m, \u001b[38;5;124m'\u001b[39m\u001b[38;5;124m25\u001b[39m\u001b[38;5;124m'\u001b[39m), (\u001b[38;5;124m'\u001b[39m\u001b[38;5;124m23068\u001b[39m\u001b[38;5;124m'\u001b[39m, \u001b[38;5;124m'\u001b[39m\u001b[38;5;124m50\u001b[39m\u001b[38;5;124m'\u001b[39m, \u001b[38;5;124m'\u001b[39m\u001b[38;5;124m50\u001b[39m\u001b[38;5;124m'\u001b[39m),\n\u001b[1;32m      2\u001b[0m             (\u001b[38;5;124m'\u001b[39m\u001b[38;5;124m23068\u001b[39m\u001b[38;5;124m'\u001b[39m, \u001b[38;5;124m'\u001b[39m\u001b[38;5;124m75\u001b[39m\u001b[38;5;124m'\u001b[39m, \u001b[38;5;124m'\u001b[39m\u001b[38;5;124m75\u001b[39m\u001b[38;5;124m'\u001b[39m), (\u001b[38;5;124m'\u001b[39m\u001b[38;5;124m23068\u001b[39m\u001b[38;5;124m'\u001b[39m, \u001b[38;5;124m'\u001b[39m\u001b[38;5;124m00\u001b[39m\u001b[38;5;124m'\u001b[39m, \u001b[38;5;124m'\u001b[39m\u001b[38;5;124m0\u001b[39m\u001b[38;5;124m'\u001b[39m), \n\u001b[1;32m      3\u001b[0m            (\u001b[38;5;124m'\u001b[39m\u001b[38;5;124m23258\u001b[39m\u001b[38;5;124m'\u001b[39m, \u001b[38;5;124m'\u001b[39m\u001b[38;5;124m25\u001b[39m\u001b[38;5;124m'\u001b[39m, \u001b[38;5;124m'\u001b[39m\u001b[38;5;124m25\u001b[39m\u001b[38;5;124m'\u001b[39m), (\u001b[38;5;124m'\u001b[39m\u001b[38;5;124m23258\u001b[39m\u001b[38;5;124m'\u001b[39m, \u001b[38;5;124m'\u001b[39m\u001b[38;5;124m50\u001b[39m\u001b[38;5;124m'\u001b[39m, \u001b[38;5;124m'\u001b[39m\u001b[38;5;124m50\u001b[39m\u001b[38;5;124m'\u001b[39m),\n\u001b[1;32m      4\u001b[0m             (\u001b[38;5;124m'\u001b[39m\u001b[38;5;124m23258\u001b[39m\u001b[38;5;124m'\u001b[39m, \u001b[38;5;124m'\u001b[39m\u001b[38;5;124m75\u001b[39m\u001b[38;5;124m'\u001b[39m, \u001b[38;5;124m'\u001b[39m\u001b[38;5;124m75\u001b[39m\u001b[38;5;124m'\u001b[39m), (\u001b[38;5;124m'\u001b[39m\u001b[38;5;124m23258\u001b[39m\u001b[38;5;124m'\u001b[39m, \u001b[38;5;124m'\u001b[39m\u001b[38;5;124m00\u001b[39m\u001b[38;5;124m'\u001b[39m, \u001b[38;5;124m'\u001b[39m\u001b[38;5;124m0\u001b[39m\u001b[38;5;124m'\u001b[39m),\n\u001b[1;32m      5\u001b[0m         (\u001b[38;5;124m'\u001b[39m\u001b[38;5;124m23328\u001b[39m\u001b[38;5;124m'\u001b[39m,\u001b[38;5;124m'\u001b[39m\u001b[38;5;124m25\u001b[39m\u001b[38;5;124m'\u001b[39m, \u001b[38;5;124m'\u001b[39m\u001b[38;5;124m25\u001b[39m\u001b[38;5;124m'\u001b[39m),(\u001b[38;5;124m'\u001b[39m\u001b[38;5;124m23328\u001b[39m\u001b[38;5;124m'\u001b[39m,\u001b[38;5;124m'\u001b[39m\u001b[38;5;124m50\u001b[39m\u001b[38;5;124m'\u001b[39m, \u001b[38;5;124m'\u001b[39m\u001b[38;5;124m50\u001b[39m\u001b[38;5;124m'\u001b[39m),\n\u001b[1;32m      6\u001b[0m         (\u001b[38;5;124m'\u001b[39m\u001b[38;5;124m23334\u001b[39m\u001b[38;5;124m'\u001b[39m,\u001b[38;5;124m'\u001b[39m\u001b[38;5;124m00\u001b[39m\u001b[38;5;124m'\u001b[39m,\u001b[38;5;124m'\u001b[39m\u001b[38;5;124m0\u001b[39m\u001b[38;5;124m'\u001b[39m), (\u001b[38;5;124m'\u001b[39m\u001b[38;5;124m23334\u001b[39m\u001b[38;5;124m'\u001b[39m,\u001b[38;5;124m'\u001b[39m\u001b[38;5;124m25\u001b[39m\u001b[38;5;124m'\u001b[39m,\u001b[38;5;124m'\u001b[39m\u001b[38;5;124m25\u001b[39m\u001b[38;5;124m'\u001b[39m)]\n\u001b[0;32m----> 8\u001b[0m cresults \u001b[38;5;241m=\u001b[39m \u001b[43mall_data\u001b[49m\u001b[43m(\u001b[49m\u001b[43mdlist\u001b[49m\u001b[43m)\u001b[49m\n\u001b[1;32m     10\u001b[0m df \u001b[38;5;241m=\u001b[39m pd\u001b[38;5;241m.\u001b[39mconcat(cresults, axis\u001b[38;5;241m=\u001b[39m\u001b[38;5;241m0\u001b[39m)\n\u001b[1;32m     11\u001b[0m df\u001b[38;5;241m.\u001b[39mto_csv(\u001b[38;5;124m'\u001b[39m\u001b[38;5;124m/home/bekah/glcat/fuv_offset/streak_widths.csv\u001b[39m\u001b[38;5;124m'\u001b[39m, index\u001b[38;5;241m=\u001b[39m\u001b[38;5;28;01mFalse\u001b[39;00m)  \n",
      "Cell \u001b[0;32mIn[2], line 111\u001b[0m, in \u001b[0;36mall_data\u001b[0;34m(dlist)\u001b[0m\n\u001b[1;32m    108\u001b[0m combined_results \u001b[38;5;241m=\u001b[39m []\n\u001b[1;32m    110\u001b[0m \u001b[38;5;28;01mfor\u001b[39;00m d \u001b[38;5;129;01min\u001b[39;00m dlist: \n\u001b[0;32m--> 111\u001b[0m     df \u001b[38;5;241m=\u001b[39m \u001b[43mper_eclipse\u001b[49m\u001b[43m(\u001b[49m\u001b[43md\u001b[49m\u001b[43m[\u001b[49m\u001b[38;5;241;43m0\u001b[39;49m\u001b[43m]\u001b[49m\u001b[43m,\u001b[49m\u001b[43m \u001b[49m\u001b[43md\u001b[49m\u001b[43m[\u001b[49m\u001b[38;5;241;43m1\u001b[39;49m\u001b[43m]\u001b[49m\u001b[43m,\u001b[49m\u001b[43m \u001b[49m\u001b[43md\u001b[49m\u001b[43m[\u001b[49m\u001b[38;5;241;43m2\u001b[39;49m\u001b[43m]\u001b[49m\u001b[43m)\u001b[49m\n\u001b[1;32m    112\u001b[0m     combined_results\u001b[38;5;241m.\u001b[39mappend(df)\n\u001b[1;32m    115\u001b[0m \u001b[38;5;28;01mreturn\u001b[39;00m combined_results\n",
      "Cell \u001b[0;32mIn[2], line 87\u001b[0m, in \u001b[0;36mper_eclipse\u001b[0;34m(eclipse, time, timer)\u001b[0m\n\u001b[1;32m     85\u001b[0m \u001b[38;5;28;01mdef\u001b[39;00m \u001b[38;5;21mper_eclipse\u001b[39m(eclipse, time, timer): \n\u001b[0;32m---> 87\u001b[0m     image \u001b[38;5;241m=\u001b[39m \u001b[43mfits\u001b[49m\u001b[38;5;241;43m.\u001b[39;49m\u001b[43mopen\u001b[49m\u001b[43m(\u001b[49m\u001b[38;5;124;43mf\u001b[39;49m\u001b[38;5;124;43m\"\u001b[39;49m\u001b[38;5;124;43m/media/bekah/BekahA/backplane_widths/e\u001b[39;49m\u001b[38;5;132;43;01m{\u001b[39;49;00m\u001b[43meclipse\u001b[49m\u001b[38;5;132;43;01m}\u001b[39;49;00m\u001b[38;5;124;43m/e\u001b[39;49m\u001b[38;5;132;43;01m{\u001b[39;49;00m\u001b[43meclipse\u001b[49m\u001b[38;5;132;43;01m}\u001b[39;49;00m\u001b[38;5;124;43m-nd-b00-f0025-t00\u001b[39;49m\u001b[38;5;132;43;01m{\u001b[39;49;00m\u001b[43mtime\u001b[49m\u001b[38;5;132;43;01m}\u001b[39;49;00m\u001b[38;5;124;43m0-g_dose.fits.gz\u001b[39;49m\u001b[38;5;124;43m\"\u001b[39;49m\u001b[43m)\u001b[49m\n\u001b[1;32m     88\u001b[0m     region_name \u001b[38;5;241m=\u001b[39m \u001b[38;5;124mf\u001b[39m\u001b[38;5;124m\"\u001b[39m\u001b[38;5;124m/media/bekah/BekahA/backplane_widths/e\u001b[39m\u001b[38;5;132;01m{\u001b[39;00meclipse\u001b[38;5;132;01m}\u001b[39;00m\u001b[38;5;124m/regions_n_t\u001b[39m\u001b[38;5;132;01m{\u001b[39;00mtimer\u001b[38;5;132;01m}\u001b[39;00m\u001b[38;5;124m.reg\u001b[39m\u001b[38;5;124m\"\u001b[39m\n\u001b[1;32m     89\u001b[0m     r \u001b[38;5;241m=\u001b[39m pyregion\u001b[38;5;241m.\u001b[39mopen(region_name)\n",
      "File \u001b[0;32m~/mambaforge/envs/gphoton2/lib/python3.10/site-packages/astropy/io/fits/hdu/hdulist.py:213\u001b[0m, in \u001b[0;36mfitsopen\u001b[0;34m(name, mode, memmap, save_backup, cache, lazy_load_hdus, ignore_missing_simple, use_fsspec, fsspec_kwargs, **kwargs)\u001b[0m\n\u001b[1;32m    210\u001b[0m \u001b[38;5;28;01mif\u001b[39;00m \u001b[38;5;129;01mnot\u001b[39;00m name:\n\u001b[1;32m    211\u001b[0m     \u001b[38;5;28;01mraise\u001b[39;00m \u001b[38;5;167;01mValueError\u001b[39;00m(\u001b[38;5;124mf\u001b[39m\u001b[38;5;124m\"\u001b[39m\u001b[38;5;124mEmpty filename: \u001b[39m\u001b[38;5;132;01m{\u001b[39;00mname\u001b[38;5;132;01m!r}\u001b[39;00m\u001b[38;5;124m\"\u001b[39m)\n\u001b[0;32m--> 213\u001b[0m \u001b[38;5;28;01mreturn\u001b[39;00m \u001b[43mHDUList\u001b[49m\u001b[38;5;241;43m.\u001b[39;49m\u001b[43mfromfile\u001b[49m\u001b[43m(\u001b[49m\n\u001b[1;32m    214\u001b[0m \u001b[43m    \u001b[49m\u001b[43mname\u001b[49m\u001b[43m,\u001b[49m\n\u001b[1;32m    215\u001b[0m \u001b[43m    \u001b[49m\u001b[43mmode\u001b[49m\u001b[43m,\u001b[49m\n\u001b[1;32m    216\u001b[0m \u001b[43m    \u001b[49m\u001b[43mmemmap\u001b[49m\u001b[43m,\u001b[49m\n\u001b[1;32m    217\u001b[0m \u001b[43m    \u001b[49m\u001b[43msave_backup\u001b[49m\u001b[43m,\u001b[49m\n\u001b[1;32m    218\u001b[0m \u001b[43m    \u001b[49m\u001b[43mcache\u001b[49m\u001b[43m,\u001b[49m\n\u001b[1;32m    219\u001b[0m \u001b[43m    \u001b[49m\u001b[43mlazy_load_hdus\u001b[49m\u001b[43m,\u001b[49m\n\u001b[1;32m    220\u001b[0m \u001b[43m    \u001b[49m\u001b[43mignore_missing_simple\u001b[49m\u001b[43m,\u001b[49m\n\u001b[1;32m    221\u001b[0m \u001b[43m    \u001b[49m\u001b[43muse_fsspec\u001b[49m\u001b[38;5;241;43m=\u001b[39;49m\u001b[43muse_fsspec\u001b[49m\u001b[43m,\u001b[49m\n\u001b[1;32m    222\u001b[0m \u001b[43m    \u001b[49m\u001b[43mfsspec_kwargs\u001b[49m\u001b[38;5;241;43m=\u001b[39;49m\u001b[43mfsspec_kwargs\u001b[49m\u001b[43m,\u001b[49m\n\u001b[1;32m    223\u001b[0m \u001b[43m    \u001b[49m\u001b[38;5;241;43m*\u001b[39;49m\u001b[38;5;241;43m*\u001b[39;49m\u001b[43mkwargs\u001b[49m\u001b[43m,\u001b[49m\n\u001b[1;32m    224\u001b[0m \u001b[43m\u001b[49m\u001b[43m)\u001b[49m\n",
      "File \u001b[0;32m~/mambaforge/envs/gphoton2/lib/python3.10/site-packages/astropy/io/fits/hdu/hdulist.py:476\u001b[0m, in \u001b[0;36mHDUList.fromfile\u001b[0;34m(cls, fileobj, mode, memmap, save_backup, cache, lazy_load_hdus, ignore_missing_simple, **kwargs)\u001b[0m\n\u001b[1;32m    457\u001b[0m \u001b[38;5;129m@classmethod\u001b[39m\n\u001b[1;32m    458\u001b[0m \u001b[38;5;28;01mdef\u001b[39;00m \u001b[38;5;21mfromfile\u001b[39m(\n\u001b[1;32m    459\u001b[0m     \u001b[38;5;28mcls\u001b[39m,\n\u001b[0;32m   (...)\u001b[0m\n\u001b[1;32m    467\u001b[0m     \u001b[38;5;241m*\u001b[39m\u001b[38;5;241m*\u001b[39mkwargs,\n\u001b[1;32m    468\u001b[0m ):\n\u001b[1;32m    469\u001b[0m     \u001b[38;5;124;03m\"\"\"\u001b[39;00m\n\u001b[1;32m    470\u001b[0m \u001b[38;5;124;03m    Creates an `HDUList` instance from a file-like object.\u001b[39;00m\n\u001b[1;32m    471\u001b[0m \n\u001b[0;32m   (...)\u001b[0m\n\u001b[1;32m    474\u001b[0m \u001b[38;5;124;03m    documentation for details of the parameters accepted by this method).\u001b[39;00m\n\u001b[1;32m    475\u001b[0m \u001b[38;5;124;03m    \"\"\"\u001b[39;00m\n\u001b[0;32m--> 476\u001b[0m     \u001b[38;5;28;01mreturn\u001b[39;00m \u001b[38;5;28;43mcls\u001b[39;49m\u001b[38;5;241;43m.\u001b[39;49m\u001b[43m_readfrom\u001b[49m\u001b[43m(\u001b[49m\n\u001b[1;32m    477\u001b[0m \u001b[43m        \u001b[49m\u001b[43mfileobj\u001b[49m\u001b[38;5;241;43m=\u001b[39;49m\u001b[43mfileobj\u001b[49m\u001b[43m,\u001b[49m\n\u001b[1;32m    478\u001b[0m \u001b[43m        \u001b[49m\u001b[43mmode\u001b[49m\u001b[38;5;241;43m=\u001b[39;49m\u001b[43mmode\u001b[49m\u001b[43m,\u001b[49m\n\u001b[1;32m    479\u001b[0m \u001b[43m        \u001b[49m\u001b[43mmemmap\u001b[49m\u001b[38;5;241;43m=\u001b[39;49m\u001b[43mmemmap\u001b[49m\u001b[43m,\u001b[49m\n\u001b[1;32m    480\u001b[0m \u001b[43m        \u001b[49m\u001b[43msave_backup\u001b[49m\u001b[38;5;241;43m=\u001b[39;49m\u001b[43msave_backup\u001b[49m\u001b[43m,\u001b[49m\n\u001b[1;32m    481\u001b[0m \u001b[43m        \u001b[49m\u001b[43mcache\u001b[49m\u001b[38;5;241;43m=\u001b[39;49m\u001b[43mcache\u001b[49m\u001b[43m,\u001b[49m\n\u001b[1;32m    482\u001b[0m \u001b[43m        \u001b[49m\u001b[43mignore_missing_simple\u001b[49m\u001b[38;5;241;43m=\u001b[39;49m\u001b[43mignore_missing_simple\u001b[49m\u001b[43m,\u001b[49m\n\u001b[1;32m    483\u001b[0m \u001b[43m        \u001b[49m\u001b[43mlazy_load_hdus\u001b[49m\u001b[38;5;241;43m=\u001b[39;49m\u001b[43mlazy_load_hdus\u001b[49m\u001b[43m,\u001b[49m\n\u001b[1;32m    484\u001b[0m \u001b[43m        \u001b[49m\u001b[38;5;241;43m*\u001b[39;49m\u001b[38;5;241;43m*\u001b[39;49m\u001b[43mkwargs\u001b[49m\u001b[43m,\u001b[49m\n\u001b[1;32m    485\u001b[0m \u001b[43m    \u001b[49m\u001b[43m)\u001b[49m\n",
      "File \u001b[0;32m~/mambaforge/envs/gphoton2/lib/python3.10/site-packages/astropy/io/fits/hdu/hdulist.py:1146\u001b[0m, in \u001b[0;36mHDUList._readfrom\u001b[0;34m(cls, fileobj, data, mode, memmap, cache, lazy_load_hdus, ignore_missing_simple, use_fsspec, fsspec_kwargs, **kwargs)\u001b[0m\n\u001b[1;32m   1143\u001b[0m \u001b[38;5;28;01mif\u001b[39;00m fileobj \u001b[38;5;129;01mis\u001b[39;00m \u001b[38;5;129;01mnot\u001b[39;00m \u001b[38;5;28;01mNone\u001b[39;00m:\n\u001b[1;32m   1144\u001b[0m     \u001b[38;5;28;01mif\u001b[39;00m \u001b[38;5;129;01mnot\u001b[39;00m \u001b[38;5;28misinstance\u001b[39m(fileobj, _File):\n\u001b[1;32m   1145\u001b[0m         \u001b[38;5;66;03m# instantiate a FITS file object (ffo)\u001b[39;00m\n\u001b[0;32m-> 1146\u001b[0m         fileobj \u001b[38;5;241m=\u001b[39m \u001b[43m_File\u001b[49m\u001b[43m(\u001b[49m\n\u001b[1;32m   1147\u001b[0m \u001b[43m            \u001b[49m\u001b[43mfileobj\u001b[49m\u001b[43m,\u001b[49m\n\u001b[1;32m   1148\u001b[0m \u001b[43m            \u001b[49m\u001b[43mmode\u001b[49m\u001b[38;5;241;43m=\u001b[39;49m\u001b[43mmode\u001b[49m\u001b[43m,\u001b[49m\n\u001b[1;32m   1149\u001b[0m \u001b[43m            \u001b[49m\u001b[43mmemmap\u001b[49m\u001b[38;5;241;43m=\u001b[39;49m\u001b[43mmemmap\u001b[49m\u001b[43m,\u001b[49m\n\u001b[1;32m   1150\u001b[0m \u001b[43m            \u001b[49m\u001b[43mcache\u001b[49m\u001b[38;5;241;43m=\u001b[39;49m\u001b[43mcache\u001b[49m\u001b[43m,\u001b[49m\n\u001b[1;32m   1151\u001b[0m \u001b[43m            \u001b[49m\u001b[43muse_fsspec\u001b[49m\u001b[38;5;241;43m=\u001b[39;49m\u001b[43muse_fsspec\u001b[49m\u001b[43m,\u001b[49m\n\u001b[1;32m   1152\u001b[0m \u001b[43m            \u001b[49m\u001b[43mfsspec_kwargs\u001b[49m\u001b[38;5;241;43m=\u001b[39;49m\u001b[43mfsspec_kwargs\u001b[49m\u001b[43m,\u001b[49m\n\u001b[1;32m   1153\u001b[0m \u001b[43m        \u001b[49m\u001b[43m)\u001b[49m\n\u001b[1;32m   1154\u001b[0m     \u001b[38;5;66;03m# The Astropy mode is determined by the _File initializer if the\u001b[39;00m\n\u001b[1;32m   1155\u001b[0m     \u001b[38;5;66;03m# supplied mode was None\u001b[39;00m\n\u001b[1;32m   1156\u001b[0m     mode \u001b[38;5;241m=\u001b[39m fileobj\u001b[38;5;241m.\u001b[39mmode\n",
      "File \u001b[0;32m~/mambaforge/envs/gphoton2/lib/python3.10/site-packages/astropy/io/fits/file.py:217\u001b[0m, in \u001b[0;36m_File.__init__\u001b[0;34m(self, fileobj, mode, memmap, overwrite, cache, use_fsspec, fsspec_kwargs)\u001b[0m\n\u001b[1;32m    215\u001b[0m     \u001b[38;5;28mself\u001b[39m\u001b[38;5;241m.\u001b[39m_open_fileobj(fileobj, mode, overwrite)\n\u001b[1;32m    216\u001b[0m \u001b[38;5;28;01melif\u001b[39;00m \u001b[38;5;28misinstance\u001b[39m(fileobj, (\u001b[38;5;28mstr\u001b[39m, \u001b[38;5;28mbytes\u001b[39m)):\n\u001b[0;32m--> 217\u001b[0m     \u001b[38;5;28;43mself\u001b[39;49m\u001b[38;5;241;43m.\u001b[39;49m\u001b[43m_open_filename\u001b[49m\u001b[43m(\u001b[49m\u001b[43mfileobj\u001b[49m\u001b[43m,\u001b[49m\u001b[43m \u001b[49m\u001b[43mmode\u001b[49m\u001b[43m,\u001b[49m\u001b[43m \u001b[49m\u001b[43moverwrite\u001b[49m\u001b[43m)\u001b[49m\n\u001b[1;32m    218\u001b[0m \u001b[38;5;28;01melse\u001b[39;00m:\n\u001b[1;32m    219\u001b[0m     \u001b[38;5;28mself\u001b[39m\u001b[38;5;241m.\u001b[39m_open_filelike(fileobj, mode, overwrite)\n",
      "File \u001b[0;32m~/mambaforge/envs/gphoton2/lib/python3.10/site-packages/astropy/io/fits/file.py:626\u001b[0m, in \u001b[0;36m_File._open_filename\u001b[0;34m(self, filename, mode, overwrite)\u001b[0m\n\u001b[1;32m    623\u001b[0m ext \u001b[38;5;241m=\u001b[39m os\u001b[38;5;241m.\u001b[39mpath\u001b[38;5;241m.\u001b[39msplitext(\u001b[38;5;28mself\u001b[39m\u001b[38;5;241m.\u001b[39mname)[\u001b[38;5;241m1\u001b[39m]\n\u001b[1;32m    625\u001b[0m \u001b[38;5;28;01mif\u001b[39;00m \u001b[38;5;129;01mnot\u001b[39;00m \u001b[38;5;28mself\u001b[39m\u001b[38;5;241m.\u001b[39m_try_read_compressed(\u001b[38;5;28mself\u001b[39m\u001b[38;5;241m.\u001b[39mname, magic, mode, ext\u001b[38;5;241m=\u001b[39mext):\n\u001b[0;32m--> 626\u001b[0m     \u001b[38;5;28mself\u001b[39m\u001b[38;5;241m.\u001b[39m_file \u001b[38;5;241m=\u001b[39m \u001b[38;5;28;43mopen\u001b[39;49m\u001b[43m(\u001b[49m\u001b[38;5;28;43mself\u001b[39;49m\u001b[38;5;241;43m.\u001b[39;49m\u001b[43mname\u001b[49m\u001b[43m,\u001b[49m\u001b[43m \u001b[49m\u001b[43mIO_FITS_MODES\u001b[49m\u001b[43m[\u001b[49m\u001b[43mmode\u001b[49m\u001b[43m]\u001b[49m\u001b[43m)\u001b[49m\n\u001b[1;32m    627\u001b[0m     \u001b[38;5;28mself\u001b[39m\u001b[38;5;241m.\u001b[39mclose_on_error \u001b[38;5;241m=\u001b[39m \u001b[38;5;28;01mTrue\u001b[39;00m\n\u001b[1;32m    629\u001b[0m \u001b[38;5;66;03m# Make certain we're back at the beginning of the file\u001b[39;00m\n\u001b[1;32m    630\u001b[0m \u001b[38;5;66;03m# BZ2File does not support seek when the file is open for writing, but\u001b[39;00m\n\u001b[1;32m    631\u001b[0m \u001b[38;5;66;03m# when opening a file for write, bz2.BZ2File always truncates anyway.\u001b[39;00m\n",
      "\u001b[0;31mFileNotFoundError\u001b[0m: [Errno 2] No such file or directory: '/media/bekah/BekahA/backplane_widths/e23068/e23068-nd-b00-f0025-t00250-g_dose.fits.gz'"
     ]
    }
   ],
   "source": [
    "dlist = [('23068', '25', '25'), ('23068', '50', '50'),\n",
    "            ('23068', '75', '75'), ('23068', '00', '0'), \n",
    "           ('23258', '25', '25'), ('23258', '50', '50'),\n",
    "            ('23258', '75', '75'), ('23258', '00', '0'),\n",
    "        ('23328','25', '25'),('23328','50', '50'),\n",
    "        ('23334','00','0'), ('23334','25','25')]\n",
    "\n",
    "cresults = all_data(dlist)\n",
    "\n",
    "df = pd.concat(cresults, axis=0)\n",
    "df.to_csv('/home/bekah/glcat/fuv_offset/streak_widths.csv', index=False)  "
   ]
  },
  {
   "cell_type": "code",
   "execution_count": null,
   "id": "d7dd46a9",
   "metadata": {},
   "outputs": [],
   "source": [
    "length = len(results)\n",
    "norm = [abs((c-9)/9) for c in range(20)]\n",
    "\n",
    "length = len(results)\n",
    "for x in range(length): \n",
    "    plt.scatter(norm,results['crosscut'].iloc[x])\n",
    "    \n",
    "length = len(results1)\n",
    "for x in range(length): \n",
    "    plt.scatter(norm,results1['crosscut'].iloc[x])\n",
    "    \n",
    "length = len(results2)\n",
    "for x in range(length): \n",
    "    plt.scatter(norm,results2['crosscut'].iloc[x])\n",
    "    \n"
   ]
  },
  {
   "cell_type": "code",
   "execution_count": null,
   "id": "17a04ed7",
   "metadata": {},
   "outputs": [],
   "source": [
    "results"
   ]
  },
  {
   "cell_type": "code",
   "execution_count": null,
   "id": "00a81e72",
   "metadata": {},
   "outputs": [],
   "source": [
    "plt.hist(results['fwhm'])"
   ]
  },
  {
   "cell_type": "code",
   "execution_count": null,
   "id": "b09f7efd",
   "metadata": {},
   "outputs": [],
   "source": [
    "norm = [abs((c-9)/9) for c in range(20)]\n",
    "\n",
    "plt.scatter(norm,results['crosscut'].iloc[128])"
   ]
  },
  {
   "cell_type": "code",
   "execution_count": null,
   "id": "671ddf7e",
   "metadata": {},
   "outputs": [],
   "source": [
    "length = len(results2)\n",
    "for x in range(length): \n",
    "    rmax = [max(results2['crosscut'].iloc[x])]*20\n",
    "    plt.scatter(rmax, np.array(norm)*np.array(results2['crosscut'].iloc[x]))\n",
    "    "
   ]
  },
  {
   "cell_type": "code",
   "execution_count": null,
   "id": "e44fb13a",
   "metadata": {},
   "outputs": [],
   "source": [
    "type(norm)"
   ]
  },
  {
   "cell_type": "code",
   "execution_count": null,
   "id": "0e6614f2",
   "metadata": {},
   "outputs": [],
   "source": [
    "len(np.array(norm)*np.array(results2['crosscut'].iloc[x]))"
   ]
  },
  {
   "cell_type": "code",
   "execution_count": null,
   "id": "0eb70c17",
   "metadata": {},
   "outputs": [],
   "source": [
    "length = len(results2)\n",
    "for x in range(length): \n",
    "    rmax = max(results2['crosscut'].iloc[x])\n",
    "    rsum = sum(results2['crosscut'].iloc[x])-rmax\n",
    "    plt.scatter(rmax, rsum)\n",
    "    plt.xlabel(\"maximum pixel value\")\n",
    "    plt.ylabel(\"sum of pixel values minus maximum\")"
   ]
  },
  {
   "cell_type": "code",
   "execution_count": null,
   "id": "4b1239cf",
   "metadata": {},
   "outputs": [],
   "source": [
    "\n",
    "length = len(results)\n",
    "for x in range(length): \n",
    "    rmax = max(results['crosscut'].iloc[x])\n",
    "    rsum = sum(results['crosscut'].iloc[x])-rmax\n",
    "    plt.scatter(rmax, rsum, s=1)\n",
    "    \n",
    "length = len(results1)\n",
    "for x in range(length): \n",
    "    rmax = max(results1['crosscut'].iloc[x])\n",
    "    rsum = sum(results1['crosscut'].iloc[x])-rmax\n",
    "    plt.scatter(rmax, rsum, s=1)\n",
    "length = len(results2)\n",
    "for x in range(length): \n",
    "    rmax = max(results2['crosscut'].iloc[x])\n",
    "    rsum = sum(results2['crosscut'].iloc[x])-rmax\n",
    "    plt.scatter(rmax, rsum, s=1)\n",
    "    \n",
    "    plt.xlabel(\"maximum pixel value\")\n",
    "    plt.ylabel(\"sum of pixel values minus maximum\")\n"
   ]
  },
  {
   "cell_type": "code",
   "execution_count": null,
   "id": "fdac2833",
   "metadata": {},
   "outputs": [],
   "source": [
    "plt.scatter(df['maxy'],df['rsum'], s=1)\n",
    "plt.xlim(0,40)\n",
    "plt.ylim(0,125)\n",
    "plt.xlabel(\"maximum pixel value\")\n",
    "plt.ylabel(\"sum of pixel values minus maximum\")\n",
    "plt.title(\"cross cut star path in dose maps\")"
   ]
  },
  {
   "cell_type": "code",
   "execution_count": null,
   "id": "64428c00",
   "metadata": {},
   "outputs": [],
   "source": [
    "plt.scatter(df['maxy'],df['rmean'], s=1)\n",
    "plt.xlim(0,40)\n",
    "plt.ylim(0,8)\n",
    "plt.xlabel(\"maximum pixel value\")\n",
    "plt.ylabel(\"mean of pixel values\")\n",
    "plt.title(\"cross cut star path in dose maps\")"
   ]
  },
  {
   "cell_type": "code",
   "execution_count": null,
   "id": "c4412d52",
   "metadata": {},
   "outputs": [],
   "source": [
    "plt.scatter(df['maxy'],df['rstd'], s=1)\n",
    "plt.xlim(0,40)\n",
    "plt.ylim(0,8)\n",
    "plt.xlabel(\"maximum pixel value\")\n",
    "plt.ylabel(\"std\")\n",
    "plt.title(\"cross cut star path in dose maps\")"
   ]
  },
  {
   "cell_type": "code",
   "execution_count": null,
   "id": "8ebec2a6",
   "metadata": {},
   "outputs": [],
   "source": [
    "plt.scatter(df['numg0'],df['maxy'], s=1)\n",
    "plt.xlim(0,20)\n",
    "plt.ylim(0,50)\n",
    "plt.xlabel(\"maximum pixel value\")\n",
    "plt.ylabel(\"num > 0\")\n",
    "plt.title(\"cross cut star path in dose maps\")"
   ]
  },
  {
   "cell_type": "code",
   "execution_count": null,
   "id": "e6c40c48",
   "metadata": {},
   "outputs": [],
   "source": [
    "from scipy.stats import kde\n",
    "\n",
    "x = df['maxy']\n",
    "y = df['width']\n",
    "# Evaluate a gaussian kde on a regular grid of nbins x nbins over data extents\n",
    "nbins=600\n",
    "k = kde.gaussian_kde([x,y])\n",
    "xi, yi = np.mgrid[x.min():x.max():nbins*1j, y.min():y.max():nbins*1j]\n",
    "zi = k(np.vstack([xi.flatten(), yi.flatten()]))\n",
    " \n",
    "# Make the plot\n",
    "plt.pcolormesh(xi, yi, zi.reshape(xi.shape), shading='auto')\n",
    "plt.show()"
   ]
  },
  {
   "cell_type": "code",
   "execution_count": null,
   "id": "5c13deae",
   "metadata": {},
   "outputs": [],
   "source": [
    "plt.hist2d(x, y, bins=(20, 20), cmap=plt.cm.Greys)\n",
    "plt.colorbar()"
   ]
  },
  {
   "cell_type": "code",
   "execution_count": null,
   "id": "54fec482",
   "metadata": {},
   "outputs": [],
   "source": [
    "df"
   ]
  },
  {
   "cell_type": "code",
   "execution_count": null,
   "id": "8569cf17",
   "metadata": {},
   "outputs": [],
   "source": [
    "plt.scatter(range(20),df['crosscut'].iloc[81])"
   ]
  },
  {
   "cell_type": "code",
   "execution_count": null,
   "id": "01c3df3d",
   "metadata": {},
   "outputs": [],
   "source": [
    "\n",
    "popt, _ = curve_fit(gaussian, range(20), df['crosscut'].iloc[81], p0=[1, 0, 1])\n",
    "\n",
    "# Calculate the FWHM from the fitted parameters\n",
    "fwhm = 2 * np.sqrt(2 * np.log(2)) * popt[2]"
   ]
  },
  {
   "cell_type": "code",
   "execution_count": null,
   "id": "7e3fe297",
   "metadata": {},
   "outputs": [],
   "source": [
    "fwhm"
   ]
  },
  {
   "cell_type": "code",
   "execution_count": null,
   "id": "e3d07754",
   "metadata": {},
   "outputs": [],
   "source": [
    "plt.scatter(range(20),df['crosscut'].iloc[81])"
   ]
  },
  {
   "cell_type": "code",
   "execution_count": null,
   "id": "3b3245e8",
   "metadata": {},
   "outputs": [],
   "source": [
    "15-7"
   ]
  },
  {
   "cell_type": "code",
   "execution_count": null,
   "id": "5c227c7a",
   "metadata": {},
   "outputs": [],
   "source": [
    "plt.scatter(df['maxy'],df['width'], s=1)\n",
    "plt.xlim(0,45)\n",
    "plt.ylim(0,50)\n",
    "plt.plot(range(45),y)\n",
    "plt.xlabel(\"maximum pixel value\")\n",
    "plt.ylabel(\"width\")\n",
    "plt.title(\"cross cut star path in dose maps\")"
   ]
  },
  {
   "cell_type": "code",
   "execution_count": null,
   "id": "a2f69915",
   "metadata": {},
   "outputs": [],
   "source": [
    "# Bin max y values into ranges of 5\n",
    "bins = np.arange(0, df['maxy'].max() + 3, 2)\n",
    "df['max_y_bin'] = pd.cut(df['maxy'], bins=bins, labels=False, right=False)\n",
    "\n",
    "# Create histograms of width values for each bin of max y values\n",
    "plt.figure(figsize=(10, 6))\n",
    "for bin_idx, group in df.groupby('max_y_bin'):\n",
    "    plt.hist(group['width'], bins=10, alpha=0.5, label=f'Bin {bin_idx}')\n",
    "\n",
    "plt.xlabel('Width')\n",
    "plt.ylabel('Frequency')\n",
    "plt.title('Histograms of Width Values for Max Y Bins')\n",
    "plt.legend(title='Max Y Bin')\n",
    "plt.grid(True)"
   ]
  },
  {
   "cell_type": "code",
   "execution_count": null,
   "id": "066fee68",
   "metadata": {},
   "outputs": [],
   "source": [
    "# Bin max y values into ranges of 5\n",
    "bins = np.arange(0, df['maxy'].max() + 3, 2)\n",
    "df['max_y_bin'] = pd.cut(df['maxy'], bins=bins, labels=False, right=False)\n",
    "\n",
    "# Create separate plots for each group and include the number of data points\n",
    "for bin_idx, group in df.groupby('max_y_bin'):\n",
    "    bin_range = f'{bins[bin_idx]}-{bins[bin_idx+1]-1}' if bin_idx < len(bins)-1 else f'{bins[bin_idx]}+'\n",
    "    plt.figure(figsize=(8, 6))\n",
    "    plt.hist(group['width'], bins=10, alpha=0.5)\n",
    "    plt.xlabel('Width')\n",
    "    plt.ylabel('Frequency')\n",
    "    plt.title(f'Histogram of Width Values for Max Y Range {bin_range} (n={len(group)})')\n",
    "    plt.grid(True)\n",
    "    plt.show()"
   ]
  },
  {
   "cell_type": "code",
   "execution_count": null,
   "id": "96202123",
   "metadata": {},
   "outputs": [],
   "source": [
    "bins = np.arange(0, df['maxy'].max() + 3, 2)\n",
    "df['max_y_bin'] = pd.cut(df['maxy'], bins=bins, labels=False, right=False)\n",
    "\n",
    "# Create a single figure with subplots for each group\n",
    "num_bins = len(df['max_y_bin'].unique())\n",
    "fig, axes = plt.subplots(nrows=1, ncols=num_bins, figsize=(15, 6), sharey=True)\n",
    "\n",
    "# Create separate plots for each group and include the number of data points\n",
    "for bin_idx, (group_idx, group) in enumerate(df.groupby('max_y_bin')):\n",
    "    bin_range = f'{bins[group_idx]}-{bins[group_idx+1]-1}' if group_idx < len(bins)-1 else f'{bins[group_idx]}+'\n",
    "    axes[bin_idx].hist(group['width'], bins=10, alpha=0.5)\n",
    "    axes[bin_idx].set_title(f'Max Y Range {bin_range} (n={len(group)})')\n",
    "    axes[bin_idx].set_xlabel('Width')\n",
    "\n",
    "axes[0].set_ylabel('Frequency')\n",
    "plt.tight_layout()\n",
    "plt.show()"
   ]
  },
  {
   "cell_type": "code",
   "execution_count": null,
   "id": "d91d8cba",
   "metadata": {},
   "outputs": [],
   "source": [
    "# Bin max y values into ranges of 2\n",
    "bins = np.arange(0, df['maxy'].max() + 3, 2)\n",
    "df['max_y_bin'] = pd.cut(df['maxy'], bins=bins, labels=False, right=False)\n",
    "\n",
    "# Create a single figure with subplots for each group\n",
    "num_bins = len(df['max_y_bin'].unique())\n",
    "fig, axes = plt.subplots(nrows=1, ncols=num_bins, figsize=(5*num_bins, 5), sharey=True)\n",
    "\n",
    "# Create separate plots for each group and include the number of data points\n",
    "for bin_idx, (group_idx, group) in enumerate(df.groupby('max_y_bin')):\n",
    "    bin_range = f'{bins[group_idx]}-{bins[group_idx+1]-1}' if group_idx < len(bins)-1 else f'{bins[group_idx]}+'\n",
    "    axes[bin_idx].hist(group['width'], bins=10, alpha=0.5)\n",
    "    axes[bin_idx].set_title(f'Max Y Range {bin_range} (n={len(group)})')\n",
    "    axes[bin_idx].set_xlabel('Width')\n",
    "\n",
    "axes[0].set_ylabel('Frequency')\n",
    "plt.tight_layout()\n",
    "plt.show()"
   ]
  },
  {
   "cell_type": "code",
   "execution_count": null,
   "id": "f44c1269",
   "metadata": {},
   "outputs": [],
   "source": [
    "bins = np.arange(0, df['maxy'].max() + 3, 2)\n",
    "df['max_y_bin'] = pd.cut(df['maxy'], bins=bins, labels=False, right=False)\n",
    "\n",
    "# Calculate number of rows needed for subplots\n",
    "num_bins = len(df['max_y_bin'].unique())\n",
    "num_rows = (num_bins + 1) // 2\n",
    "\n",
    "# Create a single figure with subplots for each group\n",
    "fig, axes = plt.subplots(nrows=num_rows, ncols=2, figsize=(10, 5 * num_rows), sharey=True)\n",
    "\n",
    "# Create separate plots for each group and include the number of data points\n",
    "for bin_idx, (group_idx, group) in enumerate(df.groupby('max_y_bin')):\n",
    "    row_idx = bin_idx // 2\n",
    "    col_idx = bin_idx % 2\n",
    "    bin_range = f'{bins[group_idx]}-{bins[group_idx+1]-1}' if group_idx < len(bins)-1 else f'{bins[group_idx]}+'\n",
    "    axes[row_idx, col_idx].hist(group['width'], bins=10, alpha=0.5)\n",
    "    axes[row_idx, col_idx].set_title(f'Max Y Range {bin_range} (n={len(group)})')\n",
    "    axes[row_idx, col_idx].set_xlabel('Width')\n",
    "\n",
    "for ax in axes.flat:\n",
    "    ax.set_ylabel('Frequency')\n",
    "\n",
    "plt.tight_layout()\n",
    "plt.show()"
   ]
  },
  {
   "cell_type": "code",
   "execution_count": null,
   "id": "d8b44be0",
   "metadata": {},
   "outputs": [],
   "source": [
    "# Bin max y values into ranges of 2\n",
    "bins = np.arange(0, df['maxy'].max() + 3, 2)\n",
    "df['max_y_bin'] = pd.cut(df['maxy'], bins=bins, labels=False, right=False)\n",
    "\n",
    "# Calculate number of rows needed for subplots\n",
    "num_bins = len(df['max_y_bin'].unique())\n",
    "num_rows = (num_bins + 1) // 2\n",
    "\n",
    "# Create a single figure with subplots for each group\n",
    "fig, axes = plt.subplots(nrows=num_rows, ncols=2, figsize=(10, 5 * num_rows))\n",
    "\n",
    "# Create separate plots for each group and include the number of data points\n",
    "for bin_idx, (group_idx, group) in enumerate(df.groupby('max_y_bin')):\n",
    "    row_idx = bin_idx // 2\n",
    "    col_idx = bin_idx % 2\n",
    "    bin_range = f'{bins[group_idx]}-{bins[group_idx+1]-1}' if group_idx < len(bins)-1 else f'{bins[group_idx]}+'\n",
    "    axes[row_idx, col_idx].hist(group['width'], bins=10, alpha=0.5)\n",
    "    axes[row_idx, col_idx].set_title(f'Max Y Range {bin_range} (n={len(group)})')\n",
    "    axes[row_idx, col_idx].set_xlabel('Width')\n",
    "    axes[row_idx, col_idx].set_ylabel('Frequency')\n",
    "\n",
    "plt.tight_layout()\n",
    "plt.show()"
   ]
  },
  {
   "cell_type": "code",
   "execution_count": null,
   "id": "b1c37f10",
   "metadata": {},
   "outputs": [],
   "source": [
    "# Bin max y values into ranges of 2\n",
    "bins = np.arange(0, df['rsum'].max() + 6, 5)\n",
    "df['max_y_bin'] = pd.cut(df['rsum'], bins=bins, labels=False, right=False)\n",
    "\n",
    "# Calculate number of rows needed for subplots\n",
    "num_bins = len(df['max_y_bin'].unique())\n",
    "num_rows = (num_bins + 3) // 4  # 4 plots per row\n",
    "\n",
    "# Create a single figure with subplots for each group\n",
    "fig, axes = plt.subplots(nrows=num_rows, ncols=4, figsize=(20, 5 * num_rows))\n",
    "\n",
    "# Create separate plots for each group and include the number of data points\n",
    "for bin_idx, (group_idx, group) in enumerate(df.groupby('max_y_bin')):\n",
    "    row_idx = bin_idx // 4\n",
    "    col_idx = bin_idx % 4\n",
    "    bin_range = f'{bins[group_idx]}-{bins[group_idx+1]-1}' if group_idx < len(bins)-1 else f'{bins[group_idx]}+'\n",
    "    axes[row_idx, col_idx].hist(group['width'], bins=10, alpha=0.5)\n",
    "    axes[row_idx, col_idx].set_title(f'Max Y Range {bin_range} (n={len(group)})')\n",
    "    axes[row_idx, col_idx].set_xlabel('Width')\n",
    "    axes[row_idx, col_idx].set_ylabel('Frequency')\n",
    "\n",
    "# Hide empty subplots\n",
    "for i in range(num_bins, num_rows * 4):\n",
    "    row_idx = i // 4\n",
    "    col_idx = i % 4\n",
    "    axes[row_idx, col_idx].axis('off')\n",
    "\n",
    "plt.tight_layout()\n",
    "plt.show()"
   ]
  },
  {
   "cell_type": "code",
   "execution_count": null,
   "id": "31872efe",
   "metadata": {},
   "outputs": [],
   "source": [
    "# Bin max y values into ranges of 2\n",
    "bins = np.arange(0, df['maxy'].max() + 6, 5)\n",
    "df['max_y_bin'] = pd.cut(df['maxy'], bins=bins, labels=False, right=False)\n",
    "\n",
    "# Calculate number of rows needed for subplots\n",
    "num_bins = len(df['max_y_bin'].unique())\n",
    "num_rows = (num_bins + 3) // 4  # 4 plots per row\n",
    "\n",
    "# Create a single figure with subplots for each group\n",
    "fig, axes = plt.subplots(nrows=num_rows, ncols=4, figsize=(20, 5 * num_rows))\n",
    "\n",
    "# Create separate plots for each group and include the number of data points\n",
    "for bin_idx, (group_idx, group) in enumerate(df.groupby('max_y_bin')):\n",
    "    row_idx = bin_idx // 4\n",
    "    col_idx = bin_idx % 4\n",
    "    bin_range = f'{bins[group_idx]}-{bins[group_idx+1]-1}' if group_idx < len(bins)-1 else f'{bins[group_idx]}+'\n",
    "    axes[row_idx, col_idx].hist(group['numge1'], bins=10, alpha=0.5)\n",
    "    axes[row_idx, col_idx].set_title(f'Max Y Range {bin_range} (n={len(group)})')\n",
    "    axes[row_idx, col_idx].set_xlabel('numge1')\n",
    "    axes[row_idx, col_idx].set_ylabel('Frequency')\n",
    "    axes[row_idx, col_idx].set_xlim(0, df['numge1'].max())  # Set x-axis limit\n",
    "\n",
    "# Hide empty subplots\n",
    "for i in range(num_bins, num_rows * 4):\n",
    "    row_idx = i // 4\n",
    "    col_idx = i % 4\n",
    "    axes[row_idx, col_idx].axis('off')\n",
    "\n",
    "plt.tight_layout()\n",
    "plt.show()"
   ]
  },
  {
   "cell_type": "code",
   "execution_count": null,
   "id": "d25fb6d5",
   "metadata": {},
   "outputs": [],
   "source": [
    "np.mean(df['width'])"
   ]
  },
  {
   "cell_type": "code",
   "execution_count": null,
   "id": "e0190934",
   "metadata": {},
   "outputs": [],
   "source": [
    "np.std(df['width'])"
   ]
  },
  {
   "cell_type": "code",
   "execution_count": 5,
   "id": "6a9008d3",
   "metadata": {},
   "outputs": [
    {
     "data": {
      "text/html": [
       "<div>\n",
       "<style scoped>\n",
       "    .dataframe tbody tr th:only-of-type {\n",
       "        vertical-align: middle;\n",
       "    }\n",
       "\n",
       "    .dataframe tbody tr th {\n",
       "        vertical-align: top;\n",
       "    }\n",
       "\n",
       "    .dataframe thead th {\n",
       "        text-align: right;\n",
       "    }\n",
       "</style>\n",
       "<table border=\"1\" class=\"dataframe\">\n",
       "  <thead>\n",
       "    <tr style=\"text-align: right;\">\n",
       "      <th></th>\n",
       "      <th>star</th>\n",
       "      <th>x_val</th>\n",
       "      <th>fwhm</th>\n",
       "      <th>maxy</th>\n",
       "      <th>maxy2</th>\n",
       "      <th>crosscut</th>\n",
       "      <th>rsum</th>\n",
       "      <th>rmean</th>\n",
       "      <th>rstd</th>\n",
       "      <th>numg0</th>\n",
       "      <th>numge1</th>\n",
       "      <th>width</th>\n",
       "      <th>first_index</th>\n",
       "      <th>last_index</th>\n",
       "      <th>eclipse</th>\n",
       "      <th>time</th>\n",
       "    </tr>\n",
       "  </thead>\n",
       "  <tbody>\n",
       "    <tr>\n",
       "      <th>0</th>\n",
       "      <td>0</td>\n",
       "      <td>11</td>\n",
       "      <td>2.35482</td>\n",
       "      <td>1.0</td>\n",
       "      <td>1.0</td>\n",
       "      <td>[0.0, 0.0, 0.0, 0.0, 0.0, 0.0, 0.0, 1.0, 0.0, ...</td>\n",
       "      <td>1.0</td>\n",
       "      <td>0.10</td>\n",
       "      <td>0.300000</td>\n",
       "      <td>0</td>\n",
       "      <td>2</td>\n",
       "      <td>2</td>\n",
       "      <td>7.0</td>\n",
       "      <td>9.0</td>\n",
       "      <td>23068</td>\n",
       "      <td>25</td>\n",
       "    </tr>\n",
       "    <tr>\n",
       "      <th>1</th>\n",
       "      <td>0</td>\n",
       "      <td>12</td>\n",
       "      <td>2.35482</td>\n",
       "      <td>2.0</td>\n",
       "      <td>1.0</td>\n",
       "      <td>[0.0, 0.0, 0.0, 0.0, 0.0, 1.0, 0.0, 0.0, 2.0, ...</td>\n",
       "      <td>1.0</td>\n",
       "      <td>0.15</td>\n",
       "      <td>0.476970</td>\n",
       "      <td>1</td>\n",
       "      <td>2</td>\n",
       "      <td>3</td>\n",
       "      <td>5.0</td>\n",
       "      <td>8.0</td>\n",
       "      <td>23068</td>\n",
       "      <td>25</td>\n",
       "    </tr>\n",
       "    <tr>\n",
       "      <th>2</th>\n",
       "      <td>0</td>\n",
       "      <td>13</td>\n",
       "      <td>2.35482</td>\n",
       "      <td>1.0</td>\n",
       "      <td>1.0</td>\n",
       "      <td>[0.0, 0.0, 0.0, 1.0, 0.0, 1.0, 0.0, 1.0, 0.0, ...</td>\n",
       "      <td>3.0</td>\n",
       "      <td>0.20</td>\n",
       "      <td>0.400000</td>\n",
       "      <td>0</td>\n",
       "      <td>4</td>\n",
       "      <td>6</td>\n",
       "      <td>3.0</td>\n",
       "      <td>9.0</td>\n",
       "      <td>23068</td>\n",
       "      <td>25</td>\n",
       "    </tr>\n",
       "    <tr>\n",
       "      <th>3</th>\n",
       "      <td>0</td>\n",
       "      <td>14</td>\n",
       "      <td>2.35482</td>\n",
       "      <td>4.0</td>\n",
       "      <td>2.0</td>\n",
       "      <td>[0.0, 0.0, 0.0, 0.0, 0.0, 0.0, 0.0, 0.0, 4.0, ...</td>\n",
       "      <td>2.0</td>\n",
       "      <td>0.30</td>\n",
       "      <td>0.953939</td>\n",
       "      <td>2</td>\n",
       "      <td>2</td>\n",
       "      <td>1</td>\n",
       "      <td>8.0</td>\n",
       "      <td>9.0</td>\n",
       "      <td>23068</td>\n",
       "      <td>25</td>\n",
       "    </tr>\n",
       "    <tr>\n",
       "      <th>4</th>\n",
       "      <td>0</td>\n",
       "      <td>15</td>\n",
       "      <td>2.35482</td>\n",
       "      <td>1.0</td>\n",
       "      <td>1.0</td>\n",
       "      <td>[0.0, 0.0, 0.0, 0.0, 1.0, 0.0, 0.0, 1.0, 0.0, ...</td>\n",
       "      <td>2.0</td>\n",
       "      <td>0.15</td>\n",
       "      <td>0.357071</td>\n",
       "      <td>0</td>\n",
       "      <td>3</td>\n",
       "      <td>5</td>\n",
       "      <td>4.0</td>\n",
       "      <td>9.0</td>\n",
       "      <td>23068</td>\n",
       "      <td>25</td>\n",
       "    </tr>\n",
       "    <tr>\n",
       "      <th>...</th>\n",
       "      <td>...</td>\n",
       "      <td>...</td>\n",
       "      <td>...</td>\n",
       "      <td>...</td>\n",
       "      <td>...</td>\n",
       "      <td>...</td>\n",
       "      <td>...</td>\n",
       "      <td>...</td>\n",
       "      <td>...</td>\n",
       "      <td>...</td>\n",
       "      <td>...</td>\n",
       "      <td>...</td>\n",
       "      <td>...</td>\n",
       "      <td>...</td>\n",
       "      <td>...</td>\n",
       "      <td>...</td>\n",
       "    </tr>\n",
       "    <tr>\n",
       "      <th>5</th>\n",
       "      <td>117</td>\n",
       "      <td>16</td>\n",
       "      <td>999.00000</td>\n",
       "      <td>1.0</td>\n",
       "      <td>0.0</td>\n",
       "      <td>[0.0, 0.0, 0.0, 0.0, 0.0, 0.0, 0.0, 0.0, 0.0, ...</td>\n",
       "      <td>0.0</td>\n",
       "      <td>0.05</td>\n",
       "      <td>0.217945</td>\n",
       "      <td>0</td>\n",
       "      <td>1</td>\n",
       "      <td>0</td>\n",
       "      <td>NaN</td>\n",
       "      <td>NaN</td>\n",
       "      <td>23334</td>\n",
       "      <td>25</td>\n",
       "    </tr>\n",
       "    <tr>\n",
       "      <th>6</th>\n",
       "      <td>117</td>\n",
       "      <td>17</td>\n",
       "      <td>2.35482</td>\n",
       "      <td>1.0</td>\n",
       "      <td>0.0</td>\n",
       "      <td>[0.0, 0.0, 0.0, 0.0, 0.0, 0.0, 0.0, 0.0, 0.0, ...</td>\n",
       "      <td>0.0</td>\n",
       "      <td>0.05</td>\n",
       "      <td>0.217945</td>\n",
       "      <td>0</td>\n",
       "      <td>1</td>\n",
       "      <td>0</td>\n",
       "      <td>12.0</td>\n",
       "      <td>12.0</td>\n",
       "      <td>23334</td>\n",
       "      <td>25</td>\n",
       "    </tr>\n",
       "    <tr>\n",
       "      <th>7</th>\n",
       "      <td>117</td>\n",
       "      <td>18</td>\n",
       "      <td>999.00000</td>\n",
       "      <td>1.0</td>\n",
       "      <td>0.0</td>\n",
       "      <td>[0.0, 0.0, 0.0, 0.0, 0.0, 0.0, 0.0, 0.0, 0.0, ...</td>\n",
       "      <td>0.0</td>\n",
       "      <td>0.05</td>\n",
       "      <td>0.217945</td>\n",
       "      <td>0</td>\n",
       "      <td>1</td>\n",
       "      <td>0</td>\n",
       "      <td>NaN</td>\n",
       "      <td>NaN</td>\n",
       "      <td>23334</td>\n",
       "      <td>25</td>\n",
       "    </tr>\n",
       "    <tr>\n",
       "      <th>8</th>\n",
       "      <td>117</td>\n",
       "      <td>19</td>\n",
       "      <td>2.35482</td>\n",
       "      <td>1.0</td>\n",
       "      <td>0.0</td>\n",
       "      <td>[0.0, 0.0, 0.0, 0.0, 0.0, 0.0, 0.0, 0.0, 0.0, ...</td>\n",
       "      <td>0.0</td>\n",
       "      <td>0.05</td>\n",
       "      <td>0.217945</td>\n",
       "      <td>0</td>\n",
       "      <td>1</td>\n",
       "      <td>0</td>\n",
       "      <td>9.0</td>\n",
       "      <td>9.0</td>\n",
       "      <td>23334</td>\n",
       "      <td>25</td>\n",
       "    </tr>\n",
       "    <tr>\n",
       "      <th>9</th>\n",
       "      <td>117</td>\n",
       "      <td>20</td>\n",
       "      <td>2.35482</td>\n",
       "      <td>1.0</td>\n",
       "      <td>1.0</td>\n",
       "      <td>[0.0, 0.0, 0.0, 0.0, 0.0, 0.0, 0.0, 1.0, 0.0, ...</td>\n",
       "      <td>2.0</td>\n",
       "      <td>0.15</td>\n",
       "      <td>0.357071</td>\n",
       "      <td>0</td>\n",
       "      <td>3</td>\n",
       "      <td>11</td>\n",
       "      <td>7.0</td>\n",
       "      <td>18.0</td>\n",
       "      <td>23334</td>\n",
       "      <td>25</td>\n",
       "    </tr>\n",
       "  </tbody>\n",
       "</table>\n",
       "<p>12800 rows × 16 columns</p>\n",
       "</div>"
      ],
      "text/plain": [
       "    star  x_val       fwhm  maxy  maxy2  \\\n",
       "0      0     11    2.35482   1.0    1.0   \n",
       "1      0     12    2.35482   2.0    1.0   \n",
       "2      0     13    2.35482   1.0    1.0   \n",
       "3      0     14    2.35482   4.0    2.0   \n",
       "4      0     15    2.35482   1.0    1.0   \n",
       "..   ...    ...        ...   ...    ...   \n",
       "5    117     16  999.00000   1.0    0.0   \n",
       "6    117     17    2.35482   1.0    0.0   \n",
       "7    117     18  999.00000   1.0    0.0   \n",
       "8    117     19    2.35482   1.0    0.0   \n",
       "9    117     20    2.35482   1.0    1.0   \n",
       "\n",
       "                                             crosscut  rsum  rmean      rstd  \\\n",
       "0   [0.0, 0.0, 0.0, 0.0, 0.0, 0.0, 0.0, 1.0, 0.0, ...   1.0   0.10  0.300000   \n",
       "1   [0.0, 0.0, 0.0, 0.0, 0.0, 1.0, 0.0, 0.0, 2.0, ...   1.0   0.15  0.476970   \n",
       "2   [0.0, 0.0, 0.0, 1.0, 0.0, 1.0, 0.0, 1.0, 0.0, ...   3.0   0.20  0.400000   \n",
       "3   [0.0, 0.0, 0.0, 0.0, 0.0, 0.0, 0.0, 0.0, 4.0, ...   2.0   0.30  0.953939   \n",
       "4   [0.0, 0.0, 0.0, 0.0, 1.0, 0.0, 0.0, 1.0, 0.0, ...   2.0   0.15  0.357071   \n",
       "..                                                ...   ...    ...       ...   \n",
       "5   [0.0, 0.0, 0.0, 0.0, 0.0, 0.0, 0.0, 0.0, 0.0, ...   0.0   0.05  0.217945   \n",
       "6   [0.0, 0.0, 0.0, 0.0, 0.0, 0.0, 0.0, 0.0, 0.0, ...   0.0   0.05  0.217945   \n",
       "7   [0.0, 0.0, 0.0, 0.0, 0.0, 0.0, 0.0, 0.0, 0.0, ...   0.0   0.05  0.217945   \n",
       "8   [0.0, 0.0, 0.0, 0.0, 0.0, 0.0, 0.0, 0.0, 0.0, ...   0.0   0.05  0.217945   \n",
       "9   [0.0, 0.0, 0.0, 0.0, 0.0, 0.0, 0.0, 1.0, 0.0, ...   2.0   0.15  0.357071   \n",
       "\n",
       "    numg0  numge1  width  first_index  last_index eclipse time  \n",
       "0       0       2      2          7.0         9.0   23068   25  \n",
       "1       1       2      3          5.0         8.0   23068   25  \n",
       "2       0       4      6          3.0         9.0   23068   25  \n",
       "3       2       2      1          8.0         9.0   23068   25  \n",
       "4       0       3      5          4.0         9.0   23068   25  \n",
       "..    ...     ...    ...          ...         ...     ...  ...  \n",
       "5       0       1      0          NaN         NaN   23334   25  \n",
       "6       0       1      0         12.0        12.0   23334   25  \n",
       "7       0       1      0          NaN         NaN   23334   25  \n",
       "8       0       1      0          9.0         9.0   23334   25  \n",
       "9       0       3     11          7.0        18.0   23334   25  \n",
       "\n",
       "[12800 rows x 16 columns]"
      ]
     },
     "execution_count": 5,
     "metadata": {},
     "output_type": "execute_result"
    }
   ],
   "source": [
    "df"
   ]
  },
  {
   "cell_type": "code",
   "execution_count": 7,
   "id": "28a6b25a",
   "metadata": {},
   "outputs": [
    {
     "data": {
      "text/plain": [
       "<matplotlib.collections.PathCollection at 0x7fe3f2eeedd0>"
      ]
     },
     "execution_count": 7,
     "metadata": {},
     "output_type": "execute_result"
    },
    {
     "data": {
      "image/png": "[encoded data removed]",
      "text/plain": [
       "<Figure size 640x480 with 1 Axes>"
      ]
     },
     "metadata": {},
     "output_type": "display_data"
    }
   ],
   "source": [
    "plt.scatter(df['time'],df['width'])"
   ]
  },
  {
   "cell_type": "code",
   "execution_count": 8,
   "id": "f4e2f41b",
   "metadata": {},
   "outputs": [
    {
     "data": {
      "text/plain": [
       "<Figure size 640x480 with 0 Axes>"
      ]
     },
     "metadata": {},
     "output_type": "display_data"
    },
    {
     "data": {
      "image/png": "[encoded data removed]",
      "text/plain": [
       "<Figure size 640x480 with 1 Axes>"
      ]
     },
     "metadata": {},
     "output_type": "display_data"
    },
    {
     "data": {
      "text/plain": [
       "<Figure size 640x480 with 0 Axes>"
      ]
     },
     "metadata": {},
     "output_type": "display_data"
    },
    {
     "data": {
      "image/png": "[encoded data removed]",
      "text/plain": [
       "<Figure size 640x480 with 1 Axes>"
      ]
     },
     "metadata": {},
     "output_type": "display_data"
    },
    {
     "data": {
      "text/plain": [
       "<Figure size 640x480 with 0 Axes>"
      ]
     },
     "metadata": {},
     "output_type": "display_data"
    },
    {
     "data": {
      "image/png": "[encoded data removed]",
      "text/plain": [
       "<Figure size 640x480 with 1 Axes>"
      ]
     },
     "metadata": {},
     "output_type": "display_data"
    },
    {
     "data": {
      "text/plain": [
       "<Figure size 640x480 with 0 Axes>"
      ]
     },
     "metadata": {},
     "output_type": "display_data"
    },
    {
     "data": {
      "image/png": "[encoded data removed]",
      "text/plain": [
       "<Figure size 640x480 with 1 Axes>"
      ]
     },
     "metadata": {},
     "output_type": "display_data"
    }
   ],
   "source": [
    "# Group DataFrame by 'time' column\n",
    "grouped = df.groupby('time')\n",
    "\n",
    "# Plot histograms for each group\n",
    "for time, group in grouped:\n",
    "    plt.figure()  # Create a new figure for each group\n",
    "    group.hist(column='width', bins=10)  # Plot histogram for 'width' column\n",
    "    plt.title(f'Histogram of Width for {time.capitalize()}')\n",
    "    plt.xlabel('Width')\n",
    "    plt.ylabel('Frequency')\n",
    "    plt.show()"
   ]
  },
  {
   "cell_type": "code",
   "execution_count": null,
   "id": "2c948f60",
   "metadata": {},
   "outputs": [],
   "source": []
  }
 ],
 "metadata": {
  "kernelspec": {
   "display_name": "Python 3 (ipykernel)",
   "language": "python",
   "name": "python3"
  },
  "language_info": {
   "codemirror_mode": {
    "name": "ipython",
    "version": 3
   },
   "file_extension": ".py",
   "mimetype": "text/x-python",
   "name": "python",
   "nbconvert_exporter": "python",
   "pygments_lexer": "ipython3",
   "version": "3.10.12"
  }
 },
 "nbformat": 4,
 "nbformat_minor": 5
}
