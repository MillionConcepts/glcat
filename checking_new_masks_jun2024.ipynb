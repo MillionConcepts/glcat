{
 "cells": [
  {
   "cell_type": "code",
   "execution_count": null,
   "id": "a1ff341c",
   "metadata": {},
   "outputs": [],
   "source": [
    "import boto3\n",
    "from astropy.io import fits\n",
    "from io import BytesIO\n",
    "import sys\n",
    "import pandas as pd \n",
    "import numpy as np \n",
    "import os\n",
    "import matplotlib.pyplot as plt\n",
    "sys.path.append('/home/bekah/gPhoton2')\n",
    "from gPhoton.coadd import zero_flag_and_edge"
   ]
  },
  {
   "cell_type": "code",
   "execution_count": null,
   "id": "552c6ec1",
   "metadata": {},
   "outputs": [],
   "source": [
    "existing_fuv = 'fuv_1000e.csv'\n",
    "fuv_objs = pd.read_csv(existing_fuv)\n",
    "fuv_objs = fuv_objs['eclipse'][0:330]"
   ]
  },
  {
   "cell_type": "code",
   "execution_count": null,
   "id": "09fa8ea1",
   "metadata": {},
   "outputs": [],
   "source": [
    "\n",
    "def download_and_mask_fits(key, ecl):\n",
    "    s3 = boto3.client('s3')\n",
    "    try:\n",
    "        response = s3.get_object(Bucket='backplanetest', Key=key)\n",
    "        fits_data = BytesIO(response['Body'].read())\n",
    "\n",
    "        with fits.open(fits_data) as hdul:\n",
    "            cnt = hdul[1].data\n",
    "            flag = hdul[2].data\n",
    "            edge = hdul[3].data\n",
    "\n",
    "            masked_cnt = zero_flag_and_edge(cnt, flag, edge)\n",
    "            \n",
    "            hdu1 = fits.PrimaryHDU(masked_cnt)\n",
    "            hdul_new = fits.HDUList([hdu1])\n",
    "\n",
    "            hdul_new.writeto(f\"/media/bekah/BekahA/hotspot/tests/e{ecl}_masked_f.fits\", overwrite=True)\n",
    "        \n",
    "        print(f\"File downloaded, masked, and saved\")\n",
    "    except Exception as e:\n",
    "        if 'NoSuchKey' in str(e):\n",
    "            print(f\"Key '{key}' does not exist. Skipping...\")\n",
    "        else:\n",
    "            print(\"Something else went wrong\")\n",
    "            print(str(e))\n",
    "            \n",
    "for e in fuv_objs:\n",
    "    i = str(e).zfill(5)\n",
    "    key = f\"e{i}-fd-WD/e{i}-fd-b00-ffull-image-r.fits\"  \n",
    "    download_and_mask_fits(key, i)"
   ]
  },
  {
   "cell_type": "code",
   "execution_count": null,
   "id": "cfa0421b",
   "metadata": {},
   "outputs": [],
   "source": [
    "# make little images \n",
    "\n",
    "def linear_stretch(data, stretch_percent=97):\n",
    "    lower_bound = np.percentile(data, (100 - stretch_percent) / 2)\n",
    "    upper_bound = np.percentile(data, 100 - (100 - stretch_percent) / 2)\n",
    "    stretched_data = np.clip((data - lower_bound) / (upper_bound - lower_bound), 0, 1)\n",
    "    return stretched_data\n",
    "\n",
    "def list_fits_files(local_dir):\n",
    "    try:\n",
    "        return [os.path.join(local_dir, f) for f in os.listdir(local_dir) if f.endswith('.fits')]\n",
    "    except Exception as e:\n",
    "        print(\"Something went wrong while listing files\")\n",
    "        print(str(e))\n",
    "        return []\n",
    "\n",
    "def save_fits_as_image(file_path, output_dir, stretch_percent=97):\n",
    "    try:\n",
    "        with fits.open(file_path) as hdul:\n",
    "            for i, hdu in enumerate(hdul):\n",
    "                if hdu.data is not None:\n",
    "                    stretched_data = linear_stretch(hdu.data, stretch_percent)\n",
    "                    image_filename = os.path.join(output_dir, f\"{os.path.basename(file_path).replace('.fits', '')}_hdu{i}.png\")\n",
    "                    plt.imsave(image_filename, stretched_data, cmap='gray')\n",
    "                    print(f\"Saved {image_filename}\")\n",
    "    except Exception as e:\n",
    "        print(f\"Something went wrong with file {file_path}\")\n",
    "        print(str(e))\n",
    "\n",
    "local_dir = '/media/bekah/BekahA/hotspot/tests'\n",
    "output_dir = '/media/bekah/BekahA/hotspot/tests'\n",
    "\n",
    "fits_files = list_fits_files(local_dir)\n",
    "\n",
    "for fits_file in fits_files:\n",
    "    save_fits_as_image(fits_file, output_dir)\n"
   ]
  },
  {
   "cell_type": "code",
   "execution_count": null,
   "id": "b35e8bba",
   "metadata": {},
   "outputs": [],
   "source": []
  }
 ],
 "metadata": {
  "kernelspec": {
   "display_name": "Python 3 (ipykernel)",
   "language": "python",
   "name": "python3"
  },
  "language_info": {
   "codemirror_mode": {
    "name": "ipython",
    "version": 3
   },
   "file_extension": ".py",
   "mimetype": "text/x-python",
   "name": "python",
   "nbconvert_exporter": "python",
   "pygments_lexer": "ipython3",
   "version": "3.11.9"
  }
 },
 "nbformat": 4,
 "nbformat_minor": 5
}
