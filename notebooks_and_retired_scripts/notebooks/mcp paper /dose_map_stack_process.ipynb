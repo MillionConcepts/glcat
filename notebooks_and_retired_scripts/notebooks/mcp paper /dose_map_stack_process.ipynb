{
 "cells": [
  {
   "cell_type": "code",
   "execution_count": null,
   "id": "7d02a807",
   "metadata": {},
   "outputs": [],
   "source": [
    "import pandas as pd\n",
    "from astropy.io import fits\n",
    "import numpy as np\n",
    "import matplotlib.pyplot as plt\n",
    "from scipy.ndimage import median_filter\n",
    "import matplotlib.image\n",
    "import os\n",
    "import sys\n",
    "sys.path.append('/home/bekah/gPhoton2')\n"
   ]
  },
  {
   "cell_type": "code",
   "execution_count": null,
   "id": "883b4fff",
   "metadata": {},
   "outputs": [],
   "source": [
    "### Way I used to stack dosemaps and filter out stars \n",
    "\n",
    "fuv = pd.read_csv(\"nuv_no_ngs.csv\")\n",
    "eclipse_list = fuv['eclipse'][0:]\n",
    "\n",
    "cumulative_image = None\n",
    "eclipse_counter = 0\n",
    "file = 0\n",
    "for e in eclipse_list:\n",
    "    if eclipse_counter <= 5000:\n",
    "        i = str(e).zfill(5)\n",
    "        # for mounted backplanetest bucket\n",
    "        file_path = f\"/mnt/s3/e{i}-nd/e{i}-nd-b00-f3000-t00000-g_dose.fits.gz\"\n",
    "        if os.path.isfile(file_path):\n",
    "            try:\n",
    "                with fits.open(file_path) as hdul:\n",
    "                    data = hdul[0].data\n",
    "                    if data is None:\n",
    "                        print(\"no data\")\n",
    "                    if cumulative_image is None:\n",
    "                        cumulative_image = np.zeros_like(data, dtype=np.float64)\n",
    "                    if data is not None:\n",
    "                        print(f\"adding eclipse {e}, spot {eclipse_counter}\")\n",
    "                        data[data > 3] = 0\n",
    "                        cumulative_image += data.astype(np.float64)\n",
    "                        eclipse_counter = eclipse_counter + 1\n",
    "            except Exception as ex:\n",
    "                print(f\"probably a corrupt fits file, {ex}\")\n",
    "        else:\n",
    "            print(f\"dose map ({file_path}) does not exist\")\n",
    "\n",
    "hdu = fits.PrimaryHDU(cumulative_image)\n",
    "hdul = fits.HDUList([hdu])\n",
    "combo_filename = \"/mnt/s3/nuv_5000stack_filtered3.fits\"\n",
    "hdul.writeto(combo_filename, overwrite=True)"
   ]
  },
  {
   "cell_type": "code",
   "execution_count": null,
   "id": "95b61352",
   "metadata": {},
   "outputs": [],
   "source": [
    "### Below is one way to make a stacked dosemap (flat!) and get rid of really bright stars etc to see background "
   ]
  },
  {
   "cell_type": "code",
   "execution_count": null,
   "id": "f27f00ba",
   "metadata": {},
   "outputs": [],
   "source": [
    "# band \n",
    "b = 'f'"
   ]
  },
  {
   "cell_type": "code",
   "execution_count": null,
   "id": "0ce42ee4",
   "metadata": {},
   "outputs": [],
   "source": [
    "# STEP ONE\n",
    "# stack backplane stacks to get an \"all dose\" image \n",
    "\n",
    "def stack_fits_images(file_list, output_path):\n",
    "    stacked_image_data = None\n",
    "    for i, file_path in enumerate(file_list):\n",
    "        with fits.open(file_path) as hdul:\n",
    "            image_data = hdul[0].data\n",
    "            if stacked_image_data is None:\n",
    "                stacked_image_data = np.zeros_like(image_data, dtype=np.float64)\n",
    "            stacked_image_data += image_data\n",
    "    hdu = fits.PrimaryHDU(stacked_image_data)\n",
    "    hdul = fits.HDUList([hdu])\n",
    "    hdul.writeto(output_path, overwrite=True)\n",
    "    print(f\"Summed image saved to {output_path}\")\n",
    "\n",
    "# get file list \n",
    "\n",
    "directory = f'/media/bekah/BekahA/hotspot/200_stack_{b}uv/correct_stacks'\n",
    "\n",
    "file_list = [f for f in os.listdir(directory) if f.endswith(('.fits'))]\n",
    "file_paths = [os.path.join(directory, file_name) for file_name in file_list]\n",
    "\n",
    "output_path = f'/media/bekah/BekahA/hotspot/200_stack_{b}uv/correct_stacks/all_{b}uv_summed_image.fits'\n",
    "stack_fits_images(file_paths, output_path)"
   ]
  },
  {
   "cell_type": "code",
   "execution_count": null,
   "id": "97f73365",
   "metadata": {},
   "outputs": [],
   "source": [
    "# STEP TWO\n",
    "# dividing stacked image data by the same data with a median filter to produce \"filtered\" image data\n",
    "fts2 = fits.open(f'/media/bekah/BekahA/hotspot/200_stack_{b}uv/correct_stacks/all_{b}uv_summed_image.fits')\n",
    "\n",
    "image = fts2[0].data\n",
    "\n",
    "filtered_image = median_filter(image, size=10)\n",
    "filtered = np.ma.divide(image, filtered_image).filled(0)  # Filled with 0 where b is zero\n",
    "#mask = (image <= 10) | (filtered_image > median*20)\n",
    "#binary_array = mask.astype(np.uint8)\n",
    "hdu = fits.PrimaryHDU(filtered)\n",
    "hdul = fits.HDUList([hdu])\n",
    "hdul.writeto(f'/media/bekah/BekahA/hotspot/200_stack_{b}uv/correct_stacks/filtered_10_{b}.fits', overwrite=True)\n",
    "print(f\"image saved\")"
   ]
  },
  {
   "cell_type": "code",
   "execution_count": null,
   "id": "cef8ce2f",
   "metadata": {},
   "outputs": [],
   "source": [
    "# STEP THREE\n",
    "# masking the normalized images created above in \"filtered\"\n",
    "\n",
    "fts2 = fits.open(f'/media/bekah/BekahA/hotspot/200_stack_{b}uv/correct_stacks/filtered_10_{b}.fits')\n",
    "image = fts2[0].data\n",
    "mask = (image <= .75) | (image > 1.75)\n",
    "binary_array = mask.astype(np.uint8)\n",
    "hdu = fits.PrimaryHDU(binary_array)\n",
    "hdul = fits.HDUList([hdu])\n",
    "hdul.writeto(f'/media/bekah/BekahA/hotspot/200_stack_{b}uv/correct_stacks/filtered_10_mask_n.fits', overwrite=True)\n",
    "print(f\"image saved\")"
   ]
  },
  {
   "cell_type": "code",
   "execution_count": null,
   "id": "0639317d",
   "metadata": {},
   "outputs": [],
   "source": []
  },
  {
   "cell_type": "code",
   "execution_count": null,
   "id": "31e28037",
   "metadata": {},
   "outputs": [],
   "source": []
  }
 ],
 "metadata": {
  "kernelspec": {
   "display_name": "Python 3 (ipykernel)",
   "language": "python",
   "name": "python3"
  },
  "language_info": {
   "codemirror_mode": {
    "name": "ipython",
    "version": 3
   },
   "file_extension": ".py",
   "mimetype": "text/x-python",
   "name": "python",
   "nbconvert_exporter": "python",
   "pygments_lexer": "ipython3",
   "version": "3.11.6"
  }
 },
 "nbformat": 4,
 "nbformat_minor": 5
}
