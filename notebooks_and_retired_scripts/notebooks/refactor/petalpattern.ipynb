{
 "cells": [
  {
   "cell_type": "code",
   "execution_count": null,
   "id": "b8ec4404-0cf9-4bd1-8c00-e4472c4bd05b",
   "metadata": {},
   "outputs": [],
   "source": [
    "import sys \n",
    "import matplotlib.pyplot as plt \n",
    "import pandas as pd\n",
    "from pyarrow import parquet \n",
    "import numpy as np\n",
    "sys.path.append('/home/bekah/gPhoton2')"
   ]
  },
  {
   "cell_type": "code",
   "execution_count": null,
   "id": "dadc757b-8ff0-475e-9d12-db422eab4a6b",
   "metadata": {},
   "outputs": [],
   "source": [
    "# checking petal pattern metadata files \n",
    "eclipse = 22644"
   ]
  },
  {
   "cell_type": "code",
   "execution_count": null,
   "id": "b7cd9a72-38ce-4111-85d3-f7ad83a06058",
   "metadata": {},
   "outputs": [],
   "source": [
    "aspect  = parquet.read_table('/home/bekah/gPhoton2/gPhoton/aspect/aspect.parquet',\n",
    "                           filters=[('eclipse','=',eclipse)]).to_pandas()\n",
    "boresight = parquet.read_table('/home/bekah/gPhoton2/gPhoton/aspect/boresight.parquet',\n",
    "                           filters=[('eclipse','=',eclipse)]).to_pandas()\n",
    "metadata  = parquet.read_table('/home/bekah/gPhoton2/gPhoton/aspect/metadata.parquet',\n",
    "                           filters=[('eclipse','=',eclipse)]).to_pandas()"
   ]
  },
  {
   "cell_type": "code",
   "execution_count": null,
   "id": "3b593ddd-3404-4e30-9242-706423401483",
   "metadata": {},
   "outputs": [],
   "source": [
    "boresight"
   ]
  },
  {
   "cell_type": "code",
   "execution_count": null,
   "id": "ed745fe6-0a1e-4538-97f4-3562a084e733",
   "metadata": {},
   "outputs": [],
   "source": [
    "plt.scatter(aspect['ra'],aspect['dec'],s=.1)\n",
    "plt.scatter(boresight['ra0'],boresight['dec0'])"
   ]
  },
  {
   "cell_type": "code",
   "execution_count": null,
   "id": "d08d1871-35ad-490f-8f89-3f7468dceebc",
   "metadata": {},
   "outputs": [],
   "source": [
    "# for distributiing legs based on boresight rows \n",
    "\n",
    "legframes = []\n",
    "for leg_ix in boresight.index:\n",
    "    leg = boresight.loc[leg_ix]\n",
    "    time_pred = aspect[\"time\"] >= leg[\"time\"]\n",
    "    if leg_ix != len(boresight) - 1:\n",
    "        time_pred = time_pred & (\n",
    "            aspect[\"time\"] < boresight.loc[leg_ix + 1][\"time\"]\n",
    "            )\n",
    "    leg_indices = aspect.loc[time_pred].index\n",
    "    leg_arrays = {\n",
    "            'ra0': np.full(len(leg_indices), leg['ra0']),\n",
    "            'dec0': np.full(len(leg_indices), leg['dec0']),\n",
    "            'leg': np.full(len(leg_indices), leg_ix, dtype=np.uint8)\n",
    "        }\n",
    "    legframes.append(pd.DataFrame(leg_arrays))\n",
    "distributed = pd.concat(legframes).reset_index(drop=True)\n",
    "result = pd.concat([aspect, distributed], axis=1)"
   ]
  },
  {
   "cell_type": "code",
   "execution_count": null,
   "id": "5cc16c0c-e809-4ab1-a5c6-7c31ac554453",
   "metadata": {},
   "outputs": [],
   "source": [
    "aspect['flags'].unique()"
   ]
  },
  {
   "cell_type": "code",
   "execution_count": null,
   "id": "ea7acf56-29a7-4387-9919-e116dba97fb9",
   "metadata": {},
   "outputs": [],
   "source": [
    "aspect"
   ]
  },
  {
   "cell_type": "code",
   "execution_count": null,
   "id": "a910e54a-55f9-4493-890d-2a77fa655245",
   "metadata": {},
   "outputs": [],
   "source": [
    "#basically I think I need a table that shows what eclipses have >0 legs and how many rows they have in the boresight parquet \n",
    "#I also need to know the eclipse number and the obstype"
   ]
  },
  {
   "cell_type": "code",
   "execution_count": null,
   "id": "7a2a4789-5a97-4397-81d1-0a17db6926e4",
   "metadata": {},
   "outputs": [],
   "source": [
    "import pyarrow.dataset as ds\n",
    "\n",
    "metadata_path = \"/home/bekah/gPhoton2/gPhoton/aspect/metadata.parquet\"\n",
    "boresight_path = \"/home/bekah/gPhoton2/gPhoton/aspect/boresight.parquet\"\n",
    "output_path = \"uneven_legs.parquet\"\n",
    "\n",
    "metadata_ds = ds.dataset(metadata_path, format=\"parquet\")\n",
    "filtered_metadata_df = metadata_ds.to_table(filter=(ds.field(\"legs\") > 0)).to_pandas()\n",
    "\n",
    "boresight_ds = ds.dataset(boresight_path, format=\"parquet\")\n",
    "boresight_df = boresight_ds.to_table(columns=[\"eclipse\"]).to_pandas()\n",
    "\n",
    "boresight_counts = boresight_df[\"eclipse\"].value_counts()\n",
    "\n",
    "filtered_metadata_df[\"boresight_count\"] = filtered_metadata_df[\"eclipse\"].map(boresight_counts).fillna(0).astype(int)\n",
    "\n",
    "filtered_metadata_df.to_parquet(output_path, index=False)\n",
    "\n",
    "print(f\"Result saved to {output_path}\")\n"
   ]
  },
  {
   "cell_type": "code",
   "execution_count": null,
   "id": "f2fc5f2d-3ea9-4aa3-9da0-d8fe8a1b4973",
   "metadata": {},
   "outputs": [],
   "source": [
    "legs = parquet.read_table(output_path).to_pandas()"
   ]
  },
  {
   "cell_type": "code",
   "execution_count": null,
   "id": "667403d1-0df2-4351-8b64-52f3b42b4c16",
   "metadata": {},
   "outputs": [],
   "source": [
    "eclipse = 4748\n",
    "\n",
    "aspect  = parquet.read_table('/home/bekah/gPhoton2/gPhoton/aspect/aspect.parquet',\n",
    "                           filters=[('eclipse','=',eclipse)]).to_pandas()\n",
    "boresight = parquet.read_table('/home/bekah/gPhoton2/gPhoton/aspect/boresight.parquet',\n",
    "                           filters=[('eclipse','=',eclipse)]).to_pandas()\n",
    "\n",
    "aspect[\"valid_flag\"] = aspect[\"flags\"] % 2 == 0\n",
    "\n",
    "# Initialize the leg ID\n",
    "current_leg_id = 0\n",
    "aspect[\"leg_id\"] = None\n",
    "\n",
    "for i in range(1, len(aspect)):  # start from the second row\n",
    "    if aspect.loc[i-1, \"valid_flag\"] == False and aspect.loc[i, \"valid_flag\"]:\n",
    "        current_leg_id = (current_leg_id + 1) if current_leg_id is not None else 0\n",
    "    elif aspect.loc[i, \"valid_flag\"]:\n",
    "        aspect.loc[i, \"leg_id\"] = current_leg_id\n",
    "\n",
    "leg_counts = aspect.groupby('leg_id').size()\n",
    "valid_legs = leg_counts[leg_counts >= 50].index\n",
    "\n",
    "for leg_id in valid_legs:\n",
    "    first_row = aspect[aspect['leg_id'] == leg_id].iloc[0]  \n",
    "    \n",
    "    new_row = boresight.iloc[-1].copy() if not boresight.empty else pd.Series([None] * len(aspect.columns), index=boresight.columns)\n",
    "    \n",
    "    new_row['time'] = first_row_time\n",
    "    \n",
    "    boresight = pd.concat([boresight, new_row.to_frame().T], ignore_index=True)\n"
   ]
  },
  {
   "cell_type": "code",
   "execution_count": null,
   "id": "c248c68e-46ff-4838-93e8-69f7007ce51b",
   "metadata": {},
   "outputs": [],
   "source": [
    "fig, axes = plt.subplots(1, 2, figsize=(14, 6))\n",
    "\n",
    "axes[0].scatter(aspect['ra'], aspect['dec'], c=aspect['flags'],cmap='BrBG',s=5)\n",
    "axes[0].set_title(\"RA vs DEC (colored by flag)\")\n",
    "axes[0].set_xlabel(\"RA\")\n",
    "axes[0].set_ylabel(\"DEC\")\n",
    "axes[0].grid(True)\n",
    "\n",
    "axes[1].scatter(aspect['ra'], aspect['dec'], c=aspect['leg_id'], s=5)\n",
    "axes[1].set_title(\"RA vs DEC (colored by leg)\")\n",
    "axes[1].set_xlabel(\"RA\")\n",
    "axes[1].set_ylabel(\"DEC\")\n",
    "axes[1].grid(True)\n",
    "\n",
    "plt.tight_layout()\n",
    "plt.show()"
   ]
  },
  {
   "cell_type": "code",
   "execution_count": null,
   "id": "6e6e3f42-43d5-45a7-a2ce-94dd3b1e796f",
   "metadata": {},
   "outputs": [],
   "source": [
    "boresight"
   ]
  },
  {
   "cell_type": "code",
   "execution_count": null,
   "id": "82182096-30f9-4852-8bc3-6a46afb66d35",
   "metadata": {},
   "outputs": [],
   "source": [
    "aspect"
   ]
  },
  {
   "cell_type": "code",
   "execution_count": null,
   "id": "26143348-45da-4777-9729-dc0838c49afe",
   "metadata": {},
   "outputs": [],
   "source": []
  },
  {
   "cell_type": "code",
   "execution_count": null,
   "id": "5fc5e634-3d49-4de0-ac0a-7876b579d007",
   "metadata": {},
   "outputs": [],
   "source": [
    "eclipse = 22644\n",
    "\n",
    "aspect  = parquet.read_table('/home/bekah/gPhoton2/gPhoton/aspect/aspect.parquet',\n",
    "                           filters=[('eclipse','=',eclipse)]).to_pandas()\n",
    "boresight = parquet.read_table('/home/bekah/gPhoton2/gPhoton/aspect/boresight.parquet',\n",
    "                           filters=[('eclipse','=',eclipse)]).to_pandas()\n",
    "\n",
    "\n",
    "aspect[\"valid_flag\"] = aspect[\"flags\"] % 2 == 0\n",
    "aspect[\"leg_id\"] = None\n",
    "current_leg_id = None\n",
    "for i in range(1, len(aspect)):\n",
    "    if not aspect.loc[i-1, \"valid_flag\"] and aspect.loc[i, \"valid_flag\"]:\n",
    "        current_leg_id = (current_leg_id + 1) if current_leg_id is not None else 0\n",
    "    elif aspect.loc[i, \"valid_flag\"]:\n",
    "        aspect.loc[i, \"leg_id\"] = current_leg_id\n",
    "\n",
    "leg_counts = aspect.groupby('leg_id').size()\n",
    "valid_legs = leg_counts[leg_counts >= 50].index\n",
    "\n",
    "if not boresight.empty:\n",
    "    first_valid_leg = aspect[aspect['leg_id'] == valid_legs[0]].iloc[0]\n",
    "    boresight.iloc[0, boresight.columns.get_loc('time')] = first_valid_leg['time']\n",
    "\n",
    "for leg_id in valid_legs:\n",
    "    first_row = aspect[aspect['leg_id'] == leg_id].iloc[0]\n",
    "    first_row_time = first_row['time']\n",
    "    new_row = boresight.iloc[-1].copy() if not boresight.empty else pd.Series([None] * len(aspect.columns), index=boresight.columns)\n",
    "    new_row['time'] = first_row_time\n",
    "    boresight = pd.concat([boresight, new_row.to_frame().T], ignore_index=True)\n"
   ]
  },
  {
   "cell_type": "code",
   "execution_count": null,
   "id": "4450ce72-b01a-4630-bd6c-7d16f9cea530",
   "metadata": {},
   "outputs": [],
   "source": [
    "boresight"
   ]
  },
  {
   "cell_type": "code",
   "execution_count": null,
   "id": "ff9bcc76-1f9c-4083-95f4-45ae8927ffaa",
   "metadata": {},
   "outputs": [],
   "source": [
    "# for distributiing legs based on boresight rows \n",
    "\n",
    "legframes = []\n",
    "for leg_ix in boresight.index:\n",
    "    leg = boresight.loc[leg_ix]\n",
    "    time_pred = aspect[\"time\"] >= leg[\"time\"]\n",
    "    if leg_ix != len(boresight) - 1:\n",
    "        time_pred = time_pred & (\n",
    "            aspect[\"time\"] < boresight.loc[leg_ix + 1][\"time\"]\n",
    "            )\n",
    "    leg_indices = aspect.loc[time_pred].index\n",
    "    leg_arrays = {\n",
    "            'ra0': np.full(len(leg_indices), leg['ra0']),\n",
    "            'dec0': np.full(len(leg_indices), leg['dec0']),\n",
    "            'leg': np.full(len(leg_indices), leg_ix, dtype=np.uint8)\n",
    "        }\n",
    "    legframes.append(pd.DataFrame(leg_arrays))\n",
    "distributed = pd.concat(legframes).reset_index(drop=True)\n",
    "result = pd.concat([aspect, distributed], axis=1)"
   ]
  },
  {
   "cell_type": "code",
   "execution_count": null,
   "id": "2d9aeefa-8170-4f77-8c25-251af3cc3d7d",
   "metadata": {},
   "outputs": [],
   "source": [
    "result.iloc[0]['time']"
   ]
  },
  {
   "cell_type": "code",
   "execution_count": null,
   "id": "8e4259cd-43f7-4248-ba18-bde918381646",
   "metadata": {},
   "outputs": [],
   "source": [
    "boresight.iloc[0]['time']"
   ]
  },
  {
   "cell_type": "code",
   "execution_count": null,
   "id": "a90576e4-cfd6-4309-af00-420afdda384a",
   "metadata": {},
   "outputs": [],
   "source": [
    "plt.scatter(result['ra'],result['dec'],c=result['leg'])"
   ]
  },
  {
   "cell_type": "code",
   "execution_count": null,
   "id": "508b9496-7acf-4c66-8b23-58b2a45dba21",
   "metadata": {},
   "outputs": [],
   "source": [
    "result.groupby('leg').size()\n"
   ]
  },
  {
   "cell_type": "code",
   "execution_count": null,
   "id": "adcec4d0-e91b-4506-90cd-ae733acebc88",
   "metadata": {},
   "outputs": [],
   "source": [
    "\n",
    "\n",
    "def assign_legs_petal_pattern(aspect, boresight):\n",
    "    aspect[\"valid_flag\"] = aspect[\"flags\"] % 2 == 0\n",
    "    aspect[\"leg_id\"] = None\n",
    "    current_leg_id = None\n",
    "    for i in range(1, len(aspect)):\n",
    "        if not aspect.loc[i - 1, \"valid_flag\"] and aspect.loc[i, \"valid_flag\"]:\n",
    "            if current_leg_id is None:\n",
    "                current_leg_id = 0\n",
    "                aspect.loc[i, \"leg_id\"] = current_leg_id\n",
    "            elif current_leg_id is not None:\n",
    "                current_leg_id += 1\n",
    "                aspect.loc[i, \"leg_id\"] = current_leg_id\n",
    "        elif aspect.loc[i, \"valid_flag\"]:\n",
    "            aspect.loc[i, \"leg_id\"] = current_leg_id\n",
    "\n",
    "    leg_counts = aspect.groupby('leg_id').size()\n",
    "    valid_legs = leg_counts[leg_counts >= 50].index\n",
    "\n",
    "    if not boresight.empty and len(valid_legs)>0:\n",
    "        first_valid_leg = aspect[aspect['leg_id'] == valid_legs[0]].iloc[0]\n",
    "        boresight.iloc[0, boresight.columns.get_loc('time')] = first_valid_leg['time']\n",
    "\n",
    "    for leg_id in valid_legs:\n",
    "        if leg_id == 0:\n",
    "            print(\"skipping leg 0\")\n",
    "        else:\n",
    "            first_row = aspect[aspect['leg_id'] == leg_id].iloc[0]\n",
    "            first_row_time = first_row['time']\n",
    "            new_row = boresight.iloc[-1].copy() if not boresight.empty else pd.Series([None] * len(aspect.columns),\n",
    "                                                                                      index=boresight.columns)\n",
    "            new_row['time'] = first_row_time\n",
    "            boresight = pd.concat([boresight, new_row.to_frame().T], ignore_index=True)\n",
    "    return aspect, boresight\n"
   ]
  },
  {
   "cell_type": "code",
   "execution_count": null,
   "id": "1634b436-92bf-4ee8-ac8c-e08f8d69e7b6",
   "metadata": {},
   "outputs": [],
   "source": [
    "eclipse = 22644\n",
    "\n",
    "aspect  = parquet.read_table('/home/bekah/gPhoton2/gPhoton/aspect/aspect.parquet',\n",
    "                           filters=[('eclipse','=',eclipse)]).to_pandas()\n",
    "boresight = parquet.read_table('/home/bekah/gPhoton2/gPhoton/aspect/boresight.parquet',\n",
    "                           filters=[('eclipse','=',eclipse)]).to_pandas()\n",
    "\n",
    "\n",
    "aspect, boresight = assign_legs_petal_pattern(aspect, boresight)\n",
    "\n",
    "aspect.to_parquet(\"aspect.parquet\", engine=\"pyarrow\", index=False)\n",
    "boresight.to_parquet(\"boresight.parquet\", engine=\"pyarrow\", index=False)"
   ]
  },
  {
   "cell_type": "code",
   "execution_count": null,
   "id": "27e3031f-b453-42cf-9965-ae872045b0c8",
   "metadata": {},
   "outputs": [],
   "source": [
    "def centile_clip(image, centiles=(1, 99.5)):\n",
    "    \"\"\"\n",
    "    simple clipping function that clips values above and below a given\n",
    "    percentile range\n",
    "    \"\"\"\n",
    "    finite = np.ma.masked_invalid(image)\n",
    "    bounds = np.percentile(finite[~finite.mask].data, centiles)\n",
    "    result = np.ma.clip(finite, *bounds)\n",
    "    \n",
    "    if isinstance(image, np.ma.MaskedArray):\n",
    "        \n",
    "        return result\n",
    "    \n",
    "    return result.data"
   ]
  },
  {
   "cell_type": "code",
   "execution_count": null,
   "id": "39bf9ecb-db2a-4cd6-9fd3-caf19519b7b5",
   "metadata": {},
   "outputs": [],
   "source": [
    "import numpy as np\n",
    "import imageio.v2 as imageio\n",
    "import matplotlib.pyplot as plt\n",
    "from astropy.io import fits\n",
    "\n",
    "eclipse = '23532'\n",
    "fits_files = [f\"/home/bekah/gPhoton2/test_data/e{eclipse}/e{eclipse}-nd-ffull-b02-image-r.fits\",\n",
    "              f\"/home/bekah/gPhoton2/test_data/e{eclipse}/e{eclipse}-nd-ffull-b03-image-r.fits\",\n",
    "    f\"/home/bekah/gPhoton2/test_data/e{eclipse}/e{eclipse}-nd-ffull-b04-image-r.fits\",\n",
    "    f\"/home/bekah/gPhoton2/test_data/e{eclipse}/e{eclipse}-nd-ffull-b05-image-r.fits\",\n",
    "    f\"/home/bekah/gPhoton2/test_data/e{eclipse}/e{eclipse}-nd-ffull-b06-image-r.fits\",\n",
    "    f\"/home/bekah/gPhoton2/test_data/e{eclipse}/e{eclipse}-nd-ffull-b07-image-r.fits\",\n",
    "    f\"/home/bekah/gPhoton2/test_data/e{eclipse}/e{eclipse}-nd-ffull-b08-image-r.fits\",\n",
    "    f\"/home/bekah/gPhoton2/test_data/e{eclipse}/e{eclipse}-nd-ffull-b09-image-r.fits\",\n",
    "    f\"/home/bekah/gPhoton2/test_data/e{eclipse}/e{eclipse}-nd-ffull-b10-image-r.fits\",\n",
    "    f\"/home/bekah/gPhoton2/test_data/e{eclipse}/e{eclipse}-nd-ffull-b11-image-r.fits\",\n",
    "    f\"/home/bekah/gPhoton2/test_data/e{eclipse}/e{eclipse}-nd-ffull-b12-image-r.fits\",\n",
    "    f\"/home/bekah/gPhoton2/test_data/e{eclipse}/e{eclipse}-nd-ffull-b13-image-r.fits\",\n",
    "    f\"/home/bekah/gPhoton2/test_data/e{eclipse}/e{eclipse}-nd-ffull-b14-image-r.fits\",\n",
    "    f\"/home/bekah/gPhoton2/test_data/e{eclipse}/e{eclipse}-nd-ffull-b15-image-r.fits\",\n",
    "    f\"/home/bekah/gPhoton2/test_data/e{eclipse}/e{eclipse}-nd-ffull-b16-image-r.fits\",\n",
    "    f\"/home/bekah/gPhoton2/test_data/e{eclipse}/e{eclipse}-nd-ffull-b17-image-r.fits\",\n",
    "    f\"/home/bekah/gPhoton2/test_data/e{eclipse}/e{eclipse}-nd-ffull-b18-image-r.fits\",\n",
    "    f\"/home/bekah/gPhoton2/test_data/e{eclipse}/e{eclipse}-nd-ffull-b19-image-r.fits\",\n",
    "    f\"/home/bekah/gPhoton2/test_data/e{eclipse}/e{eclipse}-nd-ffull-b20-image-r.fits\",\n",
    "    f\"/home/bekah/gPhoton2/test_data/e{eclipse}/e{eclipse}-nd-ffull-b21-image-r.fits\"    ]\n",
    "\n",
    "def process_fits_image(file):\n",
    "    with fits.open(file) as hdul:\n",
    "        image_data = hdul[1].data  \n",
    "    stretched_image = centile_clip(image_data)\n",
    "    return stretched_image\n",
    "frames = []\n",
    "for file in fits_files:\n",
    "    stretched_image = process_fits_image(file)\n",
    "    norm_image = (255 * (stretched_image - stretched_image.min()) / \n",
    "                  (stretched_image.max() - stretched_image.min())).astype(np.uint8)\n",
    "    frames.append(norm_image)\n",
    "\n",
    "imageio.mimsave(\"e23532.gif\", frames, duration=0.5)  # Adjust duration as needed\n"
   ]
  },
  {
   "cell_type": "code",
   "execution_count": null,
   "id": "8c0e02b5-568a-4176-8a13-0d38b27b6257",
   "metadata": {},
   "outputs": [],
   "source": [
    "import numpy as np\n",
    "import imageio.v2 as imageio\n",
    "import matplotlib.pyplot as plt\n",
    "from astropy.io import fits\n",
    "\n",
    "\n",
    "eclipse = '29216'\n",
    "fits_files = [f\"/home/bekah/gPhoton2/test_data/e{eclipse}/e{eclipse}-nd-ffull-b02-image-r.fits\",\n",
    "              f\"/home/bekah/gPhoton2/test_data/e{eclipse}/e{eclipse}-nd-ffull-b03-image-r.fits\",\n",
    "    f\"/home/bekah/gPhoton2/test_data/e{eclipse}/e{eclipse}-nd-ffull-b04-image-r.fits\",\n",
    "    f\"/home/bekah/gPhoton2/test_data/e{eclipse}/e{eclipse}-nd-ffull-b05-image-r.fits\",\n",
    "    f\"/home/bekah/gPhoton2/test_data/e{eclipse}/e{eclipse}-nd-ffull-b06-image-r.fits\",\n",
    "    f\"/home/bekah/gPhoton2/test_data/e{eclipse}/e{eclipse}-nd-ffull-b07-image-r.fits\",\n",
    "    f\"/home/bekah/gPhoton2/test_data/e{eclipse}/e{eclipse}-nd-ffull-b08-image-r.fits\",\n",
    "    f\"/home/bekah/gPhoton2/test_data/e{eclipse}/e{eclipse}-nd-ffull-b09-image-r.fits\",\n",
    "    f\"/home/bekah/gPhoton2/test_data/e{eclipse}/e{eclipse}-nd-ffull-b10-image-r.fits\",\n",
    "    f\"/home/bekah/gPhoton2/test_data/e{eclipse}/e{eclipse}-nd-ffull-b11-image-r.fits\",\n",
    "    f\"/home/bekah/gPhoton2/test_data/e{eclipse}/e{eclipse}-nd-ffull-b12-image-r.fits\",\n",
    "    f\"/home/bekah/gPhoton2/test_data/e{eclipse}/e{eclipse}-nd-ffull-b13-image-r.fits\",\n",
    "    f\"/home/bekah/gPhoton2/test_data/e{eclipse}/e{eclipse}-nd-ffull-b14-image-r.fits\",\n",
    "    f\"/home/bekah/gPhoton2/test_data/e{eclipse}/e{eclipse}-nd-ffull-b15-image-r.fits\",\n",
    "    f\"/home/bekah/gPhoton2/test_data/e{eclipse}/e{eclipse}-nd-ffull-b16-image-r.fits\"]\n",
    "\n",
    "\n",
    "\n",
    "# Function to process images\n",
    "def process_fits_image(file):\n",
    "    with fits.open(file) as hdul:\n",
    "        image_data = hdul[1].data  # Extract first image\n",
    "    \n",
    "    image_data = np.array(image_data, dtype=np.float64)\n",
    "\n",
    "    # Handle NaNs & infinities\n",
    "    image_data[~np.isfinite(image_data)] = np.nanmedian(image_data)\n",
    "\n",
    "    # Apply centile_clip function\n",
    "    stretched_image = centile_clip(image_data)\n",
    "\n",
    "    return stretched_image\n",
    "\n",
    "# Determine max shape for padding\n",
    "max_height, max_width = 0, 0\n",
    "images = []\n",
    "\n",
    "for file in fits_files:\n",
    "    img = process_fits_image(file)\n",
    "    images.append(img)\n",
    "\n",
    "    if img.shape[0] > max_height:\n",
    "        max_height = img.shape[0]\n",
    "    if img.shape[1] > max_width:\n",
    "        max_width = img.shape[1]\n",
    "\n",
    "# Function to pad images\n",
    "def pad_image(image, target_shape):\n",
    "    pad_y = target_shape[0] - image.shape[0]\n",
    "    pad_x = target_shape[1] - image.shape[1]\n",
    "\n",
    "    pad_top = pad_y // 2\n",
    "    pad_bottom = pad_y - pad_top\n",
    "    pad_left = pad_x // 2\n",
    "    pad_right = pad_x - pad_left\n",
    "\n",
    "    # Use median padding to prevent artifacts\n",
    "    median_val = np.nanmedian(image)\n",
    "    padded_image = np.pad(image, ((pad_top, pad_bottom), (pad_left, pad_right)),\n",
    "                          mode=\"constant\", constant_values=median_val)\n",
    "    \n",
    "    return padded_image\n",
    "\n",
    "# Process images and save them as frames\n",
    "frames = []\n",
    "for i, img in enumerate(images):\n",
    "    padded_image = pad_image(img, (max_height, max_width))\n",
    "\n",
    "    # Normalize with better contrast handling\n",
    "    img_min, img_max = np.nanpercentile(padded_image, [1, 99])  # Avoid extreme outliers\n",
    "    normalized_image = (255 * (padded_image - img_min) / (img_max - img_min))\n",
    "    normalized_image = np.clip(normalized_image, 0, 255).astype(np.uint8)\n",
    "\n",
    "    frames.append(normalized_image)\n",
    "\n",
    "    # Debug: Save each frame to check if they are distinct\n",
    "    imageio.imwrite(f\"debug_frame_{i}.png\", normalized_image)\n",
    "\n",
    "# Save as GIF with longer delay to ensure visibility\n",
    "imageio.mimsave(\"output.gif\", frames, duration=1, loop=4)  \n"
   ]
  },
  {
   "cell_type": "code",
   "execution_count": null,
   "id": "75929cb4-54d9-418e-879e-1d56682ecaea",
   "metadata": {},
   "outputs": [],
   "source": [
    "eclipse = 10708\n",
    "\n",
    "aspect  = parquet.read_table('/home/bekah/gPhoton2/gPhoton/aspect/aspect.parquet',\n",
    "                           filters=[('eclipse','=',eclipse)]).to_pandas()\n",
    "\n",
    "plt.scatter(aspect['ra'],aspect['dec'],c=aspect['flags'])"
   ]
  },
  {
   "cell_type": "code",
   "execution_count": null,
   "id": "b1ddafff-1651-4bee-b4cd-6ce41c4401a3",
   "metadata": {},
   "outputs": [],
   "source": [
    "uneven = parquet.read_table(\"uneven_legs.parquet\").to_pandas()\n",
    "uneven"
   ]
  },
  {
   "cell_type": "code",
   "execution_count": null,
   "id": "06dfa3db-6c5b-494d-8709-7ac6c7eb9635",
   "metadata": {},
   "outputs": [],
   "source": [
    "eclipse_list = uneven[uneven['boresight_count']==1]['eclipse']"
   ]
  },
  {
   "cell_type": "code",
   "execution_count": null,
   "id": "8577069c-d684-458c-b26f-53e30e0b1bb6",
   "metadata": {},
   "outputs": [],
   "source": [
    "eclipse_list"
   ]
  },
  {
   "cell_type": "code",
   "execution_count": null,
   "id": "adbab32c-c7af-4225-8095-93c90afed806",
   "metadata": {},
   "outputs": [],
   "source": [
    "aspect_list = []\n",
    "boresight_list = []\n",
    "\n",
    "for eclipse in eclipse_list: \n",
    "    print(eclipse)\n",
    "\n",
    "    aspect  = parquet.read_table('/home/bekah/gPhoton2/gPhoton/aspect/aspect.parquet',\n",
    "                               filters=[('eclipse','=',eclipse)]).to_pandas()\n",
    "    boresight = parquet.read_table('/home/bekah/gPhoton2/gPhoton/aspect/boresight.parquet',\n",
    "                               filters=[('eclipse','=',eclipse)]).to_pandas()\n",
    "    \n",
    "    aspect, boresight = assign_legs_petal_pattern(aspect, boresight)\n",
    "\n",
    "    aspect_list.append(aspect)\n",
    "    boresight_list.append(boresight)\n",
    "\n",
    "aspect_combined = pd.concat(aspect_list, ignore_index=True)\n",
    "boresight_combined = pd.concat(boresight_list, ignore_index=True)\n",
    "\n",
    "aspect_combined.to_parquet('/home/bekah/gPhoton2/gPhoton/aspect/aspect_combined.parquet', index=False)\n",
    "boresight_combined.to_parquet('/home/bekah/gPhoton2/gPhoton/aspect/boresight_combined.parquet', index=False)"
   ]
  },
  {
   "cell_type": "code",
   "execution_count": null,
   "id": "c9b67440-d33a-4fb6-aed2-dd2db90126b6",
   "metadata": {},
   "outputs": [],
   "source": [
    "#bore_combo = parquet.read_table(\"boresight_combined.parquet\").to_pandas()\n",
    "bore_combo = parquet.read_table('/home/bekah/gPhoton2/gPhoton/aspect/boresight_combined.parquet').to_pandas()\n",
    "asp_combo = parquet.read_table('/home/bekah/gPhoton2/gPhoton/aspect/aspect_combined.parquet').to_pandas()\n"
   ]
  },
  {
   "cell_type": "code",
   "execution_count": null,
   "id": "82806ce1-712c-4954-8b54-11965155736c",
   "metadata": {},
   "outputs": [],
   "source": [
    "asp_combo"
   ]
  },
  {
   "cell_type": "code",
   "execution_count": null,
   "id": "bbccd97b-dbd1-4743-8edf-b4a8bcd103d8",
   "metadata": {},
   "outputs": [],
   "source": [
    "\n",
    "aspect_combined = pd.read_parquet('/home/bekah/gPhoton2/gPhoton/aspect/aspect_combined.parquet')\n",
    "\n",
    "import os\n",
    "plot_dir = '/media/bekah/BekahA/pp_plots'\n",
    "os.makedirs(plot_dir, exist_ok=True)\n",
    "\n",
    "for eclipse, group in aspect_combined.groupby('eclipse'):\n",
    "    plt.figure(figsize=(6, 5))\n",
    "\n",
    "    leg_counts = group.groupby('leg_id').size()\n",
    "    valid_legs = leg_counts[leg_counts >= 50].index\n",
    "\n",
    "    num_valid_legs = len(valid_legs)\n",
    "    colors = plt.cm.hsv(np.linspace(0, 1, num_valid_legs))  \n",
    "    color_map = {leg_id: color for leg_id, color in zip(valid_legs, colors)}\n",
    "\n",
    "    mask_valid = group['leg_id'].isin(valid_legs)\n",
    "    mask_invalid = ~mask_valid\n",
    "\n",
    "    for leg_id, sub_group in group[mask_valid].groupby('leg_id'):\n",
    "        plt.scatter(sub_group['ra'], sub_group['dec'], color=color_map[leg_id], \n",
    "                    alpha=0.7, s=1.0, label=f\"Leg {leg_id}\")\n",
    "\n",
    "    if mask_invalid.any():\n",
    "        plt.scatter(group.loc[mask_invalid, 'ra'], group.loc[mask_invalid, 'dec'], \n",
    "                    color='gray', alpha=0.7, s=1)\n",
    "\n",
    "    plt.xlabel('ra')\n",
    "    plt.ylabel('dec')\n",
    "    plt.title(f\"e{eclipse}\")\n",
    "    plt.legend(fontsize=4, loc='best', frameon=True, markerscale=0.5)\n",
    "\n",
    "    plot_path = os.path.join(plot_dir, f\"eclipse_{eclipse}.png\")\n",
    "    plt.savefig(plot_path, dpi=300, bbox_inches='tight')\n",
    "    plt.close()\n"
   ]
  },
  {
   "cell_type": "code",
   "execution_count": null,
   "id": "05a0055d-e41b-472c-83f3-adb28f54bb7c",
   "metadata": {},
   "outputs": [],
   "source": [
    " len(unique_leg_ids)"
   ]
  },
  {
   "cell_type": "code",
   "execution_count": null,
   "id": "63cdb9b8-4dd7-4209-bd80-87bb5db06e3b",
   "metadata": {},
   "outputs": [],
   "source": [
    "color_map"
   ]
  },
  {
   "cell_type": "code",
   "execution_count": null,
   "id": "5df2b65f-96da-4f43-a16d-d84466e90f5f",
   "metadata": {},
   "outputs": [],
   "source": [
    "aspect_combined = pd.read_parquet('/home/bekah/gPhoton2/gPhoton/aspect/aspect_combined.parquet')\n",
    "\n",
    "plot_dir = '/media/bekah/BekahA/pp_plots'\n",
    "os.makedirs(plot_dir, exist_ok=True)\n",
    "\n",
    "for eclipse, group in aspect_combined.groupby('eclipse'):\n",
    "    fig, axes = plt.subplots(1, 2, figsize=(12, 5))  # Create two side-by-side plots\n",
    "\n",
    "    ax1 = axes[0]\n",
    "    leg_counts = group.groupby('leg_id').size()\n",
    "    valid_legs = leg_counts[leg_counts >= 40].index\n",
    "\n",
    "    num_valid_legs = len(valid_legs)\n",
    "    colors = plt.cm.hsv(np.linspace(0, 1, num_valid_legs))  # Distinct colors\n",
    "    color_map_leg = {leg_id: color for leg_id, color in zip(valid_legs, colors)}\n",
    "\n",
    "    mask_valid = group['leg_id'].isin(valid_legs)\n",
    "    mask_invalid = ~mask_valid\n",
    "\n",
    "    for leg_id, sub_group in group[mask_valid].groupby('leg_id'):\n",
    "        ax1.scatter(sub_group['ra'], sub_group['dec'], color=color_map_leg[leg_id], \n",
    "                    alpha=0.7, s=1, label=f\"Leg {leg_id}\")\n",
    "\n",
    "    if mask_invalid.any():\n",
    "        ax1.scatter(group.loc[mask_invalid, 'ra'], group.loc[mask_invalid, 'dec'], \n",
    "                    color='gray', alpha=0.7, s=1)\n",
    "\n",
    "    ax1.set_xlabel(\"ra\")\n",
    "    ax1.set_ylabel(\"dec\")\n",
    "    ax1.set_title(f\"E{eclipse} - leg_id\")\n",
    "    ax1.legend(fontsize=4, loc='best', frameon=True, markerscale=0.5)\n",
    "\n",
    "    ax2 = axes[1]\n",
    "    unique_flags = group['flags'].dropna().unique()\n",
    "    colors_flags = plt.cm.tab20(np.linspace(0, 1, len(unique_flags)))  \n",
    "    color_map_flags = {flag: color for flag, color in zip(unique_flags, colors_flags)}\n",
    "\n",
    "    for flag, sub_group in group.groupby('flags'):\n",
    "        color = color_map_flags.get(flag, 'gray') \n",
    "        ax2.scatter(sub_group['ra'], sub_group['dec'], color=color, \n",
    "                    alpha=0.7, s=1,label=f\"Flag {flag}\")\n",
    "\n",
    "    ax2.set_xlabel(\"ra\")\n",
    "    ax2.set_ylabel(\"dec\")\n",
    "    ax2.set_title(f\"E{eclipse} - flags\")\n",
    "    ax2.legend(fontsize=4, loc='best', frameon=True, markerscale=0.5)\n",
    "\n",
    "    plt.tight_layout()\n",
    "    plot_path = os.path.join(plot_dir, f\"eclipse_{eclipse}.png\")\n",
    "    plt.savefig(plot_path, dpi=300, bbox_inches='tight')\n",
    "    plt.close()\n",
    "\n",
    "print(f\"Plots saved in {plot_dir}\")\n"
   ]
  },
  {
   "cell_type": "code",
   "execution_count": null,
   "id": "b9a54fe9-b59d-4a35-96a0-7ddcd9d5d54a",
   "metadata": {},
   "outputs": [],
   "source": [
    "# need to merge new boresight parquet with old boresight parquet \n",
    "\n",
    "bore_combo = parquet.read_table('/home/bekah/gPhoton2/gPhoton/aspect/boresight_combined.parquet').to_pandas()\n"
   ]
  },
  {
   "cell_type": "code",
   "execution_count": null,
   "id": "f6807bbb-4dbe-4189-9fba-6b563b9f0701",
   "metadata": {},
   "outputs": [],
   "source": [
    "bore_combo"
   ]
  },
  {
   "cell_type": "code",
   "execution_count": null,
   "id": "5fbde9c7-1397-4b4c-a3c0-090756fa2264",
   "metadata": {},
   "outputs": [],
   "source": [
    "bore_og = parquet.read_table('/home/bekah/gPhoton2/gPhoton/aspect/boresight.parquet').to_pandas()\n"
   ]
  },
  {
   "cell_type": "code",
   "execution_count": null,
   "id": "b80e7d59-3aae-4073-aa8b-de41a291dc98",
   "metadata": {},
   "outputs": [],
   "source": [
    "bore_og"
   ]
  },
  {
   "cell_type": "code",
   "execution_count": null,
   "id": "dead2883-7c4a-4e22-a7c6-ca4493eb4605",
   "metadata": {},
   "outputs": [],
   "source": [
    "import pandas as pd\n",
    "\n",
    "eclipse_values = bore_combo[\"eclipse\"].unique()\n",
    "bore_og_filtered = bore_og[~bore_og[\"eclipse\"].isin(eclipse_values)]\n",
    "bore_final = pd.concat([bore_og_filtered, bore_combo], ignore_index=True)\n",
    "bore_final[\"eclipse\"] = bore_final[\"eclipse\"].astype(int)\n",
    "bore_final = bore_final.sort_values(by=\"time\").reset_index(drop=True)\n",
    "\n",
    "bore_final.to_parquet(\"bore_splitPP.parquet\", index=False)\n"
   ]
  },
  {
   "cell_type": "code",
   "execution_count": null,
   "id": "e11a20dc-53d4-481e-b56e-3ea790849e83",
   "metadata": {},
   "outputs": [],
   "source": [
    "bore_final"
   ]
  },
  {
   "cell_type": "code",
   "execution_count": null,
   "id": "6b000c16-90e9-44b0-84bf-cf5ffac8d94c",
   "metadata": {},
   "outputs": [],
   "source": [
    "eclipse = 23532"
   ]
  },
  {
   "cell_type": "code",
   "execution_count": null,
   "id": "719f0345-5338-4361-8c06-0092cd1e945a",
   "metadata": {},
   "outputs": [],
   "source": [
    "aspect  = parquet.read_table('/home/bekah/gPhoton2/gPhoton/aspect/aspect.parquet',\n",
    "                           filters=[('eclipse','=',eclipse)]).to_pandas()"
   ]
  },
  {
   "cell_type": "code",
   "execution_count": null,
   "id": "8de90ca0-1b3a-4d04-a3fe-0571c6eebe10",
   "metadata": {},
   "outputs": [],
   "source": [
    "aspect_combined = parquet.read_table('/home/bekah/gPhoton2/gPhoton/aspect/aspect_combined.parquet', filters=[('eclipse','=',eclipse)]).to_pandas()\n"
   ]
  },
  {
   "cell_type": "code",
   "execution_count": null,
   "id": "1455eef4-e001-4dc8-8d5b-b2cafda5dc7b",
   "metadata": {},
   "outputs": [],
   "source": [
    "e46646 = aspect[aspect['eclipse']==eclipse]"
   ]
  },
  {
   "cell_type": "code",
   "execution_count": null,
   "id": "53b7406d-6e67-429f-b1fa-c5640afdccf2",
   "metadata": {},
   "outputs": [],
   "source": [
    "plt.scatter(e46646['ra'],e46646['dec'],s=1)"
   ]
  },
  {
   "cell_type": "code",
   "execution_count": null,
   "id": "7807c029-9d95-4bf7-b16a-226ccbbfa152",
   "metadata": {},
   "outputs": [],
   "source": [
    "groups = aspect_combined.groupby('leg_id')"
   ]
  },
  {
   "cell_type": "code",
   "execution_count": null,
   "id": "c34abb72-ca2e-4b6c-b0d8-4933e68af660",
   "metadata": {},
   "outputs": [],
   "source": [
    "b46646 = bore_final[bore_final['eclipse']==23532]"
   ]
  },
  {
   "cell_type": "code",
   "execution_count": null,
   "id": "95ae6fc0-edba-40ba-8d00-815b14faa39d",
   "metadata": {},
   "outputs": [],
   "source": [
    "b46646"
   ]
  },
  {
   "cell_type": "code",
   "execution_count": null,
   "id": "1e7cd1a3-7bf7-499b-8298-9f8bc668b878",
   "metadata": {},
   "outputs": [],
   "source": [
    "eclipse = 46646\n",
    "b46646 = bore_final[bore_final['eclipse']==eclipse]\n",
    "plt.scatter(b46646.index,b46646['time'])\n",
    "plt.scatter(b46646.index[0],bore_og[bore_og['eclipse']==eclipse]['time'],marker='*')"
   ]
  },
  {
   "cell_type": "code",
   "execution_count": null,
   "id": "252f97d1-a460-4822-85c2-76c13c80c921",
   "metadata": {},
   "outputs": [],
   "source": [
    "print(bore_og[bore_og['eclipse']==46646]['time'].values)"
   ]
  },
  {
   "cell_type": "code",
   "execution_count": null,
   "id": "bddb543c-a2df-4d41-a4e7-71fd34f2fd49",
   "metadata": {},
   "outputs": [],
   "source": [
    "eclipse = 29216 \n",
    "aspect  = parquet.read_table('/home/bekah/gPhoton2/gPhoton/aspect/aspect.parquet',\n",
    "                           filters=[('eclipse','=',eclipse)]).to_pandas()\n",
    "boresight = parquet.read_table('/home/bekah/gPhoton2/gPhoton/aspect/boresight.parquet',\n",
    "                           filters=[('eclipse','=',eclipse)]).to_pandas()"
   ]
  },
  {
   "cell_type": "code",
   "execution_count": null,
   "id": "ba585132-1f53-4e24-9f11-1687b3c07486",
   "metadata": {},
   "outputs": [],
   "source": [
    "plt.scatter(aspect['ra'],aspect['dec'],s=1)"
   ]
  },
  {
   "cell_type": "code",
   "execution_count": null,
   "id": "a15f4cda-5379-4c47-9baf-af70b8e2e33a",
   "metadata": {},
   "outputs": [],
   "source": [
    "boresight"
   ]
  },
  {
   "cell_type": "code",
   "execution_count": null,
   "id": "d91eceae-bf43-4872-94b7-35e2eea89736",
   "metadata": {},
   "outputs": [],
   "source": [
    "1681/15"
   ]
  },
  {
   "cell_type": "code",
   "execution_count": null,
   "id": "da7b5edd-5b4c-4d90-a1a0-f77b429de47c",
   "metadata": {},
   "outputs": [],
   "source": [
    "first_row = aspect.iloc[[0]]\n",
    "selected_rows = aspect.iloc[100::100, :]\n",
    "boresight_df = pd.concat([first_row, selected_rows]).reset_index(drop=True)\n",
    "\n",
    "boresight_df['ra0'] = boresight['ra0'].iloc[0]  \n",
    "boresight_df['dec0'] = boresight['dec0'].iloc[0] \n",
    "boresight_df['roll0'] = boresight['roll0'].iloc[0]  \n",
    "boresight_df['eclipse'] = boresight['eclipse'].iloc[0]\n",
    "\n",
    "boresight_df.to_parquet(\"boresight.parquet\", index=False)\n",
    "\n"
   ]
  },
  {
   "cell_type": "code",
   "execution_count": null,
   "id": "2d8eab6a-c58b-4f22-af5e-5a589f9ad1cd",
   "metadata": {},
   "outputs": [],
   "source": [
    "e = parquet.read_table(\"boresight.parquet\").to_pandas()\n",
    "e"
   ]
  },
  {
   "cell_type": "code",
   "execution_count": null,
   "id": "ac9c7438-70ad-4bf9-97ad-a92481b4811a",
   "metadata": {},
   "outputs": [],
   "source": []
  }
 ],
 "metadata": {
  "kernelspec": {
   "display_name": "Python 3 (ipykernel)",
   "language": "python",
   "name": "python3"
  },
  "language_info": {
   "codemirror_mode": {
    "name": "ipython",
    "version": 3
   },
   "file_extension": ".py",
   "mimetype": "text/x-python",
   "name": "python",
   "nbconvert_exporter": "python",
   "pygments_lexer": "ipython3",
   "version": "3.11.6"
  }
 },
 "nbformat": 4,
 "nbformat_minor": 5
}
