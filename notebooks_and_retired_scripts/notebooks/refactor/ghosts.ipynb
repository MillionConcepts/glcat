{
 "cells": [
  {
   "cell_type": "code",
   "execution_count": null,
   "id": "2bc0e825-2946-48fe-a955-ef5bd0ccfdc0",
   "metadata": {},
   "outputs": [],
   "source": [
    "import matplotlib as mpl\n",
    "import matplotlib.pyplot as plt\n",
    "import numpy as np\n",
    "import fitsio\n",
    "from astropy.io import fits\n",
    "import pandas as pd \n",
    "import sys\n",
    "from quickbin import bin2d\n",
    "from pyarrow import parquet\n",
    "sys.path.append('/home/bekah/gPhoton2')"
   ]
  },
  {
   "cell_type": "code",
   "execution_count": null,
   "id": "4b807489-9487-4965-9557-1a5881e6ff4e",
   "metadata": {},
   "outputs": [],
   "source": [
    "def centile_clip(image, centiles=(1, 99.5)):\n",
    "    \"\"\"\n",
    "    simple clipping function that clips values above and below a given\n",
    "    percentile range\n",
    "    \"\"\"\n",
    "    finite = np.ma.masked_invalid(image)\n",
    "    bounds = np.percentile(finite[~finite.mask].data, centiles)\n",
    "    result = np.ma.clip(finite, *bounds)\n",
    "    \n",
    "    if isinstance(image, np.ma.MaskedArray):\n",
    "        \n",
    "        return result\n",
    "    \n",
    "    return result.data"
   ]
  },
  {
   "cell_type": "code",
   "execution_count": null,
   "id": "31bd0540-7235-4303-9387-de5a25c94475",
   "metadata": {},
   "outputs": [],
   "source": [
    "eclipse = 44405\n",
    "#star_file = \"/home/bekah/gPhoton2/test_data/e44405/e44405-nd-f0120-b00-movie-photom-12_8.csv\"\n",
    "#stars = pd.read_csv(star_file)le"
   ]
  },
  {
   "cell_type": "code",
   "execution_count": null,
   "id": "57843483-bb1e-4b7c-b0e1-cf148e0c4b0f",
   "metadata": {},
   "outputs": [],
   "source": [
    "leg_data = parquet.read_table(\"/home/bekah/gPhoton2/test_data/e44405/e44405-nd-b00.parquet\",\n",
    "                           columns=['flags','ra','dec','col','row','mask','ya'],filters=[('col','<=',800),('row','<=',800),('col','>=',0),('row','>=',0)]).to_pandas()\n"
   ]
  },
  {
   "cell_type": "code",
   "execution_count": null,
   "id": "9ecb8a86-fc0d-4542-bc48-00b5293de5b3",
   "metadata": {},
   "outputs": [],
   "source": [
    "ra, dec, mask, col, row, flags = (\n",
    "            leg_data[\"ra\"],\n",
    "            leg_data[\"dec\"],\n",
    "            leg_data[\"mask\"],\n",
    "            leg_data[\"col\"],\n",
    "            leg_data[\"row\"],\n",
    "            leg_data[\"flags\"],\n",
    "        )\n",
    "\n",
    "valid_indices = (col >= 0) & (col <= 800) & (row >= 0) & (row <= 800)\n",
    "    # have to mask all NaNs for bin2d to work properly\n",
    "nan_free_indices = valid_indices & ~np.isnan(ya) & ~np.isnan(ra) & ~np.isnan(dec)\n",
    "ra_valid, dec_valid, flag_valid, mask_valid = ra[nan_free_indices], dec[nan_free_indices], flags[nan_free_indices], mask[nan_free_indices]\n",
    "\n",
    "\n",
    "ra_valid = np.asarray(ra_valid, dtype=np.float64)\n",
    "dec_valid = np.asarray(dec_valid, dtype=np.float64)\n",
    "flag_valid = np.asarray(flag_valid, dtype=np.float64)\n",
    "mask_valid = np.asarray(mask_valid, dtype=np.float64)\n",
    "\n",
    "result_flags = bin2d(ra_valid, dec_valid, flag_valid, ('mean','count'), n_bins=1600)\n",
    "result_mask = bin2d(ra_valid, dec_valid, mask_valid, ('mean','count'), n_bins=1600)"
   ]
  },
  {
   "cell_type": "code",
   "execution_count": null,
   "id": "2f885b4a-f26a-4c3a-a8dc-4872311cd848",
   "metadata": {},
   "outputs": [],
   "source": [
    "result = bin2d(photon['col'], photon['row'], photon['ya'], ('std', 'mean','count'), n_bins=1600)\n",
    "#result_flags = bin2d(leg_data['ra'], leg_data['dec'], leg_data['ya'], ('mean','count'), n_bins=1600)\n",
    "#result_mask = bin2d(leg_data['ra'], leg_data['dec'], leg_data['row'],g_d ('mean','count'), n_bins=1600)\n",
    "#resultr = bin2d(photon['ra'], photon['dec'], photon['xa'], ('mean'), n_bins=1600)\n",
    "#result_ya = bin2d(photon['ra'], photon['dec'], photon['ya'], ('mean'), n_bins=1600)\n",
    "#result_m = bin2d(photon['ra'], photon['dec'], photon['ya'], ('median'), n_bins=1600)\n"
   ]
  },
  {
   "cell_type": "code",
   "execution_count": null,
   "id": "f34324cf-3205-45ce-b87b-5a428569d328",
   "metadata": {},
   "outputs": [],
   "source": [
    "plt.scatter(leg_data['mask'], leg_data[\"flags\"],s=.01)\n",
    "plt.xlabel(\"mask\")\n",
    "plt.ylabel(\"flags\")"
   ]
  },
  {
   "cell_type": "code",
   "execution_count": null,
   "id": "3adbd0c7-0535-4858-95de-781a82e503d7",
   "metadata": {},
   "outputs": [],
   "source": [
    "from quickbin import bin2d\n",
    "from numpy.lib import recfunctions as rfn\n",
    "\n",
    "n_bins = 1600\n",
    "\n",
    "ra, dec, ya, col, row, flags = (\n",
    "        leg_data[\"ra\"],\n",
    "        leg_data[\"dec\"],\n",
    "        leg_data[\"ya\"],\n",
    "        leg_data[\"col\"],\n",
    "        leg_data[\"row\"],\n",
    "        leg_data[\"flags\"],\n",
    "    )\n",
    "\n",
    "print(\"filtering\")\n",
    "valid_indices = (col >= 0) & (col <= 800) & (row >= 0) & (row <= 800)\n",
    "ra_valid, dec_valid, ya_valid = ra[valid_indices], dec[valid_indices], ya[valid_indices]\n",
    "\n",
    "print(\"binning\")\n",
    "binned = bin2d(ra_valid, dec_valid, ya_valid, ('mean', 'count'), n_bins=n_bins)\n",
    "\n",
    "filtered = (binned['mean'] < 9).astype(int) & (binned['count'] > 15).astype(int)\n",
    "flagged_pixels = np.where(filtered == 1)\n",
    "\n",
    "print(len(flagged_pixels))\n",
    "print(flagged_pixels)\n",
    "\n",
    "# map binned coordinates to ra/dec values\n",
    "ra_min, ra_max = np.min(ra_valid), np.max(ra_valid)\n",
    "dec_min, dec_max = np.min(dec_valid), np.max(dec_valid)\n",
    "ra_edges = np.linspace(ra_min, ra_max, n_bins + 1)\n",
    "dec_edges = np.linspace(dec_min, dec_max, n_bins + 1)\n",
    "ra_flagged = (ra_edges[flagged_pixels[0]] + ra_edges[flagged_pixels[0] + 1]) / 2\n",
    "dec_flagged = (dec_edges[flagged_pixels[1]] + dec_edges[flagged_pixels[1] + 1]) / 2\n",
    "print(\"masking\")\n",
    "mask = np.zeros_like(ra, dtype=bool)\n"
   ]
  },
  {
   "cell_type": "code",
   "execution_count": null,
   "id": "b8075d50-4ece-4006-9d3d-50c9b30ae6d8",
   "metadata": {},
   "outputs": [],
   "source": [
    "len(flagged_pixels[0])"
   ]
  },
  {
   "cell_type": "code",
   "execution_count": null,
   "id": "fce3f15e-deeb-42aa-ae96-de33cc150f7d",
   "metadata": {},
   "outputs": [],
   "source": [
    "for r, d in zip(ra_flagged, dec_flagged):\n",
    "    print(r)\n",
    "    mask |= ((ra >= r) & (ra < r + (ra_max - ra_min) / n_bins)) & \\\n",
    "            ((dec >= d) & (dec < d + (dec_max - dec_min) / n_bins))\n",
    "print(\"recarray\")\n",
    "print(len(mask))\n",
    "leg_data[\"flags\"][mask] = 250"
   ]
  },
  {
   "cell_type": "code",
   "execution_count": null,
   "id": "6cb74837-fa6e-4ba2-adeb-1694ab09d32d",
   "metadata": {},
   "outputs": [],
   "source": [
    "plt.scatter(ra, dec, c=mask)"
   ]
  },
  {
   "cell_type": "code",
   "execution_count": null,
   "id": "2a6bc462-432c-4344-84b7-58a8bda7698f",
   "metadata": {},
   "outputs": [],
   "source": [
    "eclipse = 'e44405'\n",
    "#hdu1 = fits.PrimaryHDU(result['mean'].data)\n",
    "hdu2 = fits.PrimaryHDU(result_flags['mean'])\n",
    "hdulist = fits.HDUList([hdu2])\n",
    "hdulist.writeto(f'e{eclipse}_flags', overwrite=True)\n",
    "print(f\"done w {eclipse}\")\n",
    "eclipse = 'e44405'\n",
    "#hdu1 = fits.PrimaryHDU(result['mean'].data)\n",
    "hdu2 = fits.PrimaryHDU(result_mask['mean'])\n",
    "hdulist = fits.HDUList([hdu2])\n",
    "hdulist.writeto(f'e{eclipse}_mask', overwrite=True)\n",
    "print(f\"done w {eclipse}\")"
   ]
  },
  {
   "cell_type": "code",
   "execution_count": null,
   "id": "49a28812-c224-4391-a9fd-1940b84f2b3c",
   "metadata": {},
   "outputs": [],
   "source": [
    "eclipse = 'e44405'\n",
    "#hdu1 = fits.PrimaryHDU(result['mean'].data)\n",
    "hdu2 = fits.PrimaryHDU(resultya['mean'])\n",
    "hdulist = fits.HDUList([hdu2])\n",
    "hdulist.writeto(f'e{eclipse}_ra_dec_{x}', overwrite=True)\n",
    "print(f\"done w {eclipse}\")\n",
    "\n",
    "hdu3 = fits.PrimaryHDU(result['mean'])\n",
    "hdulist = fits.HDUList([hdu3])\n",
    "hdulist.writeto(f'e{eclipse}_col_row_{x}', overwrite=True)\n",
    "print(f\"done w {eclipse}\")"
   ]
  },
  {
   "cell_type": "code",
   "execution_count": null,
   "id": "182662c6-f1f3-4fde-97ea-a88aedb20438",
   "metadata": {},
   "outputs": [],
   "source": [
    "plt.imshow(resultr>15)\n",
    "plt.colorbar()"
   ]
  },
  {
   "cell_type": "code",
   "execution_count": null,
   "id": "96439af3-dbe8-43f5-9349-e24fa41dba52",
   "metadata": {
    "scrolled": true
   },
   "outputs": [],
   "source": [
    "filtered = (resultya['mean']<9).astype(int) + (resultya['count']>15).astype(int)\n",
    "plt.imshow(filtered==2)\n",
    "plt.colorbar()"
   ]
  },
  {
   "cell_type": "code",
   "execution_count": null,
   "id": "8c572504-897e-4b51-97d1-3c9d3e2e5d13",
   "metadata": {},
   "outputs": [],
   "source": [
    "mask = filtered==2 \n",
    "masked = np.where(mask, np.nan, resultya['count'])"
   ]
  },
  {
   "cell_type": "code",
   "execution_count": null,
   "id": "c9eb5d6c-9507-4048-93ca-9656a912a0b0",
   "metadata": {
    "scrolled": true
   },
   "outputs": [],
   "source": [
    "plt.imshow(centile_clip(masked),cmap='cividis')"
   ]
  },
  {
   "cell_type": "code",
   "execution_count": null,
   "id": "3e756b85-106e-4d73-800f-edc3f918446c",
   "metadata": {},
   "outputs": [],
   "source": [
    "eclipse = 'e44405'\n",
    "hdu1 = fits.PrimaryHDU(masked)\n",
    "hdulist = fits.HDUList([hdu1])\n",
    "hdulist.writeto(f'e{eclipse}_mask', overwrite=True)\n",
    "print(f\"done w {eclipse}\")"
   ]
  },
  {
   "cell_type": "code",
   "execution_count": null,
   "id": "171c5b50-c46c-4a4d-b896-1467c39b6bb3",
   "metadata": {},
   "outputs": [],
   "source": [
    "len(leg_data)"
   ]
  },
  {
   "cell_type": "code",
   "execution_count": null,
   "id": "bce7384a-e5dc-4bc0-80c9-c1ceefa639bb",
   "metadata": {},
   "outputs": [],
   "source": [
    "plt.hist(np.ravel(leg_data['flags']),bins=100)"
   ]
  },
  {
   "cell_type": "code",
   "execution_count": null,
   "id": "dfd31462-554d-41ce-a447-2ea17a9928e4",
   "metadata": {},
   "outputs": [],
   "source": [
    "plt.imshow(centile_clip(resultya['mean'],(20,70)),cmap='grey')"
   ]
  },
  {
   "cell_type": "code",
   "execution_count": null,
   "id": "4ae8439c-5ad1-47d5-9ba8-4e141a02b9ae",
   "metadata": {},
   "outputs": [],
   "source": [
    "plt.imshow(centile_clip(resultya['count'],(1,95)))"
   ]
  },
  {
   "cell_type": "code",
   "execution_count": null,
   "id": "4d7f57b4-ef66-41b0-9fa0-8eebcc71a934",
   "metadata": {},
   "outputs": [],
   "source": [
    "hdu1 = fits.PrimaryHDU(result['count{'])\n",
    "hdulist = fits.HDUList([hdu1])\n",
    "hdulist.writeto(f'e{eclipse}_proj', overwrite=True)\n",
    "print(f\"done w {eclipse}\")"
   ]
  },
  {
   "cell_type": "code",
   "execution_count": null,
   "id": "b90bbd81-8112-4c62-8874-e637ef8a78ea",
   "metadata": {},
   "outputs": [],
   "source": [
    "plt.scatter(photon['col'],photon['row'],c=photon['ya'],s=.01)"
   ]
  },
  {
   "cell_type": "code",
   "execution_count": null,
   "id": "efdbb9f8-7457-4c9e-8fd6-2306db5fe639",
   "metadata": {},
   "outputs": [],
   "source": [
    "aspect  = parquet.read_table('/home/bekah/gPhoton2/gPhoton/aspect/aspect.parquet',\n",
    "                           filters=[('eclipse','=',eclipse)]).to_pandas()\n",
    "boresight = parquet.read_table('/home/bekah/gPhoton2/gPhoton/aspect/boresight.parquet',\n",
    "                           filters=[('eclipse','=',eclipse)]).to_pandas()\n",
    "metadata  = parquet.read_table('/home/bekah/gPhoton2/gPhoton/aspect/metadata.parquet',\n",
    "                           filters=[('eclipse','=',eclipse)]).to_pandas()"
   ]
  },
  {
   "cell_type": "code",
   "execution_count": null,
   "id": "becac0e2-54c9-4ed1-bdd2-5a39cd0eead8",
   "metadata": {},
   "outputs": [],
   "source": [
    "plt.scatter(aspect['ra'],aspect['dec'],c=aspect['roll'])\n",
    "plt.colorbar()"
   ]
  },
  {
   "cell_type": "code",
   "execution_count": null,
   "id": "f5aa68ad-3422-41ba-bac0-4d27320bf34a",
   "metadata": {},
   "outputs": [],
   "source": [
    "plt.hist(aspect['roll'])"
   ]
  },
  {
   "cell_type": "code",
   "execution_count": null,
   "id": "9866cf31-9301-4bb0-8ce4-676c70c40915",
   "metadata": {},
   "outputs": [],
   "source": [
    "good_stars = stars[stars['aperture_sum_mask']==0.0]\n",
    "good_stars = good_stars[good_stars['aperture_sum_edge']<50.0]\n",
    "good_stars = good_stars[good_stars['aperture_sum']<3500.0]"
   ]
  },
  {
   "cell_type": "code",
   "execution_count": null,
   "id": "68938958-b5a6-454c-a860-688af81895c9",
   "metadata": {},
   "outputs": [],
   "source": [
    "plt.scatter(good_stars['xcentroid'],good_stars['ycentroid'],c=good_stars['aperture_sum_0'],s=.5)\n",
    "plt.colorbar()"
   ]
  },
  {
   "cell_type": "code",
   "execution_count": null,
   "id": "d945a0a6-35fb-4743-a7a1-029c3cb9ce34",
   "metadata": {},
   "outputs": [],
   "source": [
    "good_stars"
   ]
  },
  {
   "cell_type": "code",
   "execution_count": null,
   "id": "1318d0a6-c0ab-41e4-a5b8-0e4862d22192",
   "metadata": {},
   "outputs": [],
   "source": [
    "360-34-34"
   ]
  },
  {
   "cell_type": "code",
   "execution_count": null,
   "id": "109586ed-57fc-4237-a23a-3662c198e4aa",
   "metadata": {},
   "outputs": [],
   "source": [
    "good_stars.keys()"
   ]
  },
  {
   "cell_type": "code",
   "execution_count": null,
   "id": "e8b6bf48-a2c5-4443-bcb7-4bf5149cfa9c",
   "metadata": {},
   "outputs": [],
   "source": [
    "plt.hist(good_stars['aperture_sum'],bins=100)"
   ]
  },
  {
   "cell_type": "code",
   "execution_count": null,
   "id": "b4d5cc76-ad7a-4b93-b357-686013a7ac9b",
   "metadata": {},
   "outputs": [],
   "source": [
    "wig = fits.open(\"/home/bekah/gPhoton2/gPhoton/cal_data/WIG2_Sep2010.fits\")\n",
    "walk = fits.open(\"/home/bekah/gPhoton2/gPhoton/cal_data/WLK2_Sep2010.fits\")"
   ]
  },
  {
   "cell_type": "code",
   "execution_count": null,
   "id": "870195d2-011a-4f50-b937-472f9c0d96c5",
   "metadata": {},
   "outputs": [],
   "source": [
    "from astropy.table import Table\n",
    "\n",
    "wiggle = Table(wig[1].data).to_pandas()"
   ]
  },
  {
   "cell_type": "code",
   "execution_count": null,
   "id": "3db87947-bc80-44be-b2e7-a7997d1d40b2",
   "metadata": {},
   "outputs": [],
   "source": [
    "plt.scatter(wig[1].data['YA'],wig[1].data['ycor'],c=wig[1].data['YA'],s=.05)\n",
    "plt.xlabel('ya')\n",
    "plt.ylabel('y correction in arcseconds') "
   ]
  },
  {
   "cell_type": "code",
   "execution_count": null,
   "id": "2aa90dbe-3e2b-4e02-876e-b38cad2594b6",
   "metadata": {},
   "outputs": [],
   "source": [
    "wig[0].header"
   ]
  },
  {
   "cell_type": "code",
   "execution_count": null,
   "id": "80886d4f-2378-4723-b58c-522e826c4971",
   "metadata": {},
   "outputs": [],
   "source": [
    "plt.scatter(wiggle['ycor'],wiggle.index,c=wiggle['ycor'],s=.05)\n",
    "plt.xlabel('YA')\n",
    "plt.ylabel('index') \n",
    "plt.colorbar()"
   ]
  },
  {
   "cell_type": "code",
   "execution_count": null,
   "id": "1b03c899-b857-4557-a01f-f32b5f66aa2f",
   "metadata": {},
   "outputs": [],
   "source": []
  }
 ],
 "metadata": {
  "kernelspec": {
   "display_name": "Python 3 (ipykernel)",
   "language": "python",
   "name": "python3"
  },
  "language_info": {
   "codemirror_mode": {
    "name": "ipython",
    "version": 3
   },
   "file_extension": ".py",
   "mimetype": "text/x-python",
   "name": "python",
   "nbconvert_exporter": "python",
   "pygments_lexer": "ipython3",
   "version": "3.11.6"
  }
 },
 "nbformat": 4,
 "nbformat_minor": 5
}
