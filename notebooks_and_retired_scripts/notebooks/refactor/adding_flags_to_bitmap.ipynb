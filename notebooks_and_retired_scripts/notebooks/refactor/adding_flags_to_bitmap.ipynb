{
 "cells": [
  {
   "cell_type": "code",
   "execution_count": null,
   "id": "ebd8ce14-d941-48be-9c68-32fa22cb48ec",
   "metadata": {},
   "outputs": [],
   "source": [
    "import matplotlib as mpl\n",
    "import matplotlib.pyplot as plt\n",
    "import numpy as np\n",
    "import fitsio\n",
    "from astropy.io import fits\n",
    "import pandas as pd \n",
    "import sys\n",
    "from quickbin import bin2d\n",
    "from pyarrow import parquet\n",
    "import pyarrow"
   ]
  },
  {
   "cell_type": "code",
   "execution_count": null,
   "id": "04ff261f-19b5-4bbb-b344-898d756153de",
   "metadata": {},
   "outputs": [],
   "source": [
    "def centile_clip(image, centiles=(1, 99.5)):\n",
    "    \"\"\"\n",
    "    simple clipping function that clips values above and below a given\n",
    "    percentile range\n",
    "    \"\"\"\n",
    "    finite = np.ma.masked_invalid(image)\n",
    "    bounds = np.percentile(finite[~finite.mask].data, centiles)\n",
    "    result = np.ma.clip(finite, *bounds)\n",
    "    \n",
    "    if isinstance(image, np.ma.MaskedArray):\n",
    "        \n",
    "        return result\n",
    "    \n",
    "    return result.data"
   ]
  },
  {
   "cell_type": "code",
   "execution_count": null,
   "id": "00fbea98-21c6-441a-9f02-c77a3e183650",
   "metadata": {},
   "outputs": [],
   "source": [
    "eclipse = 'e23456'\n",
    "\n",
    "image = fits.open(f\"/home/bekah/gPhoton2/test_data/{eclipse}/{eclipse}-nd-ffull-b00-image-r.fits\")\n",
    "movie = fits.open(f\"/home/bekah/gPhoton2/test_data/{eclipse}/{eclipse}-nd-f0120-b00-movie-r.fits\") "
   ]
  },
  {
   "cell_type": "code",
   "execution_count": null,
   "id": "fa78bb58-5b00-4e43-a8f2-c7d127dab443",
   "metadata": {},
   "outputs": [],
   "source": [
    "\n",
    "def prep_image_inputs(photonfile, edge_threshold):\n",
    "    event_table, exposure_array = load_image_tables(photonfile)\n",
    "    foc, wcs = generate_wcs_components(event_table)\n",
    "    with warnings.catch_warnings():\n",
    "        # don't bother us about divide-by-zero errors\n",
    "        warnings.simplefilter(\"ignore\")\n",
    "        weights = 1.0 / event_table[\"response\"].to_numpy()\n",
    "    mask_ix = np.where(event_table[\"mask\"].to_numpy())\n",
    "    edge_ix = np.where(event_table[\"detrad\"].to_numpy() > edge_threshold)\n",
    "    t = event_table[\"t\"].to_numpy()\n",
    "    map_ix_dict = generate_indexed_values(edge_ix, foc, mask_ix, t, weights)\n",
    "    total_trange = (t.min(), t.max())\n",
    "    return exposure_array, map_ix_dict, total_trange, wcs\n",
    "\n",
    "\n",
    "def generate_indexed_values(edge_ix, foc, mask_ix, t, weights):\n",
    "    indexed = NestingDict()\n",
    "    for value, value_name in zip((t, foc, weights), (\"t\", \"foc\", \"weights\")):\n",
    "        for map_ix, map_name in zip(\n",
    "            (edge_ix, mask_ix, slice(None)), (\"edge\", \"flag\", \"cnt\")\n",
    "        ):\n",
    "            indexed[map_name][value_name] = value[map_ix]\n",
    "    return indexed\n",
    "\n",
    "def load_image_tables(\n",
    "    photonfile: Pathlike,\n",
    ") -> tuple[pyarrow.Table, np.ndarray]:\n",
    "    \"\"\"\n",
    "    read a photonlist file produced by `photonpipe` from a raw6 telemetry file;\n",
    "    return event and exposure tables appropriate for making images / movies\n",
    "    and performing photometry\n",
    "    \"\"\"\n",
    "    relevant_columns = [\"ra\", \"dec\", \"response\", \"flags\", \"mask\", \"t\", \"detrad\"]\n",
    "    event_table = parquet.read_table(photonfile, columns=relevant_columns)\n",
    "    # retain time and flag for every event for exposure time computations\n",
    "    exposure_array = parquet_to_ndarray(event_table, [\"t\", \"flags\"])\n",
    "    # but otherwise only deal with data actually on the 800x800 detector grid\n",
    "    event_table = select_on_detector(event_table)\n",
    "    return event_table, exposure_array\n",
    "\n",
    "def parquet_to_ndarray(table, columns=None):\n",
    "    if columns is None:\n",
    "        columns = table.column_names\n",
    "    return np.array([table[column].to_numpy() for column in columns]).T\n",
    "\n",
    "def select_on_detector(\n",
    "    event_table: pyarrow.Table, threshold: int = 400\n",
    ") -> pyarrow.Table:\n",
    "    \"\"\"\n",
    "    select events \"on\" the detector\n",
    "    :param event_table: pyarrow Table that contains a detector radius column\n",
    "    :param threshold: how many pixels away from center still counts as \"on\"?\n",
    "    :return: Table consisting of rows of event_table \"on\" detector\n",
    "    \"\"\"\n",
    "    detrad = event_table[\"detrad\"].to_numpy()\n",
    "    return event_table.take(\n",
    "        # TODO: is isfinite() necessary?\n",
    "        np.where(np.isfinite(detrad) & (detrad < threshold))[0]\n",
    "    )\n",
    "\n",
    "def generate_wcs_components(event_table):\n",
    "    wcs = make_bounding_wcs(parquet_to_ndarray(event_table, [\"ra\", \"dec\"]))\n",
    "    # This is a bottleneck, so only do it once.\n",
    "    # TODO: do we actually want these 1-indexed?\n",
    "    # TODO: are we supposed to have SIP correction? we don't appear to.\n",
    "    foc = wcs.sip_pix2foc(\n",
    "        wcs.wcs_world2pix(parquet_to_ndarray(event_table, [\"ra\", \"dec\"]), 1), 1\n",
    "    )\n",
    "    return foc, wcs\n",
    "\n",
    "def make_bounding_wcs(\n",
    "    radec: np.ndarray,\n",
    "    pixsz: float = c.DEGPERPIXEL,\n",
    "    proj: Sequence[str] = (\"RA---TAN\", \"DEC--TAN\")\n",
    ") -> astropy.wcs.WCS:\n",
    "    \"\"\"\n",
    "    makes a WCS solution for a given range of ra/dec values\n",
    "    by default, assumes gnomonically-projected ra/dec values; scales ra bounds\n",
    "    to approximate distortion in pixel size\n",
    "    radec: n x 2 array with ra in first column and dec in second\n",
    "    pixsz: size of returned WCS's pixels in square degrees;\n",
    "    defaults to degree-per-pixel scale set in gPhoton.constants.DEGPERPIXEL\n",
    "    \"\"\"\n",
    "    real_ra = radec[:, 0][np.isfinite(radec[:, 0])]\n",
    "    real_dec = radec[:, 1][np.isfinite(radec[:, 1])]\n",
    "    ra_range = real_ra.min(), real_ra.max()\n",
    "    dec_range = real_dec.min(), real_dec.max()\n",
    "    # handle viewports in which ra wraps around 360\n",
    "    if ra_range[1] - ra_range[0] > 350:\n",
    "        real_ra[real_ra > 180] -= 360\n",
    "        ra_range = real_ra.min(), real_ra.max()\n",
    "    # WCS center pixel in sky coordinates\n",
    "    ra0, dec0 = (np.mean(ra_range), np.mean(dec_range))\n",
    "    ra0 = ra0 if ra0 > 0 else ra0 + 360\n",
    "    # scale ra-axis pixel size using cos(declination) to approximate\n",
    "    # ra-direction distortion introduced by gnomonic projection\n",
    "    ra_offset = (ra_range[1] - ra_range[0]) * math.cos(math.radians(dec0))\n",
    "    imsz = (\n",
    "        int(np.ceil((dec_range[1] - dec_range[0]) / pixsz)),\n",
    "        int(np.ceil(ra_offset / pixsz)),\n",
    "    )\n",
    "    return make_wcs((ra0, dec0), imsz=imsz, pixsz=pixsz, proj=proj)\n"
   ]
  },
  {
   "cell_type": "code",
   "execution_count": null,
   "id": "f40486ee-65a9-4313-a598-16fe1e61ed87",
   "metadata": {},
   "outputs": [],
   "source": [
    "def select_on_detector(\n",
    "    event_table: pyarrow.Table, threshold: int = 400\n",
    ") -> pyarrow.Table:\n",
    "    \"\"\"\n",
    "    select events \"on\" the detector\n",
    "    :param event_table: pyarrow Table that contains a detector radius column\n",
    "    :param threshold: how many pixels away from center still counts as \"on\"?\n",
    "    :return: Table consisting of rows of event_table \"on\" detector\n",
    "    \"\"\"\n",
    "    detrad = event_table[\"detrad\"].to_numpy()\n",
    "    return event_table.take(\n",
    "        # TODO: is isfinite() necessary?\n",
    "        np.where(np.isfinite(detrad) & (detrad < threshold))[0]\n",
    "    )\n"
   ]
  },
  {
   "cell_type": "code",
   "execution_count": null,
   "id": "630ddfdd-7f7b-46ce-bb90-a3a6398ada47",
   "metadata": {},
   "outputs": [],
   "source": [
    "edge_threshold = 350 \n",
    "relevant_columns = [\"ra\", \"dec\", \"response\", \"flags\", \"mask\", \"t\", \"detrad\"]\n",
    "\n",
    "photonfile = \"/home/bekah/gPhoton2/test_data/e44405/e44405-nd-b00.parquet\"\n",
    "event_table = parquet.read_table(photonfile, columns=relevant_columns)\n",
    "event_table = select_on_detector(event_table, edge_threshold)\n"
   ]
  },
  {
   "cell_type": "code",
   "execution_count": null,
   "id": "236ad50c-8ac2-4259-b6a5-390c21444efd",
   "metadata": {},
   "outputs": [],
   "source": [
    "def calculate_flag_mask(flags):\n",
    "    flag_column_mapping = {\n",
    "        7: 0,\n",
    "        12: 1,\n",
    "        120: 2}\n",
    "    mask = 0\n",
    "    for flag, bit_position in flag_column_mapping.items():\n",
    "        if flags & flag:\n",
    "            mask |= (1 << bit_position)\n",
    "    return mask"
   ]
  },
  {
   "cell_type": "code",
   "execution_count": null,
   "id": "ef38fa54-5892-4245-8abe-c76f59846b7e",
   "metadata": {},
   "outputs": [],
   "source": [
    "mask_part = np.where(event_table[\"mask\"].to_numpy(), (1 << 3), 0)\n",
    "flag_part = event_table[\"flags\"].to_numpy()\n",
    "\n",
    "flag_mask = np.vectorize(calculate_flag_mask)(flag_part)\n",
    "bitmap = mask_part | flag_mask\n",
    "\n"
   ]
  },
  {
   "cell_type": "code",
   "execution_count": null,
   "id": "3909f59a-f19f-4e65-9906-6365b0f2f965",
   "metadata": {},
   "outputs": [],
   "source": [
    "mask_ix = np.where(event_table[\"mask\"].to_numpy())\n",
    "flag_ix = np.where(event_table[\"flags\"].to_numpy() != 0)\n"
   ]
  },
  {
   "cell_type": "code",
   "execution_count": null,
   "id": "6ef1e11b-a075-413b-8545-27fd4bc7d81f",
   "metadata": {},
   "outputs": [],
   "source": [
    "np.size(mask_ix)"
   ]
  },
  {
   "cell_type": "code",
   "execution_count": null,
   "id": "15c7fea1-55dc-45e2-bb3c-12e85634ec62",
   "metadata": {},
   "outputs": [],
   "source": [
    "np.size(flag_ix)"
   ]
  },
  {
   "cell_type": "code",
   "execution_count": null,
   "id": "e5410ad9-189b-40bd-9b5e-38af8b3b2614",
   "metadata": {},
   "outputs": [],
   "source": [
    "flag_to_bit = {7: 0, 12: 1, 120: 2}\n",
    "\n",
    "mask_array = event_table[\"mask\"].to_numpy()\n",
    "flags_array = event_table[\"flags\"].to_numpy()\n",
    "\n",
    "valid_flags = np.array(list(flag_to_bit.keys()))\n",
    "mask_ix = np.where((mask_array != 0) | (np.isin(flags_array, valid_flags)))[0]\n",
    "\n",
    "def flags_to_bitmap(flag, is_masked):\n",
    "    bitmap = 0\n",
    "    for value, bit in flag_to_bit.items():\n",
    "        if flag == value:\n",
    "            bitmap |= (1 << bit)  \n",
    "    if is_masked and bitmap == 0:\n",
    "        bitmap = 8\n",
    "    return bitmap\n",
    "\n",
    "bitmap = np.array([\n",
    "    flags_to_bitmap(flags_array[i], mask_array[i] != 0) for i in mask_ix\n",
    "])"
   ]
  },
  {
   "cell_type": "code",
   "execution_count": null,
   "id": "48c2b1e2-3c95-4e10-b74e-7fb7535796a0",
   "metadata": {},
   "outputs": [],
   "source": [
    "# this is the one \n",
    "\n",
    "flag_to_bit = {7: 0, 12: 1, 120: 2}\n",
    "mask_bit = 3\n",
    "\n",
    "mask_array = event_table[\"mask\"].to_numpy().astype(np.uint8)\n",
    "flags_array = event_table[\"flags\"].to_numpy().astype(np.uint8)\n",
    "\n",
    "bitmap = np.zeros_like(flags_array, dtype=np.uint8)\n",
    "\n",
    "for flag, bit in flag_to_bit.items():\n",
    "    bitmap |= ((flags_array & flag) == flag).astype(np.uint8) << bit\n",
    "\n",
    "bitmap |= (mask_array != 0).astype(np.uint8) << mask_bit\n",
    "\n"
   ]
  },
  {
   "cell_type": "code",
   "execution_count": null,
   "id": "497fc51f-0d3d-4c57-8fe3-d1f81b0670b8",
   "metadata": {},
   "outputs": [],
   "source": [
    "unique = list(set(bitmap))\n",
    "unique"
   ]
  },
  {
   "cell_type": "code",
   "execution_count": null,
   "id": "29237ad7-2974-426b-8c6e-6151ec425d73",
   "metadata": {},
   "outputs": [],
   "source": [
    "plt.hist(event_table['flags'], bins=15)"
   ]
  },
  {
   "cell_type": "code",
   "execution_count": 1,
   "id": "3d1e3138-3115-4f68-9088-5bf0d11cc781",
   "metadata": {},
   "outputs": [],
   "source": [
    "# wth fast histogram \n",
    "import fast_histogram as fh\n",
    "import matplotlib.pyplot as plt\n",
    "import numpy as np\n",
    "import fitsio\n",
    "from astropy.io import fits\n",
    "import pandas as pd \n",
    "\n"
   ]
  },
  {
   "cell_type": "code",
   "execution_count": null,
   "id": "c370ad56-ab3d-40a0-888e-c287bd75d24d",
   "metadata": {},
   "outputs": [],
   "source": []
  }
 ],
 "metadata": {
  "kernelspec": {
   "display_name": "Python 3 (ipykernel)",
   "language": "python",
   "name": "python3"
  },
  "language_info": {
   "codemirror_mode": {
    "name": "ipython",
    "version": 3
   },
   "file_extension": ".py",
   "mimetype": "text/x-python",
   "name": "python",
   "nbconvert_exporter": "python",
   "pygments_lexer": "ipython3",
   "version": "3.11.6"
  }
 },
 "nbformat": 4,
 "nbformat_minor": 5
}
