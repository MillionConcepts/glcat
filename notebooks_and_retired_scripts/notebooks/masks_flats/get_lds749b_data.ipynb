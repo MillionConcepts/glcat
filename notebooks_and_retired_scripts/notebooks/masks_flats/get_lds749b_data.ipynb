{
 "cells": [
  {
   "cell_type": "code",
   "execution_count": null,
   "id": "e1e251ac",
   "metadata": {},
   "outputs": [],
   "source": [
    "import boto3\n",
    "import numpy as np\n",
    "from astropy.io import fits\n",
    "import gzip\n",
    "import re\n",
    "from io import BytesIO\n",
    "import io\n",
    "import pandas as pd \n",
    "import matplotlib.pyplot as plt "
   ]
  },
  {
   "cell_type": "code",
   "execution_count": null,
   "id": "4da3aece",
   "metadata": {},
   "outputs": [],
   "source": [
    "df = pd.read_csv(\"/home/bekah/glcat/flats/lds749b.csv\")\n",
    "df"
   ]
  },
  {
   "cell_type": "code",
   "execution_count": null,
   "id": "9453b273",
   "metadata": {},
   "outputs": [],
   "source": [
    "s3 = boto3.client('s3')\n",
    "\n",
    "bucket_name = 'backplanetest'\n",
    "\n",
    "def download_fits(bucket_name, key):\n",
    "    try:\n",
    "            obj = s3.get_object(Bucket=bucket_name, Key=key)\n",
    "            df = pd.read_csv(obj['Body'])\n",
    "            \n",
    "            # target is lds 749b \n",
    "            target_ra = 323.06763626692\n",
    "            target_dec = 0.25399979666\n",
    "\n",
    "            df['RA_distance'] = abs(df['ra'] - target_ra)\n",
    "            df['DEC_distance'] = abs(df['dec'] - target_dec)\n",
    "        \n",
    "            closest_row = df.loc[(df['RA_distance'] + df['DEC_distance']).idxmin()]\n",
    "            \n",
    "            return closest_row     \n",
    "        \n",
    "    except Exception as e:\n",
    "        if 'NoSuchKey' in str(e):\n",
    "            print(f\"Key '{key}' does not exist. Skipping...\")\n",
    "            return None\n",
    "        else:\n",
    "            print(\"something else went wrong\")\n",
    "            print(str(e))\n",
    "            return None\n",
    "        \n",
    "def get_exptime(bucket_name, key): \n",
    "    try:\n",
    "            obj = s3.get_object(Bucket=bucket_name, Key=key)\n",
    "            fits_data = obj['Body'].read()\n",
    "            fits_file = fits.open(io.BytesIO(fits_data))\n",
    "            header = fits_file[1].header\n",
    "            print(header)\n",
    "            exptime = header['EXPT_0']\n",
    "            start = header['EXPSTART']\n",
    "            fits_file.close()\n",
    "            return start, exptime\n",
    "        \n",
    "    except Exception as e:\n",
    "        if 'NoSuchKey' in str(e):\n",
    "            print(f\"Key '{key}' does not exist. Skipping...\")\n",
    "            return None, None\n",
    "        else:\n",
    "            print(\"something else went wrong\")\n",
    "            print(str(e))\n",
    "            return None, None\n",
    "        \n",
    "        \n",
    "def calculate_magnitude(expt, flux, b):\n",
    "    if b == 'n': \n",
    "        scale = 20.08 \n",
    "    elif b == 'f':\n",
    "        scale = 18.82\n",
    "    else: \n",
    "        print(\"b is not a valid band\")\n",
    "        return None \n",
    "    ab_mag = -2.5 * np.log10(flux / expt) + scale\n",
    "\n",
    "    return ab_mag\n",
    "\n"
   ]
  },
  {
   "cell_type": "code",
   "execution_count": null,
   "id": "d7fdd5dc",
   "metadata": {},
   "outputs": [],
   "source": [
    "# iterate through white dwarf list, downloading data for the star in each leg of each eclipse \n",
    "# add eclipse data & star data together \n",
    "lds749b_list = []\n",
    "b = 'f'\n",
    "\n",
    "for i in range(len(df)): \n",
    "    e = df.iloc[i]['eclipse'] \n",
    "    legs = df.iloc[i]['legs'] \n",
    "    eclipse = str(e).zfill(5)\n",
    "    \n",
    "    for leg in range(legs):\n",
    "        data = download_fits(bucket_name, f\"e{eclipse}-{b}d-lds749b/e{eclipse}-{b}d-full-{leg}-photom-12_8.csv\")\n",
    "        start, exptime = get_exptime(bucket_name,  f\"e{eclipse}-{b}d-lds749b/e{eclipse}-{b}d-full-{leg}-rice.fits\")\n",
    "        if data is not None: \n",
    "            data['eclipse'] = eclipse\n",
    "            data['leg'] = leg\n",
    "            data['exptime'] = exptime\n",
    "            data['start_time'] = start\n",
    "            abmag = calculate_magnitude(data['exptime'], data['flux'], b)\n",
    "            data['ab_mag'] = abmag\n",
    "            print(f\"mag is {abmag} for leg {leg} in eclipse {eclipse}, this is run {i}\")\n",
    "            lds749b_list.append(data)\n",
    "\n",
    "lds749b = pd.DataFrame(lds749b_list, index=None)"
   ]
  },
  {
   "cell_type": "code",
   "execution_count": null,
   "id": "d5a2619b",
   "metadata": {},
   "outputs": [],
   "source": [
    "exptime"
   ]
  },
  {
   "cell_type": "code",
   "execution_count": null,
   "id": "06af0254",
   "metadata": {},
   "outputs": [],
   "source": [
    "eclipse"
   ]
  },
  {
   "cell_type": "code",
   "execution_count": null,
   "id": "d3f713e5",
   "metadata": {},
   "outputs": [],
   "source": [
    "lds749b.to_csv(\"lds749b_fuv_2.csv\")"
   ]
  },
  {
   "cell_type": "code",
   "execution_count": null,
   "id": "c0ae9d10",
   "metadata": {},
   "outputs": [],
   "source": [
    "df.iloc[0]['legs']"
   ]
  },
  {
   "cell_type": "code",
   "execution_count": null,
   "id": "4f32686b",
   "metadata": {},
   "outputs": [],
   "source": [
    "plt.scatter(lds749b['xcentroid'],lds749b['ycentroid'], c=lds749b['ecl'],s=.3)\n",
    "plt.xlabel(\"x centroid\")\n",
    "plt.ylabel(\"y centroid\")\n",
    "plt.title(\"CAI in image coordinates\")\n",
    "plt.colorbar()"
   ]
  },
  {
   "cell_type": "code",
   "execution_count": null,
   "id": "128535a1",
   "metadata": {},
   "outputs": [],
   "source": [
    "split_cols = lds749b['eclipse'].str.split(r'\\s+', expand=True)\n",
    "lds749b['ecl'] = split_cols[0]\n",
    "lds749b = lds749b.drop(columns=['eclipse'])\n",
    "lds749b['ecl'] = pd.to_numeric(lds749b['ecl'])"
   ]
  },
  {
   "cell_type": "code",
   "execution_count": null,
   "id": "3db36380",
   "metadata": {},
   "outputs": [],
   "source": [
    "plt.scatter(lds749b['eclipse'],lds749b['ab_mag'],s=.5)"
   ]
  },
  {
   "cell_type": "code",
   "execution_count": null,
   "id": "a2064b90",
   "metadata": {},
   "outputs": [],
   "source": [
    "plt.scatter(lds749b['ecl'],lds749b['peak'],s=.5)"
   ]
  },
  {
   "cell_type": "code",
   "execution_count": null,
   "id": "bf4ec476",
   "metadata": {},
   "outputs": [],
   "source": [
    "max(lds749b['ycentroid'])"
   ]
  },
  {
   "cell_type": "code",
   "execution_count": null,
   "id": "916e7c14",
   "metadata": {},
   "outputs": [],
   "source": [
    "from scipy.interpolate import griddata\n",
    "import pandas as pd \n",
    "import matplotlib.pyplot as plt \n",
    "import numpy as np"
   ]
  },
  {
   "cell_type": "code",
   "execution_count": null,
   "id": "d1a24966",
   "metadata": {},
   "outputs": [],
   "source": [
    "lds749b_full = pd.read_csv(\"lds749b_fuv_2.csv\")"
   ]
  },
  {
   "cell_type": "code",
   "execution_count": null,
   "id": "5825a64d",
   "metadata": {},
   "outputs": [],
   "source": [
    "lds749b_full.keys()"
   ]
  },
  {
   "cell_type": "code",
   "execution_count": null,
   "id": "a2c5246b",
   "metadata": {},
   "outputs": [],
   "source": [
    "lds749b = lds749b_full[lds749b_full['ecl']==17497]"
   ]
  },
  {
   "cell_type": "code",
   "execution_count": null,
   "id": "d90093a8",
   "metadata": {},
   "outputs": [],
   "source": [
    "grid_x, grid_y = np.mgrid[0:3000:1000j, 0:3000:1000j]\n",
    "\n",
    "points = lds749b[['xcentroid', 'ycentroid']].values\n",
    "values = lds749b['ab_mag'].values\n",
    "grid_z = griddata(points, values, (grid_x, grid_y), method='cubic')\n",
    "\n",
    "plt.imshow(grid_z.T, extent=(0, 3000, 0, 3000), origin='lower')\n",
    "plt.scatter(lds749b['xcentroid'], lds749b['ycentroid'], c=lds749b['ab_mag'], edgecolor='k', s=.1)\n",
    "plt.colorbar(label='Interpolated magnitude')\n",
    "plt.xlabel('X Centroid')\n",
    "plt.ylabel('Y Centroid')\n",
    "plt.title('Interpolated Field of Points')\n",
    "plt.show()"
   ]
  },
  {
   "cell_type": "code",
   "execution_count": null,
   "id": "84773081",
   "metadata": {},
   "outputs": [],
   "source": [
    "group_sizes = lds749b_full.groupby('ecl').size()\n",
    "\n",
    "sorted_group_sizes = group_sizes.sort_values(ascending=False)\n",
    "full12 = sorted_group_sizes[sorted_group_sizes>=]"
   ]
  },
  {
   "cell_type": "code",
   "execution_count": null,
   "id": "e720eaf2",
   "metadata": {},
   "outputs": [],
   "source": [
    "import pyarrow.parquet as parquet\n",
    "\n",
    "aspect = parquet.read_table(\"/home/bekah/gPhoton2/gPhoton/aspect/aspect.parquet\").to_pandas()"
   ]
  },
  {
   "cell_type": "code",
   "execution_count": null,
   "id": "890611a3",
   "metadata": {},
   "outputs": [],
   "source": [
    "\n",
    "\n",
    "def rotate_point_around_center(x, y, center_x, center_y, eclipse):\n",
    "    \n",
    "    roll = aspect[aspect['eclipse']==eclipse].iloc[0]['roll']\n",
    "    \n",
    "    angle_radians = np.radians(roll)\n",
    "\n",
    "    rotation_matrix = np.array([\n",
    "    [np.cos(angle_radians), -np.sin(angle_radians)],\n",
    "    [np.sin(angle_radians),  np.cos(angle_radians)]\n",
    "])\n",
    "    \n",
    "    translated_x = x - center_x\n",
    "    translated_y = y - center_y\n",
    "    \n",
    "    rotated_x, rotated_y = rotation_matrix.dot([translated_x, translated_y])\n",
    "    \n",
    "    final_x = rotated_x + center_x\n",
    "    final_y = rotated_y + center_y\n",
    "    \n",
    "    return final_x, final_y\n",
    "\n",
    "lds749b_full[['xcentroid_rotated', 'ycentroid_rotated']] = lds749b_full.apply(\n",
    "    lambda row: pd.Series(rotate_point_around_center(\n",
    "        row['xcentroid'], row['ycentroid'], 1500, 1500, row['eclipse']\n",
    "    )), axis=1\n",
    ")\n",
    "\n"
   ]
  },
  {
   "cell_type": "code",
   "execution_count": null,
   "id": "dc8e166b",
   "metadata": {},
   "outputs": [],
   "source": [
    "lds749b_full = lds749b_full[(lds749b_full[\"ab_mag\"]>15) & (lds749b_full[\"ab_mag\"] <18)]\n",
    "\n",
    "lds749b_full[[\"peak\", \"mag\", \"flux\", \"aperture_sum\", \"aperture_sum_edge\"]].describe()\n"
   ]
  },
  {
   "cell_type": "code",
   "execution_count": null,
   "id": "fed2853c",
   "metadata": {},
   "outputs": [],
   "source": [
    "lds749b_full.keys()"
   ]
  },
  {
   "cell_type": "code",
   "execution_count": null,
   "id": "be8ad7cd",
   "metadata": {},
   "outputs": [],
   "source": [
    " lds749b_full['real_ab_mag'] = -2.5 * np.log10( lds749b_full['aperture_sum'] / lds749b_full['exptime']) + 18.82"
   ]
  },
  {
   "cell_type": "code",
   "execution_count": null,
   "id": "7d211f03",
   "metadata": {},
   "outputs": [],
   "source": [
    "lds749b_full['distance_from_center'] = np.sqrt((lds749b_full['xcentroid_rotated'] - 1500) ** 2 + (lds749b_full['ycentroid_rotated'] - 1500) ** 2)"
   ]
  },
  {
   "cell_type": "code",
   "execution_count": null,
   "id": "5c5249ed",
   "metadata": {},
   "outputs": [],
   "source": [
    "plt.scatter(lds749b_full['distance_from_center'],lds749b_full['real_ab_mag'],s=.5)\n",
    "plt.xlabel('dist from center')\n",
    "plt.ylabel('ab mag')\n",
    "plt.title('all lds 749b for FUV')"
   ]
  },
  {
   "cell_type": "code",
   "execution_count": null,
   "id": "eaa51095",
   "metadata": {},
   "outputs": [],
   "source": [
    "plt.scatter(lds749b_full['exptime'],lds749b_full['real_ab_mag'],s=.5)\n",
    "plt.xlabel('expt')\n",
    "plt.ylabel('mag')\n",
    "plt.title('all lds 749b for FUV')"
   ]
  },
  {
   "cell_type": "code",
   "execution_count": null,
   "id": "51cbcff2",
   "metadata": {},
   "outputs": [],
   "source": [
    "plt.scatter(lds749b_full['start_time'],lds749b_full['exptime'],s=.5)"
   ]
  },
  {
   "cell_type": "code",
   "execution_count": null,
   "id": "7b112218",
   "metadata": {},
   "outputs": [],
   "source": [
    "plt.scatter(lds749b_full['real_ab_mag'],lds749b_full['aperture_sum'],s=1)\n",
    "plt.xlabel('abmag')\n",
    "plt.ylabel('ap sum')\n",
    "plt.title('all lds 749b for FUV')"
   ]
  },
  {
   "cell_type": "code",
   "execution_count": null,
   "id": "f9881860",
   "metadata": {},
   "outputs": [],
   "source": [
    "plt.scatter(lds749b_full['real_ab_mag'],lds749b_full['peak'],s=1)"
   ]
  },
  {
   "cell_type": "code",
   "execution_count": null,
   "id": "cf3ad87c",
   "metadata": {},
   "outputs": [],
   "source": [
    "#plt.scatter(lds749b_full['xcentroid_rotated'], lds749b_full['ycentroid_rotated'],c=lds749b_full['mag'])\n",
    "plt.scatter(lds749b_full['xcentroid'], lds749b_full['ycentroid'],c=lds749b_full['ab_mag'], s=.75, cmap='grey')"
   ]
  },
  {
   "cell_type": "code",
   "execution_count": null,
   "id": "c79cf489",
   "metadata": {},
   "outputs": [],
   "source": [
    "plt.scatter(lds749b_full['xcentroid_rotated'], lds749b_full['ycentroid_rotated'],c=lds749b_full['real_ab_mag'],cmap='grey', s=1)\n",
    "plt.colorbar()"
   ]
  },
  {
   "cell_type": "code",
   "execution_count": null,
   "id": "42f2519a",
   "metadata": {},
   "outputs": [],
   "source": [
    "plt.hist(lds749b_full['real_ab_mag'],bins=60)"
   ]
  },
  {
   "cell_type": "code",
   "execution_count": null,
   "id": "ee6f08e8",
   "metadata": {},
   "outputs": [],
   "source": [
    "grid_x, grid_y = np.mgrid[0:3000:1000j, 0:3000:1000j]\n",
    "\n",
    "points = lds749b_full[['xcentroid', 'ycentroid']].values\n",
    "values = lds749b_full['mag'].values\n",
    "grid_z = griddata(points, values, (grid_x, grid_y), method='cubic')\n",
    "\n",
    "plt.imshow(grid_z.T, extent=(0, 3000, 0, 3000), origin='lower', cmap='gray')\n",
    "plt.scatter(lds749b_full['xcentroid'], lds749b_full['ycentroid'], edgecolor='k', s=.1)\n",
    "plt.colorbar(label='Interpolated magnitude')\n",
    "plt.xlabel('X Centroid')\n",
    "plt.ylabel('Y Centroid')\n",
    "plt.title('Interpolated Field of Points without anything above -7.5 mag, NUV')\n",
    "plt.set_cmap('gray') \n",
    "plt.show()"
   ]
  },
  {
   "cell_type": "code",
   "execution_count": null,
   "id": "bca5dfe5",
   "metadata": {},
   "outputs": [],
   "source": [
    "grid_x, grid_y = np.mgrid[0:3000:1000j, 0:3000:1000j]\n",
    "\n",
    "points = lds749b_full[['xcentroid_rotated', 'ycentroid_rotated']].values\n",
    "values = lds749b_full['real_ab_mag'].values\n",
    "grid_z = griddata(points, values, (grid_x, grid_y), method='cubic')\n",
    "\n",
    "plt.imshow(grid_z.T, extent=(0, 3000, 0, 3000), origin='lower', cmap='gray')\n",
    "plt.scatter(lds749b_full['xcentroid_rotated'], lds749b_full['ycentroid_rotated'], edgecolor='k', s=.1)\n",
    "plt.colorbar(label='real_ab_mag')\n",
    "plt.xlabel('X Centroid')\n",
    "plt.ylabel('Y Centroid')\n",
    "plt.title('Interpolated Field of Points without anything above -7.5 mag, NUV')\n",
    "plt.set_cmap('gray') \n",
    "plt.show()"
   ]
  },
  {
   "cell_type": "code",
   "execution_count": null,
   "id": "78354541",
   "metadata": {
    "scrolled": true
   },
   "outputs": [],
   "source": [
    "fig, axs = plt.subplots(5, 4, figsize=(18, 18))\n",
    "axs = axs.flatten() \n",
    "\n",
    "\n",
    "for i in range(20): \n",
    "    \n",
    "    eclipse = full12.index[i]\n",
    "    \n",
    "    lds749b = lds749b_full[lds749b_full['ecl']==eclipse]\n",
    "    \n",
    "    grid_x, grid_y = np.mgrid[0:3000:1000j, 0:3000:1000j]\n",
    "\n",
    "    points = lds749b[['xcentroid', 'ycentroid']].values\n",
    "    values = lds749b['real_abmag'].values\n",
    "    grid_z = griddata(points, values, (grid_x, grid_y), method='cubic')\n",
    "\n",
    "    im = axs[i].imshow(grid_z.T, extent=(0, 3000, 0, 3000), origin='lower')\n",
    "    axs[i].scatter(lds749b['xcentroid'], lds749b['ycentroid'], c=lds749b['real_abmag'], edgecolor='k', s=.1)\n",
    "    axs[i].set_title(eclipse)\n",
    "\n",
    "plt.tight_layout()\n",
    "plt.show()"
   ]
  },
  {
   "cell_type": "code",
   "execution_count": null,
   "id": "185508c2",
   "metadata": {},
   "outputs": [],
   "source": [
    "fig, axs = plt.subplots(5, 4, figsize=(18, 18))\n",
    "axs = axs.flatten() \n",
    "\n",
    "\n",
    "for i in range(20): \n",
    "    \n",
    "    eclipse = full12.index[i]\n",
    "    \n",
    "    lds749b = lds749b_full[lds749b_full['ecl']==eclipse]\n",
    "    \n",
    "    grid_x, grid_y = np.mgrid[0:3000:1000j, 0:3000:1000j]\n",
    "\n",
    "    \n",
    "    lds749b[['xcentroid_rotated', 'ycentroid_rotated']] = lds749b.apply(\n",
    "    lambda row: pd.Series(rotate_point_around_center(\n",
    "        row['xcentroid'], row['ycentroid'], 1500, 1500, row['ecl']\n",
    "    )), axis=1)\n",
    "    \n",
    "    points = lds749b[['xcentroid_rotated', 'ycentroid_rotated']].values\n",
    "    values = lds749b['mag'].values\n",
    "    grid_z = griddata(points, values, (grid_x, grid_y), method='cubic')\n",
    "\n",
    "    im = axs[i].imshow(grid_z.T, extent=(0, 3000, 0, 3000), origin='lower')\n",
    "    axs[i].scatter(lds749b['xcentroid_rotated'], lds749b['ycentroid_rotated'], \n",
    "                   c=lds749b['mag'], edgecolor='k', s=.1)\n",
    "    axs[i].set_title(eclipse)\n",
    "\n",
    "plt.tight_layout()\n",
    "plt.show()\n",
    "\n"
   ]
  },
  {
   "cell_type": "code",
   "execution_count": null,
   "id": "a640640b",
   "metadata": {},
   "outputs": [],
   "source": [
    "full12"
   ]
  },
  {
   "cell_type": "code",
   "execution_count": null,
   "id": "a63851fd",
   "metadata": {},
   "outputs": [],
   "source": [
    "## FUV STATISTICS \n",
    "lds749b_fuv = pd.read_csv(\"lds749b_fuv.csv\")"
   ]
  },
  {
   "cell_type": "code",
   "execution_count": null,
   "id": "f3b17f50",
   "metadata": {},
   "outputs": [],
   "source": [
    "\n",
    "lds749b_fuv[[\"peak\", \"mag\", \"flux\", \"aperture_sum\", \"aperture_sum_edge\"]].describe()\n"
   ]
  },
  {
   "cell_type": "code",
   "execution_count": null,
   "id": "0df89fdb",
   "metadata": {},
   "outputs": [],
   "source": [
    "lds749b_fuv = lds749b_fuv[lds749b_fuv[\"mag\"]<-6.5]\n",
    "lds749b_fuv[[\"peak\", \"mag\", \"flux\", \"aperture_sum\", \"aperture_sum_edge\"]].describe()\n"
   ]
  },
  {
   "cell_type": "code",
   "execution_count": null,
   "id": "be81fce5",
   "metadata": {},
   "outputs": [],
   "source": [
    "group_sizes = lds749b_fuv.groupby('ecl').size()\n",
    "sorted_group_sizes = group_sizes.sort_values(ascending=False)\n",
    "full12 = sorted_group_sizes[sorted_group_sizes>=12]"
   ]
  },
  {
   "cell_type": "code",
   "execution_count": null,
   "id": "ef17826c",
   "metadata": {},
   "outputs": [],
   "source": [
    "fig, axs = plt.subplots(5, 4, figsize=(18, 18))\n",
    "axs = axs.flatten() \n",
    "\n",
    "\n",
    "for i in range(20): \n",
    "    \n",
    "    eclipse = full12.index[i]\n",
    "    \n",
    "    lds749b = lds749b_fuv[lds749b_fuv['ecl']==eclipse]\n",
    "    \n",
    "    grid_x, grid_y = np.mgrid[0:3000:1000j, 0:3000:1000j]\n",
    "\n",
    "    points = lds749b[['xcentroid', 'ycentroid']].values\n",
    "    values = lds749b['flux'].values\n",
    "    grid_z = griddata(points, values, (grid_x, grid_y), method='linear')\n",
    "\n",
    "    im = axs[i].imshow(grid_z.T, extent=(0, 3000, 0, 3000), origin='lower')\n",
    "    axs[i].scatter(lds749b['xcentroid'], lds749b['ycentroid'], c=lds749b['flux'], edgecolor='k', s=.1)\n",
    "    axs[i].set_title(eclipse)\n",
    "\n",
    "plt.tight_layout()\n",
    "plt.show()"
   ]
  },
  {
   "cell_type": "code",
   "execution_count": null,
   "id": "2b1222c0",
   "metadata": {},
   "outputs": [],
   "source": [
    "grid_x, grid_y = np.mgrid[0:3000:1000j, 0:3000:1000j]\n",
    "\n",
    "points = lds749b_fuv[['xcentroid', 'ycentroid']].values\n",
    "values = lds749b_fuv['mag'].values\n",
    "grid_z = griddata(points, values, (grid_x, grid_y), method='cubic')\n",
    "\n",
    "plt.imshow(grid_z.T, extent=(0, 3000, 0, 3000), origin='lower')\n",
    "plt.scatter(lds749b_fuv['xcentroid'], lds749b_fuv['ycentroid'], c=lds749b_fuv['mag'], edgecolor='k', s=.1)\n",
    "plt.colorbar(label='Interpolated magnitude')\n",
    "plt.xlabel('X Centroid')\n",
    "plt.ylabel('Y Centroid')\n",
    "plt.title('Interpolated Field of Points without anything above -6.5 mag, FUV')\n",
    "plt.show()"
   ]
  },
  {
   "cell_type": "code",
   "execution_count": null,
   "id": "1210c8c8",
   "metadata": {},
   "outputs": [],
   "source": [
    "grid_x, grid_y = np.mgrid[0:3000:1000j, 0:3000:1000j]\n",
    "\n",
    "points = lds749b_fuv[['xcentroid', 'ycentroid']].values\n",
    "values = lds749b_fuv['mag'].values\n",
    "grid_z = griddata(points, values, (grid_x, grid_y), method='cubic')\n",
    "\n",
    "plt.imshow(grid_z.T, extent=(0, 3000, 0, 3000), origin='lower', cmap='gray')\n",
    "plt.scatter(lds749b_fuv['xcentroid'], lds749b_fuv['ycentroid'], edgecolor='k', s=.1)\n",
    "plt.colorbar(label='Interpolated magnitude')\n",
    "plt.xlabel('X Centroid')\n",
    "plt.ylabel('Y Centroid')\n",
    "plt.title('Interpolated Field of Points without anything above -6.5 mag, FUV')\n",
    "plt.set_cmap('gray') \n",
    "plt.show()"
   ]
  },
  {
   "cell_type": "code",
   "execution_count": null,
   "id": "4e9e0514",
   "metadata": {},
   "outputs": [],
   "source": [
    "grid_x, grid_y = np.mgrid[0:3000:1000j, 0:3000:1000j]\n",
    "\n",
    "points = lds749b_fuv[['xcentroid', 'ycentroid']].values\n",
    "values = lds749b_fuv['flux'].values\n",
    "grid_z = griddata(points, values, (grid_x, grid_y), method='cubic')\n",
    "\n",
    "plt.imshow(grid_z.T, extent=(0, 3000, 0, 3000), origin='lower', cmap='gray')\n",
    "plt.scatter(lds749b_fuv['xcentroid'], lds749b_fuv['ycentroid'], edgecolor='k', s=.1)\n",
    "plt.colorbar(label='Interpolated flux')\n",
    "plt.xlabel('X Centroid')\n",
    "plt.ylabel('Y Centroid')\n",
    "plt.title('Interpolated Field of Points without anything above -6.5 mag, FUV')\n",
    "plt.set_cmap('gray') \n",
    "plt.show()"
   ]
  },
  {
   "cell_type": "code",
   "execution_count": null,
   "id": "4c084cdf",
   "metadata": {},
   "outputs": [],
   "source": [
    "grid_x, grid_y = np.mgrid[0:3000:1000j, 0:3000:1000j]\n",
    "\n",
    "points = lds749b_fuv[['xcentroid', 'ycentroid']].values\n",
    "values = lds749b_fuv['peak'].values\n",
    "grid_z = griddata(points, values, (grid_x, grid_y), method='cubic')\n",
    "\n",
    "plt.imshow(grid_z.T, extent=(0, 3000, 0, 3000), origin='lower', cmap='gray')\n",
    "plt.scatter(lds749b_fuv['xcentroid'], lds749b_fuv['ycentroid'], edgecolor='k', s=.1)\n",
    "plt.colorbar(label='Interpolated peak')\n",
    "plt.xlabel('X Centroid')\n",
    "plt.ylabel('Y Centroid')\n",
    "plt.title('Interpolated Field of Points without anything above -6.5 mag, FUV')\n",
    "plt.set_cmap('gray') \n",
    "plt.show()"
   ]
  },
  {
   "cell_type": "code",
   "execution_count": null,
   "id": "91ba6b3c",
   "metadata": {},
   "outputs": [],
   "source": [
    "from sklearn.cluster import DBSCAN\n",
    "from scipy.stats import describe\n",
    "\n",
    "points = lds749b_fuv[['xcentroid', 'ycentroid']].values\n",
    "\n",
    "db = DBSCAN(eps=50, min_samples=3).fit(points) \n",
    "labels = db.labels_\n",
    "\n",
    "lds749b_fuv['cluster'] = labels\n",
    "\n",
    "cluster_stats_df = lds749b_fuv.groupby('cluster').describe()"
   ]
  },
  {
   "cell_type": "code",
   "execution_count": null,
   "id": "2c8fae7c",
   "metadata": {},
   "outputs": [],
   "source": [
    "plt.scatter(cluster_stats_df['xcentroid']['50%'],cluster_stats_df['ycentroid']['50%'],c=cluster_stats_df['mag']['50%'],cmap='grey')\n",
    "plt.colorbar()\n",
    "plt.title(\"FUV clusters with median mag\")"
   ]
  },
  {
   "cell_type": "code",
   "execution_count": null,
   "id": "c9081076",
   "metadata": {},
   "outputs": [],
   "source": [
    "plt.scatter(cluster_stats_df['xcentroid']['50%'],cluster_stats_df['ycentroid']['50%'],c=cluster_stats_df['peak']['50%'],cmap='grey')\n",
    "plt.colorbar()\n",
    "plt.title(\"FUV clusters with median peak\")"
   ]
  },
  {
   "cell_type": "code",
   "execution_count": null,
   "id": "f9a33ef1",
   "metadata": {},
   "outputs": [],
   "source": [
    "plt.scatter(cluster_stats_df['xcentroid']['50%'],cluster_stats_df['ycentroid']['50%'],c=cluster_stats_df['flux']['50%'],cmap='grey')\n",
    "plt.colorbar()\n",
    "plt.title(\"FUV clusters with median flux\")"
   ]
  },
  {
   "cell_type": "code",
   "execution_count": null,
   "id": "c2c82109",
   "metadata": {},
   "outputs": [],
   "source": [
    "plt.scatter(cluster_stats_df['xcentroid']['mean'],cluster_stats_df['ycentroid']['mean'],c=cluster_stats_df['flux']['std'],cmap='grey')\n",
    "plt.colorbar()\n",
    "plt.title(\"FUV clusters with std flux\")"
   ]
  },
  {
   "cell_type": "code",
   "execution_count": null,
   "id": "df1f768c",
   "metadata": {},
   "outputs": [],
   "source": [
    "plt.scatter(cluster_stats_df['xcentroid']['mean'],cluster_stats_df['ycentroid']['mean'],c=cluster_stats_df['mag']['std'],cmap='grey')\n",
    "plt.colorbar()\n",
    "plt.title(\"FUV clusters with std mag\")"
   ]
  },
  {
   "cell_type": "code",
   "execution_count": null,
   "id": "f356b53b",
   "metadata": {},
   "outputs": [],
   "source": [
    "plt.scatter(lds749b_fuv['xcentroid'],lds749b_fuv['ycentroid'],s=1)\n",
    "plt.title(\"FUV CAI LDS 749B locations in image coords\")"
   ]
  },
  {
   "cell_type": "code",
   "execution_count": null,
   "id": "d53fe4b7",
   "metadata": {},
   "outputs": [],
   "source": [
    "plt.scatter(lds749b_full['xcentroid'],lds749b_full['ycentroid'],s=1)\n",
    "plt.title(\"NUV CAI LDS 749B locations in image coords\")"
   ]
  },
  {
   "cell_type": "code",
   "execution_count": null,
   "id": "03dcf709",
   "metadata": {},
   "outputs": [],
   "source": [
    "plt.scatter(lds749b_full['ecl'],lds749b_full['mag'],s=1)\n",
    "plt.xlabel('eclipse')\n",
    "plt.ylabel('magnitude')"
   ]
  },
  {
   "cell_type": "code",
   "execution_count": null,
   "id": "ac957cb9",
   "metadata": {},
   "outputs": [],
   "source": [
    "from astropy.io import fits\n"
   ]
  },
  {
   "cell_type": "code",
   "execution_count": null,
   "id": "83fc4c07",
   "metadata": {},
   "outputs": [],
   "source": [
    "e6713 = fits.open(\"/home/bekah/Downloads/e06713-nd-b00-ffull-image-r.fits\")"
   ]
  },
  {
   "cell_type": "code",
   "execution_count": null,
   "id": "621fa4fb",
   "metadata": {},
   "outputs": [],
   "source": [
    "plt.imshow(e6713[1].data)"
   ]
  },
  {
   "cell_type": "code",
   "execution_count": null,
   "id": "60071aa8",
   "metadata": {},
   "outputs": [],
   "source": [
    "e6713[2].header"
   ]
  },
  {
   "cell_type": "code",
   "execution_count": null,
   "id": "297c6f7e",
   "metadata": {},
   "outputs": [],
   "source": [
    "data = e6713[2].data  \n",
    "header = e6713[2].header  \n",
    "\n",
    "hdu = fits.PrimaryHDU(data, header=header)\n",
    "hdul_new = fits.HDUList([hdu])\n",
    "\n",
    "hdul_new.writeto('e6713_flag_n.fits', overwrite=True)"
   ]
  },
  {
   "cell_type": "code",
   "execution_count": null,
   "id": "6750730c",
   "metadata": {},
   "outputs": [],
   "source": []
  }
 ],
 "metadata": {
  "kernelspec": {
   "display_name": "Python 3 (ipykernel)",
   "language": "python",
   "name": "python3"
  },
  "language_info": {
   "codemirror_mode": {
    "name": "ipython",
    "version": 3
   },
   "file_extension": ".py",
   "mimetype": "text/x-python",
   "name": "python",
   "nbconvert_exporter": "python",
   "pygments_lexer": "ipython3",
   "version": "3.10.12"
  }
 },
 "nbformat": 4,
 "nbformat_minor": 5
}
