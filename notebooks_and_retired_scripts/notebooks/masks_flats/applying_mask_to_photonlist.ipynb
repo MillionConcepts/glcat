{
 "cells": [
  {
   "cell_type": "code",
   "execution_count": null,
   "id": "ed068a98",
   "metadata": {},
   "outputs": [],
   "source": [
    "#import boto3\n",
    "from astropy.io import fits\n",
    "from io import BytesIO\n",
    "import sys\n",
    "import pandas as pd \n",
    "import numpy as np \n",
    "import os\n",
    "import matplotlib.pyplot as plt\n",
    "sys.path.append('/home/bekah/gPhoton2')\n",
    "from gPhoton.coadd import zero_flag_and_edge\n",
    "import pyarrow.parquet as parquet\n"
   ]
  },
  {
   "cell_type": "code",
   "execution_count": null,
   "id": "395784a2",
   "metadata": {},
   "outputs": [],
   "source": [
    "def centile_clip(image, centiles=(0, 90)):\n",
    "    \"\"\"\n",
    "    simple clipping function that clips values above and below a given\n",
    "    percentile range\n",
    "    \"\"\"\n",
    "    import numpy as np\n",
    "    finite = np.ma.masked_invalid(image)\n",
    "    bounds = np.percentile(finite[~finite.mask].data, centiles)\n",
    "    result = np.ma.clip(finite, *bounds)\n",
    "\n",
    "    if isinstance(image, np.ma.MaskedArray):\n",
    "        return result\n",
    "\n",
    "    return result.data"
   ]
  },
  {
   "cell_type": "code",
   "execution_count": null,
   "id": "b5331f51",
   "metadata": {},
   "outputs": [],
   "source": [
    "# dose maps are made using what from photonlists? "
   ]
  },
  {
   "cell_type": "code",
   "execution_count": null,
   "id": "4a3dba6e",
   "metadata": {},
   "outputs": [],
   "source": [
    "# import mask at 2400 wide resolution \n",
    "# this was made with dose maps \n",
    "fuv_drawn = fits.open(\"/home/bekah/glcat/masks/drawn/fuv_drawn_mask.fits\")"
   ]
  },
  {
   "cell_type": "code",
   "execution_count": null,
   "id": "f8e85590",
   "metadata": {},
   "outputs": [],
   "source": [
    "# read in photonlist \n",
    "photons = parquet.read_table(\"/home/bekah/glcat/notebooks/masks_flats/e00834-fd-b00.parquet\").to_pandas()"
   ]
  },
  {
   "cell_type": "code",
   "execution_count": null,
   "id": "e0388eae",
   "metadata": {},
   "outputs": [],
   "source": [
    "photons = photons[(photons['detrad'] < 600)]"
   ]
  },
  {
   "cell_type": "code",
   "execution_count": null,
   "id": "d4ac5cb6",
   "metadata": {},
   "outputs": [],
   "source": [
    "plt.imshow(fuv_drawn[0].data,interpolation=None)"
   ]
  },
  {
   "cell_type": "code",
   "execution_count": null,
   "id": "266174e2",
   "metadata": {},
   "outputs": [],
   "source": [
    "def dosemap_ranges(radius):\n",
    "    slop = 400 - radius\n",
    "    return [slop, 3200 - slop], [slop, 3200 - slop]\n",
    "\n",
    "x, y = dosemap_ranges(600)"
   ]
  },
  {
   "cell_type": "code",
   "execution_count": null,
   "id": "0d64424e",
   "metadata": {},
   "outputs": [],
   "source": [
    "x"
   ]
  },
  {
   "cell_type": "code",
   "execution_count": null,
   "id": "e110c291",
   "metadata": {},
   "outputs": [],
   "source": [
    "photons['col_rounded'] = photons['col'].round().astype(int)*4 # x \n",
    "photons['row_rounded'] = photons['row'].round().astype(int)*4 # y "
   ]
  },
  {
   "cell_type": "code",
   "execution_count": null,
   "id": "997b99d5",
   "metadata": {},
   "outputs": [],
   "source": [
    "photons = photons[(photons['col_rounded'] >= -200) & (photons['row_rounded'] <= 3400) & (photons['row_rounded'] >= -200) & (photons['col_rounded'] <= 3400)]"
   ]
  },
  {
   "cell_type": "code",
   "execution_count": null,
   "id": "5e1e711a",
   "metadata": {},
   "outputs": [],
   "source": [
    "plt.imshow(fuv_drawn[0].data,interpolation=None, origin='lower', cmap='grey')\n",
    "plt.scatter(photons['col']*(16/3)+200*(4/3),photons['row']*(16/3)+200*(4/3),s=.00005)\n"
   ]
  },
  {
   "cell_type": "code",
   "execution_count": null,
   "id": "2ecb87a0",
   "metadata": {},
   "outputs": [],
   "source": [
    "mask = fuv_drawn[0].data[photons['col'], photons['row']] == 1\n",
    "photons['is_one'] = mask"
   ]
  },
  {
   "cell_type": "code",
   "execution_count": null,
   "id": "efa118e4",
   "metadata": {},
   "outputs": [],
   "source": [
    "plt.scatter(photons['row']*(16/3)+200*(4/3),photons['col']*(16/3)+200*(4/3),s=.00005)\n"
   ]
  },
  {
   "cell_type": "code",
   "execution_count": null,
   "id": "f49965ae",
   "metadata": {},
   "outputs": [],
   "source": [
    "3316*(4/3)+200"
   ]
  },
  {
   "cell_type": "code",
   "execution_count": null,
   "id": "a0135981",
   "metadata": {},
   "outputs": [],
   "source": [
    "(photons['row']*(16/3)+200*(4/3)).describe()"
   ]
  },
  {
   "cell_type": "code",
   "execution_count": null,
   "id": "c053001f",
   "metadata": {},
   "outputs": [],
   "source": [
    "-*4/3"
   ]
  },
  {
   "cell_type": "code",
   "execution_count": null,
   "id": "d79adabc",
   "metadata": {},
   "outputs": [],
   "source": [
    "(photons['col']).describe()"
   ]
  },
  {
   "cell_type": "code",
   "execution_count": null,
   "id": "2475775d",
   "metadata": {},
   "outputs": [],
   "source": [
    "-200*(4/3)"
   ]
  },
  {
   "cell_type": "code",
   "execution_count": null,
   "id": "175af343",
   "metadata": {},
   "outputs": [],
   "source": [
    "plt.scatter((photons['col_rounded']*4/3),(photons['row_rounded']*4/3))"
   ]
  },
  {
   "cell_type": "code",
   "execution_count": null,
   "id": "9773e3b5",
   "metadata": {},
   "outputs": [],
   "source": [
    "plt.scatter((photons['col_rounded']*4/3)+300,(photons['row_rounded']*4/3)+300)"
   ]
  },
  {
   "cell_type": "code",
   "execution_count": null,
   "id": "ead00ae9",
   "metadata": {},
   "outputs": [],
   "source": [
    "nf = parquet.read_table(\"/home/bekah/gPhoton2/test_data/e23456/e23456-nd-b00.parquet\").to_pandas()"
   ]
  },
  {
   "cell_type": "code",
   "execution_count": null,
   "id": "4344b601",
   "metadata": {},
   "outputs": [],
   "source": [
    "plt.scatter(nf['y'],nf['detrad'],s=.5)"
   ]
  },
  {
   "cell_type": "code",
   "execution_count": null,
   "id": "0059994c",
   "metadata": {},
   "outputs": [],
   "source": [
    "plt.scatter(nf['row'],nf['col'],c=nf['detrad'],s=.5,cmap='grey')"
   ]
  },
  {
   "cell_type": "code",
   "execution_count": null,
   "id": "aeb3cceb",
   "metadata": {},
   "outputs": [],
   "source": [
    "nf['col_rounded'] = nf['col'].astype(int)*4 # x \n",
    "nf['row_rounded'] = nf['row'].astype(int)*4 # y "
   ]
  },
  {
   "cell_type": "code",
   "execution_count": null,
   "id": "119d4199",
   "metadata": {},
   "outputs": [],
   "source": [
    "nf = nf[(nf['col_rounded'] >= -200) & (nf['row_rounded'] <= 3400) & (nf['row_rounded'] >= -200) & (nf['col_rounded'] <= 3400)]"
   ]
  },
  {
   "cell_type": "code",
   "execution_count": null,
   "id": "d1392265",
   "metadata": {},
   "outputs": [],
   "source": [
    "plt.imshow(nuv_drawn[0].data,interpolation=None, origin='lower')\n",
    "plt.scatter(nf['row']*(16/3)+200*(4/3),nf['col']*(16/3)+200*(4/3),s=.00005)\n"
   ]
  },
  {
   "cell_type": "code",
   "execution_count": null,
   "id": "b583df76",
   "metadata": {},
   "outputs": [],
   "source": [
    "plt.hist(nf['row'])"
   ]
  },
  {
   "cell_type": "code",
   "execution_count": null,
   "id": "a0394e3e",
   "metadata": {},
   "outputs": [],
   "source": [
    "(nf['col']*(16/3)+200*(4/3)).describe()"
   ]
  },
  {
   "cell_type": "code",
   "execution_count": null,
   "id": "54bbb4d5",
   "metadata": {},
   "outputs": [],
   "source": [
    "photons['col'].describe()"
   ]
  },
  {
   "cell_type": "code",
   "execution_count": null,
   "id": "2622aebf",
   "metadata": {},
   "outputs": [],
   "source": [
    "nuv_drawn = fits.open(\"/media/bekah/BekahA/hotspot/drawn/nuv_spots.fits\")"
   ]
  },
  {
   "cell_type": "code",
   "execution_count": null,
   "id": "31f529a4",
   "metadata": {},
   "outputs": [],
   "source": [
    "photons['row'].describe()"
   ]
  },
  {
   "cell_type": "code",
   "execution_count": null,
   "id": "974e8c4c",
   "metadata": {
    "scrolled": true
   },
   "outputs": [],
   "source": [
    "plt.hist(photons['row'])"
   ]
  },
  {
   "cell_type": "code",
   "execution_count": null,
   "id": "1003e1de",
   "metadata": {},
   "outputs": [],
   "source": [
    "nuv_im = fits.open(\"/home/bekah/gPhoton2/test_data/e23456-nd-b00-f3000-t00000-g_dose.fits.gz\")"
   ]
  },
  {
   "cell_type": "code",
   "execution_count": null,
   "id": "717a62f2",
   "metadata": {},
   "outputs": [],
   "source": [
    "nf = parquet.read_table(\"/home/bekah/gPhoton2/test_data/e23456/e23456-nd-b00.parquet\").to_pandas()"
   ]
  },
  {
   "cell_type": "code",
   "execution_count": null,
   "id": "d59b739f",
   "metadata": {},
   "outputs": [],
   "source": [
    "nf = nf[(nf['row']*4 >= -200) & (nf['row']*4 <= 3400) & (nf['col']*4 >= -200) & (nf['col']*4 <= 3400)]"
   ]
  },
  {
   "cell_type": "code",
   "execution_count": null,
   "id": "85a28c09",
   "metadata": {
    "scrolled": true
   },
   "outputs": [],
   "source": [
    "plt.scatter(nf['row']*(16/3)+200*(4/3),nf['col']*(16/3)+200*(4/3),s=.00005, c='red',alpha=1)\n",
    "plt.imshow(centile_clip(nuv_im[0].data), interpolation=None, origin='lower',alpha=.5)\n",
    "plt.savefig('overlay.png')"
   ]
  },
  {
   "cell_type": "code",
   "execution_count": null,
   "id": "5f493073",
   "metadata": {},
   "outputs": [],
   "source": [
    "plt.imshow(centile_clip(nuv_im[0].data), origin='lower')\n"
   ]
  },
  {
   "cell_type": "code",
   "execution_count": null,
   "id": "87796b64",
   "metadata": {},
   "outputs": [],
   "source": [
    "plt.subplots(figsize=(10, 10))\n",
    "plt.scatter(nf['col']*(16/3)+200*(4/3),nf['row']*(16/3)+200*(4/3),s=.00005, c='red',alpha=.2)\n",
    "plt.imshow(centile_clip(nuv_im[0].data), interpolation=None, origin='lower',alpha=.5)"
   ]
  },
  {
   "cell_type": "code",
   "execution_count": null,
   "id": "8c77924f",
   "metadata": {},
   "outputs": [],
   "source": [
    "# ok so I think I've finally figured out how to match up col and row to the dose maps lmao it only took several days \n",
    "nf['col']*(16/3)+200*(4/3),nf['row']*(16/3)+200*(4/3)"
   ]
  }
 ],
 "metadata": {
  "kernelspec": {
   "display_name": "Python 3 (ipykernel)",
   "language": "python",
   "name": "python3"
  },
  "language_info": {
   "codemirror_mode": {
    "name": "ipython",
    "version": 3
   },
   "file_extension": ".py",
   "mimetype": "text/x-python",
   "name": "python",
   "nbconvert_exporter": "python",
   "pygments_lexer": "ipython3",
   "version": "3.11.6"
  }
 },
 "nbformat": 4,
 "nbformat_minor": 5
}
