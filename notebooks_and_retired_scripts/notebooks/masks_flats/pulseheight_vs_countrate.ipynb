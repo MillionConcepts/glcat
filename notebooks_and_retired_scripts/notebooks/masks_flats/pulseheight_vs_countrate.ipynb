{
 "cells": [
  {
   "cell_type": "code",
   "execution_count": null,
   "id": "c6192c4f",
   "metadata": {},
   "outputs": [],
   "source": [
    "import pandas as pd\n",
    "from astropy.io import fits\n",
    "import numpy as np\n",
    "import matplotlib.pyplot as plt\n",
    "from scipy.optimize import curve_fit\n",
    "import pyregion\n",
    "import pyarrow.parquet as pq"
   ]
  },
  {
   "cell_type": "code",
   "execution_count": null,
   "id": "d462a5a4",
   "metadata": {},
   "outputs": [],
   "source": [
    "extphot = pq.read_table(\"/home/bekah/gPhoton2/test_data/e23456/e23456-nd-b00.parquet\").to_pandas()"
   ]
  },
  {
   "cell_type": "code",
   "execution_count": null,
   "id": "7eabf55a",
   "metadata": {},
   "outputs": [],
   "source": [
    "print(extphot['x'].max())\n",
    "print(extphot['x'].min())\n",
    "print(extphot['y'].max())\n",
    "print(extphot['y'].min())"
   ]
  },
  {
   "cell_type": "code",
   "execution_count": null,
   "id": "6ca2104a",
   "metadata": {},
   "outputs": [],
   "source": [
    "\n",
    "filtered_df = extphot[(extphot['x'] >= -20000) & (extphot['x'] <= 20000) & (extphot['y'] >= -20000) & (extphot['y'] <= 20000)]\n",
    "\n",
    "#df = extphot[(extphot['x'] >= 1500) & (extphot['x'] <= 4000) & (extphot['y'] >= -17000) & (extphot['y'] <= -14000)]"
   ]
  },
  {
   "cell_type": "code",
   "execution_count": null,
   "id": "b9020f18",
   "metadata": {},
   "outputs": [],
   "source": [
    "filtered_df"
   ]
  },
  {
   "cell_type": "code",
   "execution_count": null,
   "id": "a315435f",
   "metadata": {
    "scrolled": true
   },
   "outputs": [],
   "source": [
    "plt.scatter(filtered_df['x'],filtered_df['y'],s=0.000001,)"
   ]
  },
  {
   "cell_type": "code",
   "execution_count": null,
   "id": "427dd5fd",
   "metadata": {},
   "outputs": [],
   "source": [
    "plt.scatter(filtered_df['x'],filtered_df['y'],c=filtered_df['q'],s=0.00001,)\n",
    "plt.colorbar()"
   ]
  },
  {
   "cell_type": "code",
   "execution_count": null,
   "id": "29306393",
   "metadata": {},
   "outputs": [],
   "source": [
    "hist, x_edges, y_edges = np.histogram2d(filtered_df['x'], filtered_df['y'], bins=1000)\n",
    "\n",
    "x_bin_indices = np.digitize(filtered_df['x'], x_edges) - 1\n",
    "y_bin_indices = np.digitize(filtered_df['y'], y_edges) - 1\n",
    "\n",
    "x_bin_indices[x_bin_indices == len(x_edges) - 1] = len(x_edges) - 2\n",
    "y_bin_indices[y_bin_indices == len(y_edges) - 1] = len(y_edges) - 2\n",
    "\n",
    "density_values = hist[x_bin_indices, y_bin_indices]\n",
    "\n",
    "#filtered_df['density'] = density_values\n",
    "filtered_df.loc[:, 'density'] = density_values"
   ]
  },
  {
   "cell_type": "code",
   "execution_count": null,
   "id": "1f724547",
   "metadata": {},
   "outputs": [],
   "source": [
    "plt.scatter(filtered_df['x'],filtered_df['y'],c=filtered_df['density'],s=0.0001,)\n",
    "plt.colorbar()"
   ]
  },
  {
   "cell_type": "code",
   "execution_count": null,
   "id": "27945d01",
   "metadata": {
    "scrolled": true
   },
   "outputs": [],
   "source": [
    "plt.scatter(filtered_df['density'],filtered_df['q'],s=.00001)"
   ]
  },
  {
   "cell_type": "code",
   "execution_count": null,
   "id": "b92476b0",
   "metadata": {},
   "outputs": [],
   "source": [
    "filtered_df.to_csv(\"filtered_df.csv\")"
   ]
  },
  {
   "cell_type": "code",
   "execution_count": null,
   "id": "096b0306",
   "metadata": {},
   "outputs": [],
   "source": [
    "plt.hexbin(filtered_df['density'],filtered_df['q'])"
   ]
  },
  {
   "cell_type": "code",
   "execution_count": null,
   "id": "b7204c9c",
   "metadata": {},
   "outputs": [],
   "source": [
    "fig, axs = plt.subplots(1, 2, figsize=(16, 6))\n",
    "axs[0].scatter(filtered_df['x'],filtered_df['y'],c=filtered_df['q'],s=.001,cmap='Greys')\n",
    "cbar = plt.colorbar(axs[0].collections[0], ax=axs[0])\n",
    "cbar.set_label('Pulse height (q)')\n",
    "\n",
    "axs[1].hist2d(filtered_df['x'],filtered_df['y'], bins=200, cmap='Greys')\n",
    "cbar2 = plt.colorbar(axs[1].collections[0],ax=axs[1])\n",
    "cbar2.set_label('Density')\n",
    "\n",
    "plt.tight_layout()\n",
    "\n",
    "plt.show()"
   ]
  },
  {
   "cell_type": "code",
   "execution_count": null,
   "id": "9c52b3b8",
   "metadata": {},
   "outputs": [],
   "source": [
    "\n",
    "x_bins = np.linspace(df['x'].min(), df['x'].max(), num=2000)\n",
    "y_bins = np.linspace(df['y'].min(), df['y'].max(), num=2000)\n",
    "\n",
    "df['x_bin'] = np.digitize(df['x'], bins=x_bins)\n",
    "df['y_bin'] = np.digitize(df['y'], bins=y_bins)\n",
    "\n",
    "bin_stats = df.groupby(['x_bin', 'y_bin']).agg(\n",
    "    count=('q', 'size'),\n",
    "    avg_q=('q', 'mean'),\n",
    "    med_q=('q', 'median'),\n",
    "    std_q=('q', 'std'),\n",
    "    min_q=('q','min'),\n",
    "    max_q=('q','max')\n",
    ").reset_index()\n",
    "\n",
    "# Remove bins with no data (count == 0)\n",
    "bin_stats = bin_stats[bin_stats['count'] > 0]"
   ]
  },
  {
   "cell_type": "code",
   "execution_count": null,
   "id": "ba8f871c",
   "metadata": {},
   "outputs": [],
   "source": [
    "grouped_stats = bin_stats.groupby('count')['avg_q'].agg(\n",
    "    mean_avg_q='mean',\n",
    "    median_avg_q='median',\n",
    "    std_avg_q='std'\n",
    ").reset_index()"
   ]
  },
  {
   "cell_type": "code",
   "execution_count": null,
   "id": "643b5dea",
   "metadata": {},
   "outputs": [],
   "source": [
    "grouped_stats"
   ]
  },
  {
   "cell_type": "code",
   "execution_count": null,
   "id": "d6247727",
   "metadata": {},
   "outputs": [],
   "source": [
    "plt.plot(grouped_stats['count'],grouped_stats['mean_avg_q'])\n",
    "plt.scatter(bin_stats['count'],bin_stats['avg_q'],s=0.001,c='grey')\n",
    "plt.ylabel(\"mean pulse height (q)\")\n",
    "plt.xlabel(\"bin counts\")"
   ]
  },
  {
   "cell_type": "code",
   "execution_count": null,
   "id": "efcc7f14",
   "metadata": {},
   "outputs": [],
   "source": [
    "plt.hist(bin_stats['count'],bins=40)"
   ]
  },
  {
   "cell_type": "code",
   "execution_count": null,
   "id": "b0074176",
   "metadata": {},
   "outputs": [],
   "source": [
    "df= pd.read_csv(\"filtered_df.csv\")"
   ]
  },
  {
   "cell_type": "code",
   "execution_count": null,
   "id": "ba18c353",
   "metadata": {},
   "outputs": [],
   "source": [
    "df"
   ]
  },
  {
   "cell_type": "code",
   "execution_count": null,
   "id": "0f431fb8",
   "metadata": {
    "scrolled": false
   },
   "outputs": [],
   "source": [
    "filtered_df = df[(df['y'] > 19500) & (df['y'] < 20000)  & (df['x'] > 10000)  & (df['x'] > 12000)]\n",
    "plt.hist(filtered_df['q'],bins=20)\n",
    "filtered_df_b = df[(df['y'] > 19500) & (df['y'] < 20000)  & (df['x'] > 8000 )  & (df['x'] < 10000)]\n",
    "plt.hist(filtered_df_b['q'],bins=20,alpha=.5)\n",
    "filtered_df_b = df[(df['y'] > 19500) & (df['y'] < 20000)  & (df['x'] > 12000 )  & (df['x'] < 14000)]\n",
    "plt.hist(filtered_df_b['q'],bins=20,alpha=.5)"
   ]
  },
  {
   "cell_type": "code",
   "execution_count": null,
   "id": "157fa3cc",
   "metadata": {},
   "outputs": [],
   "source": [
    "plt.scatter(df['xa'],df['q'],c=df['t'],s=.001)"
   ]
  },
  {
   "cell_type": "code",
   "execution_count": null,
   "id": "d2d40671",
   "metadata": {},
   "outputs": [],
   "source": [
    "plt.hist2d(df['xa'],df['q'],bins=900)"
   ]
  },
  {
   "cell_type": "code",
   "execution_count": null,
   "id": "434bbf11",
   "metadata": {},
   "outputs": [],
   "source": []
  }
 ],
 "metadata": {
  "kernelspec": {
   "display_name": "Python 3 (ipykernel)",
   "language": "python",
   "name": "python3"
  },
  "language_info": {
   "codemirror_mode": {
    "name": "ipython",
    "version": 3
   },
   "file_extension": ".py",
   "mimetype": "text/x-python",
   "name": "python",
   "nbconvert_exporter": "python",
   "pygments_lexer": "ipython3",
   "version": "3.10.12"
  }
 },
 "nbformat": 4,
 "nbformat_minor": 5
}
