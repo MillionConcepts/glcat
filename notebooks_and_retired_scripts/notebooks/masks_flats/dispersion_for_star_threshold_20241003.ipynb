{
 "cells": [
  {
   "cell_type": "code",
   "execution_count": null,
   "id": "29bfaddc",
   "metadata": {},
   "outputs": [],
   "source": [
    "from astropy.io import fits\n",
    "from io import BytesIO\n",
    "import sys\n",
    "import pandas as pd \n",
    "import numpy as np \n",
    "import os\n",
    "import matplotlib.pyplot as plt\n",
    "sys.path.append('/home/bekah/gPhoton2')\n",
    "from gPhoton.coadd import zero_flag_and_edge\n",
    "import pyarrow.parquet as parquet\n"
   ]
  },
  {
   "cell_type": "code",
   "execution_count": null,
   "id": "266610f9",
   "metadata": {},
   "outputs": [],
   "source": [
    "def centile_clip(image, centiles=(0, 90)):\n",
    "    \"\"\"\n",
    "    simple clipping function that clips values above and below a given\n",
    "    percentile range\n",
    "    \"\"\"\n",
    "    import numpy as np\n",
    "    finite = np.ma.masked_invalid(image)\n",
    "    bounds = np.percentile(finite[~finite.mask].data, centiles)\n",
    "    result = np.ma.clip(finite, *bounds)\n",
    "\n",
    "    if isinstance(image, np.ma.MaskedArray):\n",
    "        return result\n",
    "\n",
    "    return result.data"
   ]
  },
  {
   "cell_type": "code",
   "execution_count": null,
   "id": "844e6411",
   "metadata": {},
   "outputs": [],
   "source": [
    "photons = parquet.read_table(\"/home/bekah/Downloads/e00848-fd-b00.parquet\").to_pandas()\n",
    "#photons = parquet.read_table(\"/home/bekah/gPhoton2/test_data/e23456/e23456-nd-b00.parquet\").to_pandas()"
   ]
  },
  {
   "cell_type": "code",
   "execution_count": null,
   "id": "18030993",
   "metadata": {},
   "outputs": [],
   "source": [
    "photons"
   ]
  },
  {
   "cell_type": "code",
   "execution_count": null,
   "id": "1e4b694f",
   "metadata": {},
   "outputs": [],
   "source": [
    "time = abs(photons['t'].iloc[0]-photons['t'].iloc[-1])"
   ]
  },
  {
   "cell_type": "code",
   "execution_count": null,
   "id": "537c4c0c",
   "metadata": {},
   "outputs": [],
   "source": [
    "photons = photons[(photons['detrad'] < 600)]\n",
    "photons = photons.dropna(subset=['ra', 'dec'])\n",
    "photons = photons[(photons['flags'] < 1)]"
   ]
  },
  {
   "cell_type": "code",
   "execution_count": null,
   "id": "e0f1a65f",
   "metadata": {},
   "outputs": [],
   "source": [
    "photons['q'].describe()"
   ]
  },
  {
   "cell_type": "code",
   "execution_count": null,
   "id": "14ee6443",
   "metadata": {},
   "outputs": [],
   "source": [
    "from quickbin import bin2d\n",
    "\n",
    "ra = bin2d(photons['col'],photons['row'],photons['ra'],n_bins=800,op=('count', 'std'))\n",
    "dec = bin2d(photons['col'],photons['row'],photons['dec'],n_bins=800,op=('std'))\n",
    "q = bin2d(photons['col'],photons['row'],photons['q'],n_bins=800,op=('std', 'mean'))\n",
    "q_m =  bin2d(photons['col'],photons['row'],photons['q'],n_bins=800,op=('min', 'max'))\n",
    "q_med = bin2d(photons['col'],photons['row'],photons['q'],n_bins=800,op=('median'))"
   ]
  },
  {
   "cell_type": "code",
   "execution_count": null,
   "id": "d5d6c090",
   "metadata": {},
   "outputs": [],
   "source": [
    "disp = ra['std']+dec"
   ]
  },
  {
   "cell_type": "code",
   "execution_count": null,
   "id": "5442314e",
   "metadata": {},
   "outputs": [],
   "source": [
    "plt.scatter(q_m['max'],ra['count']/time,s=.1)"
   ]
  },
  {
   "cell_type": "code",
   "execution_count": null,
   "id": "41faf9e0",
   "metadata": {},
   "outputs": [],
   "source": [
    "plt.scatter(q_m['max'],disp,s=1,c=ra['count'])"
   ]
  },
  {
   "cell_type": "code",
   "execution_count": null,
   "id": "e7646ff1",
   "metadata": {},
   "outputs": [],
   "source": [
    "plt.imshow(q_m['max']-q_m['min'])"
   ]
  },
  {
   "cell_type": "code",
   "execution_count": null,
   "id": "b2b492d6",
   "metadata": {},
   "outputs": [],
   "source": [
    "plt.scatter(disp,ra['count']/time,s=.1)\n",
    "plt.ylabel(\"total photons per bin div by expt\")\n",
    "plt.xlabel('dispersion per bin')"
   ]
  },
  {
   "cell_type": "code",
   "execution_count": null,
   "id": "14779d87",
   "metadata": {
    "scrolled": true
   },
   "outputs": [],
   "source": [
    "plt.scatter(q['mean'],ra['count']/time,s=.1,marker='.')\n",
    "plt.ylabel(\"total photons per bin div by expt\")\n",
    "plt.xlabel('mean pulse height per bin')\n"
   ]
  },
  {
   "cell_type": "code",
   "execution_count": null,
   "id": "b8d56363",
   "metadata": {},
   "outputs": [],
   "source": [
    "plt.scatter(q_m['max']-q_m['min'],ra['count']/time,s=1,marker='.')\n",
    "plt.ylabel(\"total photons per bin div by expt\")\n",
    "plt.xlabel('mean pulse height per bin')"
   ]
  },
  {
   "cell_type": "code",
   "execution_count": null,
   "id": "556dd38b",
   "metadata": {},
   "outputs": [],
   "source": [
    "plt.scatter(q_m['max'],ra['count']/time,s=.01,marker='.')\n",
    "plt.ylabel(\"total photons per bin div by expt\")\n",
    "plt.xlabel('median pulse height per bin')\n",
    "plt.ylim(0,.1)"
   ]
  },
  {
   "cell_type": "code",
   "execution_count": null,
   "id": "0bd10c19",
   "metadata": {},
   "outputs": [],
   "source": [
    "plt.hist(q['mean'].ravel(),bins=100)"
   ]
  },
  {
   "cell_type": "code",
   "execution_count": null,
   "id": "b344fcc8",
   "metadata": {},
   "outputs": [],
   "source": [
    "plt.scatter(q_med,ra['count']/time,s=.01)\n",
    "plt.ylabel(\"total photons per bin div by expt\")\n",
    "plt.xlabel('max pulse height per bin')\n",
    "plt.ylim(0,.1)"
   ]
  },
  {
   "cell_type": "code",
   "execution_count": null,
   "id": "0fcd7e80",
   "metadata": {},
   "outputs": [],
   "source": [
    "plt.hist(ra['std'].ravel())"
   ]
  },
  {
   "cell_type": "code",
   "execution_count": null,
   "id": "c25616f2",
   "metadata": {},
   "outputs": [],
   "source": [
    "plt.hist(ra['count'].ravel(),bins=100)"
   ]
  },
  {
   "cell_type": "code",
   "execution_count": null,
   "id": "f0c509c3",
   "metadata": {},
   "outputs": [],
   "source": [
    "plt.scatter(q_m['max']-q_m['min'],q['mean'],s=.1,c=ra['count'])"
   ]
  },
  {
   "cell_type": "code",
   "execution_count": null,
   "id": "d605a0a5",
   "metadata": {},
   "outputs": [],
   "source": [
    "plt.imshow(q_m['min'])"
   ]
  },
  {
   "cell_type": "code",
   "execution_count": null,
   "id": "a864f86c",
   "metadata": {},
   "outputs": [],
   "source": [
    "plt.imshow(q_m['max']-q_m['min'])"
   ]
  },
  {
   "cell_type": "code",
   "execution_count": null,
   "id": "dd9ca30f",
   "metadata": {},
   "outputs": [],
   "source": [
    "plt.imshow(q_med)"
   ]
  },
  {
   "cell_type": "code",
   "execution_count": null,
   "id": "2f43e00f",
   "metadata": {},
   "outputs": [],
   "source": [
    "plt.imshow(disp)"
   ]
  },
  {
   "cell_type": "code",
   "execution_count": null,
   "id": "97598d3e",
   "metadata": {},
   "outputs": [],
   "source": [
    "plt.imshow(centile_clip(ra['count']))\n",
    "plt.colorbar()"
   ]
  },
  {
   "cell_type": "code",
   "execution_count": null,
   "id": "769a1fab",
   "metadata": {},
   "outputs": [],
   "source": [
    "disp"
   ]
  },
  {
   "cell_type": "code",
   "execution_count": null,
   "id": "681f2cc4",
   "metadata": {},
   "outputs": [],
   "source": []
  },
  {
   "cell_type": "code",
   "execution_count": null,
   "id": "916014bc",
   "metadata": {},
   "outputs": [],
   "source": [
    "photons.keys()"
   ]
  }
 ],
 "metadata": {
  "kernelspec": {
   "display_name": "Python 3 (ipykernel)",
   "language": "python",
   "name": "python3"
  },
  "language_info": {
   "codemirror_mode": {
    "name": "ipython",
    "version": 3
   },
   "file_extension": ".py",
   "mimetype": "text/x-python",
   "name": "python",
   "nbconvert_exporter": "python",
   "pygments_lexer": "ipython3",
   "version": "3.11.6"
  }
 },
 "nbformat": 4,
 "nbformat_minor": 5
}
