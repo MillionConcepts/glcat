{
 "cells": [
  {
   "cell_type": "code",
   "execution_count": 1,
   "id": "98af197b",
   "metadata": {},
   "outputs": [],
   "source": [
    "import sys\n",
    "import pandas as pd \n",
    "sys.path.insert(0, '/home/bekah/gPhoton2')\n",
    "from gPhoton.pipeline import execute_pipeline\n",
    "from astropy.io import fits\n",
    "from io import BytesIO\n",
    "import numpy as np \n",
    "import os\n",
    "import matplotlib.pyplot as plt\n",
    "from gPhoton.coadd import zero_flag_and_edge\n",
    "import pyarrow.parquet as parquet\n",
    "from quickbin import bin2d\n",
    "\n",
    "from photutils.background import Background2D, MedianBackground\n",
    "from astropy.stats import SigmaClip"
   ]
  },
  {
   "cell_type": "code",
   "execution_count": 2,
   "id": "c0ecb9f9",
   "metadata": {},
   "outputs": [],
   "source": [
    "def centile_clip(image, centiles=(1, 99)):\n",
    "    \"\"\"\n",
    "    simple clipping function that clips values above and below a given\n",
    "    percentile range\n",
    "    \"\"\"\n",
    "    finite = np.ma.masked_invalid(image)\n",
    "    bounds = np.percentile(finite[~finite.mask].data, centiles)\n",
    "    result = np.ma.clip(finite, *bounds)\n",
    "    \n",
    "    if isinstance(image, np.ma.MaskedArray):\n",
    "        \n",
    "        return result\n",
    "    \n",
    "    return result.data"
   ]
  },
  {
   "cell_type": "code",
   "execution_count": 3,
   "id": "8eac161a",
   "metadata": {},
   "outputs": [],
   "source": [
    "# make a list of fuv to make / look at \n",
    "\n",
    "og_aspect = parquet.read_table('/home/bekah/gPhoton2/gPhoton/aspect/metadata.parquet').to_pandas()\n",
    "og_aspect = og_aspect.dropna(subset=['fuv_temp'])\n"
   ]
  },
  {
   "cell_type": "code",
   "execution_count": 4,
   "id": "8351091b",
   "metadata": {},
   "outputs": [],
   "source": [
    "fuv = og_aspect.iloc[400:500]"
   ]
  },
  {
   "cell_type": "code",
   "execution_count": null,
   "id": "a6e51291",
   "metadata": {},
   "outputs": [],
   "source": [
    "for index, eclipse in fuv['eclipse'].items():\n",
    "    print(eclipse)\n",
    "    try: \n",
    "        execute_pipeline(\n",
    "                int(eclipse),\n",
    "                \"FUV\",\n",
    "                depth=None,\n",
    "                # integer; None to deactivate (default None)\n",
    "                threads=4,\n",
    "                # where to both write output data and look for input data\n",
    "                local_root=\"/media/bekah/BekahA/background_test/pics_and_photonlists\",\n",
    "                # auxiliary remote location for input data\n",
    "                # remote_root=\"/mnt/s3\",\n",
    "                recreate=True,\n",
    "                # list of floats; relevant only to lightcurve / photometry portion\n",
    "                aperture_sizes=[12.8],\n",
    "                # actually write image/movie products? otherwise hold in memory but\n",
    "                # discard (possibly after performing photometry).\n",
    "                write={\"movie\": False, \"image\": False},\n",
    "                coregister_lightcurves=False,\n",
    "                # photonpipe, moviemaker, None (default None)\n",
    "                stop_after=None,\n",
    "                photometry_only=False,\n",
    "                # None, \"gzip\", \"rice\"\n",
    "                compression=\"rice\",\n",
    "                # use array sparsification on movie frames?\n",
    "                lil=False,\n",
    "                # write movie frames as separate files\n",
    "                burst=False,\n",
    "                extended_photonlist=True,\n",
    "                # aspect file, don't need to set unless need to use alt\n",
    "                # file, 'aspect2.parquet'\n",
    "            )\n",
    "        \n",
    "    except Exception as e: \n",
    "        print(e)\n"
   ]
  },
  {
   "cell_type": "code",
   "execution_count": null,
   "id": "9af2536f",
   "metadata": {},
   "outputs": [],
   "source": []
  },
  {
   "cell_type": "code",
   "execution_count": null,
   "id": "0007c604",
   "metadata": {},
   "outputs": [],
   "source": [
    "for index, eclipse in fuv['eclipse'].items():\n",
    "    \n",
    "    try: \n",
    "        ecl = fits.open(f\"/media/bekah/BekahA/background_test/e{eclipse}_FUV_threshold_nobkgsub.fits\")\n",
    "\n",
    "        cnt_image = ecl[1].data\n",
    "        sigma_clip = SigmaClip(sigma=3.)\n",
    "        bkg_estimator = MedianBackground()\n",
    "        bkg = Background2D(cnt_image,(50, 50),filter_size=(3, 3), \n",
    "                           bkg_estimator=bkg_estimator,\n",
    "                               sigma_clip=sigma_clip)\n",
    "\n",
    "        fig, (ax1, ax2)  = plt.subplots(1, 2, figsize=(10, 8))\n",
    "\n",
    "        ax1.imshow(centile_clip(bkg.background), cmap='grey',interpolation=None)\n",
    "        ax1.set_title('background')\n",
    "        ax1.axis('off')\n",
    "\n",
    "        ax2.imshow(centile_clip(np.multiply(3,bkg.background_rms)) , cmap='grey',interpolation=None)\n",
    "        ax2.set_title('threshold')\n",
    "        ax2.axis('off')  # Hide axes\n",
    "\n",
    "        plt.tight_layout()\n",
    "\n",
    "        plt.savefig(f'/media/bekah/BekahA/background_test/pics_and_photonlists/e{eclipse}_fuv_bkg.png')\n",
    "\n",
    "    except Exception as e: \n",
    "        print(e)\n"
   ]
  },
  {
   "cell_type": "code",
   "execution_count": null,
   "id": "e743b1ea",
   "metadata": {},
   "outputs": [],
   "source": [
    "for index, eclipse in fuv['eclipse'].items():\n",
    "    \n",
    "    try: \n",
    "        ecl = fits.open(f\"/media/bekah/BekahA/background_test/e{eclipse}_FUV_threshold_nobkgsub.fits\")\n",
    "        \n",
    "        data = ecl[1].data\n",
    "\n",
    "\n",
    "        # lowest non-zero value\n",
    "        non_zero_min = np.min(data[data > 0])\n",
    "\n",
    "        # replace all zero / NaN values with the lowest non-zero value\n",
    "        data[data == 0] = non_zero_min\n",
    "        data = np.nan_to_num(data, nan=non_zero_min)  \n",
    "\n",
    "        sigma_clip = SigmaClip(sigma=3.)\n",
    "        bkg_estimator = MedianBackground()\n",
    "        bkg = Background2D(data,(50, 50),filter_size=(3, 3), \n",
    "                           bkg_estimator=bkg_estimator,\n",
    "                               sigma_clip=sigma_clip)\n",
    "\n",
    "        fig, (ax1, ax2)  = plt.subplots(1, 2, figsize=(10, 8))\n",
    "\n",
    "        ax1.imshow(centile_clip(bkg.background), cmap='grey',interpolation=None)\n",
    "        ax1.set_title('background')\n",
    "        ax1.axis('off')\n",
    "\n",
    "        ax2.imshow(centile_clip(np.multiply(3,bkg.background_rms)) , cmap='grey',interpolation=None)\n",
    "        ax2.set_title('threshold')\n",
    "        ax2.axis('off')  # Hide axes\n",
    "\n",
    "        plt.tight_layout()\n",
    "\n",
    "        plt.savefig(f'/media/bekah/BekahA/background_test/pics_and_photonlists/mod_e{eclipse}_fuv_bkg.png')\n",
    "        \n",
    "    except Exception as e: \n",
    "        print(e)"
   ]
  },
  {
   "cell_type": "code",
   "execution_count": null,
   "id": "592986a4",
   "metadata": {
    "scrolled": true
   },
   "outputs": [],
   "source": [
    "# flat scale parameter \n",
    "flat_correct = -0.0031\n",
    "flat_t0 = 840418779.02\n",
    "flat_correct_0 = 1.2420282\n",
    "flat_correct_1 = -2.8843099e-10\n",
    "flat_correct_2 = 0.000\n",
    "\n",
    "t = np.linspace(flat_t0,flat_t0+10000000, 100000)\n",
    "\n",
    "flat_scale = (\n",
    "        flat_correct_0 + (flat_correct_1 * t) + (flat_correct_2 * t * t))\n",
    "\n",
    "plt.plot(t, flat_scale)\n",
    "\n",
    "plt.title(\"fuv flat scale\")\n",
    "plt.xlabel(\"time\")"
   ]
  },
  {
   "cell_type": "code",
   "execution_count": null,
   "id": "cc2fdd3e",
   "metadata": {},
   "outputs": [],
   "source": [
    "flat_correct = -0.0154\n",
    "flat_t0 = 840418779.02\n",
    "flat_correct_0 = 1.9946352\n",
    "flat_correct_1 = -1.9679445e-09\n",
    "flat_correct_2 = 9.3025231e-19\n",
    "\n",
    "t = np.linspace(flat_t0, flat_t0+10000000, 100000)\n",
    "\n",
    "flat_scale = (\n",
    "        flat_correct_0 + (flat_correct_1 * t) + (flat_correct_2 * t) * t\n",
    "    )\n",
    "\n",
    "plt.plot(t, flat_scale)\n",
    "\n",
    "plt.title(\"nuv flat scale\")\n",
    "plt.xlabel(\"time\")"
   ]
  },
  {
   "cell_type": "code",
   "execution_count": null,
   "id": "7bd2e1f7",
   "metadata": {},
   "outputs": [],
   "source": [
    "flat_correct_fuv=-0.0031,\n",
    "flat_t0_fuv=840418779.02, \n",
    "\n",
    "flat_correct_nuv=-0.0154,\n",
    "flat_t0_nuv=840418779.02, \n",
    "\n",
    "flat_correct_fuv_0=1.2420282, \n",
    "flat_correct_fuv_1=-2.8843099e-10, \n",
    "flat_correct_fuv_2=0.000, \n",
    "\n",
    "flat_correct_nuv_0=1.9946352, \n",
    "flat_correct_nuv_1=-1.9679445e-09, \n",
    "flat_correct_nuv_2=9.3025231e-19"
   ]
  },
  {
   "cell_type": "code",
   "execution_count": null,
   "id": "e63fc832",
   "metadata": {},
   "outputs": [],
   "source": [
    "\"cal_info,calinf,cali,cal2_info,cal2: list of double  = \n",
    "{dumwig=>0,ne=>0,flat_t0_nuv=>840418779.02,flat_t0_fuv=>840418779.02,linfile_fuv_x=>FUV_NLC_x_det2sky.fits,pltscl=>68.754932,maskfile_fuv=>FUV_mask.fits,\n",
    " flat_correct_nuv=>-0.0154,wigfile_fuv_x=>FUV_wiggle_x.fits,\n",
    " spflatfile=>spflat.fits,nb=>1,fe=>0,fc=>0,wigfile_nuv_x=>NUV_wiggle_x.fits,nc=>0,\n",
    " walkfile_fuv_x=>FUV_walk_x.fits,ff=>1,nd=>0,flatfile=>flat.fits,walkfile_nuv_y=>NUV_walk_y.fits,\n",
    " detbgfile=>detbg.fits,linfile_nuv_x=>NUV_NLC_x_det2sky.fits,detsize=>1.25,nf=>1,\n",
    " wigfile_nuv_y=>NUV_wiggle_y.fits,linfile_nuv_y=>NUV_NLC_y_det2sky.fits,\n",
    " flat_correct_nuv_2=>9.3025231e-19,fb=>1,maskfile_nuv=>NUV_mask.fits,\n",
    " flat_correct_fuv_2=>0.000,walkfile_fuv_y=>FUV_walk_y.fits,maskfile=>mask.fits,\n",
    " fd=>0,wigfile_fuv_y=>FUV_wiggle_y.fits,flat_correct_fuv_1=>-2.8843099e-10,\n",
    " linfile_fuv_y=>FUV_NLC_y_det2sky.fits,dumlin=>0,dummy=>0                           \n",
    " ,fa=>0,calpath=>/home/galex/cal/targ/use,dumwalk=>0,walkfile_nuv_x=>NUV_walk_x.fits,\n",
    " maskr=>0,flat_correct_fuv=>-0.0031,flat_correct_fuv_0=>1.2420282,\n",
    " fflat_correct_nuv_1=>-1.9679445e-09,flat_correct_nuv_0=>1.9946352,na=>0} # Some calibration info\\n\"\n"
   ]
  },
  {
   "cell_type": "code",
   "execution_count": null,
   "id": "5de7ceec",
   "metadata": {},
   "outputs": [],
   "source": [
    "from gPhoton.io.mast import get_raw_paths\n",
    "eclipse = 11000\n",
    "urls = get_raw_paths(eclipse)\n",
    "urls"
   ]
  },
  {
   "cell_type": "code",
   "execution_count": null,
   "id": "b0cf37ab",
   "metadata": {},
   "outputs": [],
   "source": [
    "scst = fits.open(\"/home/bekah/Downloads/e11000-scst.fits\")\n",
    "scst"
   ]
  },
  {
   "cell_type": "code",
   "execution_count": null,
   "id": "ab4bef79",
   "metadata": {},
   "outputs": [],
   "source": [
    "import pyarrow.parquet as pq "
   ]
  },
  {
   "cell_type": "code",
   "execution_count": null,
   "id": "91036ba6",
   "metadata": {},
   "outputs": [],
   "source": [
    "file_path = '/home/bekah/Downloads/extended_scst_7_16 (1).parquet'\n",
    "\n",
    "parquet_file = pq.ParquetFile(file_path)\n",
    "\n",
    "print(\"Columns and types:\")\n",
    "print(parquet_file.schema)\n",
    "\n",
    "table = pq.read_table(file_path, columns=['eclipse', 'hvnom_fuv']).to_pandas()\n"
   ]
  },
  {
   "cell_type": "code",
   "execution_count": null,
   "id": "d39d5bdb",
   "metadata": {},
   "outputs": [],
   "source": [
    "table"
   ]
  },
  {
   "cell_type": "code",
   "execution_count": null,
   "id": "e7308624",
   "metadata": {},
   "outputs": [],
   "source": [
    "plt.scatter(table['eclipse'],table['hvnom_fuv'],s=.2)"
   ]
  },
  {
   "cell_type": "code",
   "execution_count": null,
   "id": "8747c03e",
   "metadata": {},
   "outputs": [],
   "source": [
    "scst[0].header"
   ]
  },
  {
   "cell_type": "code",
   "execution_count": null,
   "id": "8ea70c3f",
   "metadata": {},
   "outputs": [],
   "source": [
    "# ok which of these do I want? \n",
    "\n",
    "FDTTDC  =     30.2463488799476  # FUV temps                                                                                              \n",
    "ITFUVOBA=     23.6954584662164   # Instrument Temps B                                                                                             \n",
    "FDHVMON =     6212.70507858441   # Voltages B or Detector HV?                                              \n",
    "FDHIMON =     48.5158041971777   # Detector HV                                                \n",
    "FDSFHV  =     10.2447352131722   # fuv_normal_operation_indicator_for_hv                                               \n",
    "FDCTEC  =     1512.71322743765   # FUV count rate                                                \n",
    "FDCFEC  =      1665.3077821901   # FUV count rate                                                \n",
    "TRANGE0 = '050304T113547Z'                                                      \n",
    "TRANGE1 = '050304T131424Z'  \n",
    "\n",
    "    ['FDTTDC','ITFUVOBA','FDHVMON','FDHIMON','FDSFHV','FDCTEC','FDCFEC','TRANGE0','TRANGE1']"
   ]
  }
 ],
 "metadata": {
  "kernelspec": {
   "display_name": "Python 3 (ipykernel)",
   "language": "python",
   "name": "python3"
  },
  "language_info": {
   "codemirror_mode": {
    "name": "ipython",
    "version": 3
   },
   "file_extension": ".py",
   "mimetype": "text/x-python",
   "name": "python",
   "nbconvert_exporter": "python",
   "pygments_lexer": "ipython3",
   "version": "3.11.6"
  }
 },
 "nbformat": 4,
 "nbformat_minor": 5
}
