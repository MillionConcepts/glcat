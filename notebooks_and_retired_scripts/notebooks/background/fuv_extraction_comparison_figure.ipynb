{
 "cells": [
  {
   "cell_type": "code",
   "execution_count": null,
   "id": "a8b35f60",
   "metadata": {},
   "outputs": [],
   "source": [
    "# to compare various changes in source extraction \n",
    "# current changes:\n",
    "# no background subtraction for FUV \n",
    "# upper quartile is min threshold for FUV below .0005 \n",
    "# no edge mask in threshold / background gen \n"
   ]
  },
  {
   "cell_type": "code",
   "execution_count": null,
   "id": "3b0744d4",
   "metadata": {},
   "outputs": [],
   "source": [
    "import numpy as np\n",
    "import matplotlib.pyplot as plt\n",
    "from astropy.io import fits\n",
    "from astropy.visualization import ZScaleInterval"
   ]
  },
  {
   "cell_type": "code",
   "execution_count": null,
   "id": "d056c74f",
   "metadata": {},
   "outputs": [],
   "source": [
    "def centile_clip(image, centiles=(1, 95)):\n",
    "    \"\"\"\n",
    "    simple clipping function that clips values above and below a given\n",
    "    percentile range\n",
    "    \"\"\"\n",
    "    finite = np.ma.masked_invalid(image)\n",
    "    bounds = np.percentile(finite[~finite.mask].data, centiles)\n",
    "    result = np.ma.clip(finite, *bounds)\n",
    "    \n",
    "    if isinstance(image, np.ma.MaskedArray):\n",
    "        \n",
    "        return result\n",
    "    \n",
    "    return result.data"
   ]
  },
  {
   "cell_type": "code",
   "execution_count": null,
   "id": "6cb72ada",
   "metadata": {},
   "outputs": [],
   "source": [
    "eclipse = 31217\n",
    "fits_file2 = f'/media/bekah/BekahA/background_test/pics_and_photonlists/fuv_changetest_upperquart/e{eclipse}_FUV_11_30.fits'\n",
    "fits_file1 = f\"/media/bekah/BekahA/background_test/pics_and_photonlists/fuv_nochanges/e{eclipse}_FUV_12_05.fits\""
   ]
  },
  {
   "cell_type": "code",
   "execution_count": null,
   "id": "740924ab",
   "metadata": {},
   "outputs": [],
   "source": [
    "fig, axs = plt.subplots(10, 4, figsize=(16, 40))\n",
    "eclipses = ['31217','1640','2614','6307','19188','22118','28781','8549',\n",
    "           '5985','13338']\n",
    "for r, eclipse in enumerate(eclipses): \n",
    "    fits_file2 = f'/media/bekah/BekahA/background_test/pics_and_photonlists/fuv_changetest_upperquart/e{eclipse}_FUV_11_30.fits'\n",
    "    fits_file1 = f\"/media/bekah/BekahA/background_test/pics_and_photonlists/fuv_nochanges/e{eclipse}_FUV_12_05.fits\"\n",
    "\n",
    "    with fits.open(fits_file1) as hdul1, fits.open(fits_file2) as hdul2:\n",
    "        data_cnt = hdul2[1].data\n",
    "        data_src1 = hdul1[2].data\n",
    "        data_src2 = hdul2[2].data\n",
    "\n",
    "    binary_src1 = (data_src1 > 0).astype(int)\n",
    "    binary_src2 = (data_src2 > 0).astype(int)\n",
    "    source_dif = binary_src1 - binary_src2\n",
    "\n",
    "    axs[r,0].imshow(centile_clip(data_cnt), origin='lower', cmap='gray', aspect='auto')\n",
    "    axs[r,0].set_title(f'CNT, eclipse {eclipse}')\n",
    "    axs[r,0].axis('off')\n",
    "\n",
    "    axs[r,1].imshow(data_src1!=0, origin='lower', cmap='gray', aspect='auto',interpolation=None)\n",
    "    axs[r,1].set_title('Sources (orig)')\n",
    "    axs[r,1].axis('off')\n",
    "\n",
    "    axs[r,2].imshow(data_src2!=0, origin='lower', cmap='gray', aspect='auto',interpolation=None)\n",
    "    axs[r,2].set_title('Sources (new min threshold, no bkg sub, no mask)')\n",
    "    axs[r,2].axis('off')\n",
    "\n",
    "    axs[r,3].imshow(source_dif!=0, origin='lower', cmap='binary', aspect='auto',interpolation=None)\n",
    "    axs[r,3].set_title('Source Diff')\n",
    "    axs[r,3].axis('off')\n",
    "plt.tight_layout()\n",
    "plt.show()\n",
    "plt.savefig(\"fuv_detection_improvements.png\")"
   ]
  },
  {
   "cell_type": "code",
   "execution_count": null,
   "id": "02a9c3f1",
   "metadata": {},
   "outputs": [],
   "source": []
  }
 ],
 "metadata": {
  "kernelspec": {
   "display_name": "Python 3 (ipykernel)",
   "language": "python",
   "name": "python3"
  },
  "language_info": {
   "codemirror_mode": {
    "name": "ipython",
    "version": 3
   },
   "file_extension": ".py",
   "mimetype": "text/x-python",
   "name": "python",
   "nbconvert_exporter": "python",
   "pygments_lexer": "ipython3",
   "version": "3.11.6"
  }
 },
 "nbformat": 4,
 "nbformat_minor": 5
}
