{
 "cells": [
  {
   "cell_type": "code",
   "execution_count": 1,
   "id": "75c6f3c7",
   "metadata": {},
   "outputs": [],
   "source": [
    "import sys\n",
    "import pandas as pd \n",
    "sys.path.insert(0, '/home/bekah/gPhoton2')\n",
    "from gPhoton.pipeline import execute_pipeline\n",
    "from astropy.io import fits\n",
    "from io import BytesIO\n",
    "import numpy as np \n",
    "import os\n",
    "import matplotlib.pyplot as plt\n",
    "from gPhoton.coadd import zero_flag_and_edge\n",
    "import pyarrow.parquet as parquet\n",
    "from quickbin import bin2d\n"
   ]
  },
  {
   "cell_type": "code",
   "execution_count": 2,
   "id": "a161e803",
   "metadata": {},
   "outputs": [
    {
     "name": "stderr",
     "output_type": "stream",
     "text": [
      "/home/bekah/gPhoton2/gPhoton/pipeline.py:231: UserWarning: lil=False is deprected and will be removed in a future release. Defaulting to lil=True.\n",
      "  warnings.warn(\"lil=False is deprected and will be removed in a future release. Defaulting to lil=True.\")\n"
     ]
    },
    {
     "name": "stdout",
     "output_type": "stream",
     "text": [
      "starting timer\n",
      "eclipse 14112 FUV  -- GII; 0 leg(s)\n",
      "downloading raw6file\n",
      "Processing eclipse 14112\n",
      "Offsetting FUV image for eclipse 14112 at 29.7843246809265 degrees.\n",
      "Setting FUV offsets to x=-0.02999, y=0.04301841227073827\n",
      "trange= ( 819078522.995 , 819079247.995 )                   \n",
      "RA AVG: 66.95414560550891, DEC AVG: 17.084464825118285, ROLL AVG: 236.99848085491396\n",
      "Loading raw6 file...                                        \n",
      "5807190 events\n",
      "Unpacking raw6 data...                                      \n",
      "stim_coef0, stim_coef1 = -237970.18854583672, 0.00029674785653263186\n",
      "[0.50578046 0.50578046 0.50578046 ... 0.50578042 0.50578042 0.50578042]\n",
      "[0.50578057 0.50578057 0.50578057 ... 0.50578053 0.50578053 0.50578053]\n",
      "[0.50578053 0.50578053 0.50578053 ... 0.5057805  0.5057805  0.5057805 ]\n",
      "[0.5057805  0.5057805  0.5057805  ... 0.50578046 0.50578046 0.50578046]\n",
      "[0.50578039 0.50578039 0.50578039 ... 0.50578036 0.50578036 0.50578036]\n",
      "[0.50578042 0.50578042 0.50578042 ... 0.50578039 0.50578039 0.50578039]\n",
      "writing table to /home/bekah/gPhoton2/test_data/e14112/e14112-fd-b00.parquet\n",
      "                                                            \n",
      "Runtime statistics:\n",
      " runtime\t\t=\t8.42 sec. = (0.14 min.)\n",
      "  processed\t   =   5743654 of 5807190 events.\n",
      "rate\t\t=\t689998.19 photons/sec.\n",
      "\n",
      "15.09 elapsed seconds, restarting timer\n",
      "making images from /home/bekah/gPhoton2/test_data/e14112/e14112-fd-b00.parquet\n",
      "indexing data and making WCS solution\n",
      "making full-depth image\n",
      "4.18 elapsed seconds, restarting timer\n",
      "Extracting sources with DAOFIND.\n",
      "Masking for extended sources.\n",
      "Running DAO for extended source ID.\n",
      "Found 517 peaks with DAO.\n",
      "517\n",
      "Estimating background and threshold.\n",
      "Calculating source threshold.\n",
      "Segmenting and deblending point sources.\n"
     ]
    },
    {
     "ename": "TypeError",
     "evalue": "cannot unpack non-iterable NoneType object",
     "output_type": "error",
     "traceback": [
      "\u001b[0;31m---------------------------------------------------------------------------\u001b[0m",
      "\u001b[0;31mTypeError\u001b[0m                                 Traceback (most recent call last)",
      "Cell \u001b[0;32mIn[2], line 1\u001b[0m\n\u001b[0;32m----> 1\u001b[0m \u001b[43mexecute_pipeline\u001b[49m\u001b[43m(\u001b[49m\n\u001b[1;32m      2\u001b[0m \u001b[43m                \u001b[49m\u001b[38;5;241;43m14112\u001b[39;49m\u001b[43m \u001b[49m\u001b[43m,\u001b[49m\u001b[38;5;66;43;03m#int(eclipse),\u001b[39;49;00m\n\u001b[1;32m      3\u001b[0m \u001b[43m                \u001b[49m\u001b[38;5;124;43m\"\u001b[39;49m\u001b[38;5;124;43mFUV\u001b[39;49m\u001b[38;5;124;43m\"\u001b[39;49m\u001b[43m,\u001b[49m\n\u001b[1;32m      4\u001b[0m \u001b[43m                \u001b[49m\u001b[43mdepth\u001b[49m\u001b[38;5;241;43m=\u001b[39;49m\u001b[38;5;28;43;01mNone\u001b[39;49;00m\u001b[43m,\u001b[49m\n\u001b[1;32m      5\u001b[0m \u001b[43m                \u001b[49m\u001b[38;5;66;43;03m# integer; None to deactivate (default None)\u001b[39;49;00m\n\u001b[1;32m      6\u001b[0m \u001b[43m                \u001b[49m\u001b[43mthreads\u001b[49m\u001b[38;5;241;43m=\u001b[39;49m\u001b[38;5;241;43m4\u001b[39;49m\u001b[43m,\u001b[49m\n\u001b[1;32m      7\u001b[0m \u001b[43m                \u001b[49m\u001b[38;5;66;43;03m# where to both write output data and look for input data\u001b[39;49;00m\n\u001b[1;32m      8\u001b[0m \u001b[43m                \u001b[49m\u001b[43mlocal_root\u001b[49m\u001b[38;5;241;43m=\u001b[39;49m\u001b[38;5;124;43m\"\u001b[39;49m\u001b[38;5;124;43m/home/bekah/gPhoton2/test_data\u001b[39;49m\u001b[38;5;124;43m\"\u001b[39;49m\u001b[43m,\u001b[49m\n\u001b[1;32m      9\u001b[0m \u001b[43m                \u001b[49m\u001b[38;5;66;43;03m# auxiliary remote location for input data\u001b[39;49;00m\n\u001b[1;32m     10\u001b[0m \u001b[43m                \u001b[49m\u001b[38;5;66;43;03m# remote_root=\"/mnt/s3\",\u001b[39;49;00m\n\u001b[1;32m     11\u001b[0m \u001b[43m                \u001b[49m\u001b[43mrecreate\u001b[49m\u001b[38;5;241;43m=\u001b[39;49m\u001b[38;5;28;43;01mTrue\u001b[39;49;00m\u001b[43m,\u001b[49m\n\u001b[1;32m     12\u001b[0m \u001b[43m                \u001b[49m\u001b[38;5;66;43;03m# list of floats; relevant only to lightcurve / photometry portion\u001b[39;49;00m\n\u001b[1;32m     13\u001b[0m \u001b[43m                \u001b[49m\u001b[43maperture_sizes\u001b[49m\u001b[38;5;241;43m=\u001b[39;49m\u001b[43m[\u001b[49m\u001b[38;5;241;43m12.8\u001b[39;49m\u001b[43m]\u001b[49m\u001b[43m,\u001b[49m\n\u001b[1;32m     14\u001b[0m \u001b[43m                \u001b[49m\u001b[38;5;66;43;03m# actually write image/movie products? otherwise hold in memory but\u001b[39;49;00m\n\u001b[1;32m     15\u001b[0m \u001b[43m                \u001b[49m\u001b[38;5;66;43;03m# discard (possibly after performing photometry).\u001b[39;49;00m\n\u001b[1;32m     16\u001b[0m \u001b[43m                \u001b[49m\u001b[43mwrite\u001b[49m\u001b[38;5;241;43m=\u001b[39;49m\u001b[43m{\u001b[49m\u001b[38;5;124;43m\"\u001b[39;49m\u001b[38;5;124;43mmovie\u001b[39;49m\u001b[38;5;124;43m\"\u001b[39;49m\u001b[43m:\u001b[49m\u001b[43m \u001b[49m\u001b[38;5;28;43;01mFalse\u001b[39;49;00m\u001b[43m,\u001b[49m\u001b[43m \u001b[49m\u001b[38;5;124;43m\"\u001b[39;49m\u001b[38;5;124;43mimage\u001b[39;49m\u001b[38;5;124;43m\"\u001b[39;49m\u001b[43m:\u001b[49m\u001b[43m \u001b[49m\u001b[38;5;28;43;01mFalse\u001b[39;49;00m\u001b[43m}\u001b[49m\u001b[43m,\u001b[49m\n\u001b[1;32m     17\u001b[0m \u001b[43m                \u001b[49m\u001b[43mcoregister_lightcurves\u001b[49m\u001b[38;5;241;43m=\u001b[39;49m\u001b[38;5;28;43;01mFalse\u001b[39;49;00m\u001b[43m,\u001b[49m\n\u001b[1;32m     18\u001b[0m \u001b[43m                \u001b[49m\u001b[38;5;66;43;03m# photonpipe, moviemaker, None (default None)\u001b[39;49;00m\n\u001b[1;32m     19\u001b[0m \u001b[43m                \u001b[49m\u001b[43mstop_after\u001b[49m\u001b[38;5;241;43m=\u001b[39;49m\u001b[38;5;28;43;01mNone\u001b[39;49;00m\u001b[43m,\u001b[49m\n\u001b[1;32m     20\u001b[0m \u001b[43m                \u001b[49m\u001b[43mphotometry_only\u001b[49m\u001b[38;5;241;43m=\u001b[39;49m\u001b[38;5;28;43;01mFalse\u001b[39;49;00m\u001b[43m,\u001b[49m\n\u001b[1;32m     21\u001b[0m \u001b[43m                \u001b[49m\u001b[38;5;66;43;03m# None, \"gzip\", \"rice\"\u001b[39;49;00m\n\u001b[1;32m     22\u001b[0m \u001b[43m                \u001b[49m\u001b[43mcompression\u001b[49m\u001b[38;5;241;43m=\u001b[39;49m\u001b[38;5;124;43m\"\u001b[39;49m\u001b[38;5;124;43mrice\u001b[39;49m\u001b[38;5;124;43m\"\u001b[39;49m\u001b[43m,\u001b[49m\n\u001b[1;32m     23\u001b[0m \u001b[43m                \u001b[49m\u001b[38;5;66;43;03m# use array sparsification on movie frames?\u001b[39;49;00m\n\u001b[1;32m     24\u001b[0m \u001b[43m                \u001b[49m\u001b[43mlil\u001b[49m\u001b[38;5;241;43m=\u001b[39;49m\u001b[38;5;28;43;01mFalse\u001b[39;49;00m\u001b[43m,\u001b[49m\n\u001b[1;32m     25\u001b[0m \u001b[43m                \u001b[49m\u001b[38;5;66;43;03m# write movie frames as separate files\u001b[39;49;00m\n\u001b[1;32m     26\u001b[0m \u001b[43m                \u001b[49m\u001b[43mburst\u001b[49m\u001b[38;5;241;43m=\u001b[39;49m\u001b[38;5;28;43;01mFalse\u001b[39;49;00m\u001b[43m,\u001b[49m\n\u001b[1;32m     27\u001b[0m \u001b[43m                \u001b[49m\u001b[43mextended_photonlist\u001b[49m\u001b[38;5;241;43m=\u001b[39;49m\u001b[38;5;28;43;01mTrue\u001b[39;49;00m\u001b[43m,\u001b[49m\n\u001b[1;32m     28\u001b[0m \u001b[43m                \u001b[49m\u001b[38;5;66;43;03m# aspect file, don't need to set unless need to use alt\u001b[39;49;00m\n\u001b[1;32m     29\u001b[0m \u001b[43m                \u001b[49m\u001b[38;5;66;43;03m# file, 'aspect2.parquet'\u001b[39;49;00m\n\u001b[1;32m     30\u001b[0m \u001b[43m            \u001b[49m\u001b[43m)\u001b[49m\n",
      "File \u001b[0;32m~/gPhoton2/gPhoton/pipeline.py:263\u001b[0m, in \u001b[0;36mexecute_pipeline\u001b[0;34m(eclipse, band, depth, threads, local_root, remote_root, download, recreate, verbose, source_catalog_file, write, aperture_sizes, lil, coregister_lightcurves, stop_after, compression, hdu_constructor_kwargs, min_exptime, photometry_only, burst, chunksz, share_memory, extended_photonlist, aspect, override_eclipse_limits, extraction_threshold, suffix)\u001b[0m\n\u001b[1;32m    261\u001b[0m \u001b[38;5;28;01mif\u001b[39;00m photometry_only:\n\u001b[1;32m    262\u001b[0m     \u001b[38;5;28;01mreturn\u001b[39;00m execute_photometry_only(ctx)\n\u001b[0;32m--> 263\u001b[0m \u001b[38;5;28;01mreturn\u001b[39;00m \u001b[43mexecute_full_pipeline\u001b[49m\u001b[43m(\u001b[49m\u001b[43mctx\u001b[49m\u001b[43m)\u001b[49m\n",
      "File \u001b[0;32m~/gPhoton2/gPhoton/pipeline.py:346\u001b[0m, in \u001b[0;36mexecute_full_pipeline\u001b[0;34m(ctx)\u001b[0m\n\u001b[1;32m    343\u001b[0m \u001b[38;5;28;01mif\u001b[39;00m \u001b[38;5;129;01mnot\u001b[39;00m ctx\u001b[38;5;241m.\u001b[39mstop_after \u001b[38;5;241m==\u001b[39m \u001b[38;5;124m\"\u001b[39m\u001b[38;5;124mmoviemaker\u001b[39m\u001b[38;5;124m\"\u001b[39m:\n\u001b[1;32m    344\u001b[0m     \u001b[38;5;28;01mfrom\u001b[39;00m \u001b[38;5;21;01mgPhoton\u001b[39;00m\u001b[38;5;21;01m.\u001b[39;00m\u001b[38;5;21;01mlightcurve\u001b[39;00m \u001b[38;5;28;01mimport\u001b[39;00m make_lightcurves\n\u001b[0;32m--> 346\u001b[0m     photometry_result \u001b[38;5;241m=\u001b[39m \u001b[43mmake_lightcurves\u001b[49m\u001b[43m(\u001b[49m\u001b[43mresults\u001b[49m\u001b[43m,\u001b[49m\u001b[43m \u001b[49m\u001b[43mleg_step\u001b[49m\u001b[43m)\u001b[49m\n\u001b[1;32m    347\u001b[0m \u001b[38;5;28;01melse\u001b[39;00m:\n\u001b[1;32m    348\u001b[0m     photometry_result \u001b[38;5;241m=\u001b[39m \u001b[38;5;124m'\u001b[39m\u001b[38;5;124msuccessful\u001b[39m\u001b[38;5;124m'\u001b[39m\n",
      "File \u001b[0;32m~/gPhoton2/gPhoton/lightcurve/core.py:30\u001b[0m, in \u001b[0;36mmake_lightcurves\u001b[0;34m(sky_arrays, ctx)\u001b[0m\n\u001b[1;32m     24\u001b[0m \u001b[38;5;28;01melse\u001b[39;00m:\n\u001b[1;32m     25\u001b[0m     sources \u001b[38;5;241m=\u001b[39m \u001b[38;5;28;01mNone\u001b[39;00m\n\u001b[1;32m     26\u001b[0m (source_table, \n\u001b[1;32m     27\u001b[0m  segment_map, \n\u001b[1;32m     28\u001b[0m  extended_source_paths, \n\u001b[1;32m     29\u001b[0m  extended_shapes_cat\n\u001b[0;32m---> 30\u001b[0m  ) \u001b[38;5;241m=\u001b[39m \u001b[43mfind_sources\u001b[49m\u001b[43m(\u001b[49m\n\u001b[1;32m     31\u001b[0m \u001b[43m     \u001b[49m\u001b[43mctx\u001b[49m\u001b[38;5;241;43m.\u001b[39;49m\u001b[43meclipse\u001b[49m\u001b[43m,\u001b[49m\n\u001b[1;32m     32\u001b[0m \u001b[43m     \u001b[49m\u001b[43mctx\u001b[49m\u001b[38;5;241;43m.\u001b[39;49m\u001b[43mband\u001b[49m\u001b[43m,\u001b[49m\n\u001b[1;32m     33\u001b[0m \u001b[43m     \u001b[49m\u001b[38;5;28;43mstr\u001b[39;49m\u001b[43m(\u001b[49m\u001b[43mctx\u001b[49m\u001b[38;5;241;43m.\u001b[39;49m\u001b[43meclipse_path\u001b[49m\u001b[43m(\u001b[49m\u001b[43m)\u001b[49m\u001b[43m)\u001b[49m\u001b[43m,\u001b[49m\n\u001b[1;32m     34\u001b[0m \u001b[43m     \u001b[49m\u001b[43msky_arrays\u001b[49m\u001b[43m[\u001b[49m\u001b[38;5;124;43m\"\u001b[39;49m\u001b[38;5;124;43mimage_dict\u001b[39;49m\u001b[38;5;124;43m\"\u001b[39;49m\u001b[43m]\u001b[49m\u001b[43m,\u001b[49m\n\u001b[1;32m     35\u001b[0m \u001b[43m     \u001b[49m\u001b[43msky_arrays\u001b[49m\u001b[43m[\u001b[49m\u001b[38;5;124;43m\"\u001b[39;49m\u001b[38;5;124;43mwcs\u001b[39;49m\u001b[38;5;124;43m\"\u001b[39;49m\u001b[43m]\u001b[49m\u001b[43m,\u001b[49m\n\u001b[1;32m     36\u001b[0m \u001b[43m     \u001b[49m\u001b[43msource_table\u001b[49m\u001b[38;5;241;43m=\u001b[39;49m\u001b[43msources\u001b[49m\u001b[43m,\u001b[49m\n\u001b[1;32m     37\u001b[0m \u001b[43m     \u001b[49m\u001b[43mextraction_threshold\u001b[49m\u001b[38;5;241;43m=\u001b[39;49m\u001b[43mctx\u001b[49m\u001b[38;5;241;43m.\u001b[39;49m\u001b[43mextraction_threshold\u001b[49m\u001b[43m,\u001b[49m\n\u001b[1;32m     38\u001b[0m \u001b[43m\u001b[49m\u001b[43m)\u001b[49m\n\u001b[1;32m     39\u001b[0m ctx\u001b[38;5;241m.\u001b[39mwatch\u001b[38;5;241m.\u001b[39mclick()\n\u001b[1;32m     40\u001b[0m \u001b[38;5;66;03m# failure messages due to low exptime or no data\u001b[39;00m\n",
      "File \u001b[0;32m~/gPhoton2/gPhoton/lightcurve/_steps.py:95\u001b[0m, in \u001b[0;36mfind_sources\u001b[0;34m(eclipse, band, datapath, image_dict, wcs, source_table, extraction_threshold)\u001b[0m\n\u001b[1;32m     89\u001b[0m flag_edge_mask \u001b[38;5;241m=\u001b[39m flag_and_edge_mask(\n\u001b[1;32m     90\u001b[0m     image_dict[\u001b[38;5;124m\"\u001b[39m\u001b[38;5;124mcnt\u001b[39m\u001b[38;5;124m\"\u001b[39m],\n\u001b[1;32m     91\u001b[0m     image_dict[\u001b[38;5;124m\"\u001b[39m\u001b[38;5;124mflag\u001b[39m\u001b[38;5;124m\"\u001b[39m],\n\u001b[1;32m     92\u001b[0m     image_dict[\u001b[38;5;124m\"\u001b[39m\u001b[38;5;124medge\u001b[39m\u001b[38;5;124m\"\u001b[39m])\n\u001b[1;32m     93\u001b[0m image_dict[\u001b[38;5;124m\"\u001b[39m\u001b[38;5;124mcnt\u001b[39m\u001b[38;5;124m\"\u001b[39m] \u001b[38;5;241m=\u001b[39m scipy\u001b[38;5;241m.\u001b[39msparse\u001b[38;5;241m.\u001b[39mcoo_matrix(image_dict[\u001b[38;5;124m\"\u001b[39m\u001b[38;5;124mcnt\u001b[39m\u001b[38;5;124m\"\u001b[39m]) \u001b[38;5;66;03m# why is it doing this?\u001b[39;00m\n\u001b[1;32m     94\u001b[0m source_table, segment_map, extended_source_paths, extended_source_cat \u001b[38;5;241m=\u001b[39m \\\n\u001b[0;32m---> 95\u001b[0m     \u001b[43mget_point_and_extended_sources\u001b[49m\u001b[43m(\u001b[49m\u001b[43mmasked_cnt_image\u001b[49m\u001b[43m,\u001b[49m\u001b[43m \u001b[49m\u001b[43mband\u001b[49m\u001b[43m,\u001b[49m\u001b[43m \u001b[49m\u001b[43mflag_edge_mask\u001b[49m\u001b[43m,\u001b[49m\u001b[43m \u001b[49m\u001b[43mexptime\u001b[49m\u001b[43m,\u001b[49m\u001b[43m \u001b[49m\u001b[43meclipse\u001b[49m\u001b[43m)\u001b[49m\n\u001b[1;32m     96\u001b[0m \u001b[38;5;28;01mdel\u001b[39;00m masked_cnt_image\n\u001b[1;32m     97\u001b[0m \u001b[38;5;66;03m#gc.collect()\u001b[39;00m\n",
      "File \u001b[0;32m~/gPhoton2/gPhoton/lightcurve/_steps.py:148\u001b[0m, in \u001b[0;36mget_point_and_extended_sources\u001b[0;34m(cnt_image, band, f_e_mask, exposure_time, eclipse)\u001b[0m\n\u001b[1;32m    145\u001b[0m \u001b[38;5;28mprint\u001b[39m(\u001b[38;5;124m\"\u001b[39m\u001b[38;5;124mMasking for extended sources.\u001b[39m\u001b[38;5;124m\"\u001b[39m)\n\u001b[1;32m    146\u001b[0m masks, extended_source_cat \u001b[38;5;241m=\u001b[39m mask_for_extended_sources(cnt_image, band, exposure_time)\n\u001b[0;32m--> 148\u001b[0m deblended_seg_map, outline_seg_map, seg_sources \u001b[38;5;241m=\u001b[39m image_segmentation(cnt_image, band, f_e_mask, exposure_time, eclipse)\n\u001b[1;32m    149\u001b[0m \u001b[38;5;28mprint\u001b[39m(\u001b[38;5;124m\"\u001b[39m\u001b[38;5;124mChecking for extended source overlap with point sources.\u001b[39m\u001b[38;5;124m\"\u001b[39m)\n\u001b[1;32m    150\u001b[0m \u001b[38;5;66;03m# checking for overlap between extended source mask and segmentation image\u001b[39;00m\n",
      "\u001b[0;31mTypeError\u001b[0m: cannot unpack non-iterable NoneType object"
     ]
    }
   ],
   "source": [
    "execute_pipeline(\n",
    "                14112 ,#int(eclipse),\n",
    "                \"FUV\",\n",
    "                depth=None,\n",
    "                # integer; None to deactivate (default None)\n",
    "                threads=4,\n",
    "                # where to both write output data and look for input data\n",
    "                local_root=\"/home/bekah/gPhoton2/test_data\",\n",
    "                # auxiliary remote location for input data\n",
    "                # remote_root=\"/mnt/s3\",\n",
    "                recreate=True,\n",
    "                # list of floats; relevant only to lightcurve / photometry portion\n",
    "                aperture_sizes=[12.8],\n",
    "                # actually write image/movie products? otherwise hold in memory but\n",
    "                # discard (possibly after performing photometry).\n",
    "                write={\"movie\": False, \"image\": False},\n",
    "                coregister_lightcurves=False,\n",
    "                # photonpipe, moviemaker, None (default None)\n",
    "                stop_after=None,\n",
    "                photometry_only=False,\n",
    "                # None, \"gzip\", \"rice\"\n",
    "                compression=\"rice\",\n",
    "                # use array sparsification on movie frames?\n",
    "                lil=False,\n",
    "                # write movie frames as separate files\n",
    "                burst=False,\n",
    "                extended_photonlist=True,\n",
    "                # aspect file, don't need to set unless need to use alt\n",
    "                # file, 'aspect2.parquet'\n",
    "            )\n",
    "        "
   ]
  },
  {
   "cell_type": "code",
   "execution_count": null,
   "id": "b4c7b533",
   "metadata": {},
   "outputs": [],
   "source": [
    "eclipses = pd.read_csv(\"/home/bekah/glcat/masks/every3_fuv.csv\")"
   ]
  },
  {
   "cell_type": "code",
   "execution_count": null,
   "id": "955b9559",
   "metadata": {},
   "outputs": [],
   "source": [
    "eclipses = eclipses[1000:1200]"
   ]
  },
  {
   "cell_type": "code",
   "execution_count": null,
   "id": "3bccb4f1",
   "metadata": {},
   "outputs": [],
   "source": [
    "eclipses"
   ]
  },
  {
   "cell_type": "code",
   "execution_count": null,
   "id": "dfe99003",
   "metadata": {
    "scrolled": false
   },
   "outputs": [],
   "source": [
    "for index, eclipse in eclipses['eclipse'].items():\n",
    "    print(eclipse)\n",
    "    try: \n",
    "        execute_pipeline(\n",
    "                14112 ,#int(eclipse),\n",
    "                \"FUV\",\n",
    "                depth=None,\n",
    "                # integer; None to deactivate (default None)\n",
    "                threads=4,\n",
    "                # where to both write output data and look for input data\n",
    "                local_root=\"/home/bekah/gPhoton2/test_data\",\n",
    "                # auxiliary remote location for input data\n",
    "                # remote_root=\"/mnt/s3\",\n",
    "                recreate=True,\n",
    "                # list of floats; relevant only to lightcurve / photometry portion\n",
    "                aperture_sizes=[12.8],\n",
    "                # actually write image/movie products? otherwise hold in memory but\n",
    "                # discard (possibly after performing photometry).\n",
    "                write={\"movie\": False, \"image\": False},\n",
    "                coregister_lightcurves=False,\n",
    "                # photonpipe, moviemaker, None (default None)\n",
    "                stop_after=None,\n",
    "                photometry_only=False,\n",
    "                # None, \"gzip\", \"rice\"\n",
    "                compression=\"rice\",\n",
    "                # use array sparsification on movie frames?\n",
    "                lil=False,\n",
    "                # write movie frames as separate files\n",
    "                burst=False,\n",
    "                extended_photonlist=True,\n",
    "                # aspect file, don't need to set unless need to use alt\n",
    "                # file, 'aspect2.parquet'\n",
    "            )\n",
    "        \n",
    "         # photon table would already exist in gphoton2 \n",
    "        photons = parquet.read_table(f\"/home/bekah/gPhoton2/test_data/e{eclipse}/e{eclipse}-nd-b00.parquet\", \n",
    "                                     columns=['ra','dec','col','row','q','flags','detrad','t']).to_pandas()\n",
    "\n",
    "        # want photons that are on detector, no flags, has aspect soln \n",
    "        photons = photons[(photons['detrad'] < 600)]\n",
    "        photons = photons.dropna(subset=['ra', 'dec'])\n",
    "        photons = photons[(photons['flags'] < 1)]\n",
    "\n",
    "        # bin2d for ra & dec std + count, also get vals for q range \n",
    "        ra = bin2d(photons['col'],photons['row'],photons['ra'],n_bins=800,op=('count', 'std'))\n",
    "        dec = bin2d(photons['col'],photons['row'],photons['dec'],n_bins=800,op=('std'))\n",
    "        q_m =  bin2d(photons['col'],photons['row'],photons['q'],n_bins=800,op=('min', 'max'))\n",
    "\n",
    "        # dispersion metric \n",
    "        disp = ra['std']+dec # bin2d only returns a dictionary when more than one stat is calculated \n",
    "\n",
    "        # rough exp time (use the correct one for threshold calc)\n",
    "        time = abs(photons['t'].iloc[0]-photons['t'].iloc[-1])\n",
    "\n",
    "        fig, axs = plt.subplots(2, 2, figsize=(10, 8))\n",
    "\n",
    "        axs[0,0].scatter(disp,ra['count']/time,s=.1)\n",
    "        axs[0,0].set_ylabel(\"total photons per bin div by expt\")\n",
    "        axs[0,0].set_xlabel('dispersion per bin')\n",
    "\n",
    "        axs[1,0].hist(np.ravel(disp))\n",
    "        axs[1,0].set_xlabel(\"dispersion\")\n",
    "\n",
    "        axs[0,1].imshow(disp)\n",
    "        axs[0,1].set_xlabel(\"dispersion\")\n",
    "\n",
    "        axs[1,1].imshow(q_m['max']-q_m['min'])\n",
    "        axs[1,1].set_xlabel('q range')\n",
    "\n",
    "        plt.tight_layout()\n",
    "        plt.savefig(f'/home/bekah/gPhoton2/test_data/e{eclipse}_fuv.png')\n",
    "    except Exception as e: \n",
    "        print(e)\n"
   ]
  },
  {
   "cell_type": "code",
   "execution_count": null,
   "id": "e3972070",
   "metadata": {},
   "outputs": [],
   "source": [
    "# so I want to show the current (background rms) method for threshold as well as other ways \n",
    "# other ways include: \n",
    "# using dispersion as the metric\n",
    "# but how do I turn that into a map? "
   ]
  },
  {
   "cell_type": "code",
   "execution_count": null,
   "id": "482034ad",
   "metadata": {},
   "outputs": [],
   "source": [
    "from astropy.io import fits\n",
    "from io import BytesIO\n",
    "import numpy as np \n",
    "import os\n",
    "import matplotlib.pyplot as plt\n",
    "from gPhoton.coadd import zero_flag_and_edge\n",
    "import pyarrow.parquet as parquet"
   ]
  },
  {
   "cell_type": "code",
   "execution_count": null,
   "id": "76eb8087",
   "metadata": {},
   "outputs": [],
   "source": [
    "from quickbin import bin2d\n",
    "import pyarrow.parquet as parquet\n",
    "import pandas as pd \n",
    "\n",
    "# photon table would already exist in gphoton2 \n",
    "photons = parquet.read_table(\"/media/bekah/BekahA/background_test/e00580/e00580-nd-b00.parquet\", \n",
    "                             columns=['ra','dec','col','row','q','flags','detrad','t']).to_pandas()\n",
    "\n",
    "# want photons that are on detector, no flags, has aspect soln \n",
    "photons = photons[(photons['detrad'] < 600)]\n",
    "photons = photons.dropna(subset=['ra', 'dec'])\n",
    "photons = photons[(photons['flags'] < 1)]\n",
    "\n",
    "# bin2d for ra & dec std + count, also get vals for q range \n",
    "ra = bin2d(photons['col'],photons['row'],photons['ra'],n_bins=800,op=('count', 'std'))\n",
    "dec = bin2d(photons['col'],photons['row'],photons['dec'],n_bins=800,op=('std'))\n",
    "q_m =  bin2d(photons['col'],photons['row'],photons['q'],n_bins=800,op=('min', 'max'))\n",
    "\n",
    "# dispersion metric \n",
    "disp = ra['std']+dec # bin2d only returns a dictionary when more than one stat is calculated \n",
    "\n",
    "# rough exp time (use the correct one for threshold calc)\n",
    "time = abs(photons['t'].iloc[0]-photons['t'].iloc[-1])\n"
   ]
  },
  {
   "cell_type": "code",
   "execution_count": null,
   "id": "19b06759",
   "metadata": {},
   "outputs": [],
   "source": [
    "ra"
   ]
  },
  {
   "cell_type": "code",
   "execution_count": null,
   "id": "97f39e60",
   "metadata": {},
   "outputs": [],
   "source": [
    "# getting threshold \n",
    "high_disp = np.argwhere(disp>.013)\n",
    "values = ra['count'][high_disp[:, 0], high_disp[:, 1]]\n",
    "max(values/time)*.5"
   ]
  },
  {
   "cell_type": "code",
   "execution_count": null,
   "id": "31ef04b3",
   "metadata": {},
   "outputs": [],
   "source": [
    "# getting threshold \n",
    "high_disp = np.argwhere(disp<.0025)\n",
    "values = ra['count'][high_disp[:, 0], high_disp[:, 1]]\n",
    "max(values/time)*.5"
   ]
  },
  {
   "cell_type": "code",
   "execution_count": null,
   "id": "a1d9b0ce",
   "metadata": {},
   "outputs": [],
   "source": [
    "# fig 1: DISPERSION \n",
    "fig, axs = plt.subplots(2, 2, figsize=(10, 8))\n",
    "\n",
    "axs[0,0].scatter(disp,ra['count']/time,s=.1)\n",
    "axs[0,0].set_ylabel(\"total photons per bin div by expt\")\n",
    "axs[0,0].set_xlabel('dispersion per bin')\n",
    "\n",
    "axs[1,0].hist(disp)\n",
    "axs[1,0].set_xlabel(\"dispersion\")\n",
    "\n",
    "axs[0,1].imshow(disp)\n",
    "axs[0,1].set_xlabel(\"dispersion\")\n",
    "\n",
    "axs[1,1].imshow(q_m['max']-q_m['min'])\n",
    "axs[1,1].set_xlabel('q range')\n",
    "\n",
    "plt.tight_layout()\n",
    "plt.savefig(f'/media/bekah/BekahA/background_test/{eclipse}_nuv.png')"
   ]
  },
  {
   "cell_type": "code",
   "execution_count": null,
   "id": "87c3b581",
   "metadata": {},
   "outputs": [],
   "source": [
    "plt.hist(disp)\n",
    "plt.xlabel(\"dispersion\")"
   ]
  },
  {
   "cell_type": "code",
   "execution_count": null,
   "id": "c4ac5642",
   "metadata": {},
   "outputs": [],
   "source": [
    "800*800"
   ]
  },
  {
   "cell_type": "code",
   "execution_count": null,
   "id": "38fef277",
   "metadata": {},
   "outputs": [],
   "source": [
    "# getting eclipse list\n",
    "import re\n",
    "main_folder = '/media/bekah/BekahA/background_test/pics_and_photonlists'\n",
    "folders = [\n",
    "    f for f in os.listdir(main_folder) \n",
    "    if os.path.isdir(os.path.join(main_folder, f)) and re.search(r'\\d', f)]\n",
    "eclipses = [folder.replace('e', '') for folder in folders]"
   ]
  },
  {
   "cell_type": "code",
   "execution_count": null,
   "id": "c8e53928",
   "metadata": {},
   "outputs": [],
   "source": [
    "len(eclipses)"
   ]
  },
  {
   "cell_type": "code",
   "execution_count": null,
   "id": "2108b41c",
   "metadata": {},
   "outputs": [],
   "source": [
    "# putting it all together \n",
    "from quickbin import bin2d\n",
    "import pyarrow.parquet as parquet\n",
    "import pandas as pd \n",
    "\n",
    "for eclipse in eclipses: \n",
    "    # photon table would already exist in gphoton2 \n",
    "    photons = parquet.read_table(f\"/media/bekah/BekahA/background_test/pics_and_photonlists/e{eclipse}/e{eclipse}-nd-b00.parquet\", \n",
    "                                 columns=['ra','dec','col','row','q','flags','detrad','t']).to_pandas()\n",
    "\n",
    "    # want photons that are on detector, no flags, has aspect soln \n",
    "    photons = photons[(photons['detrad'] < 600)]\n",
    "    photons = photons.dropna(subset=['ra', 'dec'])\n",
    "    photons = photons[(photons['flags'] < 1)]\n",
    "\n",
    "    # bin2d for ra & dec std + count, also get vals for q range \n",
    "    ra = bin2d(photons['col'],photons['row'],photons['ra'],n_bins=800,op=('count', 'std'))\n",
    "    dec = bin2d(photons['col'],photons['row'],photons['dec'],n_bins=800,op=('std'))\n",
    "    q_m =  bin2d(photons['col'],photons['row'],photons['q'],n_bins=800,op=('min', 'max'))\n",
    "\n",
    "    # dispersion metric \n",
    "    disp = ra['std']+dec # bin2d only returns a dictionary when more than one stat is calculated \n",
    "\n",
    "    # rough exp time (use the correct one for threshold calc)\n",
    "    time = abs(photons['t'].iloc[0]-photons['t'].iloc[-1])\n",
    "\n",
    "    fig, axs = plt.subplots(2, 2, figsize=(10, 8))\n",
    "\n",
    "    axs[0,0].scatter(disp,ra['count']/time,s=.1)\n",
    "    axs[0,0].set_ylabel(\"total photons per bin div by expt\")\n",
    "    axs[0,0].set_xlabel('dispersion per bin')\n",
    "\n",
    "    axs[1,0].hist(np.ravel(disp))\n",
    "    axs[1,0].set_xlabel(\"dispersion\")\n",
    "\n",
    "    axs[0,1].imshow(disp)\n",
    "    axs[0,1].set_xlabel(\"dispersion\")\n",
    "\n",
    "    axs[1,1].imshow(q_m['max']-q_m['min'])\n",
    "    axs[1,1].set_xlabel('q range')\n",
    "\n",
    "    plt.tight_layout()\n",
    "    plt.savefig(f'/media/bekah/BekahA/background_test/e{eclipse}_fuv.png')\n"
   ]
  },
  {
   "cell_type": "code",
   "execution_count": null,
   "id": "6c101f56",
   "metadata": {},
   "outputs": [],
   "source": [
    "special_eclipses = ['00587','00826','00767','14182']\n",
    "\n",
    "from quickbin import bin2d\n",
    "\n",
    "for eclipse in special_eclipses: \n",
    "    # photon table would already exist in gphoton2 \n",
    "    photons = parquet.read_table(f\"/media/bekah/BekahA/background_test/pics_and_photonlists/e{eclipse}/e{eclipse}-nd-b00.parquet\", \n",
    "                                 columns=['ra','dec','col','row','q','flags','detrad','t']).to_pandas()\n",
    "\n",
    "    # want photons that are on detector, no flags, has aspect soln \n",
    "    photons = photons[(photons['detrad'] < 600)]\n",
    "    photons = photons.dropna(subset=['ra', 'dec'])\n",
    "    photons = photons[(photons['flags'] < 1)]\n",
    "\n",
    "    # bin2d for ra & dec std + count, also get vals for q range \n",
    "    ra = bin2d(photons['col'],photons['row'],photons['ra'],n_bins=800,op=('count', 'std'))\n",
    "    dec = bin2d(photons['col'],photons['row'],photons['dec'],n_bins=800,op=('std'))\n",
    "    q_m =  bin2d(photons['col'],photons['row'],photons['q'],n_bins=800,op=('min', 'max'))\n",
    "\n",
    "    # dispersion metric \n",
    "    disp = ra['std']+dec # bin2d only returns a dictionary when more than one stat is calculated \n",
    "\n",
    "    hdu1 = fits.PrimaryHDU(disp)\n",
    "    hdu2 = fits.ImageHDU(ra['count'])\n",
    "    hdulist = fits.HDUList([hdu1, hdu2])\n",
    "    hdulist.writeto(f'e{eclipse}_hists.fits', overwrite=True)\n",
    "    print(f\"done w {eclipse}\")"
   ]
  },
  {
   "cell_type": "code",
   "execution_count": null,
   "id": "6e8fdb97",
   "metadata": {},
   "outputs": [],
   "source": [
    "from quickbin import bin2d\n",
    "\n",
    "eclipse = '14112'\n",
    "\n",
    "# photon table would already exist in gphoton2 \n",
    "# /media/bekah/BekahA/background_test/pics_and_photonlists\n",
    "photons = parquet.read_table(f\"/home/bekah/gPhoton2/test_data/e{eclipse}/e{eclipse}-fd-b00.parquet\", \n",
    "                             columns=['ra','dec','col','row','q','flags','detrad','t']).to_pandas()\n",
    "\n",
    "# want photons that are on detector, no flags, has aspect soln \n",
    "photons = photons[(photons['detrad'] < 600)]\n",
    "photons = photons.dropna(subset=['ra', 'dec'])\n",
    "photons = photons[(photons['flags'] < 1)]\n",
    "\n",
    "# bin2d for ra & dec std + count, also get vals for q range \n",
    "ra = bin2d(photons['col'],photons['row'],photons['ra'],n_bins=800,op=('count', 'std'))\n",
    "dec = bin2d(photons['col'],photons['row'],photons['dec'],n_bins=800,op=('std'))\n",
    "q_m =  bin2d(photons['col'],photons['row'],photons['q'],n_bins=800,op=('min', 'max'))\n",
    "\n",
    "# dispersion metric \n",
    "disp = ra['std']+dec # bin2d only returns a dictionary when more than one stat is calculated \n",
    "\n",
    "metric1 = disp / ra['count']\n",
    "metric2 = ra['count'] / disp\n",
    "metric3 = ra['count'] * disp"
   ]
  },
  {
   "cell_type": "code",
   "execution_count": null,
   "id": "7e02d13e",
   "metadata": {},
   "outputs": [],
   "source": [
    "SEM = disp / np.sqrt(ra['count'])"
   ]
  },
  {
   "cell_type": "code",
   "execution_count": null,
   "id": "54f24d98",
   "metadata": {},
   "outputs": [],
   "source": [
    "plt.hist(np.ravel(SEM),bins=100)"
   ]
  },
  {
   "cell_type": "code",
   "execution_count": null,
   "id": "4e2e2cf7",
   "metadata": {
    "scrolled": true
   },
   "outputs": [],
   "source": [
    "plt.imshow(SEM > .002)"
   ]
  },
  {
   "cell_type": "code",
   "execution_count": null,
   "id": "5c72839b",
   "metadata": {},
   "outputs": [],
   "source": [
    "photons = photons[(photons['detrad'] < 600)]\n",
    "photons = photons.dropna(subset=['ra', 'dec'])\n",
    "photons = photons[(photons['flags'] < 1)]\n",
    "\n",
    "cnt = bin2d(photons['ra'],photons['dec'],photons['ra'],n_bins=800,op=('count', 'std'))\n",
    "\n",
    "plt.imshow(centile_clip(cnt['count']),interpolation=None)\n",
    "plt.colorbar()"
   ]
  },
  {
   "cell_type": "code",
   "execution_count": null,
   "id": "6fc473ce",
   "metadata": {},
   "outputs": [],
   "source": [
    "plt.hist(np.ravel(cnt['count']),bins=100)"
   ]
  },
  {
   "cell_type": "code",
   "execution_count": null,
   "id": "f38fea2f",
   "metadata": {},
   "outputs": [],
   "source": [
    "plt.imshow(metric3)"
   ]
  },
  {
   "cell_type": "code",
   "execution_count": null,
   "id": "1218a3f7",
   "metadata": {
    "scrolled": false
   },
   "outputs": [],
   "source": [
    "metric2 = np.where(np.isnan(metric2), 0, metric2)\n",
    "metric2[metric2 > 1e308] = 0"
   ]
  },
  {
   "cell_type": "code",
   "execution_count": null,
   "id": "1ab29e29",
   "metadata": {},
   "outputs": [],
   "source": [
    "np.min(metric2)"
   ]
  },
  {
   "cell_type": "code",
   "execution_count": null,
   "id": "fa1d8c9d",
   "metadata": {},
   "outputs": [],
   "source": [
    "type(metric2)"
   ]
  },
  {
   "cell_type": "code",
   "execution_count": null,
   "id": "7a4529cc",
   "metadata": {},
   "outputs": [],
   "source": [
    "metric2"
   ]
  },
  {
   "cell_type": "code",
   "execution_count": null,
   "id": "8aca54e2",
   "metadata": {},
   "outputs": [],
   "source": [
    "hdu1 = fits.PrimaryHDU()\n",
    "hdu3 = fits.ImageHDU(SEM)\n",
    "hdu2 = fits.ImageHDU(metric3)\n",
    "hdulist = fits.HDUList([hdu1, hdu2, hdu3])\n",
    "hdulist.writeto(f'e{eclipse}_metrics.fits', overwrite=True)"
   ]
  },
  {
   "cell_type": "code",
   "execution_count": null,
   "id": "a5d9b12b",
   "metadata": {},
   "outputs": [],
   "source": [
    "# checking threshold map \n",
    "\n",
    "e4112 = fits.open(\"/media/bekah/BekahA/background_test/e14112_FUV_threshold.fits\")"
   ]
  },
  {
   "cell_type": "code",
   "execution_count": null,
   "id": "e6889fff",
   "metadata": {},
   "outputs": [],
   "source": [
    "def centile_clip(image, centiles=(1, 99)):\n",
    "    \"\"\"\n",
    "    simple clipping function that clips values above and below a given\n",
    "    percentile range\n",
    "    \"\"\"\n",
    "    finite = np.ma.masked_invalid(image)\n",
    "    bounds = np.percentile(finite[~finite.mask].data, centiles)\n",
    "    result = np.ma.clip(finite, *bounds)\n",
    "    \n",
    "    if isinstance(image, np.ma.MaskedArray):\n",
    "        \n",
    "        return result\n",
    "    \n",
    "    return result.data"
   ]
  },
  {
   "cell_type": "code",
   "execution_count": null,
   "id": "59d63010",
   "metadata": {},
   "outputs": [],
   "source": [
    "plt.imshow(e4112[1].data>e4112[3].data)"
   ]
  },
  {
   "cell_type": "code",
   "execution_count": null,
   "id": "b95ffc20",
   "metadata": {},
   "outputs": [],
   "source": [
    "plt.imshow(centile_clip(e4112[3].data))"
   ]
  },
  {
   "cell_type": "code",
   "execution_count": null,
   "id": "953d5b06",
   "metadata": {},
   "outputs": [],
   "source": [
    "fig, ax = plt.subplots()\n",
    "plt.imshow(e4112_nosub[1].data>e4112_nosub[3].data)\n",
    "ax.invert_yaxis()"
   ]
  },
  {
   "cell_type": "code",
   "execution_count": null,
   "id": "6c2b2ef5",
   "metadata": {},
   "outputs": [],
   "source": [
    "plt.imshow(centile_clip(e4112_nosub[1].data))"
   ]
  },
  {
   "cell_type": "code",
   "execution_count": null,
   "id": "958e79f1",
   "metadata": {},
   "outputs": [],
   "source": [
    "from photutils.background import Background2D, MedianBackground\n",
    "from astropy.stats import SigmaClip\n"
   ]
  },
  {
   "cell_type": "code",
   "execution_count": null,
   "id": "92e3673b",
   "metadata": {},
   "outputs": [],
   "source": [
    "e4112_nosub = fits.open(\"/media/bekah/BekahA/background_test/e14112_FUV_threshold_increasedFlat.fits\")"
   ]
  },
  {
   "cell_type": "code",
   "execution_count": null,
   "id": "5aa0fce9",
   "metadata": {},
   "outputs": [],
   "source": [
    "sigma_clip = SigmaClip(sigma=3.)\n",
    "bkg_estimator = MedianBackground()\n",
    "bkg = Background2D(cnt_image,\n",
    "                       (50, 50),\n",
    "                       filter_size=(3, 3),\n",
    "                       bkg_estimator=bkg_estimator,\n",
    "                       sigma_clip=sigma_clip)"
   ]
  },
  {
   "cell_type": "code",
   "execution_count": null,
   "id": "00d94314",
   "metadata": {},
   "outputs": [],
   "source": [
    "plt.imshow(bkg.background)\n",
    "plt.colorbar()"
   ]
  },
  {
   "cell_type": "code",
   "execution_count": null,
   "id": "a6eff775",
   "metadata": {},
   "outputs": [],
   "source": [
    "plt.imshow(centile_clip(cnt_image))\n",
    "plt.colorbar()"
   ]
  },
  {
   "cell_type": "code",
   "execution_count": null,
   "id": "f4e25e37",
   "metadata": {},
   "outputs": [],
   "source": [
    "bkg.background.shape"
   ]
  },
  {
   "cell_type": "code",
   "execution_count": null,
   "id": "2c05c190",
   "metadata": {},
   "outputs": [],
   "source": [
    "bkg2.background.shape"
   ]
  },
  {
   "cell_type": "code",
   "execution_count": null,
   "id": "c1faa832",
   "metadata": {},
   "outputs": [],
   "source": [
    "plt.imshow(bkg.background_rms.astype(np.float32))\n"
   ]
  },
  {
   "cell_type": "code",
   "execution_count": null,
   "id": "642fa8b4",
   "metadata": {},
   "outputs": [],
   "source": [
    "plt.imshow(np.multiply(3,bkg.background_rms),interpolation=None,cmap='grey')\n"
   ]
  },
  {
   "cell_type": "code",
   "execution_count": null,
   "id": "8b5b9544",
   "metadata": {},
   "outputs": [],
   "source": [
    "fig, ax = plt.subplots()\n",
    "plt.imshow(np.multiply(3,bkg2.background_rms),interpolation=None,cmap='grey')\n",
    "ax.invert_yaxis()"
   ]
  },
  {
   "cell_type": "code",
   "execution_count": null,
   "id": "5ee0b227",
   "metadata": {},
   "outputs": [],
   "source": [
    "\n",
    "fig, ax = plt.subplots()\n",
    "plt.imshow(e4112[1].data>np.multiply(3,bkg2.background_rms))\n",
    "ax.invert_yaxis()"
   ]
  },
  {
   "cell_type": "code",
   "execution_count": null,
   "id": "82d97d49",
   "metadata": {},
   "outputs": [],
   "source": [
    "type(e4112_nosub[4].data)"
   ]
  },
  {
   "cell_type": "code",
   "execution_count": null,
   "id": "174b1d38",
   "metadata": {},
   "outputs": [],
   "source": [
    "cnt_image = e4112_nosub[1].data\n",
    "cnt_image[cnt_image == 0] = 0.0015\n",
    "\n",
    "sigma_clip = SigmaClip(sigma=3.)\n",
    "bkg_estimator = MedianBackground()\n",
    "bkg = Background2D(cnt_image,\n",
    "                       (50, 50),\n",
    "                       filter_size=(3, 3),\n",
    "                       bkg_estimator=bkg_estimator,\n",
    "                       sigma_clip=sigma_clip)\n",
    "\n",
    "plt.imshow(bkg.background)\n",
    "plt.colorbar()"
   ]
  },
  {
   "cell_type": "code",
   "execution_count": null,
   "id": "86891c1a",
   "metadata": {},
   "outputs": [],
   "source": [
    "plt.imshow(centile_clip(cnt_image-bkg.background))\n",
    "plt.colorbar()"
   ]
  },
  {
   "cell_type": "code",
   "execution_count": null,
   "id": "eaa23734",
   "metadata": {},
   "outputs": [],
   "source": [
    "plt.imshow(cnt_image==0)"
   ]
  },
  {
   "cell_type": "code",
   "execution_count": null,
   "id": "e6c62cfc",
   "metadata": {},
   "outputs": [],
   "source": []
  }
 ],
 "metadata": {
  "kernelspec": {
   "display_name": "Python 3 (ipykernel)",
   "language": "python",
   "name": "python3"
  },
  "language_info": {
   "codemirror_mode": {
    "name": "ipython",
    "version": 3
   },
   "file_extension": ".py",
   "mimetype": "text/x-python",
   "name": "python",
   "nbconvert_exporter": "python",
   "pygments_lexer": "ipython3",
   "version": "3.11.6"
  }
 },
 "nbformat": 4,
 "nbformat_minor": 5
}
