{
 "cells": [
  {
   "cell_type": "code",
   "execution_count": null,
   "id": "0fe3b72b",
   "metadata": {},
   "outputs": [],
   "source": [
    "import sys\n",
    "import pandas as pd \n",
    "sys.path.insert(0, '/home/bekah/gPhoton2')\n",
    "from gPhoton.pipeline import execute_pipeline\n",
    "from astropy.io import fits\n",
    "from io import BytesIO\n",
    "import numpy as np \n",
    "import os\n",
    "import matplotlib.pyplot as plt\n",
    "from gPhoton.coadd import zero_flag_and_edge\n",
    "import pyarrow.parquet as parquet\n",
    "from quickbin import bin2d\n",
    "\n",
    "from photutils.background import Background2D, MedianBackground\n",
    "from astropy.stats import SigmaClip"
   ]
  },
  {
   "cell_type": "code",
   "execution_count": null,
   "id": "1d6c9543",
   "metadata": {},
   "outputs": [],
   "source": [
    "# make a list of fuv to make / look at \n",
    "\n",
    "og_aspect = parquet.read_table('/home/bekah/gPhoton2/gPhoton/aspect/metadata.parquet').to_pandas()\n",
    "og_aspect = og_aspect.dropna(subset=['fuv_temp'])\n",
    "\n",
    "og_aspect = og_aspect[og_aspect['legs'] == 0]\n",
    "\n",
    "sampled_eclipses = og_aspect.sample(n=200, random_state=5)\n",
    "sampled_eclipses"
   ]
  },
  {
   "cell_type": "code",
   "execution_count": null,
   "id": "f42e2a52",
   "metadata": {},
   "outputs": [],
   "source": [
    "for index, eclipse in sampled_eclipses['eclipse'].items():\n",
    "    print(f\"running {eclipse}\")\n",
    "    try: \n",
    "        execute_pipeline(\n",
    "                int(eclipse),\n",
    "                \"NUV\",\n",
    "                depth=None,\n",
    "                # integer; None to deactivate (default None)\n",
    "                threads=4,\n",
    "                # where to both write output data and look for input data\n",
    "                local_root=\"/media/bekah/BekahA/background_test/pics_and_photonlists\",\n",
    "                # auxiliary remote location for input data\n",
    "                # remote_root=\"/mnt/s3\",\n",
    "                recreate=True,\n",
    "                # list of floats; relevant only to lightcurve / photometry portion\n",
    "                aperture_sizes=[12.8],\n",
    "                # actually write image/movie products? otherwise hold in memory but\n",
    "                # discard (possibly after performing photometry).\n",
    "                write={\"movie\": False, \"image\": True},\n",
    "                coregister_lightcurves=False,\n",
    "                # photonpipe, moviemaker, None (default None)\n",
    "                stop_after=None,\n",
    "                photometry_only=False,\n",
    "                # None, \"gzip\", \"rice\"\n",
    "                compression=\"rice\",\n",
    "                # use array sparsification on movie frames?\n",
    "                lil=False,\n",
    "                # write movie frames as separate files\n",
    "                burst=False,\n",
    "                extended_photonlist=True,\n",
    "                # aspect file, don't need to set unless need to use alt\n",
    "                # file, 'aspect2.parquet'\n",
    "            )\n",
    "        \n",
    "    except Exception as e: \n",
    "        print(e)\n"
   ]
  },
  {
   "cell_type": "code",
   "execution_count": null,
   "id": "c50e2ee9",
   "metadata": {},
   "outputs": [],
   "source": []
  }
 ],
 "metadata": {
  "kernelspec": {
   "display_name": "Python 3 (ipykernel)",
   "language": "python",
   "name": "python3"
  },
  "language_info": {
   "codemirror_mode": {
    "name": "ipython",
    "version": 3
   },
   "file_extension": ".py",
   "mimetype": "text/x-python",
   "name": "python",
   "nbconvert_exporter": "python",
   "pygments_lexer": "ipython3",
   "version": "3.11.6"
  }
 },
 "nbformat": 4,
 "nbformat_minor": 5
}
