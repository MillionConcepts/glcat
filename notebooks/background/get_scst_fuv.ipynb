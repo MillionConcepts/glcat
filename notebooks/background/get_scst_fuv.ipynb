{
 "cells": [
  {
   "cell_type": "code",
   "execution_count": null,
   "id": "18d5346e",
   "metadata": {},
   "outputs": [],
   "source": [
    "import os\n",
    "import pyarrow as pa\n",
    "import pyarrow.parquet as parquet\n",
    "from astropy.io import fits\n",
    "import pandas as pd\n",
    "import sys \n",
    "sys.path.insert(0, '/home/bekah/gPhoton2')\n",
    "from gPhoton.io.mast import download_data\n",
    "import matplotlib.pyplot as plt "
   ]
  },
  {
   "cell_type": "code",
   "execution_count": null,
   "id": "11a5c2bb",
   "metadata": {},
   "outputs": [],
   "source": [
    "fuv = pd.read_csv(\"/home/bekah/glcat/masks/every3_fuv.csv\")\n",
    "\n",
    "eclipses = fuv.iloc[::20]"
   ]
  },
  {
   "cell_type": "code",
   "execution_count": null,
   "id": "64ce93a9",
   "metadata": {},
   "outputs": [],
   "source": [
    "header_variables = ['FDTTDC', 'ITFUVOBA', 'FDHVMON', 'FDHIMON', 'FDSFHV', 'FDCTEC', 'FDCFEC', 'TRANGE0', 'TRANGE1']\n",
    "#header_variables = ['NDTTDC', 'ITNUVOBA', 'NDHVMON', 'NDHIMON', 'NDSFHV', 'NDCTEC', 'NDCFEC', 'TRANGE0', 'TRANGE1']\n"
   ]
  },
  {
   "cell_type": "code",
   "execution_count": null,
   "id": "739ebda8",
   "metadata": {},
   "outputs": [],
   "source": [
    "\n",
    "data = []\n",
    "\n",
    "for index, eclipse in eclipses['eclipse'].items():\n",
    "    try:\n",
    "        file_path = download_data(eclipse, 'scst')\n",
    "        with fits.open(file_path) as hdul:\n",
    "            header = hdul[0].header\n",
    "            row_data = {var: header.get(var, None) for var in header_variables}\n",
    "            row_data['eclipse'] = eclipse \n",
    "            data.append(row_data)\n",
    "            \n",
    "    except Exception as e:\n",
    "        print(f\"Error processing {file_path}: {e}\")\n",
    "        \n",
    "    finally:\n",
    "        if os.path.exists(file_path):\n",
    "            os.remove(file_path)\n",
    "            print(f\"Deleted {file_path}\")\n",
    "            \n",
    "df = pd.DataFrame(data)\n",
    "output_parquet = 'nuv_scst_data.parquet'\n",
    "table = pa.Table.from_pandas(df)\n",
    "pq.write_table(table, output_parquet)\n",
    "print(f\"Data saved to {output_parquet}\")"
   ]
  },
  {
   "cell_type": "code",
   "execution_count": null,
   "id": "3d6ee5da",
   "metadata": {},
   "outputs": [],
   "source": [
    "fuv_scst = parquet.read_table(\"/home/bekah/glcat/notebooks/background/fuv_scst_data.parquet\").to_pandas()"
   ]
  },
  {
   "cell_type": "code",
   "execution_count": null,
   "id": "2ac4ab7c",
   "metadata": {},
   "outputs": [],
   "source": [
    "fuv_scst['eclipse'] = fuv_scst['eclipse'].astype(int)\n",
    "\n",
    "def convert_to_date(trange_str):\n",
    "    year = int(trange_str[:2]) + 2000  \n",
    "    month = int(trange_str[2:4])\n",
    "    return pd.to_datetime(f\"{year}-{month}-01\")\n",
    "\n",
    "fuv_scst['TRANGE0'] = fuv_scst['TRANGE0'].apply(convert_to_date)\n",
    "fuv_scst['TRANGE1'] = fuv_scst['TRANGE1'].apply(convert_to_date)"
   ]
  },
  {
   "cell_type": "code",
   "execution_count": null,
   "id": "5319eb59",
   "metadata": {},
   "outputs": [],
   "source": [
    "n_vars = len(header_variables)\n",
    "n_cols = 2\n",
    "n_rows = (n_vars + 1) // n_cols \n",
    "\n",
    "fig, axes = plt.subplots(n_rows, n_cols, figsize=(12, n_rows * 3))\n",
    "\n",
    "axes = axes.flatten()\n",
    "\n",
    "for i, var in enumerate(header_variables):\n",
    "    axes[i].scatter(fuv_scst['TRANGE0'], fuv_scst[var], s=0.5)\n",
    "    axes[i].set_xlabel('TRANGE0')\n",
    "    axes[i].set_ylabel(var)\n",
    "    axes[i].set_title(f'{var} vs Date')\n",
    "\n",
    "# Remove any empty subplots (if odd number of variables)\n",
    "for j in range(i + 1, len(axes)):\n",
    "    fig.delaxes(axes[j])\n",
    "\n",
    "plt.tight_layout()\n",
    "\n",
    "plt.show()"
   ]
  },
  {
   "cell_type": "code",
   "execution_count": null,
   "id": "83a86f7d",
   "metadata": {},
   "outputs": [],
   "source": [
    "fuv_scst"
   ]
  },
  {
   "cell_type": "code",
   "execution_count": null,
   "id": "24a2818b",
   "metadata": {},
   "outputs": [],
   "source": []
  }
 ],
 "metadata": {
  "kernelspec": {
   "display_name": "Python 3 (ipykernel)",
   "language": "python",
   "name": "python3"
  },
  "language_info": {
   "codemirror_mode": {
    "name": "ipython",
    "version": 3
   },
   "file_extension": ".py",
   "mimetype": "text/x-python",
   "name": "python",
   "nbconvert_exporter": "python",
   "pygments_lexer": "ipython3",
   "version": "3.11.6"
  }
 },
 "nbformat": 4,
 "nbformat_minor": 5
}
