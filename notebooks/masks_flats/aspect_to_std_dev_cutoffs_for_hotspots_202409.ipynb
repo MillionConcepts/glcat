{
 "cells": [
  {
   "cell_type": "code",
   "execution_count": null,
   "id": "e2b421f4",
   "metadata": {},
   "outputs": [],
   "source": [
    "from astropy.io import fits\n",
    "import pandas as pd \n",
    "import numpy as np \n",
    "import matplotlib.pyplot as plt\n",
    "import pyarrow.parquet as parquet\n",
    "import fast_histogram as fh\n",
    "import time"
   ]
  },
  {
   "cell_type": "code",
   "execution_count": null,
   "id": "9693791d",
   "metadata": {},
   "outputs": [],
   "source": [
    "aspect = parquet.read_table('/home/bekah/gPhoton2/gPhoton/aspect/aspect.parquet',filters=[('flags','=',0)]).to_pandas()\n"
   ]
  },
  {
   "cell_type": "code",
   "execution_count": null,
   "id": "ce4791a3",
   "metadata": {},
   "outputs": [],
   "source": [
    "metadata = parquet.read_table('/home/bekah/gPhoton2/gPhoton/aspect/metadata.parquet').to_pandas()\n"
   ]
  },
  {
   "cell_type": "code",
   "execution_count": null,
   "id": "e2786f42",
   "metadata": {},
   "outputs": [],
   "source": [
    "boresight = parquet.read_table('/home/bekah/gPhoton2/gPhoton/aspect/boresight.parquet').to_pandas()"
   ]
  },
  {
   "cell_type": "code",
   "execution_count": null,
   "id": "e7b72dc2",
   "metadata": {},
   "outputs": [],
   "source": [
    "def get_second_time(group):\n",
    "    if len(group) >= 2:\n",
    "        return group.iloc[1]['time']\n",
    "    else:\n",
    "        return None  # If less than 2 entries, return None\n",
    "\n",
    "boresight_second_time = boresight.groupby('eclipse').apply(get_second_time).reset_index()\n",
    "boresight_second_time.columns = ['eclipse', 'second_boresight_time']\n",
    "\n",
    "merged_df = pd.merge(merged, boresight_second_time, on='eclipse')\n",
    "\n",
    "filtered_aspect = merged_df[(merged_df['time'] <= merged_df['second_boresight_time']) | merged_df['second_boresight_time'].isna()]\n",
    "\n",
    "filtered_aspect = filtered_aspect.drop(columns=['second_boresight_time'])"
   ]
  },
  {
   "cell_type": "code",
   "execution_count": null,
   "id": "9d2c55d4",
   "metadata": {},
   "outputs": [],
   "source": [
    "filtered_aspect"
   ]
  },
  {
   "cell_type": "code",
   "execution_count": null,
   "id": "efd3f2c4",
   "metadata": {},
   "outputs": [],
   "source": [
    "dispersion = filtered_aspect.groupby(['eclipse']).agg({\n",
    "    'ra': 'std',\n",
    "    'dec': 'std',\n",
    "    'time': 'count'}, skipna=False).reset_index()"
   ]
  },
  {
   "cell_type": "code",
   "execution_count": null,
   "id": "9364bff2",
   "metadata": {},
   "outputs": [],
   "source": [
    "dispersion"
   ]
  },
  {
   "cell_type": "code",
   "execution_count": null,
   "id": "4385ce29",
   "metadata": {},
   "outputs": [],
   "source": [
    "final = pd.merge(dispersion, metadata, on='eclipse', how='inner')\n"
   ]
  },
  {
   "cell_type": "code",
   "execution_count": null,
   "id": "cc56fdb2",
   "metadata": {},
   "outputs": [],
   "source": [
    "final = final[(final['ra']<20) & (final['dec']<20)]"
   ]
  },
  {
   "cell_type": "code",
   "execution_count": null,
   "id": "1025b256",
   "metadata": {},
   "outputs": [],
   "source": [
    "plt.scatter(final['ra'],final['dec'],s=.1)\n",
    "plt.ylabel('dec stdev')"
   ]
  },
  {
   "cell_type": "code",
   "execution_count": null,
   "id": "6f43d78a",
   "metadata": {},
   "outputs": [],
   "source": [
    "# get more than one leg \n",
    "multileg = merged_dispersion[(merged_dispersion['legs'] > 0)]\n"
   ]
  },
  {
   "cell_type": "code",
   "execution_count": null,
   "id": "f302012c",
   "metadata": {
    "scrolled": true
   },
   "outputs": [],
   "source": [
    "outliers = merged_dispersion[(merged_dispersion['legs'] == 12) & (merged_dispersion['ra'] > 20)]\n",
    "outliers"
   ]
  },
  {
   "cell_type": "code",
   "execution_count": null,
   "id": "060685f6",
   "metadata": {},
   "outputs": [],
   "source": [
    "merged_filtered = merged_dispersion[(merged_dispersion['legs'] == 0) & (merged_dispersion['ra'] < 10) & (merged_dispersion['dec'] < 10) & (merged_dispersion['obstype'] != 'unknown')]"
   ]
  },
  {
   "cell_type": "code",
   "execution_count": null,
   "id": "3e4a3a2e",
   "metadata": {},
   "outputs": [],
   "source": [
    "plt.scatter(merged_filtered['ra'],merged_filtered['dec'],s=.09)\n",
    "plt.xlim(xmin=-.01,xmax=.04)\n",
    "plt.ylim(ymin=-.01,ymax=.04)\n",
    "plt.xlabel('ra std for one leg')\n",
    "plt.ylabel('dec std for one leg')"
   ]
  },
  {
   "cell_type": "code",
   "execution_count": null,
   "id": "79d5d072",
   "metadata": {},
   "outputs": [],
   "source": [
    "obstype = final.groupby(['obstype']).agg(\n",
    "    {'ra' : ['median', 'std','mean'], 'dec' : ['median', 'std','mean']}, skipna=False).reset_index()"
   ]
  },
  {
   "cell_type": "code",
   "execution_count": null,
   "id": "b9db7981",
   "metadata": {},
   "outputs": [],
   "source": [
    "plt.scatter(obstype['obstype'],obstype['ra']['mean'],marker='o',s=20, label='ra mean')\n",
    "plt.scatter(obstype['obstype'],obstype['ra']['median'],marker='s',s=20, label='ra median')\n",
    "plt.scatter(obstype['obstype'],obstype['dec']['mean'],marker='*',s=20, label= 'dec mean')\n",
    "plt.scatter(obstype['obstype'],obstype['dec']['median'],marker='+',s=20,label='dec median')\n",
    "plt.legend()"
   ]
  },
  {
   "cell_type": "code",
   "execution_count": null,
   "id": "a36a4595",
   "metadata": {},
   "outputs": [],
   "source": [
    "plt.scatter(obstype['obstype'],obstype['ra']['std'])\n",
    "plt.scatter(obstype['obstype'],obstype['dec']['std'])"
   ]
  },
  {
   "cell_type": "code",
   "execution_count": null,
   "id": "735bc779",
   "metadata": {},
   "outputs": [],
   "source": [
    "final[['eclipse', 'ra','dec','legs','obstype']].to_parquet('stdev_by_eclipse.parquet', index=False)\n"
   ]
  },
  {
   "cell_type": "code",
   "execution_count": null,
   "id": "bc2c1abf",
   "metadata": {},
   "outputs": [],
   "source": [
    "# check which eclipses are missing \n",
    "\n",
    "merged_df = pd.merge(dispersion, final, on='eclipse', how='outer', indicator=True)\n",
    "\n",
    "non_matching_in_df1 = merged_df[merged_df['_merge'] == 'left_only']\n",
    "\n",
    "non_matching_in_df2 = merged_df[merged_df['_merge'] == 'right_only']"
   ]
  },
  {
   "cell_type": "code",
   "execution_count": null,
   "id": "b7e7106c",
   "metadata": {},
   "outputs": [],
   "source": [
    "non_matching_in_df1"
   ]
  },
  {
   "cell_type": "code",
   "execution_count": null,
   "id": "618c3604",
   "metadata": {},
   "outputs": [],
   "source": []
  }
 ],
 "metadata": {
  "kernelspec": {
   "display_name": "Python 3 (ipykernel)",
   "language": "python",
   "name": "python3"
  },
  "language_info": {
   "codemirror_mode": {
    "name": "ipython",
    "version": 3
   },
   "file_extension": ".py",
   "mimetype": "text/x-python",
   "name": "python",
   "nbconvert_exporter": "python",
   "pygments_lexer": "ipython3",
   "version": "3.11.6"
  }
 },
 "nbformat": 4,
 "nbformat_minor": 5
}
