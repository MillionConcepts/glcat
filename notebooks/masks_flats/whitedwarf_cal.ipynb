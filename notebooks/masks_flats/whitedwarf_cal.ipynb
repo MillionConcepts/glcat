{
 "cells": [
  {
   "cell_type": "code",
   "execution_count": 10,
   "id": "df1b2900",
   "metadata": {},
   "outputs": [],
   "source": [
    "import sys \n",
    "import matplotlib.pyplot as plt \n",
    "import pandas as pd\n",
    "from pyarrow import parquet \n",
    "import numpy as np\n",
    "sys.path.append('/home/bekah/gPhoton2')\n",
    "from gPhoton.search.core import galex_cone_search, eclipses_near_object"
   ]
  },
  {
   "cell_type": "code",
   "execution_count": 20,
   "id": "5efb81f3",
   "metadata": {},
   "outputs": [],
   "source": [
    "ra = 323.0676362669233\n",
    "dec = 0.2539997966617\n",
    "lds749b_list = galex_cone_search(ra, dec, 1)"
   ]
  },
  {
   "cell_type": "code",
   "execution_count": 22,
   "id": "a049706b",
   "metadata": {},
   "outputs": [],
   "source": [
    "lds749b_list.to_csv(\"lds749b.csv\")"
   ]
  },
  {
   "cell_type": "code",
   "execution_count": null,
   "id": "dc9f4cda",
   "metadata": {},
   "outputs": [],
   "source": []
  }
 ],
 "metadata": {
  "kernelspec": {
   "display_name": "Python 3 (ipykernel)",
   "language": "python",
   "name": "python3"
  },
  "language_info": {
   "codemirror_mode": {
    "name": "ipython",
    "version": 3
   },
   "file_extension": ".py",
   "mimetype": "text/x-python",
   "name": "python",
   "nbconvert_exporter": "python",
   "pygments_lexer": "ipython3",
   "version": "3.10.12"
  }
 },
 "nbformat": 4,
 "nbformat_minor": 5
}
