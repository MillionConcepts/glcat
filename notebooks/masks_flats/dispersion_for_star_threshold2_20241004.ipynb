{
 "cells": [
  {
   "cell_type": "code",
   "execution_count": null,
   "id": "16349886",
   "metadata": {},
   "outputs": [],
   "source": [
    "from astropy.io import fits\n",
    "from io import BytesIO\n",
    "import sys\n",
    "import pandas as pd \n",
    "import numpy as np \n",
    "import os\n",
    "import matplotlib.pyplot as plt\n",
    "sys.path.append('/home/bekah/gPhoton2')\n",
    "from gPhoton.coadd import zero_flag_and_edge\n",
    "import pyarrow.parquet as parquet"
   ]
  },
  {
   "cell_type": "code",
   "execution_count": null,
   "id": "e7c4e7cf",
   "metadata": {},
   "outputs": [],
   "source": [
    "from quickbin import bin2d\n",
    "import pyarrow.parquet as parquet\n",
    "import pandas as pd \n",
    "\n",
    "# photon table would already exist in gphoton2 \n",
    "photons = parquet.read_table(\"/home/bekah/Downloads/e00848-fd-b00.parquet\").to_pandas()\n",
    "\n",
    "# want photons that are on detector, no flags, has aspect soln \n",
    "photons = photons[(photons['detrad'] < 600)]\n",
    "photons = photons.dropna(subset=['ra', 'dec'])\n",
    "photons = photons[(photons['flags'] < 1)]\n",
    "\n",
    "# bin2d for ra & dec std + count, also get vals for q range \n",
    "ra = bin2d(photons['col'],photons['row'],photons['ra'],n_bins=800,op=('count', 'std'))\n",
    "dec = bin2d(photons['col'],photons['row'],photons['dec'],n_bins=800,op=('std'))\n",
    "q_m =  bin2d(photons['col'],photons['row'],photons['q'],n_bins=800,op=('min', 'max'))\n",
    "\n",
    "# dispersion metric \n",
    "disp = ra['std']+dec # bin2d only returns a dictionary when more than one stat is calculated \n",
    "\n",
    "# rough exp time (use the correct one for threshold calc)\n",
    "time = abs(photons['t'].iloc[0]-photons['t'].iloc[-1])\n"
   ]
  },
  {
   "cell_type": "code",
   "execution_count": null,
   "id": "a737c02a",
   "metadata": {},
   "outputs": [],
   "source": [
    "# getting threshold \n",
    "high_disp = np.argwhere(disp>.016)\n",
    "values = ra['count'][high_disp[:, 0], high_disp[:, 1]]\n",
    "max(values/time)*.5"
   ]
  },
  {
   "cell_type": "code",
   "execution_count": null,
   "id": "9c8521e1",
   "metadata": {},
   "outputs": [],
   "source": [
    "plt.hist(values/time)"
   ]
  },
  {
   "cell_type": "code",
   "execution_count": null,
   "id": "f290932e",
   "metadata": {},
   "outputs": [],
   "source": [
    "# fig 1: DISPERSION \n",
    "\n",
    "plt.scatter(disp,ra['count']/time,s=.1)\n",
    "plt.ylabel(\"total photons per bin div by expt\")\n",
    "plt.xlabel('dispersion per bin')"
   ]
  },
  {
   "cell_type": "code",
   "execution_count": null,
   "id": "6b17bad3",
   "metadata": {},
   "outputs": [],
   "source": [
    "# fig 2: Q (PULSE HEIGHT) RANGE\n",
    "\n",
    "plt.scatter(q_m['max']-q_m['min'],ra['count']/time,s=.1,marker='.')\n",
    "plt.ylabel(\"total photons per bin div by expt\")\n",
    "plt.xlabel('range of pulse height per bin')"
   ]
  },
  {
   "cell_type": "code",
   "execution_count": null,
   "id": "f2050de9",
   "metadata": {},
   "outputs": [],
   "source": []
  }
 ],
 "metadata": {
  "kernelspec": {
   "display_name": "Python 3 (ipykernel)",
   "language": "python",
   "name": "python3"
  },
  "language_info": {
   "codemirror_mode": {
    "name": "ipython",
    "version": 3
   },
   "file_extension": ".py",
   "mimetype": "text/x-python",
   "name": "python",
   "nbconvert_exporter": "python",
   "pygments_lexer": "ipython3",
   "version": "3.11.6"
  }
 },
 "nbformat": 4,
 "nbformat_minor": 5
}
