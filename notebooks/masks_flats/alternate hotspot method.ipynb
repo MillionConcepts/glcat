{
 "cells": [
  {
   "cell_type": "code",
   "execution_count": 5,
   "id": "278384fd",
   "metadata": {},
   "outputs": [],
   "source": [
    "import numpy as np\n",
    "import matplotlib.pyplot as plt\n",
    "from sklearn.cluster import DBSCAN\n",
    "import time\n",
    "from astropy.io import fits\n",
    "import pandas as pd \n",
    "import pyarrow.parquet as parquet\n",
    "import fast_histogram as fh\n"
   ]
  },
  {
   "cell_type": "code",
   "execution_count": null,
   "id": "9abf0ef1",
   "metadata": {},
   "outputs": [],
   "source": [
    "# DBSCAN would be ideal but basically it's way too slow "
   ]
  },
  {
   "cell_type": "code",
   "execution_count": 8,
   "id": "05c9092d",
   "metadata": {},
   "outputs": [],
   "source": [
    "def dosemap_ranges(radius):\n",
    "    slop = 400 - radius\n",
    "    return [slop, 3200 - slop], [slop, 3200 - slop]"
   ]
  },
  {
   "cell_type": "code",
   "execution_count": 12,
   "id": "05126dc7",
   "metadata": {},
   "outputs": [],
   "source": [
    "def centile_clip(image, centiles=(0, 90)):\n",
    "    \"\"\"\n",
    "    simple clipping function that clips values above and below a given\n",
    "    percentile range\n",
    "    \"\"\"\n",
    "    import numpy as np\n",
    "    finite = np.ma.masked_invalid(image)\n",
    "    bounds = np.percentile(finite[~finite.mask].data, centiles)\n",
    "    result = np.ma.clip(finite, *bounds)\n",
    "\n",
    "    if isinstance(image, np.ma.MaskedArray):\n",
    "        return result\n",
    "\n",
    "    return result.data"
   ]
  },
  {
   "cell_type": "code",
   "execution_count": 3,
   "id": "c3858d59",
   "metadata": {},
   "outputs": [],
   "source": [
    "nf = parquet.read_table(\"/home/bekah/gPhoton2/test_data/e23456/e23456-nd-b00.parquet\").to_pandas()\n",
    "nf = nf[(nf['row']*4 >= -200) & (nf['row']*4 <= 3400) & (nf['col']*4 >= -200) & (nf['col']*4 <= 3400)]\n",
    "nf['col_expand'] = nf['col']*(16/3)+200*(4/3)\n",
    "nf['row_expand'] = nf['row']*(16/3)+200*(4/3)\n",
    "points = nf[['col_expand', 'row_expand']].values\n"
   ]
  },
  {
   "cell_type": "code",
   "execution_count": 33,
   "id": "11c13dd8",
   "metadata": {},
   "outputs": [
    {
     "name": "stdout",
     "output_type": "stream",
     "text": [
      "hist took 1.0826 seconds\n"
     ]
    }
   ],
   "source": [
    "start_time = time.time()\n",
    "\n",
    "hist = fh.histogram2d(\n",
    "        nf['col']*4, nf['row']*4, bins=4800, range=dosemap_ranges(600)\n",
    "    ).astype('float32')\n",
    "\n",
    "end_time = time.time()\n",
    "\n",
    "duration = end_time - start_time\n",
    "print(f\"hist took {duration:.4f} seconds\")\n"
   ]
  },
  {
   "cell_type": "code",
   "execution_count": 31,
   "id": "be69b063",
   "metadata": {},
   "outputs": [],
   "source": [
    "x,y = np.where(hist>250)"
   ]
  },
  {
   "cell_type": "code",
   "execution_count": 18,
   "id": "99610cdf",
   "metadata": {},
   "outputs": [
    {
     "data": {
      "text/plain": [
       "1846.0"
      ]
     },
     "execution_count": 18,
     "metadata": {},
     "output_type": "execute_result"
    }
   ],
   "source": [
    "np.max(hist)"
   ]
  },
  {
   "cell_type": "code",
   "execution_count": 19,
   "id": "9a363fbd",
   "metadata": {},
   "outputs": [
    {
     "data": {
      "text/plain": [
       "4.7572007"
      ]
     },
     "execution_count": 19,
     "metadata": {},
     "output_type": "execute_result"
    }
   ],
   "source": [
    "np.std(hist)"
   ]
  },
  {
   "cell_type": "code",
   "execution_count": 32,
   "id": "1568d863",
   "metadata": {},
   "outputs": [
    {
     "data": {
      "text/plain": [
       "<matplotlib.collections.PathCollection at 0x7f142a677bb0>"
      ]
     },
     "execution_count": 32,
     "metadata": {},
     "output_type": "execute_result"
    },
    {
     "data": {
      "image/png": "[encoded data removed]",
      "text/plain": [
       "<Figure size 640x480 with 1 Axes>"
      ]
     },
     "metadata": {},
     "output_type": "display_data"
    }
   ],
   "source": [
    "plt.scatter(x,y, s=.5)"
   ]
  },
  {
   "cell_type": "code",
   "execution_count": 27,
   "id": "90fa321b",
   "metadata": {},
   "outputs": [
    {
     "data": {
      "text/plain": [
       "array([2459, 2459, 2459, 2460, 2460, 2460, 2460, 2460, 2461, 2461, 2461,\n",
       "       2461, 2701, 2701, 2701, 2702, 2702, 2702, 2703, 2703, 4593, 4594])"
      ]
     },
     "execution_count": 27,
     "metadata": {},
     "output_type": "execute_result"
    }
   ],
   "source": [
    "x"
   ]
  },
  {
   "cell_type": "code",
   "execution_count": 28,
   "id": "e9a68c27",
   "metadata": {},
   "outputs": [
    {
     "data": {
      "text/plain": [
       "array([2385, 2386, 2387, 2384, 2385, 2386, 2387, 2388, 2385, 2386, 2387,\n",
       "       2388, 2247, 2248, 2249, 2247, 2248, 2249, 2248, 2249,  119,  119])"
      ]
     },
     "execution_count": 28,
     "metadata": {},
     "output_type": "execute_result"
    }
   ],
   "source": [
    "y"
   ]
  },
  {
   "cell_type": "code",
   "execution_count": 55,
   "id": "958590ac",
   "metadata": {},
   "outputs": [],
   "source": [
    "above_30_x, above_30_y = np.where(hist<2)\n",
    "below_2 = hist<2"
   ]
  },
  {
   "cell_type": "code",
   "execution_count": 56,
   "id": "9443f706",
   "metadata": {},
   "outputs": [
    {
     "name": "stdout",
     "output_type": "stream",
     "text": [
      "(14419033, 2)\n"
     ]
    }
   ],
   "source": [
    "points = np.vstack((above_30_x, above_30_y)).T\n",
    "\n",
    "print(points.shape) "
   ]
  },
  {
   "cell_type": "code",
   "execution_count": 62,
   "id": "41bb9fa2",
   "metadata": {},
   "outputs": [],
   "source": [
    "eps = 1  # maximum distance between two points to be considered in the same neighborhood\n",
    "min_samples = 8  # minimum number of points to form a dense region (cluster)\n",
    "\n",
    "# Time the DBSCAN clustering process\n",
    "start_time = time.time()\n",
    "db = DBSCAN(eps=eps, min_samples=min_samples).fit(points)\n",
    "end_time = time.time()\n"
   ]
  },
  {
   "cell_type": "code",
   "execution_count": 63,
   "id": "46f9bf1b",
   "metadata": {},
   "outputs": [
    {
     "name": "stdout",
     "output_type": "stream",
     "text": [
      "94.63494849205017\n"
     ]
    }
   ],
   "source": [
    "print(end_time-start_time)"
   ]
  },
  {
   "cell_type": "code",
   "execution_count": 64,
   "id": "5beb4570",
   "metadata": {},
   "outputs": [
    {
     "name": "stdout",
     "output_type": "stream",
     "text": [
      "[-1 -1 -1 -1 -1 -1 -1 -1 -1 -1]\n"
     ]
    }
   ],
   "source": [
    "labels = db.labels_\n",
    "\n",
    "# Check the first few labels\n",
    "print(labels[:10])"
   ]
  },
  {
   "cell_type": "code",
   "execution_count": 65,
   "id": "43e0001e",
   "metadata": {},
   "outputs": [],
   "source": [
    "df = pd.DataFrame({'x': above_30_x, 'y': above_30_y})\n",
    "df['label'] = labels\n"
   ]
  },
  {
   "cell_type": "code",
   "execution_count": null,
   "id": "dc078072",
   "metadata": {},
   "outputs": [
    {
     "data": {
      "text/plain": [
       "<matplotlib.collections.PathCollection at 0x7f142a6dbb80>"
      ]
     },
     "execution_count": 66,
     "metadata": {},
     "output_type": "execute_result"
    }
   ],
   "source": [
    "plt.scatter(df['x'],df['y'],c=df['label'],s=.25)"
   ]
  },
  {
   "cell_type": "code",
   "execution_count": null,
   "id": "bf418343",
   "metadata": {},
   "outputs": [],
   "source": []
  }
 ],
 "metadata": {
  "kernelspec": {
   "display_name": "Python 3 (ipykernel)",
   "language": "python",
   "name": "python3"
  },
  "language_info": {
   "codemirror_mode": {
    "name": "ipython",
    "version": 3
   },
   "file_extension": ".py",
   "mimetype": "text/x-python",
   "name": "python",
   "nbconvert_exporter": "python",
   "pygments_lexer": "ipython3",
   "version": "3.10.12"
  }
 },
 "nbformat": 4,
 "nbformat_minor": 5
}
