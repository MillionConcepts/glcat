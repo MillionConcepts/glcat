{
 "cells": [
  {
   "cell_type": "code",
   "execution_count": null,
   "id": "31c54d14",
   "metadata": {},
   "outputs": [],
   "source": [
    "#import boto3\n",
    "from astropy.io import fits\n",
    "from io import BytesIO\n",
    "import sys\n",
    "import pandas as pd \n",
    "import numpy as np \n",
    "import os\n",
    "import matplotlib.pyplot as plt\n",
    "sys.path.append('/home/bekah/gPhoton2')\n",
    "from gPhoton.coadd import zero_flag_and_edge\n",
    "import pyarrow.parquet as parquet\n",
    "import fast_histogram as fh\n",
    "import time\n",
    "\n"
   ]
  },
  {
   "cell_type": "code",
   "execution_count": null,
   "id": "e986f60c",
   "metadata": {},
   "outputs": [],
   "source": [
    "def centile_clip(image, centiles=(0, 90)):\n",
    "    \"\"\"\n",
    "    simple clipping function that clips values above and below a given\n",
    "    percentile range\n",
    "    \"\"\"\n",
    "    import numpy as np\n",
    "    finite = np.ma.masked_invalid(image)\n",
    "    bounds = np.percentile(finite[~finite.mask].data, centiles)\n",
    "    result = np.ma.clip(finite, *bounds)\n",
    "\n",
    "    if isinstance(image, np.ma.MaskedArray):\n",
    "        return result\n",
    "\n",
    "    return result.data"
   ]
  },
  {
   "cell_type": "code",
   "execution_count": null,
   "id": "fb0e4486",
   "metadata": {},
   "outputs": [],
   "source": [
    "nuv_drawn = fits.open(\"/media/bekah/BekahA/hotspot/drawn/nuv_spots.fits\")\n",
    "mask = nuv_drawn[0].data"
   ]
  },
  {
   "cell_type": "code",
   "execution_count": null,
   "id": "f5c94579",
   "metadata": {},
   "outputs": [],
   "source": [
    "nf = parquet.read_table(\"/home/bekah/gPhoton2/test_data/e23456/e23456-nd-b00.parquet\").to_pandas()"
   ]
  },
  {
   "cell_type": "code",
   "execution_count": null,
   "id": "6714e9f2",
   "metadata": {},
   "outputs": [],
   "source": [
    "nf = nf[(nf['row']*4 >= -200) & (nf['row']*4 <= 3400) & (nf['col']*4 >= -200) & (nf['col']*4 <= 3400)]"
   ]
  },
  {
   "cell_type": "code",
   "execution_count": null,
   "id": "c5132770",
   "metadata": {},
   "outputs": [],
   "source": [
    "nf['col_adj'] = nf['col']*(16/3)+200*(4/3)\n",
    "nf['row_adj'] = nf['row']*(16/3)+200*(4/3)"
   ]
  },
  {
   "cell_type": "code",
   "execution_count": null,
   "id": "3909852a",
   "metadata": {},
   "outputs": [],
   "source": [
    "nf['row_rnd'] = nf['row_adj'].round().astype(int)\n",
    "nf['col_rnd'] = nf['col_adj'].round().astype(int)\n",
    "\n",
    "nf = nf[(nf['row_rnd'] <= 4799) & (nf['col_rnd'] <= 4799)]\n",
    "\n",
    "mask = mask[nf['col_rnd'], nf['row_rnd']] == 1\n",
    "\n",
    "nf['flagged'] = mask\n",
    "\n"
   ]
  },
  {
   "cell_type": "code",
   "execution_count": null,
   "id": "fad8fb45",
   "metadata": {},
   "outputs": [],
   "source": [
    "nf.keys()"
   ]
  },
  {
   "cell_type": "code",
   "execution_count": null,
   "id": "dfb758f7",
   "metadata": {},
   "outputs": [],
   "source": [
    "plt.scatter( nf[nf['flagged']]['col'],nf[nf['flagged']]['row'],s=.25)"
   ]
  },
  {
   "cell_type": "code",
   "execution_count": null,
   "id": "6ac14964",
   "metadata": {},
   "outputs": [],
   "source": [
    "plt.scatter( nf[nf['flagged']]['ra'],nf[nf['flagged']]['dec'],s=.00001)\n",
    "plt.xlim(322.75,324.25)\n",
    "plt.ylim(-2.8,-1.4)"
   ]
  },
  {
   "cell_type": "code",
   "execution_count": null,
   "id": "c2cef8b6",
   "metadata": {},
   "outputs": [],
   "source": [
    "#pixel = nf[(nf['col_rnd2'] == 620) &(nf['row_rnd2'] == 223) ] # &(nf['row_rnd2'] == 400)\n",
    "pixel = nf[(nf['col_rnd'] == 260) &(nf['row_rnd'] == 420) ]"
   ]
  },
  {
   "cell_type": "code",
   "execution_count": null,
   "id": "f8d21cc5",
   "metadata": {},
   "outputs": [],
   "source": [
    "nf['row_rnd2'] = nf['row'].round().astype(int)\n",
    "nf['col_rnd2'] = nf['col'].round().astype(int)"
   ]
  },
  {
   "cell_type": "code",
   "execution_count": null,
   "id": "32f85792",
   "metadata": {},
   "outputs": [],
   "source": [
    "plt.scatter(pixel['ra'],pixel['dec'],s=.15)"
   ]
  },
  {
   "cell_type": "code",
   "execution_count": null,
   "id": "07563520",
   "metadata": {},
   "outputs": [],
   "source": [
    "plt.scatter(pixel['col'],pixel['row'],s=.15)"
   ]
  },
  {
   "cell_type": "code",
   "execution_count": null,
   "id": "27057999",
   "metadata": {},
   "outputs": [],
   "source": [
    "plt.scatter(pixel['row'],pixel['col'])"
   ]
  },
  {
   "cell_type": "code",
   "execution_count": null,
   "id": "16a970e1",
   "metadata": {},
   "outputs": [],
   "source": [
    "plt.hist(pixel['row_rnd2'],bins=100)"
   ]
  },
  {
   "cell_type": "code",
   "execution_count": null,
   "id": "9b3b64c7",
   "metadata": {},
   "outputs": [],
   "source": [
    "# this is computationally very expensive \n",
    "\n",
    "import numpy as np\n",
    "from scipy.spatial.distance import pdist, squareform\n",
    "\n",
    "def average_dispersion(group):\n",
    "    if len(group) < 2:\n",
    "        return np.nan  \n",
    "    coords = group[['ra', 'dec']].values\n",
    "    pairwise_distances = pdist(coords, metric='euclidean')\n",
    "    avg_dispersion = np.mean(pairwise_distances)\n",
    "    return avg_dispersion\n",
    "\n",
    "dispersion = nf.groupby(['col_rnd2', 'row_rnd2']).apply(average_dispersion).reset_index(name='average_dispersion')\n",
    "\n",
    "nf = pd.merge(nf, dispersion, on=['col_rnd2', 'row_rnd2'])"
   ]
  },
  {
   "cell_type": "code",
   "execution_count": null,
   "id": "db188ef0",
   "metadata": {},
   "outputs": [],
   "source": [
    "dispersion = nf.groupby(['col_rnd2', 'row_rnd2']).agg({\n",
    "    'ra': 'std',\n",
    "    'dec': 'std'\n",
    "}).reset_index()"
   ]
  },
  {
   "cell_type": "code",
   "execution_count": null,
   "id": "cb21a176",
   "metadata": {},
   "outputs": [],
   "source": [
    "plt.scatter(dispersion[dispersion['ra']>50]['col_rnd2'],dispersion[dispersion['ra']>50]['row_rnd2'],c=dispersion[dispersion['ra']>50]['dec']+dispersion[dispersion['ra']>50]['ra'],s=.5)"
   ]
  },
  {
   "cell_type": "code",
   "execution_count": null,
   "id": "bea83031",
   "metadata": {},
   "outputs": [],
   "source": [
    "dispersion"
   ]
  },
  {
   "cell_type": "code",
   "execution_count": null,
   "id": "e725465c",
   "metadata": {},
   "outputs": [],
   "source": [
    "plt.hist(dispersion['ra'],bins=50)"
   ]
  },
  {
   "cell_type": "code",
   "execution_count": null,
   "id": "0d210f0b",
   "metadata": {},
   "outputs": [],
   "source": [
    "dispersion.columns = ['col_rnd2', 'row_rnd2', 'ra_std', 'dec_std']\n"
   ]
  },
  {
   "cell_type": "code",
   "execution_count": null,
   "id": "cd2ef7a7",
   "metadata": {},
   "outputs": [],
   "source": [
    "# this crashes, uses too much memory, don't use \n",
    "nf = pd.merge(nf, dispersion, on=['col_rnd2', 'row_rnd2'])"
   ]
  },
  {
   "cell_type": "code",
   "execution_count": null,
   "id": "421cef4c",
   "metadata": {},
   "outputs": [],
   "source": [
    "# ok so, make histogram / dosemap from points, identify hotspots and dark spots \n",
    "# then measure \"dispersion\" aka standard deviation of ra and dec for bright spots to determine if they're a \n",
    "# hotspot or a real star\n",
    "# for coldspots you obviously can't measure dispersion if there's no points, so need to determine some kind of cutoff\n",
    "#  based on the background rate \n",
    "\n",
    "# pre-filtering with the 2d histogram should significantly cut down on the time to calculate standard deviation "
   ]
  },
  {
   "cell_type": "code",
   "execution_count": null,
   "id": "7897ef0e",
   "metadata": {},
   "outputs": [],
   "source": [
    "def dosemap_ranges(radius):\n",
    "    slop = 400 - radius\n",
    "    return [slop, 3200 - slop], [slop, 3200 - slop]\n",
    "\n",
    "def is_point_in_list(row, points_list):\n",
    "    return (row['col'], row['row']) in points_list"
   ]
  },
  {
   "cell_type": "code",
   "execution_count": null,
   "id": "294d708a",
   "metadata": {},
   "outputs": [],
   "source": [
    "# load and filter data for being on detector / in dosemap frame, convert to dosemap coords\n",
    "\n",
    "nf = parquet.read_table(\"/home/bekah/gPhoton2/test_data/e23456/e23456-nd-b00.parquet\").to_pandas()\n"
   ]
  },
  {
   "cell_type": "code",
   "execution_count": null,
   "id": "8c172cf9",
   "metadata": {},
   "outputs": [],
   "source": [
    "# filter\n",
    "nf = nf[(nf['row']*4 >= -200) & (nf['row']*4 <= 3400) & (nf['col']*4 >= -200) & (nf['col']*4 <= 3400)]\n",
    "\n",
    "nf['col_adj'] = nf['col']*(16/3)+200*(4/3)\n",
    "nf['row_adj'] = nf['row']*(16/3)+200*(4/3)\n",
    "\n",
    "nf['row_rnd'] = nf['row'].round().astype(int)\n",
    "nf['col_rnd'] = nf['col'].round().astype(int)\n",
    "\n",
    "nf = nf[(nf['row_rnd'] <= 4799) & (nf['col_rnd'] <= 4799)]"
   ]
  },
  {
   "cell_type": "code",
   "execution_count": null,
   "id": "9dd2ee5b",
   "metadata": {},
   "outputs": [],
   "source": [
    "start_time = time.time()\n",
    "\n",
    "print(\"finished filtering data, making histogram now\")\n",
    "\n",
    "# make 2d histogram and filter for dark and hotpsots. \"hotspots\" will inevitably contain bright stars\n",
    "hist = fh.histogram2d(\n",
    "        nf['col'], nf['row'], bins=800, range=dosemap_ranges(600)\n",
    "    ).astype('float32')\n",
    "\n",
    "print(\"done with histogram, selecting points\")\n",
    "\n",
    "mask = (hist > 30) | (hist < 1)\n",
    "\n",
    "print(\"calculating dispersion\")\n",
    "\n",
    "dispersion = nf.groupby(['col_rnd', 'row_rnd']).agg({\n",
    "    'ra': 'std',\n",
    "    'dec': 'std'\n",
    "}).reset_index()\n",
    "\n",
    "end_time = time.time()\n",
    "\n",
    "duration = end_time - start_time\n",
    "print(f\"it took {duration:.4f} seconds\")"
   ]
  },
  {
   "cell_type": "code",
   "execution_count": null,
   "id": "61d7f1cc",
   "metadata": {},
   "outputs": [],
   "source": [
    "dispersion"
   ]
  },
  {
   "cell_type": "code",
   "execution_count": null,
   "id": "c8eb86a8",
   "metadata": {},
   "outputs": [],
   "source": [
    "hist.shape"
   ]
  },
  {
   "cell_type": "code",
   "execution_count": null,
   "id": "0a432438",
   "metadata": {},
   "outputs": [],
   "source": [
    "plt.scatter(dispersion[dispersion['ra']>100]['col_rnd'],dispersion[dispersion['ra']>100]['row_rnd'],c=abs(dispersion[dispersion['ra']>100]['ra'])+abs(dispersion[dispersion['ra']>100]['dec']),s=.05)"
   ]
  },
  {
   "cell_type": "code",
   "execution_count": null,
   "id": "6f4b7730",
   "metadata": {},
   "outputs": [],
   "source": [
    "plt.hist(abs(dispersion[dispersion['ra']>20]['ra'])+abs(dispersion[dispersion['ra']>20]['dec']),bins=100)"
   ]
  },
  {
   "cell_type": "code",
   "execution_count": null,
   "id": "88e7f0d5",
   "metadata": {},
   "outputs": [],
   "source": [
    "hist = fh.histogram2d(\n",
    "        nf['col'], nf['row'], bins=800, range=([0,800],[0,800])\n",
    "    ).astype('float32')"
   ]
  },
  {
   "cell_type": "code",
   "execution_count": null,
   "id": "fe0931a9",
   "metadata": {},
   "outputs": [],
   "source": [
    "plt.scatter(dispersion['col_rnd'],dispersion['row_rnd'],s=.00002)\n",
    "plt.xlim(0,800)\n",
    "plt.ylim(0,800)"
   ]
  },
  {
   "cell_type": "code",
   "execution_count": null,
   "id": "6b99d218",
   "metadata": {},
   "outputs": [],
   "source": [
    "dispersion = dispersion[(dispersion['col_rnd']<800)&(dispersion['row_rnd']<800)]\n",
    "max_col = dispersion['col_rnd'].max()\n",
    "max_row = dispersion['row_rnd'].max()\n",
    "\n",
    "high_disp = np.zeros((max_col + 1, max_row + 1))\n",
    "\n",
    "high_disp[dispersion['col_rnd'], dispersion['row_rnd']] = abs(dispersion['ra'])+abs(dispersion['dec'])"
   ]
  },
  {
   "cell_type": "code",
   "execution_count": null,
   "id": "d75faebc",
   "metadata": {},
   "outputs": [],
   "source": [
    "plt.imshow(high_disp,origin='lower',interpolation=None)\n",
    "plt.colorbar()"
   ]
  },
  {
   "cell_type": "code",
   "execution_count": null,
   "id": "a720e3fa",
   "metadata": {},
   "outputs": [],
   "source": [
    "plt.imshow(hist-high_disp,origin='lower')"
   ]
  },
  {
   "cell_type": "code",
   "execution_count": null,
   "id": "9ec0ee4b",
   "metadata": {},
   "outputs": [],
   "source": [
    "plt.imshow(np.isnan(high_disp))"
   ]
  },
  {
   "cell_type": "code",
   "execution_count": null,
   "id": "b264c058",
   "metadata": {},
   "outputs": [],
   "source": [
    "# density mask\n",
    "mask1 = (hist > 85) | (hist < 20)\n",
    "\n",
    "# dispersion mask\n",
    "mask2 = (high_disp > 5) | np.isnan(high_disp)\n",
    "\n",
    "# combo mask\n",
    "result_array = np.zeros(hist.shape, dtype=int)\n",
    "\n",
    "result_array[mask1 & mask2] = 2\n",
    "result_array[mask1 & ~mask2] = 1\n",
    "result_array[~mask1 & mask2] = -1\n"
   ]
  },
  {
   "cell_type": "code",
   "execution_count": null,
   "id": "2da916f9",
   "metadata": {},
   "outputs": [],
   "source": [
    "plt.figure(figsize=(10,10))\n",
    "plt.imshow(result_array, interpolation=None, origin='lower')\n",
    "plt.colorbar()"
   ]
  },
  {
   "cell_type": "code",
   "execution_count": null,
   "id": "a2a888ed",
   "metadata": {},
   "outputs": [],
   "source": [
    "plt.imshow(centile_clip(hist),origin='lower',interpolation=None)\n",
    "plt.colorbar()"
   ]
  },
  {
   "cell_type": "code",
   "execution_count": null,
   "id": "a3f1ab6d",
   "metadata": {},
   "outputs": [],
   "source": [
    "plt.figure(figsize=(10,10))\n",
    "\n",
    "plt.imshow(mask2,interpolation=None)\n",
    "plt.colorbar()"
   ]
  },
  {
   "cell_type": "code",
   "execution_count": null,
   "id": "3ddb7c2a",
   "metadata": {},
   "outputs": [],
   "source": [
    "plt.figure(figsize=(10,10))\n",
    "\n",
    "plt.imshow(mask1,interpolation=None)\n",
    "plt.colorbar()"
   ]
  },
  {
   "cell_type": "code",
   "execution_count": null,
   "id": "7cdf37d9",
   "metadata": {},
   "outputs": [],
   "source": [
    "pixel = dispersion[(dispersion['col_rnd'] == 700) &(nf['row_rnd'] == 380) ]"
   ]
  },
  {
   "cell_type": "code",
   "execution_count": null,
   "id": "c07cad11",
   "metadata": {},
   "outputs": [],
   "source": [
    "nf.keys()\n"
   ]
  },
  {
   "cell_type": "code",
   "execution_count": null,
   "id": "894c58e8",
   "metadata": {},
   "outputs": [],
   "source": [
    "plt.scatter(nf['ra'],nf['dec'],c=nf['response'],s=.0005)"
   ]
  },
  {
   "cell_type": "code",
   "execution_count": null,
   "id": "18c38c8f",
   "metadata": {},
   "outputs": [],
   "source": []
  }
 ],
 "metadata": {
  "kernelspec": {
   "display_name": "Python 3 (ipykernel)",
   "language": "python",
   "name": "python3"
  },
  "language_info": {
   "codemirror_mode": {
    "name": "ipython",
    "version": 3
   },
   "file_extension": ".py",
   "mimetype": "text/x-python",
   "name": "python",
   "nbconvert_exporter": "python",
   "pygments_lexer": "ipython3",
   "version": "3.10.12"
  }
 },
 "nbformat": 4,
 "nbformat_minor": 5
}
