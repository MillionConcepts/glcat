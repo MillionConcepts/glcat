{
 "cells": [
  {
   "cell_type": "code",
   "execution_count": 1,
   "id": "83d9151a",
   "metadata": {},
   "outputs": [
    {
     "name": "stderr",
     "output_type": "stream",
     "text": [
      "/home/bekah/mambaforge/envs/gphoton2/lib/python3.10/site-packages/dask/dataframe/_pyarrow_compat.py:15: FutureWarning: Minimal version of pyarrow will soon be increased to 14.0.1. You are using 11.0.0. Please consider upgrading.\n",
      "  warnings.warn(\n"
     ]
    }
   ],
   "source": [
    "from astropy.io import fits\n",
    "import pandas as pd \n",
    "import numpy as np \n",
    "import matplotlib.pyplot as plt\n",
    "import pyarrow.parquet as parquet\n",
    "import fast_histogram as fh\n",
    "import time\n",
    "import dask.dataframe as dd\n"
   ]
  },
  {
   "cell_type": "code",
   "execution_count": 2,
   "id": "04d7d9b8",
   "metadata": {},
   "outputs": [],
   "source": [
    "def dosemap_ranges(radius):\n",
    "    slop = 400 - radius\n",
    "    return [slop, 3200 - slop], [slop, 3200 - slop]"
   ]
  },
  {
   "cell_type": "code",
   "execution_count": 3,
   "id": "ecb7c6bd",
   "metadata": {},
   "outputs": [],
   "source": [
    "# load data for being on detector / in dosemap frame, convert to dosemap coords\n",
    "\n",
    "nf = parquet.read_table(\"/home/bekah/gPhoton2/test_data/e23456/e23456-nd-b00.parquet\",\n",
    "                       columns=['col', 'row', 'ra', 'dec', 'response']).to_pandas()\n",
    "\n",
    "#nf = parquet.read_table(\"/home/bekah/gPhoton2/test_data/e23456/e00929-fd-b00.parquet\",\n",
    "#                        columns=['col', 'row', 'ra', 'dec', 'response']).to_pandas()"
   ]
  },
  {
   "cell_type": "code",
   "execution_count": 4,
   "id": "bc5a3606",
   "metadata": {},
   "outputs": [],
   "source": [
    "bstart = time.time()\n"
   ]
  },
  {
   "cell_type": "code",
   "execution_count": 5,
   "id": "35ac0044",
   "metadata": {},
   "outputs": [
    {
     "name": "stdout",
     "output_type": "stream",
     "text": [
      "filtering data\n",
      "it took 3.0458 seconds\n"
     ]
    }
   ],
   "source": [
    "### FILTERING ARRAY ### \n",
    "start_time = time.time()\n",
    "\n",
    "print(\"filtering data\")\n",
    "\n",
    "# this is an antiquated cutoff from when radius was 600 for 2dhist\n",
    "nf = nf[(nf['row']*4 >= -200) & (nf['row']*4 <= 3400) & (nf['col']*4 >= -200) & (nf['col']*4 <= 3400)]\n",
    "\n",
    "nf['row_rnd'] = nf['row'].round().astype(int)\n",
    "nf['col_rnd'] = nf['col'].round().astype(int)\n",
    "\n",
    "nf = nf[(nf['row_rnd'] <= 4799) & (nf['col_rnd'] <= 4799) & (nf['ra']!= 0) & (nf['dec']!= 0)]\n",
    "\n",
    "end_time = time.time()\n",
    "\n",
    "duration = end_time - start_time\n",
    "print(f\"it took {duration:.4f} seconds\")"
   ]
  },
  {
   "cell_type": "code",
   "execution_count": 6,
   "id": "c77ac8b2",
   "metadata": {},
   "outputs": [
    {
     "name": "stdout",
     "output_type": "stream",
     "text": [
      "finished filtering data, making histogram now\n",
      "done with histogram\n",
      "it took 0.2993 seconds\n"
     ]
    }
   ],
   "source": [
    "### COUNT HIST ### \n",
    "start_time = time.time()\n",
    "\n",
    "print(\"finished filtering data, making histogram now\")\n",
    "# make 2d histogram and filter for dark and hotpsots. \"hotspots\" will inevitably contain bright stars\n",
    "\n",
    "hist = fh.histogram2d(\n",
    "       nf['col'], nf['row'],bins=800, range=([0,800],[0,800])).astype('float32')\n",
    "\n",
    "print(\"done with histogram\")\n",
    "\n",
    "end_time = time.time()\n",
    "\n",
    "duration = end_time - start_time\n",
    "print(f\"it took {duration:.4f} seconds\")"
   ]
  },
  {
   "cell_type": "code",
   "execution_count": 7,
   "id": "f3892d28",
   "metadata": {},
   "outputs": [
    {
     "name": "stdout",
     "output_type": "stream",
     "text": [
      "calculating dispersion & mean response\n",
      "it took 7.1456 seconds\n"
     ]
    }
   ],
   "source": [
    "### CALCULATING DISPERSION & RESPONSE ### \n",
    "start_time = time.time()\n",
    "\n",
    "print(\"calculating dispersion & mean response\")\n",
    "\n",
    "dispersion = nf.groupby(['col_rnd', 'row_rnd']).agg({\n",
    "    'ra': 'std',\n",
    "    'dec': 'std',\n",
    "    'response': 'mean'\n",
    "}).reset_index()\n",
    "\n",
    "end_time = time.time()\n",
    "\n",
    "duration = end_time - start_time\n",
    "print(f\"it took {duration:.4f} seconds\")"
   ]
  },
  {
   "cell_type": "code",
   "execution_count": 8,
   "id": "05e7ffd7",
   "metadata": {},
   "outputs": [
    {
     "name": "stdout",
     "output_type": "stream",
     "text": [
      "making dispersion array\n",
      "it took 0.0226 seconds\n"
     ]
    }
   ],
   "source": [
    "### DISP ARRAY ### \n",
    "\n",
    "start_time = time.time()\n",
    "\n",
    "# making np array of dispersion ra / dec \n",
    "print(\"making dispersion array\")\n",
    "\n",
    "dispersion = dispersion[(dispersion['col_rnd']<800)&(dispersion['row_rnd']<800)]\n",
    "max_col = dispersion['col_rnd'].max()\n",
    "max_row = dispersion['row_rnd'].max()\n",
    "\n",
    "ra_dec_disp = np.zeros((800, 800))\n",
    "\n",
    "ra_dec_disp[dispersion['col_rnd'], dispersion['row_rnd']] = abs(dispersion['ra'])+abs(dispersion['dec'])\n",
    "\n",
    "end_time = time.time()\n",
    "\n",
    "duration = end_time - start_time\n",
    "print(f\"it took {duration:.4f} seconds\")"
   ]
  },
  {
   "cell_type": "code",
   "execution_count": 9,
   "id": "6c685d0c",
   "metadata": {},
   "outputs": [
    {
     "name": "stdout",
     "output_type": "stream",
     "text": [
      "making response array\n",
      "it took 0.0192 seconds\n"
     ]
    }
   ],
   "source": [
    "### RESPONSE ARRAY ### \n",
    "\n",
    "start_time = time.time()\n",
    "\n",
    "# making np array of response\n",
    "print(\"making response array\")\n",
    "\n",
    "dispersion = dispersion[(dispersion['col_rnd']<800)&(dispersion['row_rnd']<800)]\n",
    "#max_col = dispersion['col_rnd'].max()\n",
    "#max_row = dispersion['row_rnd'].max()\n",
    "\n",
    "response_map = np.zeros((800, 800))\n",
    "\n",
    "response_map[dispersion['col_rnd'], dispersion['row_rnd']] = dispersion['response']\n",
    "\n",
    "end_time = time.time()\n",
    "\n",
    "duration = end_time - start_time\n",
    "print(f\"it took {duration:.4f} seconds\")"
   ]
  },
  {
   "cell_type": "code",
   "execution_count": 10,
   "id": "6dbc7db9",
   "metadata": {},
   "outputs": [
    {
     "name": "stdout",
     "output_type": "stream",
     "text": [
      "masking\n",
      "it took 0.0288 seconds\n"
     ]
    }
   ],
   "source": [
    "### MASKING ### \n",
    "\n",
    "start_time = time.time()\n",
    "print(\"masking\")\n",
    "\n",
    "# density mask\n",
    "density_mask = hist > 400 # not doing low density bc we have response, otherwise gets mixed with background\n",
    "\n",
    "# dispersion mask\n",
    "disp_mask = ra_dec_disp > .014\n",
    "\n",
    "# response map \n",
    "response_mask = response_map < .7 \n",
    "\n",
    "# combo mask\n",
    "result_array = np.zeros(hist.shape, dtype=int)+1\n",
    "\n",
    "result_array[density_mask & disp_mask] = 0\n",
    "result_array[response_mask] = 0\n",
    "\n",
    "# saving mask to fits \n",
    "hdu = fits.PrimaryHDU(result_array)\n",
    "hdul = fits.HDUList([hdu])\n",
    "hdul.writeto('mask.fits', overwrite=True)\n",
    "\n",
    "end_time = time.time()\n",
    "\n",
    "duration = end_time - start_time\n",
    "print(f\"it took {duration:.4f} seconds\")"
   ]
  },
  {
   "cell_type": "code",
   "execution_count": 11,
   "id": "b2fcc42b",
   "metadata": {},
   "outputs": [
    {
     "name": "stdout",
     "output_type": "stream",
     "text": [
      "total time: -10.61858320236206\n"
     ]
    }
   ],
   "source": [
    "bend = time.time()\n",
    "\n",
    "print(f\"total time: {bstart-bend}\")"
   ]
  },
  {
   "cell_type": "code",
   "execution_count": 12,
   "id": "b663310c",
   "metadata": {
    "scrolled": true
   },
   "outputs": [
    {
     "data": {
      "text/plain": [
       "<matplotlib.colorbar.Colorbar at 0x7f6348183460>"
      ]
     },
     "execution_count": 12,
     "metadata": {},
     "output_type": "execute_result"
    },
    {
     "data": {
      "image/png": "[encoded data removed]",
      "text/plain": [
       "<Figure size 1000x1000 with 2 Axes>"
      ]
     },
     "metadata": {},
     "output_type": "display_data"
    }
   ],
   "source": [
    "plt.figure(figsize=(10,10))\n",
    "plt.imshow(result_array, interpolation=None,origin='lower')\n",
    "plt.colorbar()\n"
   ]
  }
 ],
 "metadata": {
  "kernelspec": {
   "display_name": "Python 3 (ipykernel)",
   "language": "python",
   "name": "python3"
  },
  "language_info": {
   "codemirror_mode": {
    "name": "ipython",
    "version": 3
   },
   "file_extension": ".py",
   "mimetype": "text/x-python",
   "name": "python",
   "nbconvert_exporter": "python",
   "pygments_lexer": "ipython3",
   "version": "3.10.12"
  }
 },
 "nbformat": 4,
 "nbformat_minor": 5
}
