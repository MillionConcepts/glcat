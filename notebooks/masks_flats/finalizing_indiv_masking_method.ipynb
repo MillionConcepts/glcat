{
 "cells": [
  {
   "cell_type": "code",
   "execution_count": null,
   "id": "83d9151a",
   "metadata": {},
   "outputs": [],
   "source": [
    "from astropy.io import fits\n",
    "import pandas as pd \n",
    "import numpy as np \n",
    "import matplotlib.pyplot as plt\n",
    "import pyarrow.parquet as parquet\n",
    "import fast_histogram as fh\n",
    "import time\n",
    "import dask.dataframe as dd\n",
    "from scipy import stats\n"
   ]
  },
  {
   "cell_type": "code",
   "execution_count": null,
   "id": "04d7d9b8",
   "metadata": {},
   "outputs": [],
   "source": [
    "def dosemap_ranges(radius):\n",
    "    slop = 400 - radius\n",
    "    return [slop, 3200 - slop], [slop, 3200 - slop]"
   ]
  },
  {
   "cell_type": "code",
   "execution_count": null,
   "id": "ecb7c6bd",
   "metadata": {},
   "outputs": [],
   "source": [
    "# load data for being on detector / in dosemap frame, convert to dosemap coords\n",
    "\n",
    "nf = parquet.read_table(\"/home/bekah/gPhoton2/test_data/e23456/e23456-nd-b00.parquet\",\n",
    "                       columns=['col', 'row', 'ra', 'dec', 'response']).to_pandas()\n",
    "\n",
    "#nf = parquet.read_table(\"/home/bekah/gPhoton2/test_data/e23456/e00781-nd-b00.parquet\",\n",
    "#                        columns=['col', 'row', 'ra', 'dec', 'response']).to_pandas()"
   ]
  },
  {
   "cell_type": "code",
   "execution_count": null,
   "id": "bc5a3606",
   "metadata": {},
   "outputs": [],
   "source": [
    "bstart = time.time()\n"
   ]
  },
  {
   "cell_type": "code",
   "execution_count": null,
   "id": "35ac0044",
   "metadata": {},
   "outputs": [],
   "source": [
    "### FILTERING ARRAY ### \n",
    "start_time = time.time()\n",
    "\n",
    "print(\"filtering data\")\n",
    "\n",
    "# this is an antiquated cutoff from when radius was 600 for 2dhist\n",
    "nf = nf[(nf['row']*4 >= -200) & (nf['row']*4 <= 3400) & (nf['col']*4 >= -200) & (nf['col']*4 <= 3400)]\n",
    "\n",
    "nf['row_rnd'] = nf['row'].round().astype(int)\n",
    "nf['col_rnd'] = nf['col'].round().astype(int)\n",
    "\n",
    "nf = nf[(nf['row_rnd'] <= 4799) & (nf['col_rnd'] <= 4799) & (nf['ra']!= 0) & (nf['dec']!= 0)]\n",
    "nf = nf[(nf['ra'] <= 4799) & (nf['dec'] <= 4799)]\n",
    "\n",
    "nf = nf[(nf['col_rnd']<800)&(nf['row_rnd']<800)]\n",
    "\n",
    "\n",
    "mask = pd.notna(nf['ra'])\n",
    "nf = nf[mask]\n",
    "\n",
    "end_time = time.time()\n",
    "\n",
    "duration = end_time - start_time\n",
    "print(f\"it took {duration:.4f} seconds\")"
   ]
  },
  {
   "cell_type": "code",
   "execution_count": null,
   "id": "c77ac8b2",
   "metadata": {},
   "outputs": [],
   "source": [
    "### COUNT HIST ### \n",
    "start_time = time.time()\n",
    "\n",
    "print(\"finished filtering data, making histogram now\")\n",
    "# make 2d histogram and filter for dark and hotpsots. \"hotspots\" will inevitably contain bright stars\n",
    "\n",
    "hist = fh.histogram2d(\n",
    "       nf['col'], nf['row'],bins=800, range=([0,800],[0,800])).astype('float32')\n",
    "\n",
    "print(\"done with histogram\")\n",
    "\n",
    "end_time = time.time()\n",
    "\n",
    "duration = end_time - start_time\n",
    "print(f\"it took {duration:.4f} seconds\")"
   ]
  },
  {
   "cell_type": "code",
   "execution_count": null,
   "id": "6275cc38",
   "metadata": {},
   "outputs": [],
   "source": [
    "# scipy stats binned statistics \n",
    "\n",
    "start_time = time.time()\n",
    "\n",
    "ret_dec = stats.binned_statistic_2d(nf['col'], nf['row'], [nf['dec'], nf['ra']], 'std', bins=800)\n",
    "\n",
    "std_dec = ret_dec.statistic[0]\n",
    "std_ra = ret_dec.statistic[1]\n",
    "\n",
    "combo_std = std_ra + std_dec \n",
    "\n",
    "end_time = time.time()\n",
    "\n",
    "duration = end_time - start_time\n",
    "print(f\"it took {duration:.4f} seconds\")"
   ]
  },
  {
   "cell_type": "code",
   "execution_count": null,
   "id": "f3892d28",
   "metadata": {},
   "outputs": [],
   "source": [
    "### CALCULATING DISPERSION & RESPONSE ### \n",
    "start_time = time.time()\n",
    "\n",
    "print(\"calculating dispersion & mean response\")\n",
    "\n",
    "dispersion = nf.groupby(['col_rnd', 'row_rnd']).agg({\n",
    "    'ra': 'std',\n",
    "    'dec': 'std',\n",
    "    'response': 'mean'\n",
    "}).reset_index()\n",
    "\n",
    "counts = nf.groupby(['col_rnd', 'row_rnd']).size().reset_index(name='count')\n",
    "\n",
    "dispersion = pd.merge(dispersion, counts, on=['col_rnd', 'row_rnd'])\n",
    "\n",
    "ra_dec_disp = np.zeros((800, 800))\n",
    "\n",
    "ra_dec_disp[dispersion['col_rnd'], dispersion['row_rnd']] = dispersion['ra']+dispersion['dec']\n",
    "\n",
    "end_time = time.time()\n",
    "\n",
    "duration = end_time - start_time\n",
    "print(f\"it took {duration:.4f} seconds\")"
   ]
  },
  {
   "cell_type": "code",
   "execution_count": null,
   "id": "05e7ffd7",
   "metadata": {},
   "outputs": [],
   "source": [
    "### DISP ARRAY ### \n",
    "\n",
    "start_time = time.time()\n",
    "\n",
    "# making np array of dispersion ra / dec \n",
    "print(\"making dispersion array\")\n",
    "\n",
    "dispersion = dispersion[(dispersion['col_rnd']<800)&(dispersion['row_rnd']<800)]\n",
    "max_col = dispersion['col_rnd'].max()\n",
    "max_row = dispersion['row_rnd'].max()\n",
    "\n",
    "ra_dec_disp = np.zeros((800, 800))\n",
    "\n",
    "ra_dec_disp[dispersion['col_rnd'], dispersion['row_rnd']] = abs(dispersion['ra'])+abs(dispersion['dec'])\n",
    "\n",
    "end_time = time.time()\n",
    "\n",
    "duration = end_time - start_time\n",
    "print(f\"it took {duration:.4f} seconds\")"
   ]
  },
  {
   "cell_type": "code",
   "execution_count": null,
   "id": "6c685d0c",
   "metadata": {},
   "outputs": [],
   "source": [
    "### RESPONSE ARRAY ### \n",
    "\n",
    "start_time = time.time()\n",
    "\n",
    "# making np array of response\n",
    "print(\"making response array\")\n",
    "\n",
    "dispersion = dispersion[(dispersion['col_rnd']<800)&(dispersion['row_rnd']<800)]\n",
    "#max_col = dispersion['col_rnd'].max()\n",
    "#max_row = dispersion['row_rnd'].max()\n",
    "\n",
    "response_map = np.zeros((800, 800))\n",
    "\n",
    "response_map[dispersion['col_rnd'], dispersion['row_rnd']] = dispersion['response']\n",
    "\n",
    "end_time = time.time()\n",
    "\n",
    "duration = end_time - start_time\n",
    "print(f\"it took {duration:.4f} seconds\")"
   ]
  },
  {
   "cell_type": "code",
   "execution_count": null,
   "id": "6dbc7db9",
   "metadata": {},
   "outputs": [],
   "source": [
    "### MASKING ### \n",
    "\n",
    "start_time = time.time()\n",
    "print(\"masking\")\n",
    "\n",
    "# density mask\n",
    "density_mask = hist > 400 # not doing low density bc we have response, otherwise gets mixed with background\n",
    "\n",
    "# dispersion mask\n",
    "disp_mask = ra_dec_disp > .014\n",
    "\n",
    "# response map \n",
    "response_mask = response_map < .7 \n",
    "\n",
    "# combo mask\n",
    "result_array = np.zeros(hist.shape, dtype=int)+1\n",
    "\n",
    "result_array[density_mask & disp_mask] = 0\n",
    "result_array[response_mask] = 0\n",
    "\n",
    "# saving mask to fits \n",
    "hdu = fits.PrimaryHDU(result_array)\n",
    "hdul = fits.HDUList([hdu])\n",
    "hdul.writeto('mask.fits', overwrite=True)\n",
    "\n",
    "end_time = time.time()\n",
    "\n",
    "duration = end_time - start_time\n",
    "print(f\"it took {duration:.4f} seconds\")"
   ]
  },
  {
   "cell_type": "code",
   "execution_count": null,
   "id": "b2fcc42b",
   "metadata": {},
   "outputs": [],
   "source": [
    "bend = time.time()\n",
    "\n",
    "print(f\"total time: {bstart-bend}\")"
   ]
  },
  {
   "cell_type": "code",
   "execution_count": null,
   "id": "b663310c",
   "metadata": {
    "scrolled": true
   },
   "outputs": [],
   "source": [
    "plt.figure(figsize=(10,10))\n",
    "plt.imshow(ra_dec_disp, interpolation=None,origin='lower')\n",
    "plt.colorbar()\n"
   ]
  },
  {
   "cell_type": "code",
   "execution_count": null,
   "id": "e551bf99",
   "metadata": {},
   "outputs": [],
   "source": [
    "fig, ax = plt.subplots(figsize=(10, 10))\n",
    "\n",
    "plt.scatter(dispersion['ra']+dispersion['dec'],dispersion['count'],c='grey',s=0.5)\n",
    "plt.xlabel('ra / dec dispersion')\n",
    "plt.ylabel('count')\n"
   ]
  },
  {
   "cell_type": "code",
   "execution_count": null,
   "id": "557a9848",
   "metadata": {},
   "outputs": [],
   "source": []
  }
 ],
 "metadata": {
  "kernelspec": {
   "display_name": "Python 3 (ipykernel)",
   "language": "python",
   "name": "python3"
  },
  "language_info": {
   "codemirror_mode": {
    "name": "ipython",
    "version": 3
   },
   "file_extension": ".py",
   "mimetype": "text/x-python",
   "name": "python",
   "nbconvert_exporter": "python",
   "pygments_lexer": "ipython3",
   "version": "3.10.12"
  }
 },
 "nbformat": 4,
 "nbformat_minor": 5
}
