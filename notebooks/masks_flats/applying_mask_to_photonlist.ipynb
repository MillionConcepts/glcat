{
 "cells": [
  {
   "cell_type": "code",
   "execution_count": 1,
   "id": "ed068a98",
   "metadata": {},
   "outputs": [],
   "source": [
    "#import boto3\n",
    "from astropy.io import fits\n",
    "from io import BytesIO\n",
    "import sys\n",
    "import pandas as pd \n",
    "import numpy as np \n",
    "import os\n",
    "import matplotlib.pyplot as plt\n",
    "sys.path.append('/home/bekah/gPhoton2')\n",
    "from gPhoton.coadd import zero_flag_and_edge\n",
    "import pyarrow.parquet as parquet\n"
   ]
  },
  {
   "cell_type": "code",
   "execution_count": 2,
   "id": "395784a2",
   "metadata": {},
   "outputs": [],
   "source": [
    "def centile_clip(image, centiles=(0, 90)):\n",
    "    \"\"\"\n",
    "    simple clipping function that clips values above and below a given\n",
    "    percentile range\n",
    "    \"\"\"\n",
    "    import numpy as np\n",
    "    finite = np.ma.masked_invalid(image)\n",
    "    bounds = np.percentile(finite[~finite.mask].data, centiles)\n",
    "    result = np.ma.clip(finite, *bounds)\n",
    "\n",
    "    if isinstance(image, np.ma.MaskedArray):\n",
    "        return result\n",
    "\n",
    "    return result.data"
   ]
  },
  {
   "cell_type": "code",
   "execution_count": null,
   "id": "b5331f51",
   "metadata": {},
   "outputs": [],
   "source": [
    "# dose maps are made using what from photonlists? "
   ]
  },
  {
   "cell_type": "code",
   "execution_count": null,
   "id": "4a3dba6e",
   "metadata": {},
   "outputs": [],
   "source": [
    "# import mask at 2400 wide resolution \n",
    "# this was made with dose maps \n",
    "fuv_drawn = fits.open(\"/home/bekah/glcat/masks/drawn/fuv_drawn_mask.fits\")"
   ]
  },
  {
   "cell_type": "code",
   "execution_count": null,
   "id": "f8e85590",
   "metadata": {},
   "outputs": [],
   "source": [
    "# read in photonlist \n",
    "photons = parquet.read_table(\"/home/bekah/glcat/notebooks/masks_flats/e00834-fd-b00.parquet\").to_pandas()"
   ]
  },
  {
   "cell_type": "code",
   "execution_count": null,
   "id": "e0388eae",
   "metadata": {},
   "outputs": [],
   "source": [
    "photons = photons[(photons['detrad'] < 600)]"
   ]
  },
  {
   "cell_type": "code",
   "execution_count": null,
   "id": "d4ac5cb6",
   "metadata": {},
   "outputs": [],
   "source": [
    "plt.imshow(fuv_drawn[0].data,interpolation=None)"
   ]
  },
  {
   "cell_type": "code",
   "execution_count": null,
   "id": "266174e2",
   "metadata": {},
   "outputs": [],
   "source": [
    "def dosemap_ranges(radius):\n",
    "    slop = 400 - radius\n",
    "    return [slop, 3200 - slop], [slop, 3200 - slop]\n",
    "\n",
    "x, y = dosemap_ranges(600)"
   ]
  },
  {
   "cell_type": "code",
   "execution_count": null,
   "id": "0d64424e",
   "metadata": {},
   "outputs": [],
   "source": [
    "x"
   ]
  },
  {
   "cell_type": "code",
   "execution_count": null,
   "id": "e110c291",
   "metadata": {},
   "outputs": [],
   "source": [
    "photons['col_rounded'] = photons['col'].round().astype(int)*4 # x \n",
    "photons['row_rounded'] = photons['row'].round().astype(int)*4 # y "
   ]
  },
  {
   "cell_type": "code",
   "execution_count": null,
   "id": "997b99d5",
   "metadata": {},
   "outputs": [],
   "source": [
    "photons = photons[(photons['col_rounded'] >= -200) & (photons['row_rounded'] <= 3400) & (photons['row_rounded'] >= -200) & (photons['col_rounded'] <= 3400)]"
   ]
  },
  {
   "cell_type": "code",
   "execution_count": null,
   "id": "5e1e711a",
   "metadata": {},
   "outputs": [],
   "source": [
    "plt.imshow(fuv_drawn[0].data,interpolation=None, origin='lower', cmap='grey')\n",
    "plt.scatter(photons['col']*(16/3)+200*(4/3),photons['row']*(16/3)+200*(4/3),s=.00005)\n"
   ]
  },
  {
   "cell_type": "code",
   "execution_count": null,
   "id": "2ecb87a0",
   "metadata": {},
   "outputs": [],
   "source": [
    "mask = fuv_drawn[0].data[photons['col'], photons['row']] == 1\n",
    "photons['is_one'] = mask"
   ]
  },
  {
   "cell_type": "code",
   "execution_count": null,
   "id": "efa118e4",
   "metadata": {},
   "outputs": [],
   "source": [
    "plt.scatter(photons['row']*(16/3)+200*(4/3),photons['col']*(16/3)+200*(4/3),s=.00005)\n"
   ]
  },
  {
   "cell_type": "code",
   "execution_count": null,
   "id": "f49965ae",
   "metadata": {},
   "outputs": [],
   "source": [
    "3316*(4/3)+200"
   ]
  },
  {
   "cell_type": "code",
   "execution_count": null,
   "id": "a0135981",
   "metadata": {},
   "outputs": [],
   "source": [
    "(photons['row']*(16/3)+200*(4/3)).describe()"
   ]
  },
  {
   "cell_type": "code",
   "execution_count": null,
   "id": "c053001f",
   "metadata": {},
   "outputs": [],
   "source": [
    "-*4/3"
   ]
  },
  {
   "cell_type": "code",
   "execution_count": null,
   "id": "d79adabc",
   "metadata": {},
   "outputs": [],
   "source": [
    "(photons['col']).describe()"
   ]
  },
  {
   "cell_type": "code",
   "execution_count": null,
   "id": "2475775d",
   "metadata": {},
   "outputs": [],
   "source": [
    "-200*(4/3)"
   ]
  },
  {
   "cell_type": "code",
   "execution_count": null,
   "id": "175af343",
   "metadata": {},
   "outputs": [],
   "source": [
    "plt.scatter((photons['col_rounded']*4/3),(photons['row_rounded']*4/3))"
   ]
  },
  {
   "cell_type": "code",
   "execution_count": null,
   "id": "9773e3b5",
   "metadata": {},
   "outputs": [],
   "source": [
    "plt.scatter((photons['col_rounded']*4/3)+300,(photons['row_rounded']*4/3)+300)"
   ]
  },
  {
   "cell_type": "code",
   "execution_count": null,
   "id": "ead00ae9",
   "metadata": {},
   "outputs": [],
   "source": [
    "nf = parquet.read_table(\"/home/bekah/gPhoton2/test_data/e23456/e23456-nd-b00.parquet\").to_pandas()"
   ]
  },
  {
   "cell_type": "code",
   "execution_count": null,
   "id": "4344b601",
   "metadata": {},
   "outputs": [],
   "source": [
    "plt.scatter(nf['y'],nf['detrad'],s=.5)"
   ]
  },
  {
   "cell_type": "code",
   "execution_count": null,
   "id": "0059994c",
   "metadata": {},
   "outputs": [],
   "source": [
    "plt.scatter(nf['row'],nf['col'],c=nf['detrad'],s=.5,cmap='grey')"
   ]
  },
  {
   "cell_type": "code",
   "execution_count": null,
   "id": "aeb3cceb",
   "metadata": {},
   "outputs": [],
   "source": [
    "nf['col_rounded'] = nf['col'].astype(int)*4 # x \n",
    "nf['row_rounded'] = nf['row'].astype(int)*4 # y "
   ]
  },
  {
   "cell_type": "code",
   "execution_count": null,
   "id": "119d4199",
   "metadata": {},
   "outputs": [],
   "source": [
    "nf = nf[(nf['col_rounded'] >= -200) & (nf['row_rounded'] <= 3400) & (nf['row_rounded'] >= -200) & (nf['col_rounded'] <= 3400)]"
   ]
  },
  {
   "cell_type": "code",
   "execution_count": null,
   "id": "d1392265",
   "metadata": {},
   "outputs": [],
   "source": [
    "plt.imshow(nuv_drawn[0].data,interpolation=None, origin='lower')\n",
    "plt.scatter(nf['row']*(16/3)+200*(4/3),nf['col']*(16/3)+200*(4/3),s=.00005)\n"
   ]
  },
  {
   "cell_type": "code",
   "execution_count": null,
   "id": "b583df76",
   "metadata": {},
   "outputs": [],
   "source": [
    "plt.hist(nf['row'])"
   ]
  },
  {
   "cell_type": "code",
   "execution_count": null,
   "id": "a0394e3e",
   "metadata": {},
   "outputs": [],
   "source": [
    "(nf['col']*(16/3)+200*(4/3)).describe()"
   ]
  },
  {
   "cell_type": "code",
   "execution_count": null,
   "id": "54bbb4d5",
   "metadata": {},
   "outputs": [],
   "source": [
    "photons['col'].describe()"
   ]
  },
  {
   "cell_type": "code",
   "execution_count": 3,
   "id": "2622aebf",
   "metadata": {},
   "outputs": [
    {
     "ename": "FileNotFoundError",
     "evalue": "[Errno 2] No such file or directory: '/media/bekah/BekahA/hotspot/drawn/nuv_spots.fits'",
     "output_type": "error",
     "traceback": [
      "\u001b[0;31m---------------------------------------------------------------------------\u001b[0m",
      "\u001b[0;31mFileNotFoundError\u001b[0m                         Traceback (most recent call last)",
      "Cell \u001b[0;32mIn[3], line 1\u001b[0m\n\u001b[0;32m----> 1\u001b[0m nuv_drawn \u001b[38;5;241m=\u001b[39m \u001b[43mfits\u001b[49m\u001b[38;5;241;43m.\u001b[39;49m\u001b[43mopen\u001b[49m\u001b[43m(\u001b[49m\u001b[38;5;124;43m\"\u001b[39;49m\u001b[38;5;124;43m/media/bekah/BekahA/hotspot/drawn/nuv_spots.fits\u001b[39;49m\u001b[38;5;124;43m\"\u001b[39;49m\u001b[43m)\u001b[49m\n",
      "File \u001b[0;32m~/mambaforge/envs/gphoton2/lib/python3.10/site-packages/astropy/io/fits/hdu/hdulist.py:213\u001b[0m, in \u001b[0;36mfitsopen\u001b[0;34m(name, mode, memmap, save_backup, cache, lazy_load_hdus, ignore_missing_simple, use_fsspec, fsspec_kwargs, **kwargs)\u001b[0m\n\u001b[1;32m    210\u001b[0m \u001b[38;5;28;01mif\u001b[39;00m \u001b[38;5;129;01mnot\u001b[39;00m name:\n\u001b[1;32m    211\u001b[0m     \u001b[38;5;28;01mraise\u001b[39;00m \u001b[38;5;167;01mValueError\u001b[39;00m(\u001b[38;5;124mf\u001b[39m\u001b[38;5;124m\"\u001b[39m\u001b[38;5;124mEmpty filename: \u001b[39m\u001b[38;5;132;01m{\u001b[39;00mname\u001b[38;5;132;01m!r}\u001b[39;00m\u001b[38;5;124m\"\u001b[39m)\n\u001b[0;32m--> 213\u001b[0m \u001b[38;5;28;01mreturn\u001b[39;00m \u001b[43mHDUList\u001b[49m\u001b[38;5;241;43m.\u001b[39;49m\u001b[43mfromfile\u001b[49m\u001b[43m(\u001b[49m\n\u001b[1;32m    214\u001b[0m \u001b[43m    \u001b[49m\u001b[43mname\u001b[49m\u001b[43m,\u001b[49m\n\u001b[1;32m    215\u001b[0m \u001b[43m    \u001b[49m\u001b[43mmode\u001b[49m\u001b[43m,\u001b[49m\n\u001b[1;32m    216\u001b[0m \u001b[43m    \u001b[49m\u001b[43mmemmap\u001b[49m\u001b[43m,\u001b[49m\n\u001b[1;32m    217\u001b[0m \u001b[43m    \u001b[49m\u001b[43msave_backup\u001b[49m\u001b[43m,\u001b[49m\n\u001b[1;32m    218\u001b[0m \u001b[43m    \u001b[49m\u001b[43mcache\u001b[49m\u001b[43m,\u001b[49m\n\u001b[1;32m    219\u001b[0m \u001b[43m    \u001b[49m\u001b[43mlazy_load_hdus\u001b[49m\u001b[43m,\u001b[49m\n\u001b[1;32m    220\u001b[0m \u001b[43m    \u001b[49m\u001b[43mignore_missing_simple\u001b[49m\u001b[43m,\u001b[49m\n\u001b[1;32m    221\u001b[0m \u001b[43m    \u001b[49m\u001b[43muse_fsspec\u001b[49m\u001b[38;5;241;43m=\u001b[39;49m\u001b[43muse_fsspec\u001b[49m\u001b[43m,\u001b[49m\n\u001b[1;32m    222\u001b[0m \u001b[43m    \u001b[49m\u001b[43mfsspec_kwargs\u001b[49m\u001b[38;5;241;43m=\u001b[39;49m\u001b[43mfsspec_kwargs\u001b[49m\u001b[43m,\u001b[49m\n\u001b[1;32m    223\u001b[0m \u001b[43m    \u001b[49m\u001b[38;5;241;43m*\u001b[39;49m\u001b[38;5;241;43m*\u001b[39;49m\u001b[43mkwargs\u001b[49m\u001b[43m,\u001b[49m\n\u001b[1;32m    224\u001b[0m \u001b[43m\u001b[49m\u001b[43m)\u001b[49m\n",
      "File \u001b[0;32m~/mambaforge/envs/gphoton2/lib/python3.10/site-packages/astropy/io/fits/hdu/hdulist.py:476\u001b[0m, in \u001b[0;36mHDUList.fromfile\u001b[0;34m(cls, fileobj, mode, memmap, save_backup, cache, lazy_load_hdus, ignore_missing_simple, **kwargs)\u001b[0m\n\u001b[1;32m    457\u001b[0m \u001b[38;5;129m@classmethod\u001b[39m\n\u001b[1;32m    458\u001b[0m \u001b[38;5;28;01mdef\u001b[39;00m \u001b[38;5;21mfromfile\u001b[39m(\n\u001b[1;32m    459\u001b[0m     \u001b[38;5;28mcls\u001b[39m,\n\u001b[0;32m   (...)\u001b[0m\n\u001b[1;32m    467\u001b[0m     \u001b[38;5;241m*\u001b[39m\u001b[38;5;241m*\u001b[39mkwargs,\n\u001b[1;32m    468\u001b[0m ):\n\u001b[1;32m    469\u001b[0m     \u001b[38;5;124;03m\"\"\"\u001b[39;00m\n\u001b[1;32m    470\u001b[0m \u001b[38;5;124;03m    Creates an `HDUList` instance from a file-like object.\u001b[39;00m\n\u001b[1;32m    471\u001b[0m \n\u001b[0;32m   (...)\u001b[0m\n\u001b[1;32m    474\u001b[0m \u001b[38;5;124;03m    documentation for details of the parameters accepted by this method).\u001b[39;00m\n\u001b[1;32m    475\u001b[0m \u001b[38;5;124;03m    \"\"\"\u001b[39;00m\n\u001b[0;32m--> 476\u001b[0m     \u001b[38;5;28;01mreturn\u001b[39;00m \u001b[38;5;28;43mcls\u001b[39;49m\u001b[38;5;241;43m.\u001b[39;49m\u001b[43m_readfrom\u001b[49m\u001b[43m(\u001b[49m\n\u001b[1;32m    477\u001b[0m \u001b[43m        \u001b[49m\u001b[43mfileobj\u001b[49m\u001b[38;5;241;43m=\u001b[39;49m\u001b[43mfileobj\u001b[49m\u001b[43m,\u001b[49m\n\u001b[1;32m    478\u001b[0m \u001b[43m        \u001b[49m\u001b[43mmode\u001b[49m\u001b[38;5;241;43m=\u001b[39;49m\u001b[43mmode\u001b[49m\u001b[43m,\u001b[49m\n\u001b[1;32m    479\u001b[0m \u001b[43m        \u001b[49m\u001b[43mmemmap\u001b[49m\u001b[38;5;241;43m=\u001b[39;49m\u001b[43mmemmap\u001b[49m\u001b[43m,\u001b[49m\n\u001b[1;32m    480\u001b[0m \u001b[43m        \u001b[49m\u001b[43msave_backup\u001b[49m\u001b[38;5;241;43m=\u001b[39;49m\u001b[43msave_backup\u001b[49m\u001b[43m,\u001b[49m\n\u001b[1;32m    481\u001b[0m \u001b[43m        \u001b[49m\u001b[43mcache\u001b[49m\u001b[38;5;241;43m=\u001b[39;49m\u001b[43mcache\u001b[49m\u001b[43m,\u001b[49m\n\u001b[1;32m    482\u001b[0m \u001b[43m        \u001b[49m\u001b[43mignore_missing_simple\u001b[49m\u001b[38;5;241;43m=\u001b[39;49m\u001b[43mignore_missing_simple\u001b[49m\u001b[43m,\u001b[49m\n\u001b[1;32m    483\u001b[0m \u001b[43m        \u001b[49m\u001b[43mlazy_load_hdus\u001b[49m\u001b[38;5;241;43m=\u001b[39;49m\u001b[43mlazy_load_hdus\u001b[49m\u001b[43m,\u001b[49m\n\u001b[1;32m    484\u001b[0m \u001b[43m        \u001b[49m\u001b[38;5;241;43m*\u001b[39;49m\u001b[38;5;241;43m*\u001b[39;49m\u001b[43mkwargs\u001b[49m\u001b[43m,\u001b[49m\n\u001b[1;32m    485\u001b[0m \u001b[43m    \u001b[49m\u001b[43m)\u001b[49m\n",
      "File \u001b[0;32m~/mambaforge/envs/gphoton2/lib/python3.10/site-packages/astropy/io/fits/hdu/hdulist.py:1146\u001b[0m, in \u001b[0;36mHDUList._readfrom\u001b[0;34m(cls, fileobj, data, mode, memmap, cache, lazy_load_hdus, ignore_missing_simple, use_fsspec, fsspec_kwargs, **kwargs)\u001b[0m\n\u001b[1;32m   1143\u001b[0m \u001b[38;5;28;01mif\u001b[39;00m fileobj \u001b[38;5;129;01mis\u001b[39;00m \u001b[38;5;129;01mnot\u001b[39;00m \u001b[38;5;28;01mNone\u001b[39;00m:\n\u001b[1;32m   1144\u001b[0m     \u001b[38;5;28;01mif\u001b[39;00m \u001b[38;5;129;01mnot\u001b[39;00m \u001b[38;5;28misinstance\u001b[39m(fileobj, _File):\n\u001b[1;32m   1145\u001b[0m         \u001b[38;5;66;03m# instantiate a FITS file object (ffo)\u001b[39;00m\n\u001b[0;32m-> 1146\u001b[0m         fileobj \u001b[38;5;241m=\u001b[39m \u001b[43m_File\u001b[49m\u001b[43m(\u001b[49m\n\u001b[1;32m   1147\u001b[0m \u001b[43m            \u001b[49m\u001b[43mfileobj\u001b[49m\u001b[43m,\u001b[49m\n\u001b[1;32m   1148\u001b[0m \u001b[43m            \u001b[49m\u001b[43mmode\u001b[49m\u001b[38;5;241;43m=\u001b[39;49m\u001b[43mmode\u001b[49m\u001b[43m,\u001b[49m\n\u001b[1;32m   1149\u001b[0m \u001b[43m            \u001b[49m\u001b[43mmemmap\u001b[49m\u001b[38;5;241;43m=\u001b[39;49m\u001b[43mmemmap\u001b[49m\u001b[43m,\u001b[49m\n\u001b[1;32m   1150\u001b[0m \u001b[43m            \u001b[49m\u001b[43mcache\u001b[49m\u001b[38;5;241;43m=\u001b[39;49m\u001b[43mcache\u001b[49m\u001b[43m,\u001b[49m\n\u001b[1;32m   1151\u001b[0m \u001b[43m            \u001b[49m\u001b[43muse_fsspec\u001b[49m\u001b[38;5;241;43m=\u001b[39;49m\u001b[43muse_fsspec\u001b[49m\u001b[43m,\u001b[49m\n\u001b[1;32m   1152\u001b[0m \u001b[43m            \u001b[49m\u001b[43mfsspec_kwargs\u001b[49m\u001b[38;5;241;43m=\u001b[39;49m\u001b[43mfsspec_kwargs\u001b[49m\u001b[43m,\u001b[49m\n\u001b[1;32m   1153\u001b[0m \u001b[43m        \u001b[49m\u001b[43m)\u001b[49m\n\u001b[1;32m   1154\u001b[0m     \u001b[38;5;66;03m# The Astropy mode is determined by the _File initializer if the\u001b[39;00m\n\u001b[1;32m   1155\u001b[0m     \u001b[38;5;66;03m# supplied mode was None\u001b[39;00m\n\u001b[1;32m   1156\u001b[0m     mode \u001b[38;5;241m=\u001b[39m fileobj\u001b[38;5;241m.\u001b[39mmode\n",
      "File \u001b[0;32m~/mambaforge/envs/gphoton2/lib/python3.10/site-packages/astropy/io/fits/file.py:217\u001b[0m, in \u001b[0;36m_File.__init__\u001b[0;34m(self, fileobj, mode, memmap, overwrite, cache, use_fsspec, fsspec_kwargs)\u001b[0m\n\u001b[1;32m    215\u001b[0m     \u001b[38;5;28mself\u001b[39m\u001b[38;5;241m.\u001b[39m_open_fileobj(fileobj, mode, overwrite)\n\u001b[1;32m    216\u001b[0m \u001b[38;5;28;01melif\u001b[39;00m \u001b[38;5;28misinstance\u001b[39m(fileobj, (\u001b[38;5;28mstr\u001b[39m, \u001b[38;5;28mbytes\u001b[39m)):\n\u001b[0;32m--> 217\u001b[0m     \u001b[38;5;28;43mself\u001b[39;49m\u001b[38;5;241;43m.\u001b[39;49m\u001b[43m_open_filename\u001b[49m\u001b[43m(\u001b[49m\u001b[43mfileobj\u001b[49m\u001b[43m,\u001b[49m\u001b[43m \u001b[49m\u001b[43mmode\u001b[49m\u001b[43m,\u001b[49m\u001b[43m \u001b[49m\u001b[43moverwrite\u001b[49m\u001b[43m)\u001b[49m\n\u001b[1;32m    218\u001b[0m \u001b[38;5;28;01melse\u001b[39;00m:\n\u001b[1;32m    219\u001b[0m     \u001b[38;5;28mself\u001b[39m\u001b[38;5;241m.\u001b[39m_open_filelike(fileobj, mode, overwrite)\n",
      "File \u001b[0;32m~/mambaforge/envs/gphoton2/lib/python3.10/site-packages/astropy/io/fits/file.py:626\u001b[0m, in \u001b[0;36m_File._open_filename\u001b[0;34m(self, filename, mode, overwrite)\u001b[0m\n\u001b[1;32m    623\u001b[0m ext \u001b[38;5;241m=\u001b[39m os\u001b[38;5;241m.\u001b[39mpath\u001b[38;5;241m.\u001b[39msplitext(\u001b[38;5;28mself\u001b[39m\u001b[38;5;241m.\u001b[39mname)[\u001b[38;5;241m1\u001b[39m]\n\u001b[1;32m    625\u001b[0m \u001b[38;5;28;01mif\u001b[39;00m \u001b[38;5;129;01mnot\u001b[39;00m \u001b[38;5;28mself\u001b[39m\u001b[38;5;241m.\u001b[39m_try_read_compressed(\u001b[38;5;28mself\u001b[39m\u001b[38;5;241m.\u001b[39mname, magic, mode, ext\u001b[38;5;241m=\u001b[39mext):\n\u001b[0;32m--> 626\u001b[0m     \u001b[38;5;28mself\u001b[39m\u001b[38;5;241m.\u001b[39m_file \u001b[38;5;241m=\u001b[39m \u001b[38;5;28;43mopen\u001b[39;49m\u001b[43m(\u001b[49m\u001b[38;5;28;43mself\u001b[39;49m\u001b[38;5;241;43m.\u001b[39;49m\u001b[43mname\u001b[49m\u001b[43m,\u001b[49m\u001b[43m \u001b[49m\u001b[43mIO_FITS_MODES\u001b[49m\u001b[43m[\u001b[49m\u001b[43mmode\u001b[49m\u001b[43m]\u001b[49m\u001b[43m)\u001b[49m\n\u001b[1;32m    627\u001b[0m     \u001b[38;5;28mself\u001b[39m\u001b[38;5;241m.\u001b[39mclose_on_error \u001b[38;5;241m=\u001b[39m \u001b[38;5;28;01mTrue\u001b[39;00m\n\u001b[1;32m    629\u001b[0m \u001b[38;5;66;03m# Make certain we're back at the beginning of the file\u001b[39;00m\n\u001b[1;32m    630\u001b[0m \u001b[38;5;66;03m# BZ2File does not support seek when the file is open for writing, but\u001b[39;00m\n\u001b[1;32m    631\u001b[0m \u001b[38;5;66;03m# when opening a file for write, bz2.BZ2File always truncates anyway.\u001b[39;00m\n",
      "\u001b[0;31mFileNotFoundError\u001b[0m: [Errno 2] No such file or directory: '/media/bekah/BekahA/hotspot/drawn/nuv_spots.fits'"
     ]
    }
   ],
   "source": [
    "nuv_drawn = fits.open(\"/media/bekah/BekahA/hotspot/drawn/nuv_spots.fits\")"
   ]
  },
  {
   "cell_type": "code",
   "execution_count": null,
   "id": "31f529a4",
   "metadata": {},
   "outputs": [],
   "source": [
    "photons['row'].describe()"
   ]
  },
  {
   "cell_type": "code",
   "execution_count": null,
   "id": "974e8c4c",
   "metadata": {
    "scrolled": true
   },
   "outputs": [],
   "source": [
    "plt.hist(photons['row'])"
   ]
  },
  {
   "cell_type": "code",
   "execution_count": null,
   "id": "1003e1de",
   "metadata": {},
   "outputs": [],
   "source": [
    "nuv_im = fits.open(\"/home/bekah/gPhoton2/test_data/e23456-nd-b00-f3000-t00000-g_dose.fits.gz\")"
   ]
  },
  {
   "cell_type": "code",
   "execution_count": null,
   "id": "717a62f2",
   "metadata": {},
   "outputs": [],
   "source": [
    "nf = parquet.read_table(\"/home/bekah/gPhoton2/test_data/e23456/e23456-nd-b00.parquet\").to_pandas()"
   ]
  },
  {
   "cell_type": "code",
   "execution_count": null,
   "id": "d59b739f",
   "metadata": {},
   "outputs": [],
   "source": [
    "nf = nf[(nf['row']*4 >= -200) & (nf['row']*4 <= 3400) & (nf['col']*4 >= -200) & (nf['col']*4 <= 3400)]"
   ]
  },
  {
   "cell_type": "code",
   "execution_count": null,
   "id": "85a28c09",
   "metadata": {
    "scrolled": true
   },
   "outputs": [],
   "source": [
    "plt.scatter(nf['row']*(16/3)+200*(4/3),nf['col']*(16/3)+200*(4/3),s=.00005, c='red',alpha=1)\n",
    "plt.imshow(centile_clip(nuv_im[0].data), interpolation=None, origin='lower',alpha=.5)\n",
    "plt.savefig('overlay.png')"
   ]
  },
  {
   "cell_type": "code",
   "execution_count": null,
   "id": "5f493073",
   "metadata": {},
   "outputs": [],
   "source": [
    "plt.imshow(centile_clip(nuv_im[0].data), origin='lower')\n"
   ]
  },
  {
   "cell_type": "code",
   "execution_count": null,
   "id": "87796b64",
   "metadata": {},
   "outputs": [],
   "source": [
    "plt.subplots(figsize=(10, 10))\n",
    "plt.scatter(nf['col']*(16/3)+200*(4/3),nf['row']*(16/3)+200*(4/3),s=.00005, c='red',alpha=.2)\n",
    "plt.imshow(centile_clip(nuv_im[0].data), interpolation=None, origin='lower',alpha=.5)"
   ]
  },
  {
   "cell_type": "code",
   "execution_count": null,
   "id": "8c77924f",
   "metadata": {},
   "outputs": [],
   "source": [
    "# ok so I think I've finally figured out how to match up col and row to the dose maps lmao it only took several days \n",
    "nf['col']*(16/3)+200*(4/3),nf['row']*(16/3)+200*(4/3)"
   ]
  }
 ],
 "metadata": {
  "kernelspec": {
   "display_name": "Python 3 (ipykernel)",
   "language": "python",
   "name": "python3"
  },
  "language_info": {
   "codemirror_mode": {
    "name": "ipython",
    "version": 3
   },
   "file_extension": ".py",
   "mimetype": "text/x-python",
   "name": "python",
   "nbconvert_exporter": "python",
   "pygments_lexer": "ipython3",
   "version": "3.10.12"
  }
 },
 "nbformat": 4,
 "nbformat_minor": 5
}
