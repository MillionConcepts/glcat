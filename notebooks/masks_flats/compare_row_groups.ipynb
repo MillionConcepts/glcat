{
 "cells": [
  {
   "cell_type": "code",
   "execution_count": null,
   "id": "4d443b98",
   "metadata": {},
   "outputs": [],
   "source": [
    "import pandas as pd \n",
    "import numpy as np \n",
    "import matplotlib.pyplot as plt\n",
    "import pyarrow.parquet as parquet\n",
    "import fast_histogram as fh\n",
    "import time\n",
    "from quickbin import bin2d\n",
    "from astropy.io import fits"
   ]
  },
  {
   "cell_type": "code",
   "execution_count": null,
   "id": "c6ed8f76",
   "metadata": {},
   "outputs": [],
   "source": [
    "nf = parquet.read_table(\"/home/bekah/gPhoton2/test_data/e23456/e23456-nd-b00_norowgroup.parquet\",\n",
    "                        columns=['col', 'row', 'ra', 'dec', 't', 'q'],  filters=[('col','>',0),('row','>',0),('col','<',800),('row','<',800)]).to_pandas()"
   ]
  },
  {
   "cell_type": "code",
   "execution_count": null,
   "id": "784b7d57",
   "metadata": {},
   "outputs": [],
   "source": [
    "nfrg = parquet.read_table(\"/home/bekah/gPhoton2/test_data/e23456/e23456-nd-b00.parquet\", \n",
    "                            columns=['col', 'row', 'ra', 'dec', 't'], filters=[('col','>',-50)])\n"
   ]
  },
  {
   "cell_type": "code",
   "execution_count": null,
   "id": "f05a8103",
   "metadata": {},
   "outputs": [],
   "source": [
    "nfrg = parquet.ParquetFile(\"/home/bekah/gPhoton2/test_data/e23456/e23456-nd-b00.parquet\")"
   ]
  },
  {
   "cell_type": "code",
   "execution_count": null,
   "id": "817c885a",
   "metadata": {},
   "outputs": [],
   "source": [
    "nfrg.metadata.num_rows\n"
   ]
  },
  {
   "cell_type": "code",
   "execution_count": null,
   "id": "1df70eba",
   "metadata": {},
   "outputs": [],
   "source": [
    "nf = parquet.read_table(\"/home/bekah/Downloads/e01431-nd-b01.parquet\",columns=['col', 'row', 'ra', 'dec', 't', 'q'],  filters=[('col','>',0),('row','>',0),('col','<',800),('row','<',800)]).to_pandas()"
   ]
  },
  {
   "cell_type": "code",
   "execution_count": null,
   "id": "d4b6504e",
   "metadata": {},
   "outputs": [],
   "source": [
    "10.2 - 9"
   ]
  },
  {
   "cell_type": "code",
   "execution_count": null,
   "id": "0c3ce2bd",
   "metadata": {},
   "outputs": [],
   "source": [
    "11.2 - 9"
   ]
  },
  {
   "cell_type": "code",
   "execution_count": null,
   "id": "a8e48ea6",
   "metadata": {},
   "outputs": [],
   "source": [
    "11.4 - 7.8"
   ]
  },
  {
   "cell_type": "code",
   "execution_count": null,
   "id": "071cea49",
   "metadata": {},
   "outputs": [],
   "source": [
    "3.6 - 2.2"
   ]
  },
  {
   "cell_type": "code",
   "execution_count": null,
   "id": "4a7bb7c6",
   "metadata": {},
   "outputs": [],
   "source": [
    "from quickbin import bin2d\n",
    "from astropy.io import fits\n",
    "\n",
    "#nf = parquet.read_table(\"/home/bekah/Downloads/e01431-nd-b1.parquet\",columns=['col', 'row', 'ra', 'dec', 't', 'q','flags'],  filters=[('col','>',0),('row','>',0),('col','<',800),('row','<',800)]).to_pandas()\n",
    "\n",
    "leg = 1\n",
    "eclipse = 1431 \n",
    "\n",
    "data = bin2d(nf['col'],nf['row'],nf['ra'],n_bins=800,op=('count'))\n",
    "new_hdu = fits.PrimaryHDU(data=data)\n",
    "new_hdu.writeto(f\"e0{eclipse}_b{leg}_ra_count.fits\", overwrite=True)\n",
    "data = bin2d(nf['col'],nf['row'],nf['q'],n_bins=800,op=('mean','std'))\n",
    "new_hdu = fits.PrimaryHDU(data=data['mean'])\n",
    "new_hdu.writeto(f\"e0{eclipse}_b{leg}_q_mean.fits\", overwrite=True)\n",
    "new_hdu = fits.PrimaryHDU(data=data['std'])\n",
    "new_hdu.writeto(f\"e0{eclipse}_b{leg}_q_std.fits\", overwrite=True)"
   ]
  },
  {
   "cell_type": "code",
   "execution_count": null,
   "id": "c320f7ba",
   "metadata": {},
   "outputs": [],
   "source": [
    "nf = parquet.read_table(\"/home/bekah/gPhoton2/test_data/e01431/e01431-nd-b01.parquet\",columns=['col', 'row', 'ra', 'dec', 't', 'q','flags'],  filters=[('col','>',0),('row','>',0),('col','<',800),('row','<',800),('flags','=',0)]).to_pandas()\n"
   ]
  },
  {
   "cell_type": "code",
   "execution_count": null,
   "id": "5307abbf",
   "metadata": {},
   "outputs": [],
   "source": [
    "flags = bin2d(nf['col'],nf['row'],nf['flags'],n_bins=800,op=('min'))\n",
    "#new_hdu = fits.PrimaryHDU(data=data)\n",
    "#new_hdu.writeto(f\"e01431_b01_ra_max.fits\", overwrite=True)\n",
    "mean_q = bin2d(nf['col'],nf['row'],nf['q'],n_bins=800,op=('mean'))\n",
    "mean_t = bin2d(nf['col'],nf['row'],nf['t'],n_bins=800,op=('mean'))\n",
    "count = bin2d(nf['col'],nf['row'],nf['ra'],n_bins=800,op=('count'))\n"
   ]
  },
  {
   "cell_type": "code",
   "execution_count": null,
   "id": "cbee8dbd",
   "metadata": {},
   "outputs": [],
   "source": [
    "new_hdu = fits.PrimaryHDU(data=flags)\n",
    "new_hdu.writeto(f\"b01_flags_sum.fits\", overwrite=True)"
   ]
  },
  {
   "cell_type": "code",
   "execution_count": null,
   "id": "24da6127",
   "metadata": {},
   "outputs": [],
   "source": [
    "names = ['e01431-nd-b01-ffull-image-r.fits', 'e01431-nd-b04-ffull-image-r.fits', 'e01431-nd-b08-ffull-image-r.fits', 'e01431-nd-b11-ffull-image-r.fits']\n",
    "\n",
    "for i in names: \n",
    "    path = \"/home/bekah/gPhoton2/test_data/e01431/\"+i \n",
    "    data = fits.open(path)\n",
    "    cnt = data[1].data\n",
    "    flg = data[2].data\n",
    "    mask = data[3].data\n",
    "    new_hdu = fits.PrimaryHDU(data=cnt)\n",
    "    new_hdu.writeto(f\"{i[0:14]}_count.fits\", overwrite=True)\n",
    "    new_hdu = fits.PrimaryHDU(data=flg)\n",
    "    new_hdu.writeto(f\"{i[0:14]}_flag.fits\", overwrite=True)\n",
    "    new_hdu = fits.PrimaryHDU(data=mask)\n",
    "    new_hdu.writeto(f\"{i[0:14]}_mask.fits\", overwrite=True)"
   ]
  },
  {
   "cell_type": "code",
   "execution_count": null,
   "id": "76b86c63",
   "metadata": {},
   "outputs": [],
   "source": [
    "plt.scatter(np.ravel(mean_ra),np.ravel(mean_q),s=.02)"
   ]
  },
  {
   "cell_type": "code",
   "execution_count": null,
   "id": "aa3cda1c",
   "metadata": {},
   "outputs": [],
   "source": [
    "plt.scatter(nf['row'],nf['q'],s=.02)"
   ]
  },
  {
   "cell_type": "code",
   "execution_count": null,
   "id": "758ef8d4",
   "metadata": {},
   "outputs": [],
   "source": [
    "legs = ['00','01','02','03','04','05','06','07','08','09','10','11']\n",
    "\n",
    "df = pd.DataFrame()\n",
    "\n",
    "for leg in legs: \n",
    "    nf = parquet.read_table(f\"/home/bekah/gPhoton2/test_data/e01431/e01431-nd-b{leg}.parquet\",columns=['col', 'row', 'ra', 'dec', 't', 'q','flags'],  filters=[('col','>',0),('row','>',0),('col','<',800),('row','<',800),('flags','=',0)]).to_pandas()\n",
    "    df = pd.concat([df, nf], ignore_index=True)\n",
    "\n",
    "count = bin2d(df['col'],df['row'],df['ra'],n_bins=800,op=('count'))\n",
    "mean_q = bin2d(df['col'],df['row'],df['q'],n_bins=800,op=('mean'))\n",
    "std_q = bin2d(df['col'],df['row'],df['q'],n_bins=800,op=('std'))\n",
    "\n",
    "new_hdu = fits.PrimaryHDU(data=count)\n",
    "new_hdu.writeto(f\"all_count.fits\", overwrite=True)\n",
    "      \n",
    "new_hdu = fits.PrimaryHDU(data=mean_q)\n",
    "new_hdu.writeto(f\"all_meanq.fits\", overwrite=True)\n",
    "                    \n",
    "new_hdu = fits.PrimaryHDU(data=std_q)\n",
    "new_hdu.writeto(f\"all_stdq.fits\", overwrite=True)"
   ]
  },
  {
   "cell_type": "code",
   "execution_count": null,
   "id": "d183ff39",
   "metadata": {},
   "outputs": [],
   "source": [
    "min_q = bin2d(df['col'],df['row'],df['q'],n_bins=800,op=('max'))\n",
    "median_ra = bin2d(df['col'],df['row'],df['ra'],n_bins=800,op=('mean'))\n",
    "\n",
    "new_hdu = fits.PrimaryHDU(data=median_ra)\n",
    "new_hdu.writeto(f\"all_medianra.fits\", overwrite=True)\n",
    "      \n",
    "new_hdu = fits.PrimaryHDU(data=min_q)\n",
    "new_hdu.writeto(f\"all_minq.fits\", overwrite=True)"
   ]
  },
  {
   "cell_type": "code",
   "execution_count": null,
   "id": "7fce5bf3",
   "metadata": {},
   "outputs": [],
   "source": []
  }
 ],
 "metadata": {
  "kernelspec": {
   "display_name": "Python 3 (ipykernel)",
   "language": "python",
   "name": "python3"
  },
  "language_info": {
   "codemirror_mode": {
    "name": "ipython",
    "version": 3
   },
   "file_extension": ".py",
   "mimetype": "text/x-python",
   "name": "python",
   "nbconvert_exporter": "python",
   "pygments_lexer": "ipython3",
   "version": "3.11.6"
  }
 },
 "nbformat": 4,
 "nbformat_minor": 5
}
