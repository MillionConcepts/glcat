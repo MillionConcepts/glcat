{
 "cells": [
  {
   "cell_type": "code",
   "execution_count": 2,
   "id": "2a28911c-197e-4f82-9cbc-c98f4fcfac32",
   "metadata": {},
   "outputs": [],
   "source": [
    "import matplotlib as mpl\n",
    "import matplotlib.pyplot as plt\n",
    "import numpy as np\n",
    "import fitsio\n",
    "from astropy.io import fits\n",
    "import pandas as pd \n",
    "import sys\n",
    "from quickbin import bin2d\n",
    "from pyarrow import parquet"
   ]
  },
  {
   "cell_type": "code",
   "execution_count": 3,
   "id": "a63aa52a-fa3a-43fd-b52b-6d5a802bf8b2",
   "metadata": {},
   "outputs": [],
   "source": [
    "def centile_clip(image, centiles=(1, 99.5)):\n",
    "    \"\"\"\n",
    "    simple clipping function that clips values above and below a given\n",
    "    percentile range\n",
    "    \"\"\"\n",
    "    finite = np.ma.masked_invalid(image)\n",
    "    bounds = np.percentile(finite[~finite.mask].data, centiles)\n",
    "    result = np.ma.clip(finite, *bounds)\n",
    "    \n",
    "    if isinstance(image, np.ma.MaskedArray):\n",
    "        \n",
    "        return result\n",
    "    \n",
    "    return result.data"
   ]
  },
  {
   "cell_type": "code",
   "execution_count": 4,
   "id": "0f2da6ef-a8be-4199-9d61-e81ee9d3188b",
   "metadata": {},
   "outputs": [],
   "source": [
    "eclipse = 'e23456'\n",
    "\n",
    "image = fits.open(f\"/home/bekah/gPhoton2/test_data/{eclipse}/{eclipse}-nd-ffull-b00-image-r.fits\")\n",
    "movie = fits.open(f\"/home/bekah/gPhoton2/test_data/{eclipse}/{eclipse}-nd-f0120-b00-movie-r.fits\") "
   ]
  },
  {
   "cell_type": "code",
   "execution_count": 30,
   "id": "0b61b81d-35cc-48be-a83d-3daea54390db",
   "metadata": {},
   "outputs": [
    {
     "data": {
      "text/plain": [
       "XTENSION= 'IMAGE   '                                                            \n",
       "BITPIX  =                  -32 / data type of original image                    \n",
       "NAXIS   =                    2 / dimension of original image                    \n",
       "NAXIS1  =                 3065 / length of original image axis                  \n",
       "NAXIS2  =                 3099 / length of original image axis                  \n",
       "PCOUNT  =                    0                                                  \n",
       "GCOUNT  =                    1                                                  \n",
       "EXTNAME = 'CNT     '                                                            \n",
       "CDELT1  = -0.000416666666666667                                                 \n",
       "CDELT2  = 0.000416666666666667                                                  \n",
       "CTYPE1  = 'RA---TAN'                                                            \n",
       "CTYPE2  = 'DEC--TAN'                                                            \n",
       "CRPIX1  =                1533.                                                  \n",
       "CRPIX2  =                1550.                                                  \n",
       "CRVAL1  =     323.492794193632                                                  \n",
       "CRVAL2  =    -2.06396933577621                                                  \n",
       "EQUINOX =                2000.                                                  \n",
       "EPOCH   =                2000.                                                  \n",
       "BAND    =                    1                                                  \n",
       "VERSION = 'v3.0.0a0'                                                            \n",
       "EXPSTART=        874361241.995                                                  \n",
       "EXPEND  =        874362946.995                                                  \n",
       "EXPTIME =                1705.                                                  \n",
       "N_FRAME =                    1                                                  \n",
       "T0_0    =        874361241.995                                                  \n",
       "T1_0    =        874362946.995                                                  \n",
       "EXPT_0  =     1500.22867687528                                                  "
      ]
     },
     "execution_count": 30,
     "metadata": {},
     "output_type": "execute_result"
    }
   ],
   "source": [
    "image[1].header"
   ]
  },
  {
   "cell_type": "code",
   "execution_count": 31,
   "id": "eaa910bf-6394-43b7-8217-d62b0fb75323",
   "metadata": {},
   "outputs": [
    {
     "data": {
      "text/plain": [
       "XTENSION= 'IMAGE   '                                                            \n",
       "BITPIX  =                  -32 / data type of original image                    \n",
       "NAXIS   =                    3 / dimension of original image                    \n",
       "NAXIS1  =                 3065 / length of original image axis                  \n",
       "NAXIS2  =                 3099 / length of original image axis                  \n",
       "NAXIS3  =                   15 / length of original image axis                  \n",
       "PCOUNT  =                    0                                                  \n",
       "GCOUNT  =                    1                                                  \n",
       "EXTNAME = 'CNT     '                                                            \n",
       "CDELT1  = -0.000416666666666667                                                 \n",
       "CDELT2  = 0.000416666666666667                                                  \n",
       "CTYPE1  = 'RA---TAN'                                                            \n",
       "CTYPE2  = 'DEC--TAN'                                                            \n",
       "CRPIX1  =                1533.                                                  \n",
       "CRPIX2  =                1550.                                                  \n",
       "CRVAL1  =     323.492794193632                                                  \n",
       "CRVAL2  =    -2.06396933577621                                                  \n",
       "EQUINOX =                2000.                                                  \n",
       "EPOCH   =                2000.                                                  \n",
       "BAND    =                    1                                                  \n",
       "VERSION = 'v3.0.0a0'                                                            \n",
       "EXPSTART=        874361241.995                                                  \n",
       "EXPEND  =        874363041.995                                                  \n",
       "EXPTIME =                1800.                                                  \n",
       "N_FRAME =                   15                                                  \n",
       "T0_0    =        874361241.995                                                  \n",
       "T1_0    =        874361361.995                                                  \n",
       "EXPT_0  =      103.73992108944                                                  \n",
       "T0_1    =        874361361.995                                                  \n",
       "T1_1    =        874361481.995                                                  \n",
       "EXPT_1  =     105.745945110233                                                  \n",
       "T0_2    =        874361481.995                                                  \n",
       "T1_2    =        874361601.995                                                  \n",
       "EXPT_2  =     105.918524861058                                                  \n",
       "T0_3    =        874361601.995                                                  \n",
       "T1_3    =        874361721.995                                                  \n",
       "EXPT_3  =     106.049336191078                                                  \n",
       "T0_4    =        874361721.995                                                  \n",
       "T1_4    =        874361841.995                                                  \n",
       "EXPT_4  =       102.6026672146                                                  \n",
       "T0_5    =        874361841.995                                                  \n",
       "T1_5    =        874361961.995                                                  \n",
       "EXPT_5  =     106.204727777903                                                  \n",
       "T0_6    =        874361961.995                                                  \n",
       "T1_6    =        874362081.995                                                  \n",
       "EXPT_6  =     106.241074579995                                                  \n",
       "T0_7    =        874362081.995                                                  \n",
       "T1_7    =        874362201.995                                                  \n",
       "EXPT_7  =     106.246439899449                                                  \n",
       "T0_8    =        874362201.995                                                  \n",
       "T1_8    =        874362321.995                                                  \n",
       "EXPT_8  =     106.234966110313                                                  \n",
       "T0_9    =        874362321.995                                                  \n",
       "T1_9    =        874362441.995                                                  \n",
       "EXPT_9  =     106.206394235992                                                  \n",
       "T0_10   =        874362441.995                                                  \n",
       "T1_10   =        874362561.995                                                  \n",
       "EXPT_10 =     106.137438902655                                                  \n",
       "T0_11   =        874362561.995                                                  \n",
       "T1_11   =        874362681.995                                                  \n",
       "EXPT_11 =     106.083903936562                                                  \n",
       "T0_12   =        874362681.995                                                  \n",
       "T1_12   =        874362801.995                                                  \n",
       "EXPT_12 =     105.953188315284                                                  \n",
       "T0_13   =        874362801.995                                                  \n",
       "T1_13   =        874362921.995                                                  \n",
       "EXPT_13 =     105.752565903179                                                  \n",
       "T0_14   =        874362921.995                                                  \n",
       "T1_14   =        874363041.995                                                  \n",
       "EXPT_14 =     21.1115827475404                                                  "
      ]
     },
     "execution_count": 31,
     "metadata": {},
     "output_type": "execute_result"
    }
   ],
   "source": [
    "movie[1].header"
   ]
  },
  {
   "cell_type": "code",
   "execution_count": 27,
   "id": "491ebe1f-5e4a-4d23-a3c3-595ee100fa5b",
   "metadata": {},
   "outputs": [
    {
     "name": "stdout",
     "output_type": "stream",
     "text": [
      "done w e23456\n"
     ]
    },
    {
     "name": "stderr",
     "output_type": "stream",
     "text": [
      "/tmp/ipykernel_32310/3587008740.py:4: RuntimeWarning: invalid value encountered in subtract\n",
      "  move_image_sub = image[1].data - combined_array_cnt\n"
     ]
    }
   ],
   "source": [
    "# cnt \n",
    "\n",
    "combined_array_cnt = np.sum(movie[1].data, axis=0)\n",
    "move_image_sub = image[1].data - combined_array_cnt\n",
    "hdu2 = fits.PrimaryHDU(move_image_sub)\n",
    "hdulist = fits.HDUList([hdu2])\n",
    "hdulist.writeto(f'e{eclipse}_cntdiff', overwrite=True)\n",
    "print(f\"done w {eclipse}\")"
   ]
  },
  {
   "cell_type": "code",
   "execution_count": 9,
   "id": "291a047d-f23f-46dd-b395-950cd40efe1b",
   "metadata": {},
   "outputs": [
    {
     "data": {
      "text/plain": [
       "array([[0, 0, 0, ..., 0, 0, 0],\n",
       "       [0, 0, 0, ..., 0, 0, 0],\n",
       "       [0, 0, 0, ..., 0, 0, 0],\n",
       "       ...,\n",
       "       [0, 0, 0, ..., 0, 0, 0],\n",
       "       [0, 0, 0, ..., 0, 0, 0],\n",
       "       [0, 0, 0, ..., 0, 0, 0]], dtype=uint8)"
      ]
     },
     "execution_count": 9,
     "metadata": {},
     "output_type": "execute_result"
    }
   ],
   "source": [
    "movie[2].data[14]"
   ]
  },
  {
   "cell_type": "code",
   "execution_count": 10,
   "id": "57c4ce2c-d5a6-489e-b6e9-3031652ab208",
   "metadata": {},
   "outputs": [],
   "source": [
    "# flags / mask\n",
    "\n",
    "combined_array_mask = np.sum(movie[2].data, axis=0)-movie[2].data[14]\n",
    "move_image_sub = image[2].data - combined_array_mask.astype(np.float64)\n",
    "hdu2 = fits.PrimaryHDU(move_image_sub)\n",
    "hdulist = fits.HDUList([hdu2])\n",
    "hdulist.writeto(f'e{eclipse}_flagdiff', overwrite=True)\n",
    "\n"
   ]
  },
  {
   "cell_type": "code",
   "execution_count": 29,
   "id": "4721242e-0dff-4e5b-9586-dd8009f6ecbf",
   "metadata": {},
   "outputs": [],
   "source": [
    "# edge\n",
    "\n",
    "combined_array_edge = np.sum(movie[3].data, axis=0)\n",
    "move_image_sub = image[3].data - combined_array_edge.astype(np.float64)\n",
    "hdu2 = fits.PrimaryHDU(move_image_sub)\n",
    "hdulist = fits.HDUList([hdu2])\n",
    "hdulist.writeto(f'e{eclipse}_edgediff', overwrite=True)\n"
   ]
  },
  {
   "cell_type": "code",
   "execution_count": null,
   "id": "c4aafaaa-fce5-4178-bd8d-473a27c5fb88",
   "metadata": {},
   "outputs": [],
   "source": []
  }
 ],
 "metadata": {
  "kernelspec": {
   "display_name": "Python 3 (ipykernel)",
   "language": "python",
   "name": "python3"
  },
  "language_info": {
   "codemirror_mode": {
    "name": "ipython",
    "version": 3
   },
   "file_extension": ".py",
   "mimetype": "text/x-python",
   "name": "python",
   "nbconvert_exporter": "python",
   "pygments_lexer": "ipython3",
   "version": "3.11.6"
  }
 },
 "nbformat": 4,
 "nbformat_minor": 5
}
