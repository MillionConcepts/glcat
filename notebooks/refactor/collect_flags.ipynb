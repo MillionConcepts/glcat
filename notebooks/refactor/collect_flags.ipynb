{
 "cells": [
  {
   "cell_type": "code",
   "execution_count": 6,
   "id": "28b9d411-9398-4951-aef1-25d60c341ea6",
   "metadata": {},
   "outputs": [],
   "source": [
    "import matplotlib as mpl\n",
    "import matplotlib.pyplot as plt\n",
    "import numpy as np\n",
    "import fitsio\n",
    "from astropy.io import fits\n",
    "import pandas as pd \n",
    "import sys\n",
    "from quickbin import bin2d\n",
    "from pyarrow import parquet\n",
    "import pyarrow"
   ]
  },
  {
   "cell_type": "code",
   "execution_count": 4,
   "id": "b6336ecd-e39e-48f0-91b0-7ba552ea6a0a",
   "metadata": {},
   "outputs": [
    {
     "name": "stdout",
     "output_type": "stream",
     "text": [
      "[array([ 7, 12,  0], dtype=uint8), array([ 7,  0, 12], dtype=uint8), array([ 7, 12,  0], dtype=uint8), array([ 7, 12,  0], dtype=uint8), array([ 7, 12,  0], dtype=uint8), array([ 7, 12,  0], dtype=uint8), array([ 7, 12,  0], dtype=uint8), array([ 7, 12,  0], dtype=uint8), array([ 7, 12,  0], dtype=uint8), array([ 7, 12,  0], dtype=uint8), array([ 7, 12,  0], dtype=uint8), array([ 7, 12,  0], dtype=uint8), array([ 7, 12,  0], dtype=uint8)]\n"
     ]
    }
   ],
   "source": [
    "eclipses = ['00580','00775','00780','02014','07739','17079','22644',\n",
    "            '23456','28098','38104','44132','44405','46646']\n",
    "flags = []\n",
    "for eclipse in eclipses: \n",
    "    photonfile = f\"/home/bekah/gPhoton2/test_data/e{eclipse}/e{eclipse}-nd-b00.parquet\"\n",
    "    event_table = parquet.read_table(photonfile, columns=['flags']).to_pandas()\n",
    "    unique_flags = event_table['flags'].unique()\n",
    "    flags.append(unique_flags)    \n",
    "\n",
    "print(flags)"
   ]
  },
  {
   "cell_type": "code",
   "execution_count": 8,
   "id": "1be4d072-ab79-436f-8e2a-9e7f250b5a94",
   "metadata": {},
   "outputs": [],
   "source": [
    "eclipse = \"44405\"\n",
    "photonfile = f\"/home/bekah/gPhoton2/test_data/e{eclipse}/e{eclipse}-nd-b00.parquet\"\n",
    "event_table = parquet.read_table(photonfile, columns=['flags']).to_pandas()\n",
    "unique_flags = event_table['flags'].unique()"
   ]
  },
  {
   "cell_type": "code",
   "execution_count": 9,
   "id": "078b6e95-d8dc-4800-a5c4-cfcb4e286b79",
   "metadata": {},
   "outputs": [
    {
     "data": {
      "text/plain": [
       "array([ 7, 12,  0], dtype=uint8)"
      ]
     },
     "execution_count": 9,
     "metadata": {},
     "output_type": "execute_result"
    }
   ],
   "source": [
    "unique_flags"
   ]
  },
  {
   "cell_type": "code",
   "execution_count": null,
   "id": "47df0fde-271b-485c-aa01-563c02cb0d3f",
   "metadata": {},
   "outputs": [],
   "source": []
  }
 ],
 "metadata": {
  "kernelspec": {
   "display_name": "Python 3 (ipykernel)",
   "language": "python",
   "name": "python3"
  },
  "language_info": {
   "codemirror_mode": {
    "name": "ipython",
    "version": 3
   },
   "file_extension": ".py",
   "mimetype": "text/x-python",
   "name": "python",
   "nbconvert_exporter": "python",
   "pygments_lexer": "ipython3",
   "version": "3.11.6"
  }
 },
 "nbformat": 4,
 "nbformat_minor": 5
}
