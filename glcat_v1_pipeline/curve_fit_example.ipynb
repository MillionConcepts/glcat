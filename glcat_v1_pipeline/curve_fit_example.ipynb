{
 "cells": [
  {
   "cell_type": "code",
   "execution_count": null,
   "id": "796d4c73-54e0-4ea9-ba09-86d1444c4eeb",
   "metadata": {},
   "outputs": [],
   "source": [
    "from pathlib import Path\n",
    "\n",
    "import matplotlib.pyplot as plt\n",
    "from numba import njit\n",
    "import numpy as np\n",
    "import pandas as pd\n",
    "import pdr\n",
    "from pyarrow import parquet as pq\n",
    "from rich import print\n",
    "from scipy.optimize import curve_fit\n",
    "from scipy.stats import halfnorm\n",
    "\n",
    "from glcat_photometry_utils import (\n",
    "    mcmc_aperture_curve, \n",
    "    plot_mcmc_results, \n",
    "    get_percentile_ranges, \n",
    "    plot_mcmc_walkers,\n",
    "    gaussian_flux_model\n",
    ")\n",
    "\n",
    "%matplotlib inline\n",
    "\n",
    "np.random.seed(555)"
   ]
  },
  {
   "cell_type": "code",
   "execution_count": null,
   "id": "044d48f7-65d2-4bdd-bff5-613764018523",
   "metadata": {},
   "outputs": [],
   "source": [
    "GPHOTON_ROOT = Path(\"/home/michael/Desktop/gPhoton2\")\n",
    "\n",
    "metadata = pq.read_table(GPHOTON_ROOT / \"gPhoton/aspect/metadata.parquet\").to_pandas()\n",
    "ncat = pq.read_table('../e23456_ncat.parquet')"
   ]
  },
  {
   "cell_type": "code",
   "execution_count": null,
   "id": "a29b3352-e06d-4a71-82a9-3543f0068839",
   "metadata": {},
   "outputs": [],
   "source": [
    "ffull = pdr.read(GPHOTON_ROOT / \"test_data/e23456/e23456-nd-ffull-b00-image-g.fits.gz\")\n",
    "expt = pd.read_csv(\n",
    "    GPHOTON_ROOT / \"test_data/e23456/e23456-nd-f0120-b00-movie-exptime.csv\", \n",
    "    index_col=None\n",
    ")\n",
    "expt = expt['expt'].sum()  # not sure this is right?"
   ]
  },
  {
   "cell_type": "code",
   "execution_count": null,
   "id": "a041cfd1-2060-4a59-8830-0f94adab5cc0",
   "metadata": {},
   "outputs": [],
   "source": [
    "# same function, different signature -- curve_fit requires the dependent \n",
    "# variable(s) to go first.\n",
    "\n",
    "@njit(cache=True)\n",
    "def gaussian_flux_model_curvefit(r, total_flux, sigma, background):\n",
    "    return (\n",
    "        total_flux \n",
    "        * (1 - np.exp(-r**2 / (2 * sigma**2))) \n",
    "        + background * np.pi * r**2\n",
    "    )"
   ]
  },
  {
   "cell_type": "code",
   "execution_count": null,
   "id": "4c2bf3d0-e62a-434a-8f92-1e68746ee226",
   "metadata": {},
   "outputs": [],
   "source": [
    "source_ix=400\n",
    "aperture_radii = np.array([1.5, 2.3, 3.8, 6.0, 9.0])#, 12.8, 17.3])\n",
    "flux = np.array([ncat.column(f'NUV_CPS_APER{a}')[source_ix].as_py() for a, r in enumerate(aperture_radii)])\n",
    "flux_err = np.array([ncat.column(f'NUV_CPS_ERR_APER{a}')[source_ix].as_py() for a,r in enumerate(aperture_radii)])\n",
    "ix = np.where(np.isfinite(flux))"
   ]
  },
  {
   "cell_type": "code",
   "execution_count": null,
   "id": "def3a49a-a371-42a8-9d48-4c65b45df9ac",
   "metadata": {
    "scrolled": true
   },
   "outputs": [],
   "source": [
    "flat_samples,samples = mcmc_aperture_curve(aperture_radii,flux,flux_err,\n",
    "                        nsteps = 1000, # number of MCMC steps\n",
    "                        burnin = 200, # number of burn-in steps\n",
    "                        nwalkers = 32, # number of mc walkers\n",
    "                       )\n",
    "\n",
    "percentiles=[16,50,84]\n",
    "labels = [\"cps\", \"sigma\", \"bg_cps\"]\n",
    "\n",
    "# cut the 'continuous' extension here because i wanted to make it \n",
    "# easier to eyeball outputs of the two algorithms.\n",
    "# there is of course no reason you couldn't add it back for both.\n",
    "\n",
    "model_samples = np.zeros((len(flat_samples), len(aperture_radii)))\n",
    "for i, (tf, sig, back) in enumerate(flat_samples):\n",
    "    model_samples[i] = gaussian_flux_model(tf, sig, back, aperture_radii)\n",
    "\n",
    "# Calculate the median and confidence intervals of the model predictions\n",
    "model_percentiles = np.percentile(model_samples, [16, 50, 84], axis=0)\n",
    "mc_params = [np.median(flat_samples[:, i]) for i in range(3)]\n",
    "# yes, I know this simplifies\n",
    "mc_sigmas = (\n",
    "    (model_percentiles[0] - model_percentiles[1]) / 2\n",
    "    + (model_percentiles[2] - model_percentiles[1]) / 2\n",
    ")"
   ]
  },
  {
   "cell_type": "code",
   "execution_count": null,
   "id": "2e237d48-e46b-4ff6-bbac-b4739ef42ef0",
   "metadata": {},
   "outputs": [],
   "source": [
    "guess = [\n",
    "    np.mean(flux), \n",
    "    5/2.355, \n",
    "    (flux[-1]-flux[-2])/(np.pi * (aperture_radii[-1]**2-aperture_radii[-2]**2))\n",
    "]\n",
    "# min, then max, for total flux, sigma, background\n",
    "bounds = ((0, 0, 0), (1000, 10, 100))\n",
    "\n",
    "# this don't have to be kwargs, just making it explicit\n",
    "cf_params, cf_cov = curve_fit(\n",
    "    f=gaussian_flux_model_curvefit,\n",
    "    xdata=aperture_radii,\n",
    "    ydata=flux,\n",
    "    p0=guess,\n",
    "    sigma=flux_err,\n",
    "    absolute_sigma=True,\n",
    "    check_finite=True,\n",
    "    # dogbox turns out to be unstable on these data.\n",
    "    method='trf',\n",
    "    bounds=bounds,\n",
    ")\n",
    "# 1-sigma errors for each model parameter\n",
    "cf_param_errs = np.sqrt(np.diag(cf_cov))\n",
    "\n",
    "# crude sampling estimation of estimate error. this may not be \n",
    "# the best way to do it.\n",
    "dists = [\n",
    "    halfnorm.rvs(p, s, 3200) for (p, s) in zip(cf_params, cf_param_errs)\n",
    "]\n",
    "cf_sigmas = [\n",
    "    np.std(gaussian_flux_model_curvefit(r, *dists)) \n",
    "    for r in aperture_radii\n",
    "]\n",
    "print(f\"cf sigmas: {cf_sigmas}\")\n",
    "print(f\"mcmc sigmas: {mc_sigmas}\")"
   ]
  },
  {
   "cell_type": "code",
   "execution_count": null,
   "id": "f275d995-8bba-4960-baad-301b12515a54",
   "metadata": {},
   "outputs": [],
   "source": [
    "cf_residuals = gaussian_flux_model_curvefit(aperture_radii, *cf_params) - flux\n",
    "mcmc_residuals = gaussian_flux_model(*mc_params, aperture_radii) - flux\n",
    "\n",
    "# supplementary goodness-of-fit metric of your choice goes here"
   ]
  },
  {
   "cell_type": "code",
   "execution_count": null,
   "id": "e81557dc-f18a-4c31-afb3-cf1bec51f84f",
   "metadata": {},
   "outputs": [],
   "source": [
    "print(mc_params)\n",
    "print(cf_params)\n",
    "print(abs(mc_params - cf_params) / mc_params)"
   ]
  }
 ],
 "metadata": {
  "kernelspec": {
   "display_name": "Python 3 (ipykernel)",
   "language": "python",
   "name": "python3"
  },
  "language_info": {
   "codemirror_mode": {
    "name": "ipython",
    "version": 3
   },
   "file_extension": ".py",
   "mimetype": "text/x-python",
   "name": "python",
   "nbconvert_exporter": "python",
   "pygments_lexer": "ipython3",
   "version": "3.12.3"
  }
 },
 "nbformat": 4,
 "nbformat_minor": 5
}
