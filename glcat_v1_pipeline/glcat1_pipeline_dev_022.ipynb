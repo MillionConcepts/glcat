{
 "cells": [
  {
   "cell_type": "code",
   "execution_count": 1,
   "id": "fb808605-093e-40da-b51d-1b599ce02c04",
   "metadata": {},
   "outputs": [],
   "source": [
    "import numpy as np\n",
    "from gPhoton.pipeline import execute_pipeline"
   ]
  },
  {
   "cell_type": "code",
   "execution_count": 2,
   "id": "f2e4ecf8-b730-466a-b8da-3a8ca6d204f5",
   "metadata": {},
   "outputs": [
    {
     "name": "stdout",
     "output_type": "stream",
     "text": [
      "starting timer\n",
      "eclipse 23456 NUV  -- MIS; 0 leg(s)\n",
      "using existing photon list(s): ['/Users/cm/github/gphoton2_refactor/gPhoton2/test_data/e23456/e23456-nd-b00.parquet']\n",
      "0.0 elapsed seconds, restarting timer\n",
      "making images from /Users/cm/github/gphoton2_refactor/gPhoton2/test_data/e23456/e23456-nd-b00.parquet\n",
      "indexing data and making WCS solution\n",
      "making full-depth image\n",
      "making 120-second depth movies\n",
      "21.59 elapsed seconds, restarting timer                     \n",
      "Extracting sources with DAOFIND.\n",
      "Masking for extended sources.\n",
      "Running DAO for extended source ID.\n",
      "Found 2730 peaks with DAO.\n",
      "Estimating background and threshold.\n",
      "Calculating source threshold.\n",
      "Segmenting and deblending point sources.\n",
      "Checking for extended source overlap with point sources.\n",
      "Located 4840 sources.\n",
      "11.5 elapsed seconds, restarting timer\n",
      "0.59 elapsed seconds, restarting timer\n",
      "writing exposure time table to /Users/cm/github/gphoton2_refactor/gPhoton2/test_data//e23456/e23456-nd-b00-f0120-movie-exptime.csv\n",
      "writing extended source table to /Users/cm/github/gphoton2_refactor/gPhoton2/test_data//e23456/e23456-nd-b00-extended-shapes.csv\n",
      "writing source table to /Users/cm/github/gphoton2_refactor/gPhoton2/test_data//e23456/e23456-nd-b00-f0120-movie-photom-1_5-mon.csv\n",
      "12.47 elapsed seconds, restarting timer\n",
      "0.5 elapsed seconds, restarting timer\n",
      "writing exposure time table to /Users/cm/github/gphoton2_refactor/gPhoton2/test_data//e23456/e23456-nd-b00-f0120-movie-exptime.csv\n",
      "writing extended source table to /Users/cm/github/gphoton2_refactor/gPhoton2/test_data//e23456/e23456-nd-b00-extended-shapes.csv\n",
      "writing source table to /Users/cm/github/gphoton2_refactor/gPhoton2/test_data//e23456/e23456-nd-b00-f0120-movie-photom-2_3-mon.csv\n",
      "12.83 elapsed seconds, restarting timer\n",
      "0.5 elapsed seconds, restarting timer\n",
      "writing exposure time table to /Users/cm/github/gphoton2_refactor/gPhoton2/test_data//e23456/e23456-nd-b00-f0120-movie-exptime.csv\n",
      "writing extended source table to /Users/cm/github/gphoton2_refactor/gPhoton2/test_data//e23456/e23456-nd-b00-extended-shapes.csv\n",
      "writing source table to /Users/cm/github/gphoton2_refactor/gPhoton2/test_data//e23456/e23456-nd-b00-f0120-movie-photom-3_8-mon.csv\n",
      "12.34 elapsed seconds, restarting timer\n",
      "0.64 elapsed seconds, restarting timer\n",
      "writing exposure time table to /Users/cm/github/gphoton2_refactor/gPhoton2/test_data//e23456/e23456-nd-b00-f0120-movie-exptime.csv\n",
      "writing extended source table to /Users/cm/github/gphoton2_refactor/gPhoton2/test_data//e23456/e23456-nd-b00-extended-shapes.csv\n",
      "writing source table to /Users/cm/github/gphoton2_refactor/gPhoton2/test_data//e23456/e23456-nd-b00-f0120-movie-photom-6_0-mon.csv\n",
      "12.08 elapsed seconds, restarting timer\n",
      "0.56 elapsed seconds, restarting timer\n",
      "writing exposure time table to /Users/cm/github/gphoton2_refactor/gPhoton2/test_data//e23456/e23456-nd-b00-f0120-movie-exptime.csv\n",
      "writing extended source table to /Users/cm/github/gphoton2_refactor/gPhoton2/test_data//e23456/e23456-nd-b00-extended-shapes.csv\n",
      "writing source table to /Users/cm/github/gphoton2_refactor/gPhoton2/test_data//e23456/e23456-nd-b00-f0120-movie-photom-9_0-mon.csv\n",
      "12.29 elapsed seconds, restarting timer\n",
      "0.59 elapsed seconds, restarting timer\n",
      "writing exposure time table to /Users/cm/github/gphoton2_refactor/gPhoton2/test_data//e23456/e23456-nd-b00-f0120-movie-exptime.csv\n",
      "writing extended source table to /Users/cm/github/gphoton2_refactor/gPhoton2/test_data//e23456/e23456-nd-b00-extended-shapes.csv\n",
      "writing source table to /Users/cm/github/gphoton2_refactor/gPhoton2/test_data//e23456/e23456-nd-b00-f0120-movie-photom-12_8-mon.csv\n",
      "12.23 elapsed seconds, restarting timer\n",
      "0.64 elapsed seconds, restarting timer\n",
      "writing exposure time table to /Users/cm/github/gphoton2_refactor/gPhoton2/test_data//e23456/e23456-nd-b00-f0120-movie-exptime.csv\n",
      "writing extended source table to /Users/cm/github/gphoton2_refactor/gPhoton2/test_data//e23456/e23456-nd-b00-extended-shapes.csv\n",
      "writing source table to /Users/cm/github/gphoton2_refactor/gPhoton2/test_data//e23456/e23456-nd-b00-f0120-movie-photom-17_3-mon.csv\n",
      "12.61 elapsed seconds, restarting timer\n",
      "writing full-depth image to /Users/cm/github/gphoton2_refactor/gPhoton2/test_data/e23456/e23456-nd-b00-ffull-image-r.fits\n",
      "0.39 elapsed seconds, restarting timer\n",
      "writing 120-second depth movie to /Users/cm/github/gphoton2_refactor/gPhoton2/test_data/e23456/e23456-nd-b00-f0120-movie-r.fits\n",
      "5.78 elapsed seconds, restarting timer\n",
      "130.13 seconds for execution\n"
     ]
    },
    {
     "data": {
      "text/plain": [
       "'return code: successful'"
      ]
     },
     "execution_count": 2,
     "metadata": {},
     "output_type": "execute_result"
    }
   ],
   "source": [
    "eclipse = \n",
    "\n",
    "#Run NUV photometry with extraction on NUV\n",
    "execute_pipeline(\n",
    "    23456,\n",
    "    \"NUV\",\n",
    "    depth=120,\n",
    "    threads=4,\n",
    "    local_root=\"/Users/cm/github/gphoton2_refactor/gPhoton2/test_data/\",\n",
    "    recreate=False,\n",
    "    aperture_sizes=[1.5, 2.3, 3.8, 6.0, 9.0, 12.8, 17.3],\n",
    "    write={\"movie\": True, \"image\": True},\n",
    "    #coregister_lightcurves=True,\n",
    "    photometry_only=False,\n",
    "    compression=\"rice\",\n",
    "    suffix='mon',\n",
    ")\n",
    "\n",
    "#Run FUV photometry with extraction on FUV\n",
    "execute_pipeline(\n",
    "    23456,\n",
    "    \"FUV\",\n",
    "    depth=120,\n",
    "    threads=4,\n",
    "    local_root=\"/Users/cm/github/gphoton2_refactor/gPhoton2/test_data/\",\n",
    "    recreate=False,\n",
    "    aperture_sizes=[1.5, 2.3, 3.8, 6.0, 9.0, 12.8, 17.3],\n",
    "    write={\"movie\": True, \"image\": True},\n",
    "    coregister_lightcurves=True,\n",
    "    photometry_only=False,\n",
    "    compression=\"rice\",\n",
    "    suffix='mof',\n",
    ")\n",
    "\n",
    "# Run FUV photometry with NUV source positions\n",
    "execute_pipeline(\n",
    "    23456,\n",
    "    \"FUV\",\n",
    "    depth=120,\n",
    "    threads=4,\n",
    "    local_root=\"/Users/cm/github/gphoton2_refactor/gPhoton2/test_data/\",\n",
    "    recreate=False,\n",
    "    aperture_sizes=[1.5, 2.3, 3.8, 6.0, 9.0, 12.8, 17.3],\n",
    "    write={\"movie\": True, \"image\": True},\n",
    "    coregister_lightcurves=True,\n",
    "    photometry_only=False,\n",
    "    compression=\"rice\",\n",
    "    source_catalog_file=\"/Users/cm/github/gphoton2_refactor/gPhoton2/test_data/e23456/e23456-nd-b00-f0120-movie-photom-12_8-mon.csv\",\n",
    "    suffix='mon',\n",
    ")\n",
    "\n",
    "# Run NUV photometry with FUV source positions\n",
    "execute_pipeline(\n",
    "    23456,\n",
    "    \"NUV\",\n",
    "    depth=120,\n",
    "    threads=4,\n",
    "    local_root=\"/Users/cm/github/gphoton2_refactor/gPhoton2/test_data/\",\n",
    "    recreate=False,\n",
    "    aperture_sizes=[1.5, 2.3, 3.8, 6.0, 9.0, 12.8, 17.3],\n",
    "    write={\"movie\": True, \"image\": True},\n",
    "    coregister_lightcurves=True,\n",
    "    photometry_only=False,\n",
    "    compression=\"rice\",\n",
    "    source_catalog_file=\"/Users/cm/github/gphoton2_refactor/gPhoton2/test_data/e23456/e23456-fd-b00-f0120-movie-photom-12_8-mof.csv\",\n",
    "    suffix='mof',\n",
    ")"
   ]
  },
  {
   "cell_type": "code",
   "execution_count": 3,
   "id": "8c4f50a4-50dd-4807-b4d4-7ea814f4d037",
   "metadata": {},
   "outputs": [
    {
     "name": "stdout",
     "output_type": "stream",
     "text": [
      "starting timer\n",
      "eclipse 23456 FUV  -- MIS; 0 leg(s)\n",
      "using existing photon list(s): ['/Users/cm/github/gphoton2_refactor/gPhoton2/test_data/e23456/e23456-fd-b00.parquet']\n",
      "0.0 elapsed seconds, restarting timer\n",
      "pinning first bin to first bin from /Users/cm/github/gphoton2_refactor/gPhoton2/test_data//e23456/e23456-nd-b00-f0120-movie-exptime.csv\n",
      "making images from /Users/cm/github/gphoton2_refactor/gPhoton2/test_data/e23456/e23456-fd-b00.parquet\n",
      "indexing data and making WCS solution\n",
      "making full-depth image\n",
      "making 120-second depth movies\n",
      "5.16 elapsed seconds, restarting timer                      \n",
      "Extracting sources with DAOFIND.\n",
      "Masking for extended sources.\n",
      "Running DAO for extended source ID.\n",
      "Found 77 peaks with DAO.\n",
      "Estimating background and threshold.\n",
      "Calculating source threshold.\n",
      "Segmenting and deblending point sources.\n",
      "Checking for extended source overlap with point sources.\n",
      "Located 3962 sources.\n",
      "12.46 elapsed seconds, restarting timer\n",
      "0.38 elapsed seconds, restarting timer\n",
      "writing exposure time table to /Users/cm/github/gphoton2_refactor/gPhoton2/test_data//e23456/e23456-fd-b00-f0120-movie-exptime.csv\n",
      "writing extended source table to /Users/cm/github/gphoton2_refactor/gPhoton2/test_data//e23456/e23456-fd-b00-extended-shapes.csv\n",
      "writing source table to /Users/cm/github/gphoton2_refactor/gPhoton2/test_data//e23456/e23456-fd-b00-f0120-movie-photom-1_5-mof.csv\n",
      "10.68 elapsed seconds, restarting timer\n",
      "0.41 elapsed seconds, restarting timer\n",
      "writing exposure time table to /Users/cm/github/gphoton2_refactor/gPhoton2/test_data//e23456/e23456-fd-b00-f0120-movie-exptime.csv\n",
      "writing extended source table to /Users/cm/github/gphoton2_refactor/gPhoton2/test_data//e23456/e23456-fd-b00-extended-shapes.csv\n",
      "writing source table to /Users/cm/github/gphoton2_refactor/gPhoton2/test_data//e23456/e23456-fd-b00-f0120-movie-photom-2_3-mof.csv\n",
      "10.8 elapsed seconds, restarting timer\n",
      "0.4 elapsed seconds, restarting timer\n",
      "writing exposure time table to /Users/cm/github/gphoton2_refactor/gPhoton2/test_data//e23456/e23456-fd-b00-f0120-movie-exptime.csv\n",
      "writing extended source table to /Users/cm/github/gphoton2_refactor/gPhoton2/test_data//e23456/e23456-fd-b00-extended-shapes.csv\n",
      "writing source table to /Users/cm/github/gphoton2_refactor/gPhoton2/test_data//e23456/e23456-fd-b00-f0120-movie-photom-3_8-mof.csv\n",
      "10.66 elapsed seconds, restarting timer\n",
      "0.54 elapsed seconds, restarting timer\n",
      "writing exposure time table to /Users/cm/github/gphoton2_refactor/gPhoton2/test_data//e23456/e23456-fd-b00-f0120-movie-exptime.csv\n",
      "writing extended source table to /Users/cm/github/gphoton2_refactor/gPhoton2/test_data//e23456/e23456-fd-b00-extended-shapes.csv\n",
      "writing source table to /Users/cm/github/gphoton2_refactor/gPhoton2/test_data//e23456/e23456-fd-b00-f0120-movie-photom-6_0-mof.csv\n",
      "10.86 elapsed seconds, restarting timer\n",
      "0.43 elapsed seconds, restarting timer\n",
      "writing exposure time table to /Users/cm/github/gphoton2_refactor/gPhoton2/test_data//e23456/e23456-fd-b00-f0120-movie-exptime.csv\n",
      "writing extended source table to /Users/cm/github/gphoton2_refactor/gPhoton2/test_data//e23456/e23456-fd-b00-extended-shapes.csv\n",
      "writing source table to /Users/cm/github/gphoton2_refactor/gPhoton2/test_data//e23456/e23456-fd-b00-f0120-movie-photom-9_0-mof.csv\n",
      "10.86 elapsed seconds, restarting timer\n",
      "0.46 elapsed seconds, restarting timer\n",
      "writing exposure time table to /Users/cm/github/gphoton2_refactor/gPhoton2/test_data//e23456/e23456-fd-b00-f0120-movie-exptime.csv\n",
      "writing extended source table to /Users/cm/github/gphoton2_refactor/gPhoton2/test_data//e23456/e23456-fd-b00-extended-shapes.csv\n",
      "writing source table to /Users/cm/github/gphoton2_refactor/gPhoton2/test_data//e23456/e23456-fd-b00-f0120-movie-photom-12_8-mof.csv\n",
      "11.05 elapsed seconds, restarting timer\n",
      "0.54 elapsed seconds, restarting timer\n",
      "writing exposure time table to /Users/cm/github/gphoton2_refactor/gPhoton2/test_data//e23456/e23456-fd-b00-f0120-movie-exptime.csv\n",
      "writing extended source table to /Users/cm/github/gphoton2_refactor/gPhoton2/test_data//e23456/e23456-fd-b00-extended-shapes.csv\n",
      "writing source table to /Users/cm/github/gphoton2_refactor/gPhoton2/test_data//e23456/e23456-fd-b00-f0120-movie-photom-17_3-mof.csv\n",
      "11.17 elapsed seconds, restarting timer\n",
      "writing full-depth image to /Users/cm/github/gphoton2_refactor/gPhoton2/test_data/e23456/e23456-fd-b00-ffull-image-r.fits\n",
      "0.4 elapsed seconds, restarting timer\n",
      "writing 120-second depth movie to /Users/cm/github/gphoton2_refactor/gPhoton2/test_data/e23456/e23456-fd-b00-f0120-movie-r.fits\n",
      "3.69 elapsed seconds, restarting timer\n",
      "100.95 seconds for execution\n"
     ]
    },
    {
     "data": {
      "text/plain": [
       "'return code: successful'"
      ]
     },
     "execution_count": 3,
     "metadata": {},
     "output_type": "execute_result"
    }
   ],
   "source": [
    "#Run FUV photometry with extraction on FUV\n",
    "execute_pipeline(\n",
    "    23456,\n",
    "    \"FUV\",\n",
    "    depth=120,\n",
    "    threads=4,\n",
    "    local_root=\"/Users/cm/github/gphoton2_refactor/gPhoton2/test_data/\",\n",
    "    recreate=False,\n",
    "    aperture_sizes=[1.5, 2.3, 3.8, 6.0, 9.0, 12.8, 17.3],\n",
    "    write={\"movie\": True, \"image\": True},\n",
    "    coregister_lightcurves=True,\n",
    "    photometry_only=False,\n",
    "    compression=\"rice\",\n",
    "    suffix='mof',\n",
    ")"
   ]
  },
  {
   "cell_type": "code",
   "execution_count": 4,
   "id": "27d35697-a4d5-4bb4-8f97-348c2e04a7a2",
   "metadata": {},
   "outputs": [
    {
     "name": "stdout",
     "output_type": "stream",
     "text": [
      "starting timer\n",
      "eclipse 23456 FUV  -- MIS; 0 leg(s)\n",
      "using existing photon list(s): ['/Users/cm/github/gphoton2_refactor/gPhoton2/test_data/e23456/e23456-fd-b00.parquet']\n",
      "0.0 elapsed seconds, restarting timer\n",
      "pinning first bin to first bin from /Users/cm/github/gphoton2_refactor/gPhoton2/test_data//e23456/e23456-nd-b00-f0120-movie-exptime.csv\n",
      "making images from /Users/cm/github/gphoton2_refactor/gPhoton2/test_data/e23456/e23456-fd-b00.parquet\n",
      "indexing data and making WCS solution\n",
      "making full-depth image\n",
      "making 120-second depth movies\n",
      "5.21 elapsed seconds, restarting timer                      \n",
      "Using specified catalog of 4840 sources.\n",
      "0.26 elapsed seconds, restarting timer\n",
      "0.31 elapsed seconds, restarting timer\n",
      "writing exposure time table to /Users/cm/github/gphoton2_refactor/gPhoton2/test_data//e23456/e23456-fd-b00-f0120-movie-exptime.csv\n",
      "writing extended source table to /Users/cm/github/gphoton2_refactor/gPhoton2/test_data//e23456/e23456-fd-b00-extended-shapes.csv\n",
      "writing source table to /Users/cm/github/gphoton2_refactor/gPhoton2/test_data//e23456/e23456-fd-b00-f0120-movie-photom-1_5-mon.csv\n",
      "11.05 elapsed seconds, restarting timer\n"
     ]
    },
    {
     "name": "stderr",
     "output_type": "stream",
     "text": [
      "/Users/cm/github/gphoton2_refactor/gPhoton2/gPhoton/lightcurve/core.py:67: UserWarning: Extended sources were not defined, probably because a catalog was passed. If not, this is an error.\n",
      "  warnings.warn(\"Extended sources were not defined, probably because a catalog was passed. If not, this is an error.\", UserWarning)\n"
     ]
    },
    {
     "name": "stdout",
     "output_type": "stream",
     "text": [
      "0.43 elapsed seconds, restarting timer\n",
      "writing exposure time table to /Users/cm/github/gphoton2_refactor/gPhoton2/test_data//e23456/e23456-fd-b00-f0120-movie-exptime.csv\n",
      "writing extended source table to /Users/cm/github/gphoton2_refactor/gPhoton2/test_data//e23456/e23456-fd-b00-extended-shapes.csv\n",
      "writing source table to /Users/cm/github/gphoton2_refactor/gPhoton2/test_data//e23456/e23456-fd-b00-f0120-movie-photom-2_3-mon.csv\n"
     ]
    },
    {
     "name": "stderr",
     "output_type": "stream",
     "text": [
      "/Users/cm/github/gphoton2_refactor/gPhoton2/gPhoton/lightcurve/core.py:67: UserWarning: Extended sources were not defined, probably because a catalog was passed. If not, this is an error.\n",
      "  warnings.warn(\"Extended sources were not defined, probably because a catalog was passed. If not, this is an error.\", UserWarning)\n"
     ]
    },
    {
     "name": "stdout",
     "output_type": "stream",
     "text": [
      "10.92 elapsed seconds, restarting timer\n",
      "0.31 elapsed seconds, restarting timer\n",
      "writing exposure time table to /Users/cm/github/gphoton2_refactor/gPhoton2/test_data//e23456/e23456-fd-b00-f0120-movie-exptime.csv\n",
      "writing extended source table to /Users/cm/github/gphoton2_refactor/gPhoton2/test_data//e23456/e23456-fd-b00-extended-shapes.csv\n",
      "writing source table to /Users/cm/github/gphoton2_refactor/gPhoton2/test_data//e23456/e23456-fd-b00-f0120-movie-photom-3_8-mon.csv\n",
      "10.89 elapsed seconds, restarting timer\n"
     ]
    },
    {
     "name": "stderr",
     "output_type": "stream",
     "text": [
      "/Users/cm/github/gphoton2_refactor/gPhoton2/gPhoton/lightcurve/core.py:67: UserWarning: Extended sources were not defined, probably because a catalog was passed. If not, this is an error.\n",
      "  warnings.warn(\"Extended sources were not defined, probably because a catalog was passed. If not, this is an error.\", UserWarning)\n"
     ]
    },
    {
     "name": "stdout",
     "output_type": "stream",
     "text": [
      "0.32 elapsed seconds, restarting timer\n",
      "writing exposure time table to /Users/cm/github/gphoton2_refactor/gPhoton2/test_data//e23456/e23456-fd-b00-f0120-movie-exptime.csv\n",
      "writing extended source table to /Users/cm/github/gphoton2_refactor/gPhoton2/test_data//e23456/e23456-fd-b00-extended-shapes.csv\n",
      "writing source table to /Users/cm/github/gphoton2_refactor/gPhoton2/test_data//e23456/e23456-fd-b00-f0120-movie-photom-6_0-mon.csv\n"
     ]
    },
    {
     "name": "stderr",
     "output_type": "stream",
     "text": [
      "/Users/cm/github/gphoton2_refactor/gPhoton2/gPhoton/lightcurve/core.py:67: UserWarning: Extended sources were not defined, probably because a catalog was passed. If not, this is an error.\n",
      "  warnings.warn(\"Extended sources were not defined, probably because a catalog was passed. If not, this is an error.\", UserWarning)\n"
     ]
    },
    {
     "name": "stdout",
     "output_type": "stream",
     "text": [
      "11.04 elapsed seconds, restarting timer\n",
      "0.36 elapsed seconds, restarting timer\n",
      "writing exposure time table to /Users/cm/github/gphoton2_refactor/gPhoton2/test_data//e23456/e23456-fd-b00-f0120-movie-exptime.csv\n",
      "writing extended source table to /Users/cm/github/gphoton2_refactor/gPhoton2/test_data//e23456/e23456-fd-b00-extended-shapes.csv\n",
      "writing source table to /Users/cm/github/gphoton2_refactor/gPhoton2/test_data//e23456/e23456-fd-b00-f0120-movie-photom-9_0-mon.csv\n"
     ]
    },
    {
     "name": "stderr",
     "output_type": "stream",
     "text": [
      "/Users/cm/github/gphoton2_refactor/gPhoton2/gPhoton/lightcurve/core.py:67: UserWarning: Extended sources were not defined, probably because a catalog was passed. If not, this is an error.\n",
      "  warnings.warn(\"Extended sources were not defined, probably because a catalog was passed. If not, this is an error.\", UserWarning)\n"
     ]
    },
    {
     "name": "stdout",
     "output_type": "stream",
     "text": [
      "11.17 elapsed seconds, restarting timer\n",
      "0.53 elapsed seconds, restarting timer\n",
      "writing exposure time table to /Users/cm/github/gphoton2_refactor/gPhoton2/test_data//e23456/e23456-fd-b00-f0120-movie-exptime.csv\n",
      "writing extended source table to /Users/cm/github/gphoton2_refactor/gPhoton2/test_data//e23456/e23456-fd-b00-extended-shapes.csv\n",
      "writing source table to /Users/cm/github/gphoton2_refactor/gPhoton2/test_data//e23456/e23456-fd-b00-f0120-movie-photom-12_8-mon.csv\n"
     ]
    },
    {
     "name": "stderr",
     "output_type": "stream",
     "text": [
      "/Users/cm/github/gphoton2_refactor/gPhoton2/gPhoton/lightcurve/core.py:67: UserWarning: Extended sources were not defined, probably because a catalog was passed. If not, this is an error.\n",
      "  warnings.warn(\"Extended sources were not defined, probably because a catalog was passed. If not, this is an error.\", UserWarning)\n"
     ]
    },
    {
     "name": "stdout",
     "output_type": "stream",
     "text": [
      "11.33 elapsed seconds, restarting timer\n",
      "0.48 elapsed seconds, restarting timer\n",
      "writing exposure time table to /Users/cm/github/gphoton2_refactor/gPhoton2/test_data//e23456/e23456-fd-b00-f0120-movie-exptime.csv\n",
      "writing extended source table to /Users/cm/github/gphoton2_refactor/gPhoton2/test_data//e23456/e23456-fd-b00-extended-shapes.csv\n",
      "writing source table to /Users/cm/github/gphoton2_refactor/gPhoton2/test_data//e23456/e23456-fd-b00-f0120-movie-photom-17_3-mon.csv\n",
      "11.6 elapsed seconds, restarting timer\n",
      "writing full-depth image to /Users/cm/github/gphoton2_refactor/gPhoton2/test_data/e23456/e23456-fd-b00-ffull-image-r.fits\n"
     ]
    },
    {
     "name": "stderr",
     "output_type": "stream",
     "text": [
      "/Users/cm/github/gphoton2_refactor/gPhoton2/gPhoton/lightcurve/core.py:67: UserWarning: Extended sources were not defined, probably because a catalog was passed. If not, this is an error.\n",
      "  warnings.warn(\"Extended sources were not defined, probably because a catalog was passed. If not, this is an error.\", UserWarning)\n"
     ]
    },
    {
     "name": "stdout",
     "output_type": "stream",
     "text": [
      "0.38 elapsed seconds, restarting timer\n",
      "writing 120-second depth movie to /Users/cm/github/gphoton2_refactor/gPhoton2/test_data/e23456/e23456-fd-b00-f0120-movie-r.fits\n",
      "4.63 elapsed seconds, restarting timer\n",
      "91.24 seconds for execution\n"
     ]
    },
    {
     "data": {
      "text/plain": [
       "'return code: successful'"
      ]
     },
     "execution_count": 4,
     "metadata": {},
     "output_type": "execute_result"
    }
   ],
   "source": [
    "# Run FUV photometry with NUV source positions\n",
    "execute_pipeline(\n",
    "    23456,\n",
    "    \"FUV\",\n",
    "    depth=120,\n",
    "    threads=4,\n",
    "    local_root=\"/Users/cm/github/gphoton2_refactor/gPhoton2/test_data/\",\n",
    "    recreate=False,\n",
    "    aperture_sizes=[1.5, 2.3, 3.8, 6.0, 9.0, 12.8, 17.3],\n",
    "    write={\"movie\": True, \"image\": True},\n",
    "    coregister_lightcurves=True,\n",
    "    photometry_only=False,\n",
    "    compression=\"rice\",\n",
    "    source_catalog_file=\"/Users/cm/github/gphoton2_refactor/gPhoton2/test_data/e23456/e23456-nd-b00-f0120-movie-photom-12_8-mon.csv\",\n",
    "    suffix='mon',\n",
    ")"
   ]
  },
  {
   "cell_type": "code",
   "execution_count": null,
   "id": "ec9c5f2b-8519-4521-8265-642fe760f12a",
   "metadata": {},
   "outputs": [],
   "source": []
  },
  {
   "cell_type": "code",
   "execution_count": 5,
   "id": "2085f9a7-4023-4016-aff5-7a113f79c6b7",
   "metadata": {},
   "outputs": [
    {
     "name": "stdout",
     "output_type": "stream",
     "text": [
      "starting timer\n",
      "eclipse 23456 NUV  -- MIS; 0 leg(s)\n",
      "using existing photon list(s): ['/Users/cm/github/gphoton2_refactor/gPhoton2/test_data/e23456/e23456-nd-b00.parquet']\n",
      "0.0 elapsed seconds, restarting timer\n",
      "pinning first bin to first bin from /Users/cm/github/gphoton2_refactor/gPhoton2/test_data//e23456/e23456-fd-b00-f0120-movie-exptime.csv\n",
      "making images from /Users/cm/github/gphoton2_refactor/gPhoton2/test_data/e23456/e23456-nd-b00.parquet\n",
      "indexing data and making WCS solution\n",
      "making full-depth image\n",
      "making 120-second depth movies\n",
      "20.14 elapsed seconds, restarting timer                     \n",
      "Using specified catalog of 3962 sources.\n",
      "0.19 elapsed seconds, restarting timer\n",
      "0.23 elapsed seconds, restarting timer\n",
      "writing exposure time table to /Users/cm/github/gphoton2_refactor/gPhoton2/test_data//e23456/e23456-nd-b00-f0120-movie-exptime.csv\n",
      "writing extended source table to /Users/cm/github/gphoton2_refactor/gPhoton2/test_data//e23456/e23456-nd-b00-extended-shapes.csv\n",
      "writing source table to /Users/cm/github/gphoton2_refactor/gPhoton2/test_data//e23456/e23456-nd-b00-f0120-movie-photom-1_5-mof.csv\n",
      "11.24 elapsed seconds, restarting timer\n"
     ]
    },
    {
     "name": "stderr",
     "output_type": "stream",
     "text": [
      "/Users/cm/github/gphoton2_refactor/gPhoton2/gPhoton/lightcurve/core.py:67: UserWarning: Extended sources were not defined, probably because a catalog was passed. If not, this is an error.\n",
      "  warnings.warn(\"Extended sources were not defined, probably because a catalog was passed. If not, this is an error.\", UserWarning)\n"
     ]
    },
    {
     "name": "stdout",
     "output_type": "stream",
     "text": [
      "0.25 elapsed seconds, restarting timer\n",
      "writing exposure time table to /Users/cm/github/gphoton2_refactor/gPhoton2/test_data//e23456/e23456-nd-b00-f0120-movie-exptime.csv\n",
      "writing extended source table to /Users/cm/github/gphoton2_refactor/gPhoton2/test_data//e23456/e23456-nd-b00-extended-shapes.csv\n",
      "writing source table to /Users/cm/github/gphoton2_refactor/gPhoton2/test_data//e23456/e23456-nd-b00-f0120-movie-photom-2_3-mof.csv\n",
      "11.44 elapsed seconds, restarting timer\n"
     ]
    },
    {
     "name": "stderr",
     "output_type": "stream",
     "text": [
      "/Users/cm/github/gphoton2_refactor/gPhoton2/gPhoton/lightcurve/core.py:67: UserWarning: Extended sources were not defined, probably because a catalog was passed. If not, this is an error.\n",
      "  warnings.warn(\"Extended sources were not defined, probably because a catalog was passed. If not, this is an error.\", UserWarning)\n"
     ]
    },
    {
     "name": "stdout",
     "output_type": "stream",
     "text": [
      "0.26 elapsed seconds, restarting timer\n",
      "writing exposure time table to /Users/cm/github/gphoton2_refactor/gPhoton2/test_data//e23456/e23456-nd-b00-f0120-movie-exptime.csv\n",
      "writing extended source table to /Users/cm/github/gphoton2_refactor/gPhoton2/test_data//e23456/e23456-nd-b00-extended-shapes.csv\n",
      "writing source table to /Users/cm/github/gphoton2_refactor/gPhoton2/test_data//e23456/e23456-nd-b00-f0120-movie-photom-3_8-mof.csv\n",
      "11.7 elapsed seconds, restarting timer\n"
     ]
    },
    {
     "name": "stderr",
     "output_type": "stream",
     "text": [
      "/Users/cm/github/gphoton2_refactor/gPhoton2/gPhoton/lightcurve/core.py:67: UserWarning: Extended sources were not defined, probably because a catalog was passed. If not, this is an error.\n",
      "  warnings.warn(\"Extended sources were not defined, probably because a catalog was passed. If not, this is an error.\", UserWarning)\n"
     ]
    },
    {
     "name": "stdout",
     "output_type": "stream",
     "text": [
      "0.31 elapsed seconds, restarting timer\n",
      "writing exposure time table to /Users/cm/github/gphoton2_refactor/gPhoton2/test_data//e23456/e23456-nd-b00-f0120-movie-exptime.csv\n",
      "writing extended source table to /Users/cm/github/gphoton2_refactor/gPhoton2/test_data//e23456/e23456-nd-b00-extended-shapes.csv\n",
      "writing source table to /Users/cm/github/gphoton2_refactor/gPhoton2/test_data//e23456/e23456-nd-b00-f0120-movie-photom-6_0-mof.csv\n",
      "11.43 elapsed seconds, restarting timer\n"
     ]
    },
    {
     "name": "stderr",
     "output_type": "stream",
     "text": [
      "/Users/cm/github/gphoton2_refactor/gPhoton2/gPhoton/lightcurve/core.py:67: UserWarning: Extended sources were not defined, probably because a catalog was passed. If not, this is an error.\n",
      "  warnings.warn(\"Extended sources were not defined, probably because a catalog was passed. If not, this is an error.\", UserWarning)\n"
     ]
    },
    {
     "name": "stdout",
     "output_type": "stream",
     "text": [
      "0.29 elapsed seconds, restarting timer\n",
      "writing exposure time table to /Users/cm/github/gphoton2_refactor/gPhoton2/test_data//e23456/e23456-nd-b00-f0120-movie-exptime.csv\n",
      "writing extended source table to /Users/cm/github/gphoton2_refactor/gPhoton2/test_data//e23456/e23456-nd-b00-extended-shapes.csv\n",
      "writing source table to /Users/cm/github/gphoton2_refactor/gPhoton2/test_data//e23456/e23456-nd-b00-f0120-movie-photom-9_0-mof.csv\n",
      "11.63 elapsed seconds, restarting timer\n"
     ]
    },
    {
     "name": "stderr",
     "output_type": "stream",
     "text": [
      "/Users/cm/github/gphoton2_refactor/gPhoton2/gPhoton/lightcurve/core.py:67: UserWarning: Extended sources were not defined, probably because a catalog was passed. If not, this is an error.\n",
      "  warnings.warn(\"Extended sources were not defined, probably because a catalog was passed. If not, this is an error.\", UserWarning)\n"
     ]
    },
    {
     "name": "stdout",
     "output_type": "stream",
     "text": [
      "0.34 elapsed seconds, restarting timer\n",
      "writing exposure time table to /Users/cm/github/gphoton2_refactor/gPhoton2/test_data//e23456/e23456-nd-b00-f0120-movie-exptime.csv\n",
      "writing extended source table to /Users/cm/github/gphoton2_refactor/gPhoton2/test_data//e23456/e23456-nd-b00-extended-shapes.csv\n",
      "writing source table to /Users/cm/github/gphoton2_refactor/gPhoton2/test_data//e23456/e23456-nd-b00-f0120-movie-photom-12_8-mof.csv\n",
      "11.79 elapsed seconds, restarting timer\n"
     ]
    },
    {
     "name": "stderr",
     "output_type": "stream",
     "text": [
      "/Users/cm/github/gphoton2_refactor/gPhoton2/gPhoton/lightcurve/core.py:67: UserWarning: Extended sources were not defined, probably because a catalog was passed. If not, this is an error.\n",
      "  warnings.warn(\"Extended sources were not defined, probably because a catalog was passed. If not, this is an error.\", UserWarning)\n"
     ]
    },
    {
     "name": "stdout",
     "output_type": "stream",
     "text": [
      "0.38 elapsed seconds, restarting timer\n",
      "writing exposure time table to /Users/cm/github/gphoton2_refactor/gPhoton2/test_data//e23456/e23456-nd-b00-f0120-movie-exptime.csv\n",
      "writing extended source table to /Users/cm/github/gphoton2_refactor/gPhoton2/test_data//e23456/e23456-nd-b00-extended-shapes.csv\n",
      "writing source table to /Users/cm/github/gphoton2_refactor/gPhoton2/test_data//e23456/e23456-nd-b00-f0120-movie-photom-17_3-mof.csv\n",
      "11.93 elapsed seconds, restarting timer\n",
      "writing full-depth image to /Users/cm/github/gphoton2_refactor/gPhoton2/test_data/e23456/e23456-nd-b00-ffull-image-r.fits\n"
     ]
    },
    {
     "name": "stderr",
     "output_type": "stream",
     "text": [
      "/Users/cm/github/gphoton2_refactor/gPhoton2/gPhoton/lightcurve/core.py:67: UserWarning: Extended sources were not defined, probably because a catalog was passed. If not, this is an error.\n",
      "  warnings.warn(\"Extended sources were not defined, probably because a catalog was passed. If not, this is an error.\", UserWarning)\n"
     ]
    },
    {
     "name": "stdout",
     "output_type": "stream",
     "text": [
      "0.46 elapsed seconds, restarting timer\n",
      "writing 120-second depth movie to /Users/cm/github/gphoton2_refactor/gPhoton2/test_data/e23456/e23456-nd-b00-f0120-movie-r.fits\n",
      "6.03 elapsed seconds, restarting timer\n",
      "110.04 seconds for execution\n"
     ]
    },
    {
     "data": {
      "text/plain": [
       "'return code: successful'"
      ]
     },
     "execution_count": 5,
     "metadata": {},
     "output_type": "execute_result"
    }
   ],
   "source": [
    "# Run NUV photometry with FUV source positions\n",
    "execute_pipeline(\n",
    "    23456,\n",
    "    \"NUV\",\n",
    "    depth=120,\n",
    "    threads=4,\n",
    "    local_root=\"/Users/cm/github/gphoton2_refactor/gPhoton2/test_data/\",\n",
    "    recreate=False,\n",
    "    aperture_sizes=[1.5, 2.3, 3.8, 6.0, 9.0, 12.8, 17.3],\n",
    "    write={\"movie\": True, \"image\": True},\n",
    "    coregister_lightcurves=True,\n",
    "    photometry_only=False,\n",
    "    compression=\"rice\",\n",
    "    source_catalog_file=\"/Users/cm/github/gphoton2_refactor/gPhoton2/test_data/e23456/e23456-fd-b00-f0120-movie-photom-12_8-mof.csv\",\n",
    "    suffix='mof',\n",
    ")"
   ]
  },
  {
   "cell_type": "code",
   "execution_count": 6,
   "id": "e0850588-e815-484b-a196-02f00607ba65",
   "metadata": {},
   "outputs": [],
   "source": [
    "# Check consistency of round-trip... run NUV on NUV catalog source positions etc."
   ]
  }
 ],
 "metadata": {
  "kernelspec": {
   "display_name": "Python 3 (ipykernel)",
   "language": "python",
   "name": "python3"
  },
  "language_info": {
   "codemirror_mode": {
    "name": "ipython",
    "version": 3
   },
   "file_extension": ".py",
   "mimetype": "text/x-python",
   "name": "python",
   "nbconvert_exporter": "python",
   "pygments_lexer": "ipython3",
   "version": "3.10.14"
  }
 },
 "nbformat": 4,
 "nbformat_minor": 5
}
