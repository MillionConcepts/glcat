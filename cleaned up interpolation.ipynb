{
 "cells": [
  {
   "cell_type": "code",
   "execution_count": 1,
   "id": "14be9456",
   "metadata": {},
   "outputs": [],
   "source": [
    "import numpy as np "
   ]
  },
  {
   "cell_type": "code",
   "execution_count": 10,
   "id": "dc9695e5",
   "metadata": {},
   "outputs": [
    {
     "ename": "ValueError",
     "evalue": "bins must be monotonically increasing or decreasing",
     "output_type": "error",
     "traceback": [
      "\u001b[0;31m---------------------------------------------------------------------------\u001b[0m",
      "\u001b[0;31mValueError\u001b[0m                                Traceback (most recent call last)",
      "Cell \u001b[0;32mIn[10], line 3\u001b[0m\n\u001b[1;32m      1\u001b[0m x \u001b[38;5;241m=\u001b[39m [\u001b[38;5;241m738997382.015\u001b[39m]\n\u001b[1;32m      2\u001b[0m bins \u001b[38;5;241m=\u001b[39m [\u001b[38;5;241m738997342.995\u001b[39m, \u001b[38;5;241m738997342.99\u001b[39m, \u001b[38;5;241m738997344.995\u001b[39m, \u001b[38;5;241m738997380.995\u001b[39m]\n\u001b[0;32m----> 3\u001b[0m indices \u001b[38;5;241m=\u001b[39m \u001b[43mnp\u001b[49m\u001b[38;5;241;43m.\u001b[39;49m\u001b[43mdigitize\u001b[49m\u001b[43m(\u001b[49m\u001b[43mx\u001b[49m\u001b[43m,\u001b[49m\u001b[43m \u001b[49m\u001b[43mbins\u001b[49m\u001b[43m,\u001b[49m\u001b[43m \u001b[49m\u001b[43mright\u001b[49m\u001b[38;5;241;43m=\u001b[39;49m\u001b[38;5;28;43;01mTrue\u001b[39;49;00m\u001b[43m)\u001b[49m\n\u001b[1;32m      4\u001b[0m indices\u001b[38;5;241m-\u001b[39m\u001b[38;5;241m1\u001b[39m\n",
      "File \u001b[0;32m<__array_function__ internals>:200\u001b[0m, in \u001b[0;36mdigitize\u001b[0;34m(*args, **kwargs)\u001b[0m\n",
      "File \u001b[0;32m~/mambaforge/envs/gphoton2/lib/python3.10/site-packages/numpy/lib/function_base.py:5606\u001b[0m, in \u001b[0;36mdigitize\u001b[0;34m(x, bins, right)\u001b[0m\n\u001b[1;32m   5604\u001b[0m mono \u001b[38;5;241m=\u001b[39m _monotonicity(bins)\n\u001b[1;32m   5605\u001b[0m \u001b[38;5;28;01mif\u001b[39;00m mono \u001b[38;5;241m==\u001b[39m \u001b[38;5;241m0\u001b[39m:\n\u001b[0;32m-> 5606\u001b[0m     \u001b[38;5;28;01mraise\u001b[39;00m \u001b[38;5;167;01mValueError\u001b[39;00m(\u001b[38;5;124m\"\u001b[39m\u001b[38;5;124mbins must be monotonically increasing or decreasing\u001b[39m\u001b[38;5;124m\"\u001b[39m)\n\u001b[1;32m   5608\u001b[0m \u001b[38;5;66;03m# this is backwards because the arguments below are swapped\u001b[39;00m\n\u001b[1;32m   5609\u001b[0m side \u001b[38;5;241m=\u001b[39m \u001b[38;5;124m'\u001b[39m\u001b[38;5;124mleft\u001b[39m\u001b[38;5;124m'\u001b[39m \u001b[38;5;28;01mif\u001b[39;00m right \u001b[38;5;28;01melse\u001b[39;00m \u001b[38;5;124m'\u001b[39m\u001b[38;5;124mright\u001b[39m\u001b[38;5;124m'\u001b[39m\n",
      "\u001b[0;31mValueError\u001b[0m: bins must be monotonically increasing or decreasing"
     ]
    }
   ],
   "source": [
    "x = [738997382.015]\n",
    "bins = [738997342.995, 738997342.99, 738997344.995, 738997380.995]\n",
    "indices = np.digitize(x, bins, right=True)\n",
    "indices-1"
   ]
  },
  {
   "cell_type": "code",
   "execution_count": 9,
   "id": "fb67157e",
   "metadata": {},
   "outputs": [
    {
     "data": {
      "text/plain": [
       "738997344.995"
      ]
     },
     "execution_count": 9,
     "metadata": {},
     "output_type": "execute_result"
    }
   ],
   "source": []
  },
  {
   "cell_type": "code",
   "execution_count": 13,
   "id": "f824a22a",
   "metadata": {},
   "outputs": [
    {
     "data": {
      "text/plain": [
       "(array([129616., 124426., 124055., 125158.,  29133.,  31156.,  31181.,\n",
       "         31364.,  31057.,  31242.,  31325.,  31184.,  31491.,  31255.,\n",
       "         30961.,  31122.,  31057.,  31074.,  31011.,  31131.]),\n",
       " array([2098.  , 2113.05, 2128.1 , 2143.15, 2158.2 , 2173.25, 2188.3 ,\n",
       "        2203.35, 2218.4 , 2233.45, 2248.5 , 2263.55, 2278.6 , 2293.65,\n",
       "        2308.7 , 2323.75, 2338.8 , 2353.85, 2368.9 , 2383.95, 2399.  ]),\n",
       " <BarContainer object of 20 artists>)"
      ]
     },
     "execution_count": 13,
     "metadata": {},
     "output_type": "execute_result"
    },
    {
     "data": {
      "image/png": "[encoded data removed]",
      "text/plain": [
       "<Figure size 640x480 with 1 Axes>"
      ]
     },
     "metadata": {},
     "output_type": "display_data"
    }
   ],
   "source": [
    "import pandas as pd \n",
    "import matplotlib.pyplot as plt \n",
    "\n",
    "\n",
    "aspix = pd.read_csv(\"/home/bekah/glcat/aspix.csv\")\n",
    "plt.hist(aspix, bins=20)"
   ]
  },
  {
   "cell_type": "code",
   "execution_count": null,
   "id": "88e43466",
   "metadata": {},
   "outputs": [],
   "source": [
    "dxi, deta = np.zeros(len(t)), np.zeros(len(t))\n",
    "\n",
    "\n",
    "aspect_ratio = t[ok_indices] - asptime[aspect_slice] / (\n",
    "        asptime[aspect_slice + 1] - asptime[aspect_slice]\n",
    "    )\n",
    "\n",
    "\n",
    "dxi[ok_indices] = (\n",
    "        xi_vec[aspect_slice + 1] - xi_vec[aspect_slice]\n",
    "    ) * aspect_ratio\n",
    "\n",
    "\n",
    "deta[ok_indices] = (\n",
    "        eta_vec[aspect_slice + 1] - eta_vec[aspect_slice]\n",
    "    ) * aspect_ratio"
   ]
  }
 ],
 "metadata": {
  "kernelspec": {
   "display_name": "Python 3 (ipykernel)",
   "language": "python",
   "name": "python3"
  },
  "language_info": {
   "codemirror_mode": {
    "name": "ipython",
    "version": 3
   },
   "file_extension": ".py",
   "mimetype": "text/x-python",
   "name": "python",
   "nbconvert_exporter": "python",
   "pygments_lexer": "ipython3",
   "version": "3.10.12"
  }
 },
 "nbformat": 4,
 "nbformat_minor": 5
}
