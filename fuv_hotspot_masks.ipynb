{
 "cells": [
  {
   "cell_type": "code",
   "execution_count": null,
   "id": "f9e31cfd",
   "metadata": {},
   "outputs": [],
   "source": [
    "import boto3\n",
    "import numpy as np\n",
    "from astropy.io import fits\n",
    "import gzip\n",
    "import re\n",
    "from io import BytesIO\n",
    "import pandas as pd "
   ]
  },
  {
   "cell_type": "code",
   "execution_count": null,
   "id": "442e49ac",
   "metadata": {},
   "outputs": [],
   "source": [
    "existing_fuv = \"fuv_objects.csv\""
   ]
  },
  {
   "cell_type": "code",
   "execution_count": null,
   "id": "13ce03ba",
   "metadata": {},
   "outputs": [],
   "source": [
    "fuv_objs = pd.read_csv(existing_fuv)\n",
    "fuv_objs['eclipse']"
   ]
  },
  {
   "cell_type": "code",
   "execution_count": null,
   "id": "b1550ff7",
   "metadata": {},
   "outputs": [],
   "source": [
    "fuv_objs['group'] = (fuv_objs.index // 500) + 1\n",
    "fuv_groups = fuv_objs.groupby('group')"
   ]
  },
  {
   "cell_type": "code",
   "execution_count": null,
   "id": "1407baa7",
   "metadata": {},
   "outputs": [],
   "source": [
    "# Initialize S3 client\n",
    "s3 = boto3.client('s3')\n",
    "\n",
    "def download_fits(bucket_name, key):\n",
    "    try:\n",
    "        response = s3.get_object(Bucket=bucket_name, Key=key)\n",
    "        with gzip.open(BytesIO(response['Body'].read()), 'rb') as f:\n",
    "            return fits.open(BytesIO(f.read()))    \n",
    "    except Exception as e:\n",
    "        if 'NoSuchKey' in str(e):\n",
    "            print(f\"Key '{key}' does not exist. Skipping...\")\n",
    "            return None\n",
    "        else:\n",
    "            print(\"something else went wrong\")\n",
    "            print(str(e))\n",
    "            return None\n",
    "        \n",
    "# Bucket name\n",
    "bucket_name = 'backplanetest'\n",
    "\n",
    "for group in fuv_groups:\n",
    "    # Initialize an array to hold the sum of pixel values\n",
    "    sum_image = None\n",
    "    print(group)\n",
    "    # Add the pixel values of each image\n",
    "    for e in group[1]['eclipse']:\n",
    "        i = str(e).zfill(5)\n",
    "        key = f\"e{i}-fd/e{i}-fd-b00-f3000-t00000-g_dose.fits.gz\"        \n",
    "        image = download_fits(bucket_name, key)\n",
    "        print(key)\n",
    "        if image is not None:\n",
    "            if sum_image is None:\n",
    "                sum_image = np.zeros_like(image[0].data, dtype=np.float64)\n",
    "            sum_image += image[0].data.astype(np.float64)\n",
    "\n",
    "    # Save the summed image as a FITS file\n",
    "    fits.writeto(f'/media/bekah/BekahA/hotspot/{i}_f500_image.fits', sum_image, overwrite=True)\n",
    "    print(f\"Summed image saved as '{i}_g100_image.fits'\")"
   ]
  },
  {
   "cell_type": "code",
   "execution_count": null,
   "id": "3ad5e207",
   "metadata": {},
   "outputs": [],
   "source": [
    "s3 get_object costs .0004 per 1000 requests, so 6000 eclipses is ~.0012 "
   ]
  }
 ],
 "metadata": {
  "kernelspec": {
   "display_name": "Python 3 (ipykernel)",
   "language": "python",
   "name": "python3"
  },
  "language_info": {
   "codemirror_mode": {
    "name": "ipython",
    "version": 3
   },
   "file_extension": ".py",
   "mimetype": "text/x-python",
   "name": "python",
   "nbconvert_exporter": "python",
   "pygments_lexer": "ipython3",
   "version": "3.11.9"
  }
 },
 "nbformat": 4,
 "nbformat_minor": 5
}
