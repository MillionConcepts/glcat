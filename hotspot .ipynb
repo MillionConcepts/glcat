{
 "cells": [
  {
   "cell_type": "code",
   "execution_count": null,
   "id": "40119e98",
   "metadata": {},
   "outputs": [],
   "source": [
    "import pandas as pd\n",
    "from astropy.io import fits\n",
    "import numpy as np\n",
    "import matplotlib.pyplot as plt\n",
    "import pyarrow.parquet as parquet\n",
    "\n",
    "from scipy.ndimage import median_filter\n"
   ]
  },
  {
   "cell_type": "code",
   "execution_count": null,
   "id": "e0c8a9c6",
   "metadata": {},
   "outputs": [],
   "source": [
    "mask = fits.open(\"/home/bekah/gPhoton2/gPhoton/cal_data/FUV_mask.fits\")"
   ]
  },
  {
   "cell_type": "code",
   "execution_count": null,
   "id": "5130ce9c",
   "metadata": {
    "scrolled": true
   },
   "outputs": [],
   "source": [
    "plt.imshow(mask[0].data,  interpolation='none')"
   ]
  },
  {
   "cell_type": "code",
   "execution_count": null,
   "id": "4c628d1b",
   "metadata": {},
   "outputs": [],
   "source": [
    "mask[0].data.shape"
   ]
  },
  {
   "cell_type": "code",
   "execution_count": null,
   "id": "0109b297",
   "metadata": {},
   "outputs": [],
   "source": [
    "fmask = fits.open(\"/home/bekah/gPhoton2/gPhoton/cal_data/FUV_mask.fits\")\n",
    "plt.imshow(fmask[0].data,  interpolation='none')\n",
    "plt.colorbar()"
   ]
  },
  {
   "cell_type": "code",
   "execution_count": null,
   "id": "e8c1f66f",
   "metadata": {},
   "outputs": [],
   "source": [
    "nmask = fits.open(\"/media/bekah/BekahA/hotspot/200_stack_fuv/correct_stacks/derivatives/dilated_mask_filtered10_downsize_f.fits\")\n",
    "plt.imshow(1 - nmask[0].data,  interpolation='none')\n",
    "plt.colorbar()"
   ]
  },
  {
   "cell_type": "code",
   "execution_count": null,
   "id": "6865c900",
   "metadata": {},
   "outputs": [],
   "source": [
    "plt.imshow(fmask[0].data-(1-nmask[0].data) )\n",
    "plt.colorbar()"
   ]
  },
  {
   "cell_type": "markdown",
   "id": "2408917b",
   "metadata": {},
   "source": [
    "#### ideas for hotspot mask:\n",
    "1. median filtering \n",
    "2.  thresholding: \n",
    "\n",
    "    a) what the mission did: \n",
    ">locate hotspots, defined as areas that have 5*sigma or higher rate than the\n",
    ";diffuse background.  Assume Poisson statistics to calculate the 1-sigma\n",
    ";level, because the original data has the hotspots and the median filtered\n",
    ";data has an artificially low noise level.  Remember this part needs to be\n",
    ";in COUNTS to scale properly to noise.\n",
    "   hotidx = where((img - flatimg)/(sqrt(mean(flatimg))) ge 5,nhot)\"\"\"\n",
    "   \n",
    "    b) global thresholding, adaptive thresholding, and Otsu's method"
   ]
  },
  {
   "cell_type": "code",
   "execution_count": null,
   "id": "b8654231",
   "metadata": {},
   "outputs": [],
   "source": [
    "e30025 = fits.open(\"/media/bekah/BekahA/hotspot/17316_f500_image.fits\")\n",
    "image = e30025[0].data\n"
   ]
  },
  {
   "cell_type": "code",
   "execution_count": null,
   "id": "683a2a4a",
   "metadata": {},
   "outputs": [],
   "source": [
    "filtered_image = median_filter(image, size=5)\n"
   ]
  },
  {
   "cell_type": "code",
   "execution_count": null,
   "id": "78337cab",
   "metadata": {},
   "outputs": [],
   "source": [
    "from compare_aspect.plots import centile_clip\n",
    "\n",
    "plt.imshow(centile_clip(filtered_image))\n",
    "plt.colorbar()"
   ]
  },
  {
   "cell_type": "code",
   "execution_count": null,
   "id": "04cfa402",
   "metadata": {},
   "outputs": [],
   "source": [
    "x = (3250, 3500)\n",
    "y = (3020,3260)\n",
    "subset = filtered_image[3200:3400,2800:3000]"
   ]
  },
  {
   "cell_type": "code",
   "execution_count": null,
   "id": "4a4b6bc6",
   "metadata": {},
   "outputs": [],
   "source": [
    "np.median(subset)"
   ]
  },
  {
   "cell_type": "code",
   "execution_count": null,
   "id": "b46e4887",
   "metadata": {},
   "outputs": [],
   "source": [
    "# Exclude zero values\n",
    "non_zero_arr = filtered_image[filtered_image != 0]\n",
    "\n",
    "# Calculate median and mean\n",
    "median = np.median(non_zero_arr)\n",
    "mean = np.mean(non_zero_arr)\n",
    "std = np.std(non_zero_arr)"
   ]
  },
  {
   "cell_type": "code",
   "execution_count": null,
   "id": "1c1a966f",
   "metadata": {},
   "outputs": [],
   "source": [
    "median"
   ]
  },
  {
   "cell_type": "code",
   "execution_count": null,
   "id": "5169b234",
   "metadata": {},
   "outputs": [],
   "source": [
    "np.max(fmask)"
   ]
  },
  {
   "cell_type": "code",
   "execution_count": null,
   "id": "ebb4a834",
   "metadata": {},
   "outputs": [],
   "source": [
    "import matplotlib.image\n",
    "\n",
    "mask = (image <= 20) | (image > 600)\n",
    "matplotlib.image.imsave('mask.png',mask)"
   ]
  },
  {
   "cell_type": "code",
   "execution_count": null,
   "id": "04b1d0cb",
   "metadata": {},
   "outputs": [],
   "source": [
    "mask_small = image <= 20\n",
    "mask_big = image >= 500\n",
    "\n",
    "plt.imshow(mask_small+mask_big, cmap='Greys', interpolation='none')\n",
    "plt.colorbar()"
   ]
  },
  {
   "cell_type": "code",
   "execution_count": null,
   "id": "00cfc7f0",
   "metadata": {},
   "outputs": [],
   "source": [
    "mask_big = filtered_image > 30\n",
    "plt.imshow(mask_big)\n",
    "plt.colorbar()"
   ]
  },
  {
   "cell_type": "code",
   "execution_count": null,
   "id": "63e6d5c6",
   "metadata": {},
   "outputs": [],
   "source": [
    "mask = mask_big + mask_small\n",
    "\n",
    "plt.imshow(mask)\n",
    "plt.colorbar()"
   ]
  },
  {
   "cell_type": "code",
   "execution_count": null,
   "id": "a0291d9b",
   "metadata": {},
   "outputs": [],
   "source": [
    "mask.shape"
   ]
  },
  {
   "cell_type": "code",
   "execution_count": null,
   "id": "276473ab",
   "metadata": {},
   "outputs": [],
   "source": [
    "t = 6750\n",
    "eclipse = 30025\n",
    "\n",
    "def make_mask(eclipse, t):\n",
    "    \"\"\" combine high and low value masks for x different frames of dose maps for a single eclipse\n",
    "    to make a hotspot mask. bc hotspots should be in the same location-ish, the masks combined will \n",
    "    have a value of x in the hotspot locations. \"\"\"\n",
    "    mask = np.empty([6000, 6000])\n",
    "    for i in range(3): \n",
    "        dose = fits.open(f\"/home/bekah/gPhoton2/test_data/e{eclipse}/e{eclipse}-nd-b00-f0025-t0{t+(i*750)}-g_dose.fits.gz\")\n",
    "        image = dose[0].data\n",
    "        filtered_image = median_filter(image, size=5)\n",
    "        \n",
    "        mask_small = filtered_image <= 0 \n",
    "        mask_big = filtered_image > 3\n",
    "        \n",
    "        mask = mask_big + mask_small + mask\n",
    "\n",
    "    return mask \n",
    "\n",
    "mask = make_mask(eclipse, t)"
   ]
  },
  {
   "cell_type": "code",
   "execution_count": null,
   "id": "b3c697a1",
   "metadata": {},
   "outputs": [],
   "source": [
    "plt.imshow(mask)\n",
    "plt.colorbar()"
   ]
  },
  {
   "cell_type": "code",
   "execution_count": null,
   "id": "4aaccb0d",
   "metadata": {},
   "outputs": [],
   "source": [
    "def combine_three_masks(eclipse1, eclipse2, eclipse3): \n",
    "    e1 = fits.open(f\"/media/bekah/BekahA/backplane_widths/e{eclipse1}/e{eclipse1}-nd-b00-f3000-t00000-g_dose.fits.gz\")\n",
    "    image1 = e1[0].data\n",
    "    filtered_image1 = median_filter(image1, size=5)\n",
    "    \n",
    "    e2 = fits.open(f\"/media/bekah/BekahA/backplane_widths/e{eclipse2}/e{eclipse2}-nd-b00-f3000-t00000-g_dose.fits.gz\")\n",
    "    image2 = e2[0].data\n",
    "    filtered_image2 = median_filter(image2, size=5)\n",
    "    \n",
    "    \n",
    "    e3 = fits.open(f\"/media/bekah/BekahA/backplane_widths/e{eclipse3}/e{eclipse3}-nd-b00-f3000-t00000-g_dose.fits.gz\")\n",
    "    image3 = e3[0].data\n",
    "    filtered_image3 = median_filter(image3, size=5)\n",
    "    \n",
    "    \n",
    "    mask = (filtered_image1 <= 0) | (filtered_image1 > 10)\n",
    "    mask2 = (filtered_image2 <= 0) | (filtered_image2 > 10)\n",
    "    mask3 = (filtered_image3 <= 0) | (filtered_image3 > 10)\n",
    "    \n",
    "    mask = mask.astype(int)\n",
    "    mask2 = mask2.astype(int)\n",
    "    mask3 = mask3.astype(int)\n",
    "\n",
    "\n",
    "    return mask + mask2 + mask3"
   ]
  },
  {
   "cell_type": "code",
   "execution_count": null,
   "id": "70868fad",
   "metadata": {},
   "outputs": [],
   "source": [
    "fmask = combine_three_masks(23346, 23334, 23328)"
   ]
  },
  {
   "cell_type": "code",
   "execution_count": null,
   "id": "236d871c",
   "metadata": {},
   "outputs": [],
   "source": [
    "import matplotlib.image\n",
    "\n",
    "matplotlib.image.imsave('fmask_g1.png', fmask>=3)"
   ]
  },
  {
   "cell_type": "code",
   "execution_count": null,
   "id": "44613a2c",
   "metadata": {},
   "outputs": [],
   "source": []
  }
 ],
 "metadata": {
  "kernelspec": {
   "display_name": "Python 3 (ipykernel)",
   "language": "python",
   "name": "python3"
  },
  "language_info": {
   "codemirror_mode": {
    "name": "ipython",
    "version": 3
   },
   "file_extension": ".py",
   "mimetype": "text/x-python",
   "name": "python",
   "nbconvert_exporter": "python",
   "pygments_lexer": "ipython3",
   "version": "3.10.12"
  }
 },
 "nbformat": 4,
 "nbformat_minor": 5
}
