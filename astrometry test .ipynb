{
 "cells": [
  {
   "cell_type": "code",
   "execution_count": 1,
   "id": "43069603",
   "metadata": {},
   "outputs": [],
   "source": [
    "from new_aspect_pipeline import refine_eclipse\n",
    "from hostess.subutils import Viewer\n",
    "from hostess.profilers import DEFAULT_PROFILER as PRO \n"
   ]
  },
  {
   "cell_type": "code",
   "execution_count": null,
   "id": "04247b65",
   "metadata": {},
   "outputs": [],
   "source": [
    "def time_run(name, eclipse): \n",
    "    from hostess.profilers import DEFAULT_PROFILER as PRO \n",
    "    with PRO.context(name): \n",
    "        print(\"starting eclipse run\")\n",
    "        refine_eclipse(\n",
    "            eclipse,\n",
    "            xylist=True,\n",
    "            band=\"NUV\",\n",
    "            aspect_root=\"/media/bekah/BekahA/glcat\",\n",
    "            gphoton_root=\"/home/bekah/gPhoton2\",\n",
    "            ext=\"gzip\")\n",
    "    return PRO.labels[name]['time']"
   ]
  },
  {
   "cell_type": "code",
   "execution_count": null,
   "id": "227708a4",
   "metadata": {},
   "outputs": [],
   "source": [
    "astrometry_hostess_image_run(\n",
    "        \"/media/bekah/BekahA/glcat/e00815/e00815-nd-b00-f0001-t00360-g_dose.fits.gz\",\n",
    "        \"/media/bekah/BekahA/glcat/e00815/astrom\",\n",
    "        120,\n",
    "        120)"
   ]
  },
  {
   "cell_type": "code",
   "execution_count": null,
   "id": "89faa3c8",
   "metadata": {
    "scrolled": true
   },
   "outputs": [],
   "source": [
    "time_run(\"run1\", 815)"
   ]
  },
  {
   "cell_type": "code",
   "execution_count": null,
   "id": "3553daa7",
   "metadata": {},
   "outputs": [],
   "source": [
    "def astrometry_hostess_image_run(\n",
    "        backplanepath,\n",
    "        output_path,\n",
    "        ra,\n",
    "        dec):\n",
    "    \"\"\" use hostess to managae runs to astrometry with images\n",
    "     not xylists \"\"\"\n",
    "    print(\"running astrometry on image\")\n",
    "    solve_process = Viewer.from_command(\n",
    "        \"solve-field\",\n",
    "        backplanepath,\n",
    "        overwrite=True,\n",
    "        no_plots=True,\n",
    "        dir_=output_path,\n",
    "        scale_units=\"arcsecperpix\",\n",
    "        scale_low=1.0,\n",
    "        scale_high=1.6,\n",
    "        N=\"none\",\n",
    "        U=\"none\",\n",
    "        B=\"none\",\n",
    "        M=\"none\",\n",
    "        R=\"none\",\n",
    "        ra=ra,\n",
    "        dec=dec,\n",
    "        rdaius=5,\n",
    "        temp_axy=True)\n",
    "    solve_process.wait()\n",
    "    print(solve_process)\n",
    "    return solve_process.done"
   ]
  },
  {
   "cell_type": "code",
   "execution_count": 2,
   "id": "5cf5716d",
   "metadata": {},
   "outputs": [],
   "source": [
    "from astropy.io import fits \n"
   ]
  },
  {
   "cell_type": "code",
   "execution_count": 25,
   "id": "951d21cd",
   "metadata": {},
   "outputs": [
    {
     "data": {
      "text/plain": [
       "-- onefield solver parameters: --\n",
       "Index(0): /usr/local/astrometry/data/index-6006-02.fits\n",
       "Index(1): /usr/local/astrometry/data/index-6005-02.fits\n",
       "Index(2): /usr/local/astrometry/data/index-6004-02.fits\n",
       "Index(3): /usr/local/astrometry/data/index-5206-26.fits\n",
       "Index(4): /usr/local/astrometry/data/index-5206-08.fits\n",
       "Index(5): /usr/local/astrometry/data/index-5205-26.fits\n",
       "Index(6): /usr/local/astrometry/data/index-5205-08.fits\n",
       "Index(7): /usr/local/astrometry/data/index-5204-26.fits\n",
       "Index(8): /usr/local/astrometry/data/index-5204-08.fits\n",
       "Index(9): /usr/local/astrometry/data/index-4113.fits\n",
       "Index(10): /usr/local/astrometry/data/index-4112.fits\n",
       "Index(11): /usr/local/astrometry/data/index-4111.fits\n",
       "Index(12): /usr/local/astrometry/data/index-4110.fits\n",
       "Index(13): /usr/local/astrometry/data/index-4109.fits\n",
       "Index(14): /usr/local/astrometry/data/index-4108.fits\n",
       "Index(15): /usr/local/astrometry/data/index-4107.fits\n",
       "Field name: /tmp/tmp.axy.8EmwX7\n",
       "Field scale lower: 1 arcsec/pixel\n",
       "Field scale upper: 1.6 arcsec/pixel\n",
       "X col name: X\n",
       "Y col name: Y\n",
       "Start obj: 30\n",
       "End obj: 40\n",
       "Solved_in: (null)\n",
       "Solved_out:\n",
       "  /media/bekah/BekahA/glcat/e00815/astrom/l5ts01900.solved\n",
       "Parity: 2\n",
       "Codetol: 0.01\n",
       "Verify pixels: 1 pix\n",
       "Maxquads: 0\n",
       "Maxmatches: 0\n",
       "Cpu limit: 300.000000 s\n",
       "Time limit: 0 s\n",
       "Total time limit: 0 s\n",
       "Total CPU limit: 300.000000 s\n",
       "Tweak: yes\n",
       "Tweak AB order: 2\n",
       "Tweak ABP order: 2\n",
       "--\n",
       "-- properties of the matching quad: --\n",
       "index id: 6005\n",
       "index healpix: 2\n",
       "index hpnside: 1\n",
       "log odds: 107.81\n",
       "odds: 6.62589e+46\n",
       "quadno: 439362\n",
       "stars: 212453,212436,212439,212428\n",
       "field: 36,13,10,18\n",
       "code error: 0.00914671\n",
       "nmatch: 27\n",
       "nconflict: 17\n",
       "nfield: 240\n",
       "nindex: 627\n",
       "scale: 1.12468 arcsec/pix\n",
       "parity: 0\n",
       "quads tried: 55\n",
       "quads matched: 39\n",
       "quads verified: 0\n",
       "objs tried: 37\n",
       "cpu time: 0.001246\n",
       "--"
      ]
     },
     "execution_count": 25,
     "metadata": {},
     "output_type": "execute_result"
    }
   ],
   "source": [
    "hdul = fits.open(\"/media/bekah/BekahA/glcat/e00815/astrom/l5ts01900.wcs\")\n",
    "hdul[0].header[\"COMMENT\"]"
   ]
  },
  {
   "cell_type": "code",
   "execution_count": 54,
   "id": "68c9c764",
   "metadata": {},
   "outputs": [],
   "source": [
    "comment = str(hdul[0].header['COMMENT']).split(\"log odds: \")[1].split('.')[0]"
   ]
  },
  {
   "cell_type": "code",
   "execution_count": 55,
   "id": "b858f14f",
   "metadata": {},
   "outputs": [
    {
     "data": {
      "text/plain": [
       "'107'"
      ]
     },
     "execution_count": 55,
     "metadata": {},
     "output_type": "execute_result"
    }
   ],
   "source": [
    "comment"
   ]
  },
  {
   "cell_type": "code",
   "execution_count": 34,
   "id": "239586af",
   "metadata": {},
   "outputs": [
    {
     "data": {
      "text/plain": [
       "1462"
      ]
     },
     "execution_count": 34,
     "metadata": {},
     "output_type": "execute_result"
    }
   ],
   "source": [
    "comment.index('log odds')"
   ]
  },
  {
   "cell_type": "code",
   "execution_count": 32,
   "id": "d8b65e2a",
   "metadata": {},
   "outputs": [
    {
     "data": {
      "text/plain": [
       "'1\\n'"
      ]
     },
     "execution_count": 32,
     "metadata": {},
     "output_type": "execute_result"
    }
   ],
   "source": [
    "comment[comment.index('log odds')+8,comment.index('log odds')+]"
   ]
  },
  {
   "cell_type": "code",
   "execution_count": null,
   "id": "19647761",
   "metadata": {},
   "outputs": [],
   "source": []
  }
 ],
 "metadata": {
  "kernelspec": {
   "display_name": "Python 3 (ipykernel)",
   "language": "python",
   "name": "python3"
  },
  "language_info": {
   "codemirror_mode": {
    "name": "ipython",
    "version": 3
   },
   "file_extension": ".py",
   "mimetype": "text/x-python",
   "name": "python",
   "nbconvert_exporter": "python",
   "pygments_lexer": "ipython3",
   "version": "3.10.12"
  }
 },
 "nbformat": 4,
 "nbformat_minor": 5
}
