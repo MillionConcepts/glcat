{
 "cells": [
  {
   "cell_type": "code",
   "execution_count": null,
   "id": "initial_id",
   "metadata": {
    "collapsed": true
   },
   "outputs": [],
   "source": [
    "from pathlib import Path\n",
    "\n",
    "from dustgoggles.structures import MaybePool\n",
    "from hostess.aws.s3 import Bucket\n",
    "from hostess.monitors import Stopwatch\n",
    "from more_itertools import chunked\n",
    "\n",
    "from mcat_conversion.conversion import convert_mcats"
   ]
  },
  {
   "metadata": {},
   "cell_type": "code",
   "outputs": [],
   "execution_count": null,
   "source": [
    "CHUNKSZ = 5  # how many files each individual child process should convert\n",
    "BUCKET_NAME = 'uraniborg-sieve-7738937'\n",
    "OUTPRE = \"parquet\"  # output prefix under s3://BUCKET_NAME for converted files\n",
    "TEMPPATH = Path(\"mcat_temp/\")  # where to write scratch files on local system\n",
    "LOGFILE = Path(\"mcat_conversion.log\")  # log file on local system\n",
    "BUCKET = Bucket(BUCKET_NAME)\n",
    "# at least on an m6i.xlarge, this is CPU-bound. recommend number of cores - 1 \n",
    "# at most; thrashing is pretty bad for performance here.\n",
    "THREADS = 3  "
   ],
   "id": "e33d2172cefbf546"
  },
  {
   "metadata": {
    "jupyter": {
     "is_executing": true
    }
   },
   "cell_type": "code",
   "source": [
    "manifest = BUCKET.df()\n",
    "# the fits files\n",
    "mcat_fits = manifest.loc[manifest['Key'].str.endswith('.fits.gz')]\n",
    "# existing parquet files\n",
    "mcat_pq = manifest.loc[manifest['Key'].str.endswith('.parquet')]\n",
    "# stems of files we have we already converted\n",
    "converted = mcat_pq['Key'].map(lambda p: Path(p).stem)\n",
    "# stems of all fits files\n",
    "avail = mcat_fits['Key'].map(lambda p: Path(p).stem).str.replace('.fits', '')\n",
    "# which we shall convert -- change this if you wish to overwrite, or just\n",
    "# delete the old ones\n",
    "conversion_targets = mcat_fits.loc[~avail.isin(converted), 'Key']\n",
    "# clusters of files to pass to child processes\n",
    "chunks = tuple(chunked(conversion_targets, CHUNKSZ))"
   ],
   "id": "761c7fbbdd1450ed",
   "outputs": [],
   "execution_count": null
  },
  {
   "metadata": {},
   "cell_type": "code",
   "outputs": [],
   "execution_count": null,
   "source": [
    "# set up the process pool and specs for process executions\n",
    "pool = MaybePool(THREADS)\n",
    "argrecs = [\n",
    "    {'args': (BUCKET_NAME, chunk, TEMPPATH, OUTPRE, LOGFILE)} \n",
    "    for chunk in chunks\n",
    "]"
   ],
   "id": "f7cf1e6dffd3cf9"
  },
  {
   "metadata": {},
   "cell_type": "code",
   "outputs": [],
   "execution_count": null,
   "source": [
    "# ACTUALLY RUNS THE PROCESSES.\n",
    "\n",
    "# the stopwatch is inessential obviously. it's just for interactive monitoring. \n",
    "watch = Stopwatch()\n",
    "watch.start()\n",
    "pool.map(convert_mcats, argrecs)\n",
    "pool.close()"
   ],
   "id": "3a4deb891e9a7176"
  },
  {
   "metadata": {},
   "cell_type": "code",
   "outputs": [],
   "execution_count": null,
   "source": [
    "# just an interactive process monitor.\n",
    "\n",
    "watch.click()\n",
    "hours = watch.total / 3600 \n",
    "n_ready = len([v for v in pool.results_ready().values() if v is True])\n",
    "print(f\"{n_ready}/{len(pool.results)} chunks (size {CHUNKSZ})\")\n",
    "s_per_obj = n_ready / watch.total\n",
    "s_rem = s_per_obj * (len(pool.results) - n_ready)\n",
    "hours_rem = s_rem / 3600\n",
    "print(round(s_per_obj/CHUNKSZ, 3), 's per file')\n",
    "print(f\"{int(hours)}h {round(hours % 1 * 60, 1)}m elapsed\")\n",
    "print(f\"{int(hours_rem)}h {round(hours_rem % 1 * 60, 1)}m remaining\")"
   ],
   "id": "ca5b51b451765d4c"
  }
 ],
 "metadata": {
  "kernelspec": {
   "display_name": "Python 3",
   "language": "python",
   "name": "python3"
  },
  "language_info": {
   "codemirror_mode": {
    "name": "ipython",
    "version": 2
   },
   "file_extension": ".py",
   "mimetype": "text/x-python",
   "name": "python",
   "nbconvert_exporter": "python",
   "pygments_lexer": "ipython2",
   "version": "2.7.6"
  }
 },
 "nbformat": 4,
 "nbformat_minor": 5
}
