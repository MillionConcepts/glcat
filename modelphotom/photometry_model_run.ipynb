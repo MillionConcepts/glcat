{
 "cells": [
  {
   "cell_type": "code",
   "execution_count": null,
   "id": "1612d02a",
   "metadata": {},
   "outputs": [],
   "source": [
    "import csv\n",
    "import time\n",
    "import re \n",
    "from pyarrow import parquet\n",
    "import pandas as pd\n",
    "from datetime import datetime\n",
    "from concurrent.futures import ThreadPoolExecutor\n",
    "import hostess\n",
    "from hostess.aws.ec2 import create_launch_template\n",
    "from hostess.aws.ec2 import Cluster\n",
    "from hostess.aws.ec2 import ls_instances\n",
    "from hostess.aws.s3 import Bucket\n",
    "from hostess.aws.ec2 import Instance, ls_instances\n",
    "from hostess.serverpool import ServerPool"
   ]
  },
  {
   "cell_type": "code",
   "execution_count": null,
   "id": "4daaf344",
   "metadata": {},
   "outputs": [],
   "source": [
    "# SET UP FILES, LOAD FILE NAMES TO RUN \n",
    "log_file = f\"modelphotom_run.csv\"\n",
    "\n",
    "headers = [\"catalog_out\", \"source_count\", \"elapsed_time\", \"name\", \"ip\", \"cleaned_err\"]\n",
    "\n",
    "with open(log_file, \"x\", newline=\"\") as antsonalog:\n",
    "        writer = csv.writer(antsonalog)\n",
    "        writer.writerow(headers)\n",
    "        "
   ]
  },
  {
   "cell_type": "code",
   "execution_count": null,
   "id": "7ad9f2e6",
   "metadata": {},
   "outputs": [],
   "source": [
    "log_file = f\"modelphotom_run.csv\" # if log file already made, don't run above \n",
    "\n",
    "df = pd.read_csv(\"eclipse_leg_band_list.csv\")\n",
    "torun =  list(zip(df['eclipse'], df['leg'], df['band']))"
   ]
  },
  {
   "cell_type": "code",
   "execution_count": null,
   "id": "fbe2f5c8",
   "metadata": {},
   "outputs": [],
   "source": [
    "len(torun)"
   ]
  },
  {
   "cell_type": "code",
   "execution_count": null,
   "id": "e83a1108",
   "metadata": {},
   "outputs": [],
   "source": [
    "# LAUNCH CLUSTER\n",
    "bees = Cluster.launch(count=25, template=\"modelphotom\", connect=True)"
   ]
  },
  {
   "cell_type": "code",
   "execution_count": null,
   "id": "9b5a1e51",
   "metadata": {},
   "outputs": [],
   "source": [
    "# GET PRICE\n",
    "bees.price_per_hour()"
   ]
  },
  {
   "cell_type": "code",
   "execution_count": null,
   "id": "01f69dd1",
   "metadata": {},
   "outputs": [],
   "source": [
    "# MODIFY MEMORY SETTINGS \n",
    "share = bees.command(\"sudo mount -o remount,size=8G /dev/shm\")\n",
    "share[0].out"
   ]
  },
  {
   "cell_type": "code",
   "execution_count": null,
   "id": "194a124e",
   "metadata": {},
   "outputs": [],
   "source": [
    "# CHECK THAT THAT WORKED \n",
    "free = bees.command(\"df -h /dev/shm\")\n",
    "free[0].out"
   ]
  },
  {
   "cell_type": "code",
   "execution_count": null,
   "id": "4c179021",
   "metadata": {},
   "outputs": [],
   "source": [
    "# MOUNT BUCKET \n",
    "c2=bees.command(\"cd /mnt\")\n",
    "c3=bees.command(\"sudo rm -r s3\")\n",
    "c4=bees.command(\"sudo mkdir /mnt/s3\")\n",
    "c5=bees.command(\"sudo chown -R ubuntu /mnt/s3\")\n",
    "c6=bees.command(\"goofys backplanetest /mnt/s3\")"
   ]
  },
  {
   "cell_type": "code",
   "execution_count": null,
   "id": "136cf6bf",
   "metadata": {},
   "outputs": [],
   "source": [
    "c6[0].err"
   ]
  },
  {
   "cell_type": "code",
   "execution_count": null,
   "id": "504ba78a",
   "metadata": {},
   "outputs": [],
   "source": [
    "# CHECK THAT THAT WORKED \n",
    "c2=bees.command(\"ls /mnt/s3\")\n",
    "c2[0].out"
   ]
  },
  {
   "cell_type": "code",
   "execution_count": null,
   "id": "3b344729",
   "metadata": {},
   "outputs": [],
   "source": [
    "c2 = bees.command(\"free -h\")\n",
    "c2[0].out"
   ]
  },
  {
   "cell_type": "code",
   "execution_count": null,
   "id": "53922ac6",
   "metadata": {},
   "outputs": [],
   "source": [
    "# TELL BEES TO RUN STATS\n",
    "input_dir = '/mnt/s3/glcat'\n",
    "# change to test if it's a test\n",
    "output_dir = '/mnt/s3/glcat'\n",
    "\n",
    "honey = bees.commandmap(\n",
    "    [(\"/home/ubuntu/miniconda3/envs/model/bin/modelphotom\", e, leg, band, input_dir, output_dir) for e, leg, band in torun[-3200:]], \n",
    "    wait=False, \n",
    "    max_concurrent=3,\n",
    "    task_delay=5.0)"
   ]
  },
  {
   "cell_type": "code",
   "execution_count": null,
   "id": "8665e0b8",
   "metadata": {},
   "outputs": [],
   "source": [
    "# LOGGING SETUP \n",
    "def logger(completed_task, log_file, log_fail):\n",
    "    # \"out:path, sources:25, in 1 sec\"\n",
    "    try:\n",
    "        output_line = None\n",
    "        for line in completed_task.out:\n",
    "            if line.startswith(\"out:\") and \"sources:\" in line and \"in\" in line:\n",
    "                output_line = line\n",
    "                break\n",
    "        match = re.search(r\"out:(.*?),\\s*sources:(\\d+),\\s*in\\s*([\\d.]+)\\s*sec\", output_line)\n",
    "        catalog_out = match.group(1).strip()\n",
    "        source_count = int(match.group(2))\n",
    "        elapsed_time = float(match.group(3))\n",
    "        ip = bees[completed_task.host].ip\n",
    "        name = bees[completed_task.host].name\n",
    "        cleaned_err = \"\".join(completed_task.err).replace(\"\\\\n\", \"\\n\").replace(\"\\\\t\", \"\\t\")\n",
    "        log_row = [\n",
    "            catalog_out,\n",
    "            source_count,\n",
    "            elapsed_time,\n",
    "            name,\n",
    "            ip,\n",
    "            cleaned_err\n",
    "        ]\n",
    "        with open(log_file, \"a\", newline=\"\") as f:\n",
    "            writer = csv.writer(f)\n",
    "            writer.writerow(log_row)\n",
    "    except Exception as e:\n",
    "        print(f\"Logging failed: {e}\")\n",
    "        print(completed_task.out)\n",
    "        print(completed_task.err)\n",
    "\n",
    "        fails = [completed_task.out[-5:], completed_task.err[-5:], completed_task.err, completed_task.out[0:10]]\n",
    "        with open(log_fail, \"a\", newline=\"\") as f:\n",
    "            writer = csv.writer(f)\n",
    "            writer.writerow(fails)\n",
    "\n",
    "log_fail = \"fail.csv\"\n",
    "\n",
    "def poll_queue(working, callback, poll_rate):\n",
    "    while len(working.pending) > 0 or not working.completed_queue.empty():\n",
    "        while not working.completed_queue.empty():\n",
    "            callback(working.completed_queue.get())\n",
    "        time.sleep(poll_rate)\n",
    "        \n",
    "poll_exc = ThreadPoolExecutor(1)\n",
    "\n",
    "_polling_future = poll_exc.submit(poll_queue, \n",
    "                                  honey,   \n",
    "                                  lambda item: logger(item, log_file, log_fail),\n",
    "                                  1)"
   ]
  },
  {
   "cell_type": "code",
   "execution_count": null,
   "id": "5dd7aa0c",
   "metadata": {},
   "outputs": [],
   "source": [
    "honey"
   ]
  },
  {
   "cell_type": "code",
   "execution_count": null,
   "id": "4b056ef1",
   "metadata": {},
   "outputs": [],
   "source": []
  },
  {
   "cell_type": "code",
   "execution_count": null,
   "id": "67eb8884",
   "metadata": {},
   "outputs": [],
   "source": []
  },
  {
   "cell_type": "code",
   "execution_count": null,
   "id": "b614bdec",
   "metadata": {},
   "outputs": [],
   "source": [
    "honey.terminate()"
   ]
  },
  {
   "cell_type": "code",
   "execution_count": null,
   "id": "6f7416ed",
   "metadata": {},
   "outputs": [],
   "source": [
    "# STOP! ONLY RUN IF YOU WANT IT TO END \n",
    "\n",
    "for bee in bees:\n",
    "    bee.terminate()\n",
    "    \n",
    "print([bee.state for bee in bees])"
   ]
  },
  {
   "cell_type": "code",
   "execution_count": null,
   "id": "f6448960",
   "metadata": {},
   "outputs": [],
   "source": [
    "print([bee.state for bee in bees])"
   ]
  },
  {
   "cell_type": "code",
   "execution_count": null,
   "id": "32d7cbe1",
   "metadata": {},
   "outputs": [],
   "source": [
    "print([bee.state for bee in bees])"
   ]
  },
  {
   "cell_type": "code",
   "execution_count": null,
   "id": "3f50737b",
   "metadata": {},
   "outputs": [],
   "source": []
  }
 ],
 "metadata": {
  "kernelspec": {
   "display_name": "Python 3 (ipykernel)",
   "language": "python",
   "name": "python3"
  },
  "language_info": {
   "codemirror_mode": {
    "name": "ipython",
    "version": 3
   },
   "file_extension": ".py",
   "mimetype": "text/x-python",
   "name": "python",
   "nbconvert_exporter": "python",
   "pygments_lexer": "ipython3",
   "version": "3.11.9"
  }
 },
 "nbformat": 4,
 "nbformat_minor": 5
}
