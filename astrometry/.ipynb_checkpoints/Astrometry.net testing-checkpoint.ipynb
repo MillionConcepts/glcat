{
 "cells": [
  {
   "cell_type": "code",
   "execution_count": 1,
   "id": "6ac44956",
   "metadata": {},
   "outputs": [],
   "source": [
    "import sys\n",
    "import time\n",
    "import os\n",
    "import warnings\n",
    "\n",
    "import numpy as np\n",
    "import matplotlib as mpl\n",
    "import matplotlib.pyplot as plt\n",
    "\n",
    "from sklearn import cluster, datasets, mixture\n",
    "from sklearn.neighbors import kneighbors_graph\n",
    "from sklearn.preprocessing import StandardScaler\n",
    "from itertools import cycle, islice\n",
    "\n",
    "import numpy as np\n",
    "import fitsio\n",
    "from astropy.io import fits\n",
    "import numpy.ma as ma\n",
    "\n",
    "sys.path.insert(0, '/home/bekah/gphoton_working')\n",
    "sys.path.insert(0, '/home/bekah/gphoton_working/gPhoton')\n",
    "\n",
    "from photutils.aperture import CircularAperture\n",
    "from photutils.utils import make_random_cmap\n",
    "from skimage.measure import EllipseModel\n",
    "from matplotlib.patches import Ellipse\n",
    "\n",
    "import pandas as pd "
   ]
  },
  {
   "cell_type": "code",
   "execution_count": 7,
   "id": "1136088d",
   "metadata": {},
   "outputs": [],
   "source": [
    "def derive_flux_expressions():\n",
    "    from cytoolz import valfilter\n",
    "    import sympy as sp\n",
    "\n",
    "    infinity = sp.sympify('oo')\n",
    "    A, n, sigma, r, r0, tau_b, tau_f, epsilon = sp.symbols(\n",
    "        'A,n,sigma,r,r0,tau_b,tau_f, epsilon', positive=True\n",
    "    )\n",
    "\n",
    "    sym_gauss2d = A * sp.exp(-(r ** 2 / sigma ** 2))\n",
    "    total_flux = sp.Integral(sym_gauss2d, (r, 0, infinity)).doit()\n",
    "    center_flux = sp.Integral(sym_gauss2d, (r, 0, r0)).doit()\n",
    "    flux_threshold_radius = sp.solve(\n",
    "        total_flux - center_flux - tau_f, r0\n",
    "    )[0]\n",
    "    annulus_flux = sp.Integral(\n",
    "        sym_gauss2d, (r, r0, r0 + epsilon)\n",
    "    ).doit()\n",
    "    annulus_area = sp.pi * ((r0 + epsilon) ** 2 - r0 ** 2)\n",
    "    annulus_surface_brightness = annulus_flux / annulus_area\n",
    "    instantaneous_brightness = sp.limit(\n",
    "        annulus_surface_brightness, epsilon, 0\n",
    "    )\n",
    "    brightness_threshold_radius = sp.solve(\n",
    "        instantaneous_brightness - tau_f, r0\n",
    "    )[0]\n",
    "    return valfilter(\n",
    "        lambda f: isinstance(f, sp.core.expr.Expr), locals()\n",
    "    )"
   ]
  },
  {
   "cell_type": "code",
   "execution_count": 9,
   "id": "27f039d0",
   "metadata": {},
   "outputs": [
    {
     "data": {
      "text/plain": [
       "{'infinity': oo,\n",
       " 'A': A,\n",
       " 'n': n,\n",
       " 'sigma': sigma,\n",
       " 'r': r,\n",
       " 'r0': r0,\n",
       " 'tau_b': tau_b,\n",
       " 'tau_f': tau_f,\n",
       " 'epsilon': epsilon,\n",
       " 'sym_gauss2d': A*exp(-r**2/sigma**2),\n",
       " 'total_flux': sqrt(pi)*A*sigma/2,\n",
       " 'center_flux': sqrt(pi)*A*sigma*erf(r0/sigma)/2,\n",
       " 'flux_threshold_radius': sigma*erfinv(1 - 2*tau_f/(sqrt(pi)*A*sigma)),\n",
       " 'annulus_flux': -sqrt(pi)*A*sigma*erf(r0/sigma)/2 + sqrt(pi)*A*sigma*erf((epsilon + r0)/sigma)/2,\n",
       " 'annulus_area': pi*(-r0**2 + (epsilon + r0)**2),\n",
       " 'annulus_surface_brightness': (-sqrt(pi)*A*sigma*erf(r0/sigma)/2 + sqrt(pi)*A*sigma*erf((epsilon + r0)/sigma)/2)/(pi*(-r0**2 + (epsilon + r0)**2)),\n",
       " 'instantaneous_brightness': A*exp(-r0**2/sigma**2)/(2*pi*r0),\n",
       " 'brightness_threshold_radius': A*exp(-LambertW(A**2/(2*pi**2*sigma**2*tau_f**2))/2)/(2*pi*tau_f)}"
      ]
     },
     "execution_count": 9,
     "metadata": {},
     "output_type": "execute_result"
    }
   ],
   "source": [
    "derive_flux_expressions()"
   ]
  },
  {
   "cell_type": "code",
   "execution_count": 2,
   "id": "c67f655d",
   "metadata": {},
   "outputs": [],
   "source": [
    "from pyarrow import parquet\n",
    "\n",
    "from gPhoton.parquet_utils import parquet_to_ndarray\n",
    "\n",
    "from astropy.table import Table\n",
    "\n",
    "from gPhoton.aspect import load_aspect_solution\n",
    "\n",
    "from gPhoton.io.raw6 import load_raw6"
   ]
  },
  {
   "cell_type": "markdown",
   "id": "0b0247df",
   "metadata": {},
   "source": [
    "Things I want to do today: \n",
    "\n",
    "- test astrometry.net on many different frames of an eclipse, see how similar the answers are \n",
    "- figure out all the ways to speed up astrometry.net & implement \n",
    "    -> low hanging fruit: code to use known WCS info to narrow down which index files are used \n",
    "    -> use source list from my own source extraction? "
   ]
  },
  {
   "cell_type": "code",
   "execution_count": 3,
   "id": "5be41902",
   "metadata": {},
   "outputs": [],
   "source": [
    "def get_image_file(eclipse, band):\n",
    "    from gPhoton.reference import eclipse_to_paths\n",
    "    from gPhoton.coadd import zero_flag_and_edge\n",
    "    # image info\n",
    "    eclipse, band, depth, compression = eclipse, band, 30, \"rice\"\n",
    "    galex_file_paths = eclipse_to_paths(eclipse, '/home/bekah/gphoton_working/test_data', depth,\n",
    "                                        compression)\n",
    "    # image to hdul\n",
    "    hdul = fitsio.FITS(galex_file_paths[band]['image'])\n",
    "    cnt, flag, edge = [hdu.read() for hdu in hdul[1:4]]\n",
    "    \n",
    "    masked_cnt_image = zero_flag_and_edge(cnt, flag, edge)\n",
    "    return masked_cnt_image"
   ]
  },
  {
   "cell_type": "code",
   "execution_count": 4,
   "id": "ef6ca18f",
   "metadata": {},
   "outputs": [],
   "source": [
    "def look_at_hdul(eclipse, band):\n",
    "    from gPhoton.reference import eclipse_to_paths\n",
    "    from gPhoton.coadd import zero_flag_and_edge\n",
    "    # image info\n",
    "    eclipse, band, depth, compression = eclipse, band, 30, \"rice\"\n",
    "    galex_file_paths = eclipse_to_paths(eclipse, '/home/bekah/glcat/astrometry', depth,\n",
    "                                        compression)\n",
    "    # image to hdul\n",
    "    hdul = fitsio.FITS(galex_file_paths[band]['image'])\n",
    "    \n",
    "    return hdul "
   ]
  },
  {
   "cell_type": "code",
   "execution_count": 5,
   "id": "845b942e",
   "metadata": {},
   "outputs": [],
   "source": [
    "def centile_clip(image, centiles=(0, 90)):\n",
    "    \"\"\"\n",
    "    simple clipping function that clips values above and below a given\n",
    "    percentile range\n",
    "    \"\"\"\n",
    "    finite = np.ma.masked_invalid(image)\n",
    "    bounds = np.percentile(finite[~finite.mask].data, centiles)\n",
    "    result = np.ma.clip(finite, *bounds)\n",
    "    \n",
    "    if isinstance(image, np.ma.MaskedArray):\n",
    "        \n",
    "        return result\n",
    "    \n",
    "    return result.data"
   ]
  },
  {
   "cell_type": "code",
   "execution_count": 6,
   "id": "f93a4365",
   "metadata": {},
   "outputs": [],
   "source": [
    "# loading aspect table \n",
    "parq  = parquet.read_table('/home/bekah/gphoton_working/gPhoton/aspect/aspect.parquet')\n",
    "aspect = parq.to_pandas()\n",
    "#aspect[\"eclipse\"==9869]"
   ]
  },
  {
   "cell_type": "code",
   "execution_count": 7,
   "id": "7f8d054f",
   "metadata": {},
   "outputs": [],
   "source": [
    "# boresight parquet \n",
    "parq  = parquet.read_table('/home/bekah/gphoton_working/gPhoton/aspect/boresight.parquet')\n",
    "bore = parq.to_pandas()"
   ]
  },
  {
   "cell_type": "code",
   "execution_count": 8,
   "id": "f5d49dc1",
   "metadata": {},
   "outputs": [
    {
     "data": {
      "text/html": [
       "<div>\n",
       "<style scoped>\n",
       "    .dataframe tbody tr th:only-of-type {\n",
       "        vertical-align: middle;\n",
       "    }\n",
       "\n",
       "    .dataframe tbody tr th {\n",
       "        vertical-align: top;\n",
       "    }\n",
       "\n",
       "    .dataframe thead th {\n",
       "        text-align: right;\n",
       "    }\n",
       "</style>\n",
       "<table border=\"1\" class=\"dataframe\">\n",
       "  <thead>\n",
       "    <tr style=\"text-align: right;\">\n",
       "      <th></th>\n",
       "      <th>eclipse</th>\n",
       "      <th>time</th>\n",
       "      <th>ra</th>\n",
       "      <th>dec</th>\n",
       "      <th>roll</th>\n",
       "      <th>flags</th>\n",
       "    </tr>\n",
       "  </thead>\n",
       "  <tbody>\n",
       "    <tr>\n",
       "      <th>7325566</th>\n",
       "      <td>9869</td>\n",
       "      <td>7.939713e+08</td>\n",
       "      <td>160.707959</td>\n",
       "      <td>58.508936</td>\n",
       "      <td>190.996912</td>\n",
       "      <td>49</td>\n",
       "    </tr>\n",
       "    <tr>\n",
       "      <th>7325567</th>\n",
       "      <td>9869</td>\n",
       "      <td>7.939713e+08</td>\n",
       "      <td>160.708330</td>\n",
       "      <td>58.508920</td>\n",
       "      <td>190.997359</td>\n",
       "      <td>49</td>\n",
       "    </tr>\n",
       "    <tr>\n",
       "      <th>7325568</th>\n",
       "      <td>9869</td>\n",
       "      <td>7.939713e+08</td>\n",
       "      <td>160.708786</td>\n",
       "      <td>58.508986</td>\n",
       "      <td>190.997885</td>\n",
       "      <td>49</td>\n",
       "    </tr>\n",
       "    <tr>\n",
       "      <th>7325569</th>\n",
       "      <td>9869</td>\n",
       "      <td>7.939714e+08</td>\n",
       "      <td>160.709135</td>\n",
       "      <td>58.508940</td>\n",
       "      <td>190.998247</td>\n",
       "      <td>49</td>\n",
       "    </tr>\n",
       "    <tr>\n",
       "      <th>7325570</th>\n",
       "      <td>9869</td>\n",
       "      <td>7.939714e+08</td>\n",
       "      <td>160.709476</td>\n",
       "      <td>58.509029</td>\n",
       "      <td>190.998648</td>\n",
       "      <td>49</td>\n",
       "    </tr>\n",
       "    <tr>\n",
       "      <th>...</th>\n",
       "      <td>...</td>\n",
       "      <td>...</td>\n",
       "      <td>...</td>\n",
       "      <td>...</td>\n",
       "      <td>...</td>\n",
       "      <td>...</td>\n",
       "    </tr>\n",
       "    <tr>\n",
       "      <th>7327202</th>\n",
       "      <td>9869</td>\n",
       "      <td>7.939730e+08</td>\n",
       "      <td>160.690453</td>\n",
       "      <td>58.523630</td>\n",
       "      <td>190.991365</td>\n",
       "      <td>0</td>\n",
       "    </tr>\n",
       "    <tr>\n",
       "      <th>7327203</th>\n",
       "      <td>9869</td>\n",
       "      <td>7.939730e+08</td>\n",
       "      <td>160.689614</td>\n",
       "      <td>58.523089</td>\n",
       "      <td>190.990682</td>\n",
       "      <td>0</td>\n",
       "    </tr>\n",
       "    <tr>\n",
       "      <th>7327204</th>\n",
       "      <td>9869</td>\n",
       "      <td>7.939730e+08</td>\n",
       "      <td>160.688860</td>\n",
       "      <td>58.522606</td>\n",
       "      <td>190.990050</td>\n",
       "      <td>0</td>\n",
       "    </tr>\n",
       "    <tr>\n",
       "      <th>7327205</th>\n",
       "      <td>9869</td>\n",
       "      <td>7.939730e+08</td>\n",
       "      <td>160.688226</td>\n",
       "      <td>58.521791</td>\n",
       "      <td>190.980203</td>\n",
       "      <td>17</td>\n",
       "    </tr>\n",
       "    <tr>\n",
       "      <th>7327206</th>\n",
       "      <td>9869</td>\n",
       "      <td>7.939730e+08</td>\n",
       "      <td>160.687594</td>\n",
       "      <td>58.521242</td>\n",
       "      <td>190.979589</td>\n",
       "      <td>17</td>\n",
       "    </tr>\n",
       "  </tbody>\n",
       "</table>\n",
       "<p>1641 rows × 6 columns</p>\n",
       "</div>"
      ],
      "text/plain": [
       "         eclipse          time          ra        dec        roll  flags\n",
       "7325566     9869  7.939713e+08  160.707959  58.508936  190.996912     49\n",
       "7325567     9869  7.939713e+08  160.708330  58.508920  190.997359     49\n",
       "7325568     9869  7.939713e+08  160.708786  58.508986  190.997885     49\n",
       "7325569     9869  7.939714e+08  160.709135  58.508940  190.998247     49\n",
       "7325570     9869  7.939714e+08  160.709476  58.509029  190.998648     49\n",
       "...          ...           ...         ...        ...         ...    ...\n",
       "7327202     9869  7.939730e+08  160.690453  58.523630  190.991365      0\n",
       "7327203     9869  7.939730e+08  160.689614  58.523089  190.990682      0\n",
       "7327204     9869  7.939730e+08  160.688860  58.522606  190.990050      0\n",
       "7327205     9869  7.939730e+08  160.688226  58.521791  190.980203     17\n",
       "7327206     9869  7.939730e+08  160.687594  58.521242  190.979589     17\n",
       "\n",
       "[1641 rows x 6 columns]"
      ]
     },
     "execution_count": 8,
     "metadata": {},
     "output_type": "execute_result"
    }
   ],
   "source": [
    "aspect[aspect[\"eclipse\"]==9869]"
   ]
  },
  {
   "cell_type": "code",
   "execution_count": 9,
   "id": "a987be15",
   "metadata": {},
   "outputs": [
    {
     "data": {
      "text/html": [
       "<div>\n",
       "<style scoped>\n",
       "    .dataframe tbody tr th:only-of-type {\n",
       "        vertical-align: middle;\n",
       "    }\n",
       "\n",
       "    .dataframe tbody tr th {\n",
       "        vertical-align: top;\n",
       "    }\n",
       "\n",
       "    .dataframe thead th {\n",
       "        text-align: right;\n",
       "    }\n",
       "</style>\n",
       "<table border=\"1\" class=\"dataframe\">\n",
       "  <thead>\n",
       "    <tr style=\"text-align: right;\">\n",
       "      <th></th>\n",
       "      <th>eclipse</th>\n",
       "      <th>time</th>\n",
       "      <th>ra0</th>\n",
       "      <th>dec0</th>\n",
       "      <th>roll0</th>\n",
       "    </tr>\n",
       "  </thead>\n",
       "  <tbody>\n",
       "    <tr>\n",
       "      <th>15589</th>\n",
       "      <td>9869</td>\n",
       "      <td>7.939713e+08</td>\n",
       "      <td>160.698944</td>\n",
       "      <td>58.51759</td>\n",
       "      <td>190.997317</td>\n",
       "    </tr>\n",
       "  </tbody>\n",
       "</table>\n",
       "</div>"
      ],
      "text/plain": [
       "       eclipse          time         ra0      dec0       roll0\n",
       "15589     9869  7.939713e+08  160.698944  58.51759  190.997317"
      ]
     },
     "execution_count": 9,
     "metadata": {},
     "output_type": "execute_result"
    }
   ],
   "source": [
    "bore[bore[\"eclipse\"]==9869]"
   ]
  },
  {
   "cell_type": "code",
   "execution_count": null,
   "id": "a129fa3e",
   "metadata": {},
   "outputs": [],
   "source": [
    "movie = fits.open(\"/home/bekah/glcat/astrometry/e23456/e23456-nd-15s-rice.fits\")"
   ]
  },
  {
   "cell_type": "code",
   "execution_count": null,
   "id": "f3512ce3",
   "metadata": {},
   "outputs": [],
   "source": [
    "movie[1].header"
   ]
  },
  {
   "cell_type": "code",
   "execution_count": null,
   "id": "78ba8e42",
   "metadata": {},
   "outputs": [],
   "source": [
    "my_data = pd.read_csv(\"/home/bekah/glcat/astrometry/aspect_correction/23456_aspect_soln\")"
   ]
  },
  {
   "cell_type": "code",
   "execution_count": null,
   "id": "3ce874b1",
   "metadata": {},
   "outputs": [],
   "source": [
    "my_data = my_data.transpose()"
   ]
  },
  {
   "cell_type": "code",
   "execution_count": null,
   "id": "e02c6397",
   "metadata": {},
   "outputs": [],
   "source": [
    "my_data"
   ]
  },
  {
   "cell_type": "code",
   "execution_count": null,
   "id": "58631e89",
   "metadata": {
    "scrolled": true
   },
   "outputs": [],
   "source": [
    "my_data_sip = pd.read_csv(\"/home/bekah/glcat/astrometry/aspect_correction/21442_aspect_soln_sip\")\n",
    "my_data_sip = my_data_sip.transpose()\n",
    "my_data_sip"
   ]
  },
  {
   "cell_type": "code",
   "execution_count": null,
   "id": "db694696",
   "metadata": {},
   "outputs": [],
   "source": [
    "my_data_0center = pd.read_csv(\"/home/bekah/glcat/astrometry/aspect_correction/21442_aspect_soln_0center\")\n",
    "my_data_0center  = my_data_0center.transpose()\n",
    "my_data_0center "
   ]
  },
  {
   "cell_type": "code",
   "execution_count": null,
   "id": "41f07c7c",
   "metadata": {},
   "outputs": [],
   "source": [
    "my_data_6s = pd.read_csv(\"/home/bekah/glcat/astrometry/aspect_correction/21442_aspect_soln_6s\")\n",
    "my_data_6s  = my_data_6s.transpose()\n",
    "my_data_6s "
   ]
  },
  {
   "cell_type": "code",
   "execution_count": null,
   "id": "cadb9f10",
   "metadata": {},
   "outputs": [],
   "source": [
    "my_data_10s = pd.read_csv(\"/home/bekah/glcat/astrometry/aspect_correction/21442_aspect_soln_10s\")\n",
    "my_data_10s  = my_data_10s.transpose()\n",
    "my_data_10s "
   ]
  },
  {
   "cell_type": "code",
   "execution_count": null,
   "id": "6e743c89",
   "metadata": {},
   "outputs": [],
   "source": [
    "my_data_3s = pd.read_csv(\"/home/bekah/glcat/astrometry/aspect_correction/21442_aspect_soln_3s\")\n",
    "my_data_3s  = my_data_3s.transpose()\n",
    "my_data_3s "
   ]
  },
  {
   "cell_type": "code",
   "execution_count": null,
   "id": "51db6f4b",
   "metadata": {},
   "outputs": [],
   "source": [
    "my_data_1s_sip = pd.read_csv(\"/home/bekah/glcat/astrometry/aspect_correction/21442_aspect_soln_1s_sip\")\n",
    "my_data_1s_sip  = my_data_1s_sip.transpose()\n",
    "my_data_1s_sip"
   ]
  },
  {
   "cell_type": "code",
   "execution_count": null,
   "id": "28fd1358",
   "metadata": {},
   "outputs": [],
   "source": [
    "my_data_1s_lowerDAO = pd.read_csv(\"/home/bekah/glcat/astrometry/aspect_correction/781_aspect_soln_1s_thresh0.9_size3\")\n",
    "my_data_1s_lowerDAO  = my_data_1s_lowerDAO.transpose()\n",
    "my_data_1s_lowerDAO"
   ]
  },
  {
   "cell_type": "code",
   "execution_count": null,
   "id": "63536f26",
   "metadata": {},
   "outputs": [],
   "source": [
    "my_data_1s_im = pd.read_csv(\"/home/bekah/glcat/astrometry/aspect_correction/21442_aspect_soln_1s_image_sip\")\n",
    "my_data_1s_im  = my_data_1s_im.transpose()\n",
    "my_data_1s_im"
   ]
  },
  {
   "cell_type": "code",
   "execution_count": null,
   "id": "8580592b",
   "metadata": {},
   "outputs": [],
   "source": [
    "my_data_1s_fill = pd.read_csv(\"/home/bekah/glcat/astrometry/aspect_correction/21442_aspect_soln_1s_thresh0.8_size2_wImageForFails\")\n",
    "my_data_1s_fill  = my_data_1s_fill.transpose()\n",
    "my_data_1s_fill.index"
   ]
  },
  {
   "cell_type": "code",
   "execution_count": null,
   "id": "bd12f699",
   "metadata": {},
   "outputs": [],
   "source": [
    "my_data_2s_dose = pd.read_csv(\"/home/bekah/glcat/astrometry/aspect_correction/21442_aspect_soln_2s_thresh1.0_size3_dose\")\n",
    "my_data_2s_dose  = my_data_2s_dose.transpose()\n",
    "my_data_2s_dose"
   ]
  },
  {
   "cell_type": "code",
   "execution_count": null,
   "id": "0310e249",
   "metadata": {},
   "outputs": [],
   "source": [
    "d9869 = pd.read_csv(\"/home/bekah/glcat/astrometry/aspect_correction/09869_aspect_soln_1s_thresh1_size4_pixelScale\")\n",
    "d9869  = d9869.transpose()\n"
   ]
  },
  {
   "cell_type": "code",
   "execution_count": null,
   "id": "f29022dc",
   "metadata": {},
   "outputs": [],
   "source": [
    "d9869_dose = pd.read_csv(\"/home/bekah/glcat_tests/aspect_solns/e09869_aspect_soln_1s_thresh1_size3_dose_gaia_tycho\")\n",
    "d9869_dose  = d9869_dose.transpose()\n",
    "d9869_dose "
   ]
  },
  {
   "cell_type": "code",
   "execution_count": null,
   "id": "68b1e264",
   "metadata": {},
   "outputs": [],
   "source": [
    "d9869_dose_2 = pd.read_csv(\"/home/bekah/glcat_tests/aspect_solns/e09869_aspect_soln_1s_thresh0.8_size3_dose_gaia_tycho\")\n",
    "d9869_dose_2  = d9869_dose_2.transpose()\n",
    "d9869_dose_2"
   ]
  },
  {
   "cell_type": "code",
   "execution_count": null,
   "id": "df7ec0c6",
   "metadata": {},
   "outputs": [],
   "source": [
    "aspect[aspect[\"eclipse\"]==21442][\"ra\"]"
   ]
  },
  {
   "cell_type": "code",
   "execution_count": null,
   "id": "90dce8b0",
   "metadata": {},
   "outputs": [],
   "source": [
    "%matplotlib notebook\n",
    "plt.scatter(aspect[aspect[\"eclipse\"]==9869][\"ra\"],aspect[aspect[\"eclipse\"]==9869][\"dec\"],c=aspect[aspect[\"eclipse\"]==9869].index,alpha=0.7,s=20)\n",
    "#plt.scatter(bore[bore[\"eclipse\"]==21442]['ra0'],bore[bore[\"eclipse\"]==21442]['dec0'], c=\"purple\")\n",
    "#plt.scatter(my_data_6s[0],my_data_6s[1],c=\"black\",alpha=0.5)\n",
    "#plt.scatter(my_data_3s[0],my_data_3s[1],marker='+',c=\"orange\",alpha=0.5)\n",
    "#plt.scatter(my_data_1s_im[0],my_data_1s_im[1],marker='s',c=\"yellow\")\n",
    "#plt.scatter(201.057617, 27.476043, marker='*',s=200, c=\"black\")\n",
    "#plt.scatter(my_data_2s_dose[0],my_data_2s_dose[1],marker=\"*\",c=\"black\",alpha=0.5)\n",
    "#plt.scatter(my_data_1s_fill[0],my_data_1s_fill[1],marker='o',c=my_data_1s_fill.index.astype(int),alpha=0.6)\n",
    "#plt.scatter(d9869[0],d9869[1],marker='o',c=\"red\")\n",
    "plt.scatter(d9869_dose_2 [0],d9869_dose_2 [1],marker='+',c=\"red\",alpha=0.8)\n",
    "plt.scatter(d9869_dose [0],d9869_dose [1],marker='o',c=\"orange\",alpha=0.5)\n",
    "plt.colorbar()\n"
   ]
  },
  {
   "cell_type": "code",
   "execution_count": null,
   "id": "a34dfcdb",
   "metadata": {},
   "outputs": [],
   "source": [
    "plt.scatter(aspect[aspect[\"eclipse\"]==21442][\"ra\"],aspect[aspect[\"eclipse\"]==21442][\"dec\"],c=\"blue\",alpha=0.7,s=20)\n",
    "plt.scatter(my_data_1s_sip[0],my_data_1s_sip[1],marker=\"*\",c=\"green\",alpha=0.5)"
   ]
  },
  {
   "cell_type": "code",
   "execution_count": 19,
   "id": "39749ef3",
   "metadata": {},
   "outputs": [],
   "source": [
    "from astropy import wcs\n"
   ]
  },
  {
   "cell_type": "code",
   "execution_count": 10,
   "id": "1d862cce",
   "metadata": {},
   "outputs": [],
   "source": [
    "hdulist = fits.open(\"/home/bekah/glcat_tests/astrometry_temp/frame74.wcs\")"
   ]
  },
  {
   "cell_type": "code",
   "execution_count": 22,
   "id": "5ebab9b0",
   "metadata": {},
   "outputs": [
    {
     "name": "stdout",
     "output_type": "stream",
     "text": [
      "\n"
     ]
    }
   ],
   "source": [
    " w = wcs.WCS(hdulist[0].header)\n",
    "\n",
    "    # Print out the \"name\" of the WCS, as defined in the FITS header\n",
    "print(w.wcs.name)"
   ]
  },
  {
   "cell_type": "code",
   "execution_count": 23,
   "id": "9f091760",
   "metadata": {},
   "outputs": [
    {
     "name": "stdout",
     "output_type": "stream",
     "text": [
      "160.70       58.519       180.00       58.519    \n",
      "        prj: (see below)\n",
      "      euler:   160.70       31.481       180.00       0.85281      0.52222   \n",
      "    latpreq: 0 (not required)\n",
      "     isolat: 0\n",
      "        err: 0x0\n",
      "\n",
      "   prj.*\n",
      "       flag: 103\n",
      "       code: \"TAN\"\n",
      "         r0: 57.295780\n",
      "         pv: (not used)\n",
      "       phi0:  0.000000\n",
      "     theta0: 90.000000\n",
      "     bounds: 7\n",
      "\n",
      "       name: \"gnomonic\"\n",
      "   category: 1 (zenithal)\n",
      "    pvrange: 0\n",
      "  simplezen: 1\n",
      "  equiareal: 0\n",
      "  conformal: 0\n",
      "     global: 0\n",
      "  divergent: 1\n",
      "         x0: 0.000000\n",
      "         y0: 0.000000\n",
      "        err: 0x0\n",
      "        w[]:   0.0000       0.0000       0.0000       0.0000       0.0000    \n",
      "               0.0000       0.0000       0.0000       0.0000       0.0000    \n",
      "          m: 0\n",
      "          n: 0\n",
      "     prjx2s: 0x7f787ff12e30\n",
      "     prjs2x: 0x7f787ff131e0\n",
      "\n",
      "   spc.*\n",
      "       flag: 0\n",
      "       type: \"    \"\n",
      "       code: \"   \"\n",
      "      crval: UNDEFINED\n",
      "    restfrq: 0.000000\n",
      "    restwav: 0.000000\n",
      "         pv: (not used)\n",
      "          w:   0.0000       0.0000       0.0000      (remainder unused)\n",
      "    isGrism: 0\n",
      "        err: 0x0\n",
      "     spxX2P: 0x0\n",
      "     spxP2S: 0x0\n",
      "     spxS2P: 0x0\n",
      "     spxP2X: 0x0\n",
      "       flag: 137\n",
      "      naxis: 2\n",
      "      crpix: 0x565343815060\n",
      "               1600.0       1600.0    \n",
      "         pc: 0x565343dab2c0\n",
      "    pc[0][]:   0.00040894  -7.9317e-05\n",
      "    pc[1][]:  -7.9253e-05  -0.00040896\n",
      "      cdelt: 0x56534371c5d0\n",
      "               1.0000       1.0000    \n",
      "      crval: 0x5653439d3640\n",
      "               160.70       58.519    \n",
      "      cunit: 0x565343f36680\n",
      "             \"deg\"\n",
      "             \"deg\"\n",
      "      ctype: 0x565343b00f70\n",
      "             \"RA---TAN-SIP\"\n",
      "             \"DEC--TAN-SIP\"\n",
      "    lonpole: 180.000000\n",
      "    latpole: 58.518653\n",
      "    restfrq: 0.000000\n",
      "    restwav: 0.000000\n",
      "        npv: 0\n",
      "     npvmax: 0\n",
      "         pv: 0x0\n",
      "        nps: 0\n",
      "     npsmax: 0\n",
      "         ps: 0x0\n",
      "         cd: 0x565343f059e0\n",
      "    cd[0][]:   0.00040894  -7.9317e-05\n",
      "    cd[1][]:  -7.9253e-05  -0.00040896\n",
      "      crota: 0x565343beba60\n",
      "               0.0000       0.0000    \n",
      "     altlin: 2\n",
      "     velref: 0\n",
      "        alt: ' '\n",
      "     colnum: 0\n",
      "      colax: 0x565343dc9a40\n",
      "                 0      0\n",
      "      cname: 0x565343db62d0\n",
      "             UNDEFINED\n",
      "             UNDEFINED\n",
      "      crder: 0x565343db6370\n",
      "               UNDEFINED    UNDEFINED\n",
      "      csyer: 0x565342da8080\n",
      "               UNDEFINED    UNDEFINED\n",
      "      czphs: 0x56534367cdf0\n",
      "               UNDEFINED    UNDEFINED\n",
      "      cperi: 0x56534362c5a0\n",
      "               UNDEFINED    UNDEFINED\n",
      "    wcsname: UNDEFINED\n",
      "    timesys: UNDEFINED\n",
      "    trefpos: UNDEFINED\n",
      "    trefdir: UNDEFINED\n",
      "    plephem: UNDEFINED\n",
      "   timeunit: UNDEFINED\n",
      "    dateref: UNDEFINED\n",
      "     mjdref:      0.000000000     0.000000000\n",
      "   timeoffs: UNDEFINED\n",
      "    dateobs: UNDEFINED\n",
      "    datebeg: UNDEFINED\n",
      "    dateavg: UNDEFINED\n",
      "    dateend: UNDEFINED\n",
      "     mjdobs: UNDEFINED\n",
      "     mjdbeg: UNDEFINED\n",
      "     mjdavg: UNDEFINED\n",
      "     mjdend: UNDEFINED\n",
      "     jepoch: UNDEFINED\n",
      "     bepoch: UNDEFINED\n",
      "     tstart: UNDEFINED\n",
      "      tstop: UNDEFINED\n",
      "    xposure: UNDEFINED\n",
      "    telapse: UNDEFINED\n",
      "    timsyer: UNDEFINED\n",
      "    timrder: UNDEFINED\n",
      "    timedel: UNDEFINED\n",
      "   timepixr: UNDEFINED\n",
      "     obsgeo:        UNDEFINED       UNDEFINED       UNDEFINED\n",
      "                    UNDEFINED       UNDEFINED       UNDEFINED\n",
      "   obsorbit: UNDEFINED\n",
      "    radesys: \"FK5\"\n",
      "    equinox:   2000.000000000\n",
      "    specsys: UNDEFINED\n",
      "    ssysobs: UNDEFINED\n",
      "    velosys: UNDEFINED\n",
      "    zsource: UNDEFINED\n",
      "    ssyssrc: UNDEFINED\n",
      "    velangl: UNDEFINED\n",
      "        aux: 0x0\n",
      "       ntab: 0\n",
      "        tab: 0x0\n",
      "       nwtb: 0\n",
      "        wtb: 0x0\n",
      "      types: 0x5653437ddc80\n",
      "            2200 2201\n",
      "     lngtyp: \"RA\"\n",
      "     lattyp: \"DEC\"\n",
      "        lng: 0\n",
      "        lat: 1\n",
      "       spec: -1\n",
      "   cubeface: -1\n",
      "        err: 0x0\n",
      "        lin: (see below)\n",
      "        cel: (see below)\n",
      "        spc: (see below)\n",
      "     m_flag: 137\n",
      "    m_naxis: 2\n",
      "    m_crpix: 0x565343815060  (= crpix)\n",
      "       m_pc: 0x565343dab2c0  (= pc)\n",
      "    m_cdelt: 0x56534371c5d0  (= cdelt)\n",
      "    m_crval: 0x5653439d3640  (= crval)\n",
      "    m_cunit: 0x565343f36680  (= cunit)\n",
      "    m_ctype: 0x565343b00f70  (= ctype)\n",
      "       m_pv: 0x0  (= pv)\n",
      "       m_ps: 0x0  (= ps)\n",
      "       m_cd: 0x565343f059e0  (= cd)\n",
      "    m_"
     ]
    }
   ],
   "source": [
    "    # Print out all of the settings that were parsed from the header\n",
    "w.wcs.print_contents()"
   ]
  },
  {
   "cell_type": "code",
   "execution_count": null,
   "id": "76f68175",
   "metadata": {},
   "outputs": [],
   "source": [
    "hdulist2 = fits.open(\"/home/bekah/glcat/astrometry/e09869/e09869-nd-1s-0-f0032-rice.fits\")"
   ]
  },
  {
   "cell_type": "code",
   "execution_count": null,
   "id": "bdb6da1d",
   "metadata": {},
   "outputs": [],
   "source": [
    "fits32 = fits.open(\"/home/bekah/glcat/astrometry/e09869/dose_t2_selection_2/e09869-nd-t0002-b00-f00008-g_dose.fits\")"
   ]
  },
  {
   "cell_type": "code",
   "execution_count": null,
   "id": "2a6cbcbf",
   "metadata": {},
   "outputs": [],
   "source": [
    "fits32[0].header"
   ]
  },
  {
   "cell_type": "code",
   "execution_count": null,
   "id": "d173b7ca",
   "metadata": {},
   "outputs": [],
   "source": [
    "fits87_xy = fits.open(\"/home/bekah/glcat_tests/xylists_lower_thresh/e09869/e09869-nd-t0001-b00-f0031-g_dose.fits\")\n"
   ]
  },
  {
   "cell_type": "code",
   "execution_count": null,
   "id": "c375f2df",
   "metadata": {},
   "outputs": [],
   "source": [
    "from astropy.table import Table\n",
    "\n",
    "table = Table.read('/home/bekah/glcat/astrometry/aspect_correction/frame36.xyls')\n",
    "fits87_xy = table.to_pandas()"
   ]
  },
  {
   "cell_type": "code",
   "execution_count": null,
   "id": "6997bfe0",
   "metadata": {},
   "outputs": [],
   "source": [
    "fits87_xy"
   ]
  },
  {
   "cell_type": "code",
   "execution_count": null,
   "id": "832eac66",
   "metadata": {},
   "outputs": [],
   "source": [
    "from astropy import wcs\n",
    "\n",
    "\n",
    "w = wcs.WCS(wcs32[0].header)\n",
    "          # Print out the \"name\" of the WCS, as defined in the FITS header\n",
    "          # Print out all of the settings that were parsed from the header\n",
    "w.wcs.print_contents()\n"
   ]
  },
  {
   "cell_type": "code",
   "execution_count": null,
   "id": "c655697b",
   "metadata": {},
   "outputs": [],
   "source": [
    "%matplotlib notebook\n",
    "plt.imshow(centile_clip(fits32[1].data[0],(0,99.99)))\n",
    "plt.scatter(fits87_xy['X'],fits87_xy['Y'],s=0.5,c=fits87_xy.index)"
   ]
  },
  {
   "cell_type": "code",
   "execution_count": null,
   "id": "870dc822",
   "metadata": {},
   "outputs": [],
   "source": [
    "fits32[1].header"
   ]
  },
  {
   "cell_type": "code",
   "execution_count": null,
   "id": "2a3a60ef",
   "metadata": {},
   "outputs": [],
   "source": [
    "np.median(fits32[1].data)"
   ]
  },
  {
   "cell_type": "code",
   "execution_count": null,
   "id": "f2a95b25",
   "metadata": {},
   "outputs": [],
   "source": [
    "\n",
    "#hdulist = fits.open(\"/home/bekah/gphoton_working/test_data/e09869/e09869-nd-1s-0-f0032-rice.fits\")\n",
    "%matplotlib notebook\n",
    "plt.imshow(centile_clip(fits87_xy[0].data,(0,99.99)))"
   ]
  },
  {
   "cell_type": "code",
   "execution_count": null,
   "id": "95bb0403",
   "metadata": {},
   "outputs": [],
   "source": [
    "def get_stars(image, threshold: float = 0.75, star_size: int = 2):\n",
    "    \"\"\" run DAO on movie frames, sort by flux \"\"\"\n",
    "    from photutils import DAOStarFinder\n",
    "\n",
    "    daofind = DAOStarFinder(fwhm=star_size, threshold=threshold, sharplo=0.00)\n",
    "    star_list = daofind(image)\n",
    "    if star_list is not None:\n",
    "        print(f\"{len(star_list)} stars found\")\n",
    "        return star_list\n",
    "    else:\n",
    "        print(\"no stars found for this frame.\")\n",
    "        return None"
   ]
  },
  {
   "cell_type": "code",
   "execution_count": null,
   "id": "3c9c9490",
   "metadata": {},
   "outputs": [],
   "source": [
    "%matplotlib notebook\n",
    "plt.imshow(centile_clip(hdulist2[1].data[0],(0,99.99)))"
   ]
  },
  {
   "cell_type": "code",
   "execution_count": null,
   "id": "398298c0",
   "metadata": {},
   "outputs": [],
   "source": [
    "table = get_stars(fits87_xy[0].data,threshold=1,star_size=5)"
   ]
  },
  {
   "cell_type": "code",
   "execution_count": null,
   "id": "d5be90d5",
   "metadata": {},
   "outputs": [],
   "source": [
    "table"
   ]
  },
  {
   "cell_type": "code",
   "execution_count": null,
   "id": "9cf50e8e",
   "metadata": {},
   "outputs": [],
   "source": [
    "%matplotlib notebook\n",
    "plt.imshow(centile_clip(fits87_xy[0].data,(0,99.99)))\n",
    "plt.scatter(table[\"xcentroid\"],table[\"ycentroid\"],s=0.2,marker='+')"
   ]
  },
  {
   "cell_type": "code",
   "execution_count": null,
   "id": "6d3f5e1a",
   "metadata": {},
   "outputs": [],
   "source": []
  }
 ],
 "metadata": {
  "kernelspec": {
   "display_name": "Python 3 (ipykernel)",
   "language": "python",
   "name": "python3"
  },
  "language_info": {
   "codemirror_mode": {
    "name": "ipython",
    "version": 3
   },
   "file_extension": ".py",
   "mimetype": "text/x-python",
   "name": "python",
   "nbconvert_exporter": "python",
   "pygments_lexer": "ipython3",
   "version": "3.9.13"
  }
 },
 "nbformat": 4,
 "nbformat_minor": 5
}
