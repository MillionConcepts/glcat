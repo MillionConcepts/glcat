{
 "cells": [
  {
   "cell_type": "code",
   "execution_count": 1,
   "id": "6ac44956",
   "metadata": {},
   "outputs": [],
   "source": [
    "import sys\n",
    "import time\n",
    "import os\n",
    "import warnings\n",
    "\n",
    "import numpy as np\n",
    "import matplotlib as mpl\n",
    "import matplotlib.pyplot as plt\n",
    "\n",
    "from sklearn import cluster, datasets, mixture\n",
    "from sklearn.neighbors import kneighbors_graph\n",
    "from sklearn.preprocessing import StandardScaler\n",
    "from itertools import cycle, islice\n",
    "\n",
    "import numpy as np\n",
    "import fitsio\n",
    "from astropy.io import fits\n",
    "import numpy.ma as ma\n",
    "\n",
    "sys.path.insert(0, '/home/bekah/gphoton_working')\n",
    "sys.path.insert(0, '/home/bekah/gphoton_working/gPhoton')\n",
    "\n",
    "from photutils.aperture import CircularAperture\n",
    "from photutils.utils import make_random_cmap\n",
    "from skimage.measure import EllipseModel\n",
    "from matplotlib.patches import Ellipse\n",
    "\n",
    "import pandas as pd "
   ]
  },
  {
   "cell_type": "code",
   "execution_count": 2,
   "id": "c67f655d",
   "metadata": {},
   "outputs": [],
   "source": [
    "from pyarrow import parquet\n",
    "\n",
    "from gPhoton.parquet_utils import parquet_to_ndarray\n",
    "\n",
    "from astropy.table import Table\n",
    "\n",
    "from gPhoton.aspect import load_aspect_solution\n",
    "\n",
    "from gPhoton.io.raw6 import load_raw6"
   ]
  },
  {
   "cell_type": "markdown",
   "id": "0b0247df",
   "metadata": {},
   "source": [
    "Things I want to do today: \n",
    "\n",
    "- test astrometry.net on many different frames of an eclipse, see how similar the answers are \n",
    "- figure out all the ways to speed up astrometry.net & implement \n",
    "    -> low hanging fruit: code to use known WCS info to narrow down which index files are used \n",
    "    -> use source list from my own source extraction? "
   ]
  },
  {
   "cell_type": "code",
   "execution_count": 3,
   "id": "5be41902",
   "metadata": {},
   "outputs": [],
   "source": [
    "def get_image_file(eclipse, band):\n",
    "    from gPhoton.reference import eclipse_to_paths\n",
    "    from gPhoton.coadd import zero_flag_and_edge\n",
    "    # image info\n",
    "    eclipse, band, depth, compression = eclipse, band, 30, \"rice\"\n",
    "    galex_file_paths = eclipse_to_paths(eclipse, '/home/bekah/gphoton_working/test_data', depth,\n",
    "                                        compression)\n",
    "    # image to hdul\n",
    "    hdul = fitsio.FITS(galex_file_paths[band]['image'])\n",
    "    cnt, flag, edge = [hdu.read() for hdu in hdul[1:4]]\n",
    "    \n",
    "    masked_cnt_image = zero_flag_and_edge(cnt, flag, edge)\n",
    "    return masked_cnt_image"
   ]
  },
  {
   "cell_type": "code",
   "execution_count": 4,
   "id": "ef6ca18f",
   "metadata": {},
   "outputs": [],
   "source": [
    "def look_at_hdul(eclipse, band):\n",
    "    from gPhoton.reference import eclipse_to_paths\n",
    "    from gPhoton.coadd import zero_flag_and_edge\n",
    "    # image info\n",
    "    eclipse, band, depth, compression = eclipse, band, 30, \"rice\"\n",
    "    galex_file_paths = eclipse_to_paths(eclipse, '/home/bekah/glcat/astrometry', depth,\n",
    "                                        compression)\n",
    "    # image to hdul\n",
    "    hdul = fitsio.FITS(galex_file_paths[band]['image'])\n",
    "    \n",
    "    return hdul "
   ]
  },
  {
   "cell_type": "code",
   "execution_count": 5,
   "id": "845b942e",
   "metadata": {},
   "outputs": [],
   "source": [
    "def centile_clip(image, centiles=(0, 90)):\n",
    "    \"\"\"\n",
    "    simple clipping function that clips values above and below a given\n",
    "    percentile range\n",
    "    \"\"\"\n",
    "    finite = np.ma.masked_invalid(image)\n",
    "    bounds = np.percentile(finite[~finite.mask].data, centiles)\n",
    "    result = np.ma.clip(finite, *bounds)\n",
    "    \n",
    "    if isinstance(image, np.ma.MaskedArray):\n",
    "        \n",
    "        return result\n",
    "    \n",
    "    return result.data"
   ]
  },
  {
   "cell_type": "code",
   "execution_count": 6,
   "id": "f93a4365",
   "metadata": {},
   "outputs": [],
   "source": [
    "# loading aspect table \n",
    "parq  = parquet.read_table('/home/bekah/gphoton_working/gPhoton/aspect/aspect.parquet')\n",
    "aspect = parq.to_pandas()\n",
    "#aspect[\"eclipse\"==21442]"
   ]
  },
  {
   "cell_type": "code",
   "execution_count": null,
   "id": "a987be15",
   "metadata": {},
   "outputs": [],
   "source": [
    "np.mean(aspect[aspect[\"eclipse\"]==21442][\"ra\"])"
   ]
  },
  {
   "cell_type": "code",
   "execution_count": null,
   "id": "a129fa3e",
   "metadata": {},
   "outputs": [],
   "source": [
    "movie = fitsio.FITS(\"/home/bekah/glcat/astrometry/e23456/e21442-nd-10s-rice.fits\")"
   ]
  },
  {
   "cell_type": "code",
   "execution_count": null,
   "id": "f3512ce3",
   "metadata": {},
   "outputs": [],
   "source": [
    "len(hdulist[1].data)"
   ]
  },
  {
   "cell_type": "code",
   "execution_count": 23,
   "id": "ecec9273",
   "metadata": {},
   "outputs": [],
   "source": [
    "my_data = pd.read_csv(\"/home/bekah/aspect_correction/21442_aspect_soln\")"
   ]
  },
  {
   "cell_type": "code",
   "execution_count": 14,
   "id": "f4173e93",
   "metadata": {},
   "outputs": [],
   "source": [
    "my_data = my_data.transpose()"
   ]
  },
  {
   "cell_type": "code",
   "execution_count": 24,
   "id": "5aaa861d",
   "metadata": {},
   "outputs": [
    {
     "data": {
      "text/html": [
       "<div>\n",
       "<style scoped>\n",
       "    .dataframe tbody tr th:only-of-type {\n",
       "        vertical-align: middle;\n",
       "    }\n",
       "\n",
       "    .dataframe tbody tr th {\n",
       "        vertical-align: top;\n",
       "    }\n",
       "\n",
       "    .dataframe thead th {\n",
       "        text-align: right;\n",
       "    }\n",
       "</style>\n",
       "<table border=\"1\" class=\"dataframe\">\n",
       "  <thead>\n",
       "    <tr style=\"text-align: right;\">\n",
       "      <th></th>\n",
       "      <th>Unnamed: 0</th>\n",
       "      <th>3</th>\n",
       "      <th>4</th>\n",
       "      <th>5</th>\n",
       "      <th>6</th>\n",
       "      <th>7</th>\n",
       "      <th>8</th>\n",
       "      <th>9</th>\n",
       "      <th>10</th>\n",
       "      <th>11</th>\n",
       "      <th>12</th>\n",
       "      <th>13</th>\n",
       "      <th>14</th>\n",
       "      <th>15</th>\n",
       "      <th>16</th>\n",
       "      <th>17</th>\n",
       "    </tr>\n",
       "  </thead>\n",
       "  <tbody>\n",
       "    <tr>\n",
       "      <th>0</th>\n",
       "      <td>0</td>\n",
       "      <td>201.062607</td>\n",
       "      <td>201.062908</td>\n",
       "      <td>201.0641</td>\n",
       "      <td>201.073437</td>\n",
       "      <td>201.080721</td>\n",
       "      <td>201.083782</td>\n",
       "      <td>201.090289</td>\n",
       "      <td>201.091329</td>\n",
       "      <td>201.088062</td>\n",
       "      <td>201.081988</td>\n",
       "      <td>201.076772</td>\n",
       "      <td>201.069862</td>\n",
       "      <td>201.064317</td>\n",
       "      <td>201.062467</td>\n",
       "      <td>201.063798</td>\n",
       "    </tr>\n",
       "    <tr>\n",
       "      <th>1</th>\n",
       "      <td>1</td>\n",
       "      <td>201.062607</td>\n",
       "      <td>201.062908</td>\n",
       "      <td>201.0641</td>\n",
       "      <td>201.073437</td>\n",
       "      <td>201.080721</td>\n",
       "      <td>201.083782</td>\n",
       "      <td>201.090289</td>\n",
       "      <td>201.091329</td>\n",
       "      <td>201.088062</td>\n",
       "      <td>201.081988</td>\n",
       "      <td>201.076772</td>\n",
       "      <td>201.069862</td>\n",
       "      <td>201.064317</td>\n",
       "      <td>201.062467</td>\n",
       "      <td>201.063798</td>\n",
       "    </tr>\n",
       "  </tbody>\n",
       "</table>\n",
       "</div>"
      ],
      "text/plain": [
       "   Unnamed: 0           3           4         5           6           7  \\\n",
       "0           0  201.062607  201.062908  201.0641  201.073437  201.080721   \n",
       "1           1  201.062607  201.062908  201.0641  201.073437  201.080721   \n",
       "\n",
       "            8           9          10          11          12          13  \\\n",
       "0  201.083782  201.090289  201.091329  201.088062  201.081988  201.076772   \n",
       "1  201.083782  201.090289  201.091329  201.088062  201.081988  201.076772   \n",
       "\n",
       "           14          15          16          17  \n",
       "0  201.069862  201.064317  201.062467  201.063798  \n",
       "1  201.069862  201.064317  201.062467  201.063798  "
      ]
     },
     "execution_count": 24,
     "metadata": {},
     "output_type": "execute_result"
    }
   ],
   "source": [
    "my_data"
   ]
  },
  {
   "cell_type": "code",
   "execution_count": 21,
   "id": "e3a4ec4b",
   "metadata": {},
   "outputs": [
    {
     "data": {
      "text/plain": [
       "Unnamed: 0      1.000000\n",
       "3             201.062607\n",
       "4             201.062908\n",
       "5             201.064100\n",
       "6             201.073437\n",
       "7             201.080721\n",
       "8             201.083782\n",
       "9             201.090289\n",
       "10            201.091329\n",
       "11            201.088062\n",
       "12            201.081988\n",
       "13            201.076772\n",
       "14            201.069862\n",
       "15            201.064317\n",
       "16            201.062467\n",
       "17            201.063798\n",
       "Name: 1, dtype: float64"
      ]
     },
     "execution_count": 21,
     "metadata": {},
     "output_type": "execute_result"
    }
   ],
   "source": [
    "my_data[1]"
   ]
  },
  {
   "cell_type": "code",
   "execution_count": 19,
   "id": "76022374",
   "metadata": {},
   "outputs": [
    {
     "data": {
      "text/plain": [
       "<matplotlib.collections.PathCollection at 0x7fb1d2841a30>"
      ]
     },
     "execution_count": 19,
     "metadata": {},
     "output_type": "execute_result"
    },
    {
     "data": {
      "image/png": "[encoded data removed]",
      "text/plain": [
       "<Figure size 432x288 with 1 Axes>"
      ]
     },
     "metadata": {
      "needs_background": "light"
     },
     "output_type": "display_data"
    }
   ],
   "source": [
    "plt.scatter(my_data[0],my_data[1])"
   ]
  },
  {
   "cell_type": "code",
   "execution_count": 7,
   "id": "90dce8b0",
   "metadata": {},
   "outputs": [
    {
     "data": {
      "text/plain": [
       "<matplotlib.collections.PathCollection at 0x7fb342f3ab20>"
      ]
     },
     "execution_count": 7,
     "metadata": {},
     "output_type": "execute_result"
    },
    {
     "data": {
      "image/png": "[encoded data removed]",
      "text/plain": [
       "<Figure size 432x288 with 1 Axes>"
      ]
     },
     "metadata": {
      "needs_background": "light"
     },
     "output_type": "display_data"
    }
   ],
   "source": [
    "aspect_solution = pd.DataFrame.from_dict(load_aspect_solution(21442))\n",
    "plt.scatter(aspect_solution['ra'],aspect_solution['dec'],c=\"blue\")\n",
    "plt.scatter(my_data[0],my_data[1],c=\"red\")"
   ]
  },
  {
   "cell_type": "code",
   "execution_count": null,
   "id": "e3e47526",
   "metadata": {},
   "outputs": [],
   "source": [
    "# code for running on every image in a whole eclipse \n",
    "import subprocess\n",
    "subprocess.call(['sh', './test.sh'])"
   ]
  },
  {
   "cell_type": "code",
   "execution_count": null,
   "id": "b8cb3dd6",
   "metadata": {},
   "outputs": [],
   "source": [
    "from astropy.wcs import WCS\n",
    "w = WCS('/home/bekah/glcat/astrometry/e23456/e23456-nd-full-rice.wcs')"
   ]
  },
  {
   "cell_type": "code",
   "execution_count": null,
   "id": "84a269a9",
   "metadata": {
    "scrolled": true
   },
   "outputs": [],
   "source": [
    "# loading eclipse parquet table \n",
    "e23456parq  = parquet.read_table(\"/home/bekah/glcat/astrometry/e23456/e23456-nd.parquet\")\n",
    "e23456parq = e23456parq.to_pandas()\n",
    "e23456parq"
   ]
  },
  {
   "cell_type": "code",
   "execution_count": null,
   "id": "1ce1f887",
   "metadata": {},
   "outputs": [],
   "source": [
    "raw6file = \"/home/bekah/glcat/astrometry/e23456/e23456-nd-raw6.fits\"\n",
    "data, nphots = load_raw6(raw6file, 1)"
   ]
  },
  {
   "cell_type": "code",
   "execution_count": null,
   "id": "b3ada53d",
   "metadata": {},
   "outputs": [],
   "source": [
    "raw6_data = pd.DataFrame.from_dict(data)"
   ]
  },
  {
   "cell_type": "code",
   "execution_count": null,
   "id": "1d862cce",
   "metadata": {},
   "outputs": [],
   "source": [
    "raw6_data"
   ]
  },
  {
   "cell_type": "code",
   "execution_count": null,
   "id": "3dd41a19",
   "metadata": {},
   "outputs": [],
   "source": [
    "hdulist = fits.open(\"/home/bekah/aspect_correction/frame3.corr\")"
   ]
  },
  {
   "cell_type": "code",
   "execution_count": null,
   "id": "cf05bbc4",
   "metadata": {},
   "outputs": [],
   "source": [
    "hdulist"
   ]
  },
  {
   "cell_type": "code",
   "execution_count": null,
   "id": "832eac66",
   "metadata": {},
   "outputs": [],
   "source": [
    "from astropy import wcs\n",
    "\n",
    "\n",
    "w = wcs.WCS(hdulist[0].header)\n",
    "          # Print out the \"name\" of the WCS, as defined in the FITS header\n",
    "          # Print out all of the settings that were parsed from the header\n",
    "w.wcs.print_contents()\n"
   ]
  },
  {
   "cell_type": "code",
   "execution_count": null,
   "id": "02e28ca1",
   "metadata": {},
   "outputs": [],
   "source": [
    "import numpy as np\n",
    "import matplotlib.pyplot as plt\n",
    "import matplotlib.animation as animation\n",
    "\n",
    "%matplotlib notebook \n",
    "\n",
    "fig, ax = plt.subplots()\n",
    "\n",
    "\n",
    "# ims is a list of lists, each row is a list of artists to draw in the\n",
    "# current frame; here we are just animating one artist, the image, in\n",
    "# each frame\n",
    "ims = []\n",
    "for i in range(14):\n",
    "    im = ax.imshow(centile_clip(hdulist[1].data[i]*1000), animated=True)\n",
    "    if i == 0:\n",
    "        ax.imshow(centile_clip(hdulist[1].data[i]*1000)) # show an initial one first\n",
    "    ims.append([im])\n",
    "\n",
    "ani = animation.ArtistAnimation(fig, ims, interval=50, blit=True,\n",
    "                                repeat_delay=1000)\n",
    "\n",
    "# To save the animation, use e.g.\n",
    "#\n",
    "#ani.save(\"movie.mp4\")\n",
    "#\n",
    "# or\n",
    "#\n",
    "# writer = animation.FFMpegWriter(\n",
    "#     fps=15, metadata=dict(artist='Me'), bitrate=1800)\n",
    "# ani.save(\"movie.mp4\", writer=writer)\n",
    "\n",
    "plt.show()"
   ]
  },
  {
   "cell_type": "code",
   "execution_count": null,
   "id": "22effa37",
   "metadata": {},
   "outputs": [],
   "source": [
    "plt.imshow(centile_clip((hdulist[1].data[3]/10.0),(0,99.5)))"
   ]
  },
  {
   "cell_type": "code",
   "execution_count": null,
   "id": "c655697b",
   "metadata": {},
   "outputs": [],
   "source": [
    "np.max(hdulist[1].data[3])"
   ]
  },
  {
   "cell_type": "code",
   "execution_count": null,
   "id": "7487456c",
   "metadata": {},
   "outputs": [],
   "source": []
  }
 ],
 "metadata": {
  "kernelspec": {
   "display_name": "Python 3 (ipykernel)",
   "language": "python",
   "name": "python3"
  },
  "language_info": {
   "codemirror_mode": {
    "name": "ipython",
    "version": 3
   },
   "file_extension": ".py",
   "mimetype": "text/x-python",
   "name": "python",
   "nbconvert_exporter": "python",
   "pygments_lexer": "ipython3",
   "version": "3.9.13"
  }
 },
 "nbformat": 4,
 "nbformat_minor": 5
}
